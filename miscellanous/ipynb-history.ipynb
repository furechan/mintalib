{
 "cells": [
  {
   "cell_type": "code",
   "execution_count": 2,
   "id": "dc034b49",
   "metadata": {},
   "outputs": [],
   "source": [
    "\"\"\"A simple hello method\"\"\"\n",
    "\n",
    "def hello(name:str = \"World\"):\n",
    "    print(f\"Hello, {name}!\")\n"
   ]
  },
  {
   "cell_type": "code",
   "execution_count": 3,
   "id": "209b1109",
   "metadata": {},
   "outputs": [
    {
     "name": "stdout",
     "output_type": "stream",
     "text": [
      "\"\"\"A simple hello method\"\"\"\n",
      "\n",
      "def hello(name:str = \"World\"):\n",
      "    print(f\"Hello, {name}!\")\n"
     ]
    }
   ],
   "source": [
    "print(_i)"
   ]
  },
  {
   "cell_type": "code",
   "execution_count": null,
   "id": "ce641065",
   "metadata": {},
   "outputs": [],
   "source": []
  }
 ],
 "metadata": {
  "kernelspec": {
   "display_name": ".venv",
   "language": "python",
   "name": "python3"
  },
  "language_info": {
   "codemirror_mode": {
    "name": "ipython",
    "version": 3
   },
   "file_extension": ".py",
   "mimetype": "text/x-python",
   "name": "python",
   "nbconvert_exporter": "python",
   "pygments_lexer": "ipython3",
   "version": "3.9.6"
  }
 },
 "nbformat": 4,
 "nbformat_minor": 5
}
