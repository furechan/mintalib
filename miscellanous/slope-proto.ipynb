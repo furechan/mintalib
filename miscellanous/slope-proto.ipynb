{
 "cells": [
  {
   "cell_type": "code",
   "execution_count": 72,
   "id": "2f45689963b1424e",
   "metadata": {
    "ExecuteTime": {
     "end_time": "2023-10-27T21:32:42.842855Z",
     "start_time": "2023-10-27T21:32:42.591832Z"
    },
    "collapsed": false
   },
   "outputs": [
    {
     "name": "stdout",
     "output_type": "stream",
     "text": [
      "The cython extension is already loaded. To reload it, use:\n",
      "  %reload_ext cython\n"
     ]
    }
   ],
   "source": [
    "from mintalib.samples import sample_prices\n",
    "\n",
    "\n",
    "%load_ext cython"
   ]
  },
  {
   "cell_type": "code",
   "execution_count": 73,
   "id": "a8013058fc5449a9",
   "metadata": {
    "ExecuteTime": {
     "end_time": "2023-10-27T21:32:43.378420Z",
     "start_time": "2023-10-27T21:32:43.347402Z"
    },
    "collapsed": false
   },
   "outputs": [
    {
     "name": "stdout",
     "output_type": "stream",
     "text": [
      "<class 'pandas.core.frame.DataFrame'>\n",
      "DatetimeIndex: 11056 entries, 1980-12-12 to 2024-10-21\n",
      "Data columns (total 5 columns):\n",
      " #   Column  Non-Null Count  Dtype  \n",
      "---  ------  --------------  -----  \n",
      " 0   open    11056 non-null  float64\n",
      " 1   high    11056 non-null  float64\n",
      " 2   low     11056 non-null  float64\n",
      " 3   close   11056 non-null  float64\n",
      " 4   volume  11056 non-null  int64  \n",
      "dtypes: float64(4), int64(1)\n",
      "memory usage: 518.2 KB\n"
     ]
    }
   ],
   "source": [
    "prices = sample_prices()\n",
    "prices.info()\n"
   ]
  },
  {
   "cell_type": "code",
   "execution_count": null,
   "id": "3634620b",
   "metadata": {},
   "outputs": [],
   "source": [
    "%%cython -c=-Wno-unreachable-code\n",
    "\n",
    "import sys\n",
    "import numpy as np\n",
    "\n",
    "from libc.math cimport isnan\n",
    "from libc cimport math\n",
    "\n",
    "cdef double NAN = float('nan')\n",
    "\n",
    "from mintalib.core import wrap_result\n",
    "\n",
    "\n",
    "\n",
    "\n",
    "cdef enum:\n",
    "    LINREG_SLOPE = 0\n",
    "    LINREG_INTERCEPT = 1\n",
    "    LINREG_RVALUE = 2\n",
    "    LINREG_FORECAST = 4\n",
    "    LINREG_BADOPTION = 5\n",
    "\n",
    "\n",
    "\n",
    "def linear_regression(series, long period=20, *, int option=0, int offset=0, bint wrap=False):\n",
    "    \"\"\"\n",
    "    Linear Regression\n",
    "    \n",
    "    Args:\n",
    "        period (int) : time period, default 20\n",
    "    \"\"\"\n",
    "\n",
    "    if period < 2:\n",
    "        raise ValueError(f\"Invalid period {period}, should be greater than 2\")  \n",
    "\n",
    "    if option < 0 or option > LINREG_BADOPTION:\n",
    "        raise ValueError(f\"Invalid option {option}\")\n",
    "\n",
    "    cdef const double[:] ys = np.asarray(series, float)\n",
    "    cdef long size = ys.size\n",
    "\n",
    "    cdef object result = np.full(size, np.nan)\n",
    "    cdef double[:] output = result\n",
    "\n",
    "    if period >= size:\n",
    "        return result\n",
    "\n",
    "    cdef double x, y\n",
    "    cdef double s, sx, sy, sxy, sx2, sy2\n",
    "    cdef double vxy, vxx, vyy\n",
    "    cdef double corr, slope, intercept, forecast\n",
    "\n",
    "    cdef long i = 0, j = 0\n",
    "\n",
    "    s = sx = sy = sxy = sx2 = sy2 = 0.0\n",
    "\n",
    "    for i in range(size):\n",
    "        x, y = i, ys[i]\n",
    "\n",
    "        if y != y:\n",
    "            s = sx = sy = sxy = sx2 = sy2 = 0.0\n",
    "            continue\n",
    "\n",
    "        if s == 0:\n",
    "            j = i\n",
    "\n",
    "        s += 1\n",
    "        sx += x\n",
    "        sy += y\n",
    "        sxy += x * y\n",
    "        sx2 += x * x\n",
    "        sy2 += y * y\n",
    "\n",
    "        if s < period:\n",
    "            continue\n",
    "\n",
    "        while s > period and j < size:\n",
    "            x, y, j = j, ys[j], j+1\n",
    "            s -= 1\n",
    "            sx -= x\n",
    "            sy -= y\n",
    "            sxy -= x * y\n",
    "            sx2 -= x * x\n",
    "            sy2 -= y * y\n",
    "\n",
    "        vxy = (sxy / s - sx * sy / s / s)\n",
    "        vxx = (sx2 / s - sx * sx / s / s)\n",
    "        vyy = (sy2 / s - sy * sy / s / s)\n",
    "\n",
    "        slope = vxy / vxx if vxx > 0  else NAN\n",
    "        intercept = (sy - slope * sx) / s\n",
    "        corr = vxy / math.sqrt(vxx * vyy) if vyy > 0 else NAN\n",
    "\n",
    "\n",
    "        if option == LINREG_SLOPE:\n",
    "            output[i] = slope\n",
    "            continue\n",
    "\n",
    "        if option == LINREG_INTERCEPT:\n",
    "            output[i] = intercept\n",
    "            continue\n",
    "\n",
    "        if option == LINREG_RVALUE:\n",
    "            output[i] = corr\n",
    "            continue\n",
    "\n",
    "        if option == LINREG_FORECAST:\n",
    "            forecast = intercept + slope * (i + offset)\n",
    "            output[i] = forecast\n",
    "            continue\n",
    "\n",
    "    if wrap:\n",
    "        result = wrap_result(result, series)\n",
    "\n",
    "    return result\n",
    "\n",
    "\n",
    "\n",
    "\n",
    "def calc_slope(series, long period=20, *, bint wrap=False):\n",
    "    \"\"\"\n",
    "    Slope (linear regression)\n",
    "    \n",
    "    Args:\n",
    "        period (int) : time period, default 20\n",
    "    \"\"\"\n",
    "\n",
    "    return linear_regression(series, period=period, option=LINREG_SLOPE, wrap=wrap)\n",
    "\n",
    "\n",
    "\n",
    "\n",
    "print(\"done!\")"
   ]
  },
  {
   "cell_type": "code",
   "execution_count": 75,
   "id": "ae03d6c7",
   "metadata": {},
   "outputs": [
    {
     "name": "stdout",
     "output_type": "stream",
     "text": [
      "96.1 µs ± 1.42 µs per loop (mean ± std. dev. of 7 runs, 10,000 loops each)\n"
     ]
    },
    {
     "data": {
      "text/plain": [
       "array([       nan,        nan,        nan, ..., 0.22378204, 0.31964667,\n",
       "       0.3991128 ])"
      ]
     },
     "execution_count": 75,
     "metadata": {},
     "output_type": "execute_result"
    }
   ],
   "source": [
    "%timeit calc_slope(prices.close, 20)\n",
    "\n",
    "calc_slope(prices.close, 20)"
   ]
  },
  {
   "cell_type": "code",
   "execution_count": null,
   "id": "98b523f6",
   "metadata": {},
   "outputs": [],
   "source": []
  }
 ],
 "metadata": {
  "kernelspec": {
   "display_name": ".venv",
   "language": "python",
   "name": "python3"
  },
  "language_info": {
   "codemirror_mode": {
    "name": "ipython",
    "version": 3
   },
   "file_extension": ".py",
   "mimetype": "text/x-python",
   "name": "python",
   "nbconvert_exporter": "python",
   "pygments_lexer": "ipython3",
   "version": "3.9.20"
  }
 },
 "nbformat": 4,
 "nbformat_minor": 5
}
