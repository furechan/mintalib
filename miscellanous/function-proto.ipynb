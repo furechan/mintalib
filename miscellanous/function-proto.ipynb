{
 "cells": [
  {
   "cell_type": "code",
   "execution_count": 1,
   "metadata": {},
   "outputs": [],
   "source": [
    "import inspect\n",
    "\n",
    "from mintalib.core import calc_sma\n",
    "from mintalib.samples import sample_prices\n",
    "from mintalib.builder import annotate_parameter"
   ]
  },
  {
   "cell_type": "code",
   "execution_count": 2,
   "metadata": {},
   "outputs": [
    {
     "data": {
      "text/html": [
       "<div>\n",
       "<style scoped>\n",
       "    .dataframe tbody tr th:only-of-type {\n",
       "        vertical-align: middle;\n",
       "    }\n",
       "\n",
       "    .dataframe tbody tr th {\n",
       "        vertical-align: top;\n",
       "    }\n",
       "\n",
       "    .dataframe thead th {\n",
       "        text-align: right;\n",
       "    }\n",
       "</style>\n",
       "<table border=\"1\" class=\"dataframe\">\n",
       "  <thead>\n",
       "    <tr style=\"text-align: right;\">\n",
       "      <th></th>\n",
       "      <th>open</th>\n",
       "      <th>high</th>\n",
       "      <th>low</th>\n",
       "      <th>close</th>\n",
       "      <th>volume</th>\n",
       "    </tr>\n",
       "    <tr>\n",
       "      <th>date</th>\n",
       "      <th></th>\n",
       "      <th></th>\n",
       "      <th></th>\n",
       "      <th></th>\n",
       "      <th></th>\n",
       "    </tr>\n",
       "  </thead>\n",
       "  <tbody>\n",
       "    <tr>\n",
       "      <th>1980-12-12</th>\n",
       "      <td>0.098943</td>\n",
       "      <td>0.099373</td>\n",
       "      <td>0.098943</td>\n",
       "      <td>0.098943</td>\n",
       "      <td>469033600</td>\n",
       "    </tr>\n",
       "    <tr>\n",
       "      <th>1980-12-15</th>\n",
       "      <td>0.094211</td>\n",
       "      <td>0.094211</td>\n",
       "      <td>0.093781</td>\n",
       "      <td>0.093781</td>\n",
       "      <td>175884800</td>\n",
       "    </tr>\n",
       "    <tr>\n",
       "      <th>1980-12-16</th>\n",
       "      <td>0.087328</td>\n",
       "      <td>0.087328</td>\n",
       "      <td>0.086898</td>\n",
       "      <td>0.086898</td>\n",
       "      <td>105728000</td>\n",
       "    </tr>\n",
       "    <tr>\n",
       "      <th>1980-12-17</th>\n",
       "      <td>0.089049</td>\n",
       "      <td>0.089479</td>\n",
       "      <td>0.089049</td>\n",
       "      <td>0.089049</td>\n",
       "      <td>86441600</td>\n",
       "    </tr>\n",
       "    <tr>\n",
       "      <th>1980-12-18</th>\n",
       "      <td>0.091630</td>\n",
       "      <td>0.092061</td>\n",
       "      <td>0.091630</td>\n",
       "      <td>0.091630</td>\n",
       "      <td>73449600</td>\n",
       "    </tr>\n",
       "    <tr>\n",
       "      <th>...</th>\n",
       "      <td>...</td>\n",
       "      <td>...</td>\n",
       "      <td>...</td>\n",
       "      <td>...</td>\n",
       "      <td>...</td>\n",
       "    </tr>\n",
       "    <tr>\n",
       "      <th>2024-10-15</th>\n",
       "      <td>233.610001</td>\n",
       "      <td>237.490005</td>\n",
       "      <td>232.369995</td>\n",
       "      <td>233.850006</td>\n",
       "      <td>64751400</td>\n",
       "    </tr>\n",
       "    <tr>\n",
       "      <th>2024-10-16</th>\n",
       "      <td>231.600006</td>\n",
       "      <td>232.119995</td>\n",
       "      <td>229.839996</td>\n",
       "      <td>231.779999</td>\n",
       "      <td>34082200</td>\n",
       "    </tr>\n",
       "    <tr>\n",
       "      <th>2024-10-17</th>\n",
       "      <td>233.429993</td>\n",
       "      <td>233.850006</td>\n",
       "      <td>230.520004</td>\n",
       "      <td>232.149994</td>\n",
       "      <td>32993800</td>\n",
       "    </tr>\n",
       "    <tr>\n",
       "      <th>2024-10-18</th>\n",
       "      <td>236.179993</td>\n",
       "      <td>236.179993</td>\n",
       "      <td>234.009995</td>\n",
       "      <td>235.000000</td>\n",
       "      <td>46431500</td>\n",
       "    </tr>\n",
       "    <tr>\n",
       "      <th>2024-10-21</th>\n",
       "      <td>234.449997</td>\n",
       "      <td>236.850006</td>\n",
       "      <td>234.449997</td>\n",
       "      <td>236.479996</td>\n",
       "      <td>36220800</td>\n",
       "    </tr>\n",
       "  </tbody>\n",
       "</table>\n",
       "<p>11056 rows × 5 columns</p>\n",
       "</div>"
      ],
      "text/plain": [
       "                  open        high         low       close     volume\n",
       "date                                                                 \n",
       "1980-12-12    0.098943    0.099373    0.098943    0.098943  469033600\n",
       "1980-12-15    0.094211    0.094211    0.093781    0.093781  175884800\n",
       "1980-12-16    0.087328    0.087328    0.086898    0.086898  105728000\n",
       "1980-12-17    0.089049    0.089479    0.089049    0.089049   86441600\n",
       "1980-12-18    0.091630    0.092061    0.091630    0.091630   73449600\n",
       "...                ...         ...         ...         ...        ...\n",
       "2024-10-15  233.610001  237.490005  232.369995  233.850006   64751400\n",
       "2024-10-16  231.600006  232.119995  229.839996  231.779999   34082200\n",
       "2024-10-17  233.429993  233.850006  230.520004  232.149994   32993800\n",
       "2024-10-18  236.179993  236.179993  234.009995  235.000000   46431500\n",
       "2024-10-21  234.449997  236.850006  234.449997  236.479996   36220800\n",
       "\n",
       "[11056 rows x 5 columns]"
      ]
     },
     "execution_count": 2,
     "metadata": {},
     "output_type": "execute_result"
    }
   ],
   "source": [
    "prices = sample_prices()\n",
    "prices\n"
   ]
  },
  {
   "cell_type": "code",
   "execution_count": 3,
   "metadata": {},
   "outputs": [
    {
     "name": "stdout",
     "output_type": "stream",
     "text": [
      "(series, period, *, wrap=False)\n"
     ]
    },
    {
     "data": {
      "text/plain": [
       "mappingproxy({'series': <Parameter \"series\">,\n",
       "              'period': <Parameter \"period\">,\n",
       "              'wrap': <Parameter \"wrap=False\">})"
      ]
     },
     "execution_count": 3,
     "metadata": {},
     "output_type": "execute_result"
    }
   ],
   "source": [
    "signature = inspect.signature(calc_sma)\n",
    "print(signature)\n",
    "parameters = signature.parameters\n",
    "parameters"
   ]
  },
  {
   "cell_type": "code",
   "execution_count": 4,
   "metadata": {},
   "outputs": [
    {
     "data": {
      "text/plain": [
       "{}"
      ]
     },
     "execution_count": 4,
     "metadata": {},
     "output_type": "execute_result"
    }
   ],
   "source": [
    "calc_sma.__annotations__\n"
   ]
  },
  {
   "cell_type": "code",
   "execution_count": null,
   "metadata": {},
   "outputs": [
    {
     "name": "stdout",
     "output_type": "stream",
     "text": [
      "(prices, period: int, *, item: str = None)\n"
     ]
    }
   ],
   "source": [
    "def make_signature(calc_func):\n",
    "    \"\"\"creates function signature from core function\"\"\"\n",
    "    sig = inspect.signature(calc_func)\n",
    "    first_param = next(iter(sig.parameters.values()))\n",
    "    \n",
    "    new_params = []\n",
    "    for param in sig.parameters.values():\n",
    "        if param.name == \"series\":\n",
    "            param = param.replace(name=\"prices\")\n",
    "        if param.name == \"wrap\":\n",
    "            continue\n",
    "        param = annotate_parameter(param)\n",
    "        new_params.append(param)\n",
    "\n",
    "    if first_param.name == \"series\":\n",
    "        item_param = inspect.Parameter(\n",
    "            name=\"item\",\n",
    "            kind=inspect.Parameter.KEYWORD_ONLY,\n",
    "            default=None,\n",
    "            annotation=str\n",
    "        )\n",
    "        new_params.append(item_param)\n",
    "\n",
    "    return sig.replace(parameters=new_params)\n",
    "\n",
    "sig = make_signature(calc_sma)\n",
    "print(sig)"
   ]
  },
  {
   "cell_type": "code",
   "execution_count": 6,
   "metadata": {},
   "outputs": [],
   "source": [
    "from functools import wraps\n",
    "from mintalib.core import get_series, column_accessor, wrap_result\n",
    "\n",
    "def wrap_function(calc_func):\n",
    "    signature = inspect.signature(calc_func)\n",
    "    first_param = next(iter(signature.parameters))\n",
    "    def decorator(func):\n",
    "        @wraps(func)\n",
    "        def wrapper(prices, *args, **kwargs):\n",
    "            item = kwargs.pop('item', None)\n",
    "\n",
    "            if first_param == 'series':\n",
    "                input = get_series(prices, item)\n",
    "            else:\n",
    "                input = column_accessor(prices)\n",
    "\n",
    "            print(\"call\", input, args, kwargs)\n",
    "            result = calc_func(input, *args, **kwargs)\n",
    "            return wrap_result(result, prices)\n",
    "        return wrapper\n",
    "    return decorator"
   ]
  },
  {
   "cell_type": "code",
   "execution_count": 7,
   "metadata": {},
   "outputs": [],
   "source": [
    "@wrap_function(calc_sma)\n",
    "def SMA(series, *, period: int, item: str = None): ...\n"
   ]
  },
  {
   "cell_type": "code",
   "execution_count": 8,
   "metadata": {},
   "outputs": [
    {
     "data": {
      "text/plain": [
       "<Signature (series, *, period: int, item: str = None)>"
      ]
     },
     "execution_count": 8,
     "metadata": {},
     "output_type": "execute_result"
    }
   ],
   "source": [
    "inspect.signature(SMA)\n"
   ]
  },
  {
   "cell_type": "code",
   "execution_count": 9,
   "metadata": {},
   "outputs": [
    {
     "data": {
      "text/plain": [
       "array([         nan,          nan,          nan, ..., 231.32600098,\n",
       "       232.81600037, 233.8519989 ])"
      ]
     },
     "execution_count": 9,
     "metadata": {},
     "output_type": "execute_result"
    }
   ],
   "source": [
    "\n",
    "\n",
    "calc_sma(prices.close, 5)"
   ]
  },
  {
   "cell_type": "code",
   "execution_count": 10,
   "metadata": {},
   "outputs": [
    {
     "name": "stdout",
     "output_type": "stream",
     "text": [
      "call date\n",
      "1980-12-12      0.098943\n",
      "1980-12-15      0.093781\n",
      "1980-12-16      0.086898\n",
      "1980-12-17      0.089049\n",
      "1980-12-18      0.091630\n",
      "                 ...    \n",
      "2024-10-15    233.850006\n",
      "2024-10-16    231.779999\n",
      "2024-10-17    232.149994\n",
      "2024-10-18    235.000000\n",
      "2024-10-21    236.479996\n",
      "Name: close, Length: 11056, dtype: float64 () {'period': 5}\n"
     ]
    },
    {
     "data": {
      "text/plain": [
       "date\n",
       "1980-12-12           NaN\n",
       "1980-12-15           NaN\n",
       "1980-12-16           NaN\n",
       "1980-12-17           NaN\n",
       "1980-12-18      0.092060\n",
       "                 ...    \n",
       "2024-10-15    230.256000\n",
       "2024-10-16    230.704001\n",
       "2024-10-17    231.326001\n",
       "2024-10-18    232.816000\n",
       "2024-10-21    233.851999\n",
       "Length: 11056, dtype: float64"
      ]
     },
     "execution_count": 10,
     "metadata": {},
     "output_type": "execute_result"
    }
   ],
   "source": [
    "SMA(prices, period=5, item='close')"
   ]
  },
  {
   "cell_type": "code",
   "execution_count": 11,
   "metadata": {},
   "outputs": [
    {
     "name": "stdout",
     "output_type": "stream",
     "text": [
      "@wrap_function(core.calc_sma)\n",
      "def SMA(prices, period: int, *, item: str = None): ...\n",
      "\n",
      "\n"
     ]
    }
   ],
   "source": [
    "def make_function(calc_func):\n",
    "    signature = inspect.signature(calc_func)\n",
    "    cname = f\"core.{calc_func.__name__}\"\n",
    "    fname = calc_func.__name__.removeprefix(\"calc_\").upper()\n",
    "    signature = make_signature(calc_func)\n",
    "    buffer = f\"@wrap_function({cname})\\n\"\n",
    "    buffer += f\"def {fname}{signature}: ...\\n\\n\"\n",
    "    print(buffer)\n",
    "\n",
    "make_function(calc_sma)"
   ]
  },
  {
   "cell_type": "code",
   "execution_count": null,
   "metadata": {},
   "outputs": [],
   "source": []
  }
 ],
 "metadata": {
  "kernelspec": {
   "display_name": ".venv",
   "language": "python",
   "name": "python3"
  },
  "language_info": {
   "codemirror_mode": {
    "name": "ipython",
    "version": 3
   },
   "file_extension": ".py",
   "mimetype": "text/x-python",
   "name": "python",
   "nbconvert_exporter": "python",
   "pygments_lexer": "ipython3",
   "version": "3.9.6"
  }
 },
 "nbformat": 4,
 "nbformat_minor": 2
}
