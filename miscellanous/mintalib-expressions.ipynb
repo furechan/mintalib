{
 "cells": [
  {
   "cell_type": "markdown",
   "metadata": {},
   "source": [
    "# Using mintalib expressions with polars (experimental)\n"
   ]
  },
  {
   "cell_type": "code",
   "execution_count": null,
   "metadata": {},
   "outputs": [],
   "source": [
    "import  numpy as np\n",
    "import polars as pl\n",
    "\n",
    "\n",
    "from mintalib.expressions import SMA, EMA, ATR, MACD\n"
   ]
  },
  {
   "cell_type": "code",
   "execution_count": 6,
   "metadata": {},
   "outputs": [
    {
     "data": {
      "text/html": [
       "<div><style>\n",
       ".dataframe > thead > tr,\n",
       ".dataframe > tbody > tr {\n",
       "  text-align: right;\n",
       "  white-space: pre-wrap;\n",
       "}\n",
       "</style>\n",
       "<small>shape: (11_056, 6)</small><table border=\"1\" class=\"dataframe\"><thead><tr><th>date</th><th>open</th><th>high</th><th>low</th><th>close</th><th>volume</th></tr><tr><td>datetime[ns]</td><td>f64</td><td>f64</td><td>f64</td><td>f64</td><td>i64</td></tr></thead><tbody><tr><td>1980-12-12 00:00:00</td><td>0.098943</td><td>0.099373</td><td>0.098943</td><td>0.098943</td><td>469033600</td></tr><tr><td>1980-12-15 00:00:00</td><td>0.094211</td><td>0.094211</td><td>0.093781</td><td>0.093781</td><td>175884800</td></tr><tr><td>1980-12-16 00:00:00</td><td>0.087328</td><td>0.087328</td><td>0.086898</td><td>0.086898</td><td>105728000</td></tr><tr><td>1980-12-17 00:00:00</td><td>0.089049</td><td>0.089479</td><td>0.089049</td><td>0.089049</td><td>86441600</td></tr><tr><td>1980-12-18 00:00:00</td><td>0.09163</td><td>0.092061</td><td>0.09163</td><td>0.09163</td><td>73449600</td></tr><tr><td>&hellip;</td><td>&hellip;</td><td>&hellip;</td><td>&hellip;</td><td>&hellip;</td><td>&hellip;</td></tr><tr><td>2024-10-15 00:00:00</td><td>233.610001</td><td>237.490005</td><td>232.369995</td><td>233.850006</td><td>64751400</td></tr><tr><td>2024-10-16 00:00:00</td><td>231.600006</td><td>232.119995</td><td>229.839996</td><td>231.779999</td><td>34082200</td></tr><tr><td>2024-10-17 00:00:00</td><td>233.429993</td><td>233.850006</td><td>230.520004</td><td>232.149994</td><td>32993800</td></tr><tr><td>2024-10-18 00:00:00</td><td>236.179993</td><td>236.179993</td><td>234.009995</td><td>235.0</td><td>46431500</td></tr><tr><td>2024-10-21 00:00:00</td><td>234.449997</td><td>236.850006</td><td>234.449997</td><td>236.479996</td><td>36220800</td></tr></tbody></table></div>"
      ],
      "text/plain": [
       "shape: (11_056, 6)\n",
       "┌─────────────────────┬────────────┬────────────┬────────────┬────────────┬───────────┐\n",
       "│ date                ┆ open       ┆ high       ┆ low        ┆ close      ┆ volume    │\n",
       "│ ---                 ┆ ---        ┆ ---        ┆ ---        ┆ ---        ┆ ---       │\n",
       "│ datetime[ns]        ┆ f64        ┆ f64        ┆ f64        ┆ f64        ┆ i64       │\n",
       "╞═════════════════════╪════════════╪════════════╪════════════╪════════════╪═══════════╡\n",
       "│ 1980-12-12 00:00:00 ┆ 0.098943   ┆ 0.099373   ┆ 0.098943   ┆ 0.098943   ┆ 469033600 │\n",
       "│ 1980-12-15 00:00:00 ┆ 0.094211   ┆ 0.094211   ┆ 0.093781   ┆ 0.093781   ┆ 175884800 │\n",
       "│ 1980-12-16 00:00:00 ┆ 0.087328   ┆ 0.087328   ┆ 0.086898   ┆ 0.086898   ┆ 105728000 │\n",
       "│ 1980-12-17 00:00:00 ┆ 0.089049   ┆ 0.089479   ┆ 0.089049   ┆ 0.089049   ┆ 86441600  │\n",
       "│ 1980-12-18 00:00:00 ┆ 0.09163    ┆ 0.092061   ┆ 0.09163    ┆ 0.09163    ┆ 73449600  │\n",
       "│ …                   ┆ …          ┆ …          ┆ …          ┆ …          ┆ …         │\n",
       "│ 2024-10-15 00:00:00 ┆ 233.610001 ┆ 237.490005 ┆ 232.369995 ┆ 233.850006 ┆ 64751400  │\n",
       "│ 2024-10-16 00:00:00 ┆ 231.600006 ┆ 232.119995 ┆ 229.839996 ┆ 231.779999 ┆ 34082200  │\n",
       "│ 2024-10-17 00:00:00 ┆ 233.429993 ┆ 233.850006 ┆ 230.520004 ┆ 232.149994 ┆ 32993800  │\n",
       "│ 2024-10-18 00:00:00 ┆ 236.179993 ┆ 236.179993 ┆ 234.009995 ┆ 235.0      ┆ 46431500  │\n",
       "│ 2024-10-21 00:00:00 ┆ 234.449997 ┆ 236.850006 ┆ 234.449997 ┆ 236.479996 ┆ 36220800  │\n",
       "└─────────────────────┴────────────┴────────────┴────────────┴────────────┴───────────┘"
      ]
     },
     "execution_count": 6,
     "metadata": {},
     "output_type": "execute_result"
    }
   ],
   "source": [
    "from mintalib.samples import sample_prices\n",
    "\n",
    "prices = sample_prices()\n",
    "prices = pl.from_pandas(prices, include_index=True)\n",
    "prices\n",
    "\n",
    "# Links\n",
    "# https://docs.pola.rs/user-guide/expressions/user-defined-python-functions/#combining-multiple-column-values"
   ]
  },
  {
   "cell_type": "code",
   "execution_count": 8,
   "metadata": {},
   "outputs": [
    {
     "data": {
      "text/html": [
       "<div><style>\n",
       ".dataframe > thead > tr,\n",
       ".dataframe > tbody > tr {\n",
       "  text-align: right;\n",
       "  white-space: pre-wrap;\n",
       "}\n",
       "</style>\n",
       "<small>shape: (11_056, 3)</small><table border=\"1\" class=\"dataframe\"><thead><tr><th>atr</th><th>ema1</th><th>ema2</th></tr><tr><td>f64</td><td>f64</td><td>f64</td></tr></thead><tbody><tr><td>NaN</td><td>NaN</td><td>NaN</td></tr><tr><td>NaN</td><td>NaN</td><td>NaN</td></tr><tr><td>NaN</td><td>NaN</td><td>NaN</td></tr><tr><td>NaN</td><td>NaN</td><td>NaN</td></tr><tr><td>NaN</td><td>NaN</td><td>NaN</td></tr><tr><td>&hellip;</td><td>&hellip;</td><td>&hellip;</td></tr><tr><td>4.516121</td><td>227.376017</td><td>225.105049</td></tr><tr><td>4.479971</td><td>227.795444</td><td>225.361277</td></tr><tr><td>4.39783</td><td>228.210163</td><td>225.6326</td></tr><tr><td>4.371556</td><td>228.856814</td><td>225.939668</td></tr><tr><td>4.230731</td><td>229.582831</td><td>226.286636</td></tr></tbody></table></div>"
      ],
      "text/plain": [
       "shape: (11_056, 3)\n",
       "┌──────────┬────────────┬────────────┐\n",
       "│ atr      ┆ ema1       ┆ ema2       │\n",
       "│ ---      ┆ ---        ┆ ---        │\n",
       "│ f64      ┆ f64        ┆ f64        │\n",
       "╞══════════╪════════════╪════════════╡\n",
       "│ NaN      ┆ NaN        ┆ NaN        │\n",
       "│ NaN      ┆ NaN        ┆ NaN        │\n",
       "│ NaN      ┆ NaN        ┆ NaN        │\n",
       "│ NaN      ┆ NaN        ┆ NaN        │\n",
       "│ NaN      ┆ NaN        ┆ NaN        │\n",
       "│ …        ┆ …          ┆ …          │\n",
       "│ 4.516121 ┆ 227.376017 ┆ 225.105049 │\n",
       "│ 4.479971 ┆ 227.795444 ┆ 225.361277 │\n",
       "│ 4.39783  ┆ 228.210163 ┆ 225.6326   │\n",
       "│ 4.371556 ┆ 228.856814 ┆ 225.939668 │\n",
       "│ 4.230731 ┆ 229.582831 ┆ 226.286636 │\n",
       "└──────────┴────────────┴────────────┘"
      ]
     },
     "execution_count": 8,
     "metadata": {},
     "output_type": "execute_result"
    }
   ],
   "source": [
    "prices.select(\n",
    "    ATR(14),\n",
    "    EMA('close', 20).alias('ema1'),\n",
    "    EMA('close', 20).pipe(EMA, 20).alias('ema2'),\n",
    ")"
   ]
  },
  {
   "cell_type": "code",
   "execution_count": null,
   "metadata": {},
   "outputs": [],
   "source": []
  }
 ],
 "metadata": {
  "kernelspec": {
   "display_name": ".venv",
   "language": "python",
   "name": "python3"
  },
  "language_info": {
   "codemirror_mode": {
    "name": "ipython",
    "version": 3
   },
   "file_extension": ".py",
   "mimetype": "text/x-python",
   "name": "python",
   "nbconvert_exporter": "python",
   "pygments_lexer": "ipython3",
   "version": "3.10.14"
  }
 },
 "nbformat": 4,
 "nbformat_minor": 2
}
