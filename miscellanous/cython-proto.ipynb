{
 "cells": [
  {
   "cell_type": "code",
   "execution_count": 50,
   "id": "2f45689963b1424e",
   "metadata": {
    "ExecuteTime": {
     "end_time": "2023-10-27T21:32:42.842855Z",
     "start_time": "2023-10-27T21:32:42.591832Z"
    },
    "collapsed": false
   },
   "outputs": [
    {
     "name": "stdout",
     "output_type": "stream",
     "text": [
      "The cython extension is already loaded. To reload it, use:\n",
      "  %reload_ext cython\n"
     ]
    }
   ],
   "source": [
    "from mintalib.samples import sample_prices\n",
    "\n",
    "\n",
    "%load_ext cython"
   ]
  },
  {
   "cell_type": "code",
   "execution_count": 51,
   "id": "a8013058fc5449a9",
   "metadata": {
    "ExecuteTime": {
     "end_time": "2023-10-27T21:32:43.378420Z",
     "start_time": "2023-10-27T21:32:43.347402Z"
    },
    "collapsed": false
   },
   "outputs": [
    {
     "name": "stdout",
     "output_type": "stream",
     "text": [
      "<class 'pandas.core.frame.DataFrame'>\n",
      "DatetimeIndex: 11056 entries, 1980-12-12 to 2024-10-21\n",
      "Data columns (total 5 columns):\n",
      " #   Column  Non-Null Count  Dtype  \n",
      "---  ------  --------------  -----  \n",
      " 0   open    11056 non-null  float64\n",
      " 1   high    11056 non-null  float64\n",
      " 2   low     11056 non-null  float64\n",
      " 3   close   11056 non-null  float64\n",
      " 4   volume  11056 non-null  int64  \n",
      "dtypes: float64(4), int64(1)\n",
      "memory usage: 518.2 KB\n"
     ]
    }
   ],
   "source": [
    "prices = sample_prices()\n",
    "prices.info()\n"
   ]
  },
  {
   "cell_type": "code",
   "execution_count": 52,
   "id": "09697123",
   "metadata": {},
   "outputs": [],
   "source": [
    "# Definitions to remove missing definitions warnings\n",
    "\n",
    "def np_sma(xs, period: int):\n",
    "    pass\n",
    "\n",
    "def calc_sma(series, period: int, wrap: bool=False):\n",
    "    pass\n",
    "\n",
    "def SMA(series, period: int):\n",
    "    pass\n"
   ]
  },
  {
   "cell_type": "code",
   "execution_count": 53,
   "id": "c35fa94c",
   "metadata": {},
   "outputs": [],
   "source": [
    "%%cython -c=-Wno-unreachable-code\n",
    "\n",
    "import sys\n",
    "import numpy as np\n",
    "\n",
    "from libc.math cimport isnan\n",
    "\n",
    "cdef double NAN = float('nan')\n",
    "\n",
    "\n",
    "def wrap_result(result, source):\n",
    "    \"\"\" wrap result to match source data form (pandas, polars) \"\"\"\n",
    "\n",
    "    pname = getattr(source, '__module__', '').partition('.')[0]\n",
    "\n",
    "    if isinstance(result, tuple) and hasattr(result, '_asdict'):\n",
    "        result = result._asdict()\n",
    "\n",
    "    if pname == 'pandas':\n",
    "        pandas = sys.modules['pandas']\n",
    "        index = getattr(source, 'index', None)\n",
    "\n",
    "        if isinstance(result, dict):\n",
    "            return pandas.DataFrame(result, index=index)\n",
    "\n",
    "        if isinstance(result, np.ndarray):\n",
    "            return pandas.Series(result, index=index)\n",
    "\n",
    "    if pname == 'polars':\n",
    "        polars = sys.modules['polars']\n",
    "\n",
    "        if isinstance(result, dict):\n",
    "            return polars.DataFrame(result)\n",
    "\n",
    "        if isinstance(result, np.ndarray):\n",
    "            return polars.Series(result)\n",
    "\n",
    "    return result\n",
    "\n",
    "\n",
    "\n",
    "def calc_sma(series, long period, bint wrap = False):\n",
    "    \"\"\" simple moving average \"\"\"\n",
    "\n",
    "    cdef double[:] xs = np.asarray(series, float)\n",
    "    cdef long size = xs.size\n",
    "\n",
    "    cdef object result = np.full(size, np.nan)\n",
    "    cdef double[:] output = result\n",
    "\n",
    "    cdef double v = NAN, rsum = 0\n",
    "    cdef long i = 0, j = 0, count = 0\n",
    "\n",
    "    for i in range(size):\n",
    "        v = xs[i]\n",
    "\n",
    "        if not isnan(v):\n",
    "            rsum += v\n",
    "            count += 1\n",
    "\n",
    "        while count > period and j < i:\n",
    "            v, j = xs[j], j+1\n",
    "            if not isnan(v):\n",
    "                rsum -= v\n",
    "                count -= 1\n",
    "\n",
    "        if count >= period:\n",
    "            output[i] = rsum / count\n",
    "\n",
    "    if wrap:\n",
    "        result = wrap_result(result, series)\n",
    "\n",
    "    return result\n",
    "\n",
    "print(\"done!\")"
   ]
  },
  {
   "cell_type": "code",
   "execution_count": 54,
   "id": "49ebc08d",
   "metadata": {},
   "outputs": [
    {
     "data": {
      "text/plain": [
       "array([         nan,          nan,          nan, ..., 231.32600098,\n",
       "       232.81600037, 233.8519989 ])"
      ]
     },
     "execution_count": 54,
     "metadata": {},
     "output_type": "execute_result"
    }
   ],
   "source": [
    "calc_sma(prices.close, 5)"
   ]
  },
  {
   "cell_type": "code",
   "execution_count": 55,
   "id": "71f909e5",
   "metadata": {},
   "outputs": [],
   "source": [
    "%%cython -c=-Wno-unreachable-code\n",
    "\n",
    "# cython: language_level=3, binding=True\n",
    "\n",
    "import sys\n",
    "\n",
    "import numpy as np\n",
    "\n",
    "from functools import wraps\n",
    "\n",
    "from libc.math cimport isnan\n",
    "\n",
    "# from mintalib.core import wrap_result\n",
    "\n",
    "cdef double NAN = float('nan')\n",
    "\n",
    "\n",
    "def dataframe_like(data):\n",
    "    \"\"\" check if data is dataframe like \"\"\"\n",
    "\n",
    "    if isinstance(data, dict):\n",
    "        return True\n",
    "\n",
    "    if isinstance(data, np.ndarray):\n",
    "        return data.dtype.names is not None\n",
    "\n",
    "    if hasattr(data, 'columns'):\n",
    "        return True\n",
    "\n",
    "    return  False\n",
    "\n",
    "\n",
    "def get_series(data, item: str = None, *, default_item: str = 'close'):\n",
    "    \"\"\" get series from either series/prices data \"\"\"\n",
    "\n",
    "    if dataframe_like(data):\n",
    "        if item is None:\n",
    "            item = default_item\n",
    "        return data[item]\n",
    "\n",
    "    if item is not None:\n",
    "        tname = type(data).__name__\n",
    "        raise ValueError(f\"Cannot get series from {tname} data\")\n",
    "\n",
    "    return data\n",
    "\n",
    "\n",
    "def wrap_result(result, source):\n",
    "    \"\"\" wrap result to match source data form (pandas, polars) \"\"\"\n",
    "\n",
    "    pname = getattr(source, '__module__', '').partition('.')[0]\n",
    "\n",
    "    if isinstance(result, tuple) and hasattr(result, '_asdict'):\n",
    "        result = result._asdict()\n",
    "\n",
    "    if pname == 'pandas':\n",
    "        pandas = sys.modules['pandas']\n",
    "        index = getattr(source, 'index', None)\n",
    "\n",
    "        if isinstance(result, dict):\n",
    "            return pandas.DataFrame(result, index=index)\n",
    "\n",
    "        if isinstance(result, np.ndarray):\n",
    "            return pandas.Series(result, index=index)\n",
    "\n",
    "    if pname == 'polars':\n",
    "        polars = sys.modules['polars']\n",
    "\n",
    "        if isinstance(result, dict):\n",
    "            return polars.DataFrame(result)\n",
    "\n",
    "        if isinstance(result, np.ndarray):\n",
    "            return polars.Series(result)\n",
    "\n",
    "    return result\n",
    "\n",
    "\n",
    "cpdef np_sma(double[:] xs, long period):\n",
    "    \"\"\" simple moving average \"\"\"\n",
    "\n",
    "    cdef long size = xs.size\n",
    "\n",
    "    cdef object result = np.full(size, np.nan)\n",
    "    cdef double[:] output = result\n",
    "\n",
    "    cdef double v = NAN, rsum = 0\n",
    "    cdef long i = 0, j = 0, count = 0\n",
    "\n",
    "    for i in range(size):\n",
    "        v = xs[i]\n",
    "\n",
    "        if not isnan(v):\n",
    "            rsum += v\n",
    "            count += 1\n",
    "\n",
    "        while count > period and j < i:\n",
    "            v, j = xs[j], j+1\n",
    "            if not isnan(v):\n",
    "                rsum -= v\n",
    "                count -= 1\n",
    "\n",
    "        if count >= period:\n",
    "            output[i] = rsum / count\n",
    "\n",
    "    # also return output.base\n",
    "    return result \n",
    "\n",
    "\n",
    "def calc_sma(series, int period, bint wrap = False):\n",
    "    \"\"\" simple moving average \"\"\"\n",
    "\n",
    "    cdef double[:] xs = np.asarray(series, float)\n",
    "    cdef object result = np_sma(xs, period)\n",
    "\n",
    "    if wrap:\n",
    "        result = wrap_result(result, series)\n",
    "\n",
    "    return result\n",
    "\n",
    "\n",
    "\n",
    "def make_function(func):\n",
    "    def decorator(target):\n",
    "        @wraps(target)\n",
    "        def wrapper(prices, *args, **kwargs):\n",
    "            series = get_series(prices)\n",
    "            result = func(series, *args, **kwargs)\n",
    "            return wrap_result(result, prices)\n",
    "        return wrapper\n",
    "    return decorator\n",
    "\n",
    "\n",
    "@make_function(calc_sma)\n",
    "def SMA(series, period: int = 20):\n",
    "    pass\n",
    "\n",
    "\n",
    "print(\"done!\")"
   ]
  },
  {
   "cell_type": "code",
   "execution_count": 56,
   "id": "5ce4af04",
   "metadata": {},
   "outputs": [
    {
     "name": "stdout",
     "output_type": "stream",
     "text": [
      "<class 'numpy.ndarray'>\n"
     ]
    },
    {
     "data": {
      "text/plain": [
       "array([         nan,          nan,          nan, ..., 231.32600098,\n",
       "       232.81600037, 233.8519989 ])"
      ]
     },
     "execution_count": 56,
     "metadata": {},
     "output_type": "execute_result"
    }
   ],
   "source": [
    "res = np_sma(prices.close.values, 5)\n",
    "print(type(res))\n",
    "res"
   ]
  },
  {
   "cell_type": "code",
   "execution_count": 57,
   "id": "491ab9e0",
   "metadata": {},
   "outputs": [
    {
     "name": "stdout",
     "output_type": "stream",
     "text": [
      "<class 'numpy.ndarray'>\n"
     ]
    },
    {
     "data": {
      "text/plain": [
       "array([           nan,            nan, 9.32074760e-02, ...,\n",
       "       2.32593333e+02, 2.32976664e+02, 2.34543330e+02])"
      ]
     },
     "execution_count": 57,
     "metadata": {},
     "output_type": "execute_result"
    }
   ],
   "source": [
    "res = calc_sma(prices.close, 3)\n",
    "print(type(res))\n",
    "res"
   ]
  },
  {
   "cell_type": "code",
   "execution_count": 58,
   "id": "96d6482a",
   "metadata": {},
   "outputs": [
    {
     "name": "stdout",
     "output_type": "stream",
     "text": [
      "<class 'pandas.core.series.Series'>\n"
     ]
    },
    {
     "data": {
      "text/plain": [
       "date\n",
       "1980-12-12           NaN\n",
       "1980-12-15           NaN\n",
       "1980-12-16      0.093207\n",
       "1980-12-17      0.089909\n",
       "1980-12-18      0.089192\n",
       "                 ...    \n",
       "2024-10-15    230.900004\n",
       "2024-10-16    232.310003\n",
       "2024-10-17    232.593333\n",
       "2024-10-18    232.976664\n",
       "2024-10-21    234.543330\n",
       "Length: 11056, dtype: float64"
      ]
     },
     "execution_count": 58,
     "metadata": {},
     "output_type": "execute_result"
    }
   ],
   "source": [
    "res = calc_sma(prices.close, 3, wrap=True)\n",
    "print(type(res))\n",
    "res"
   ]
  },
  {
   "cell_type": "code",
   "execution_count": 59,
   "id": "78b846d4",
   "metadata": {},
   "outputs": [
    {
     "name": "stdout",
     "output_type": "stream",
     "text": [
      "Help on cython_function_or_method in module _cython_magic_b2d1634a343669d0fb52d5a849588be0da328ec5:\n",
      "\n",
      "calc_sma(series, period, wrap=False)\n",
      "    simple moving average\n",
      "\n"
     ]
    }
   ],
   "source": [
    "help(calc_sma)"
   ]
  },
  {
   "cell_type": "code",
   "execution_count": 60,
   "id": "f0d44e9b",
   "metadata": {},
   "outputs": [
    {
     "data": {
      "text/plain": [
       "<cyfunction SMA at 0x128d756c0>"
      ]
     },
     "execution_count": 60,
     "metadata": {},
     "output_type": "execute_result"
    }
   ],
   "source": [
    "SMA\n"
   ]
  },
  {
   "cell_type": "code",
   "execution_count": 61,
   "id": "1493ff3e",
   "metadata": {},
   "outputs": [
    {
     "data": {
      "text/plain": [
       "date\n",
       "1980-12-12           NaN\n",
       "1980-12-15           NaN\n",
       "1980-12-16           NaN\n",
       "1980-12-17           NaN\n",
       "1980-12-18           NaN\n",
       "                 ...    \n",
       "2024-10-15    227.524000\n",
       "2024-10-16    228.078500\n",
       "2024-10-17    228.242500\n",
       "2024-10-18    228.582500\n",
       "2024-10-21    229.082999\n",
       "Length: 11056, dtype: float64"
      ]
     },
     "execution_count": 61,
     "metadata": {},
     "output_type": "execute_result"
    }
   ],
   "source": [
    "SMA(prices, 20)\n"
   ]
  },
  {
   "cell_type": "code",
   "execution_count": null,
   "id": "3634620b",
   "metadata": {},
   "outputs": [],
   "source": []
  }
 ],
 "metadata": {
  "kernelspec": {
   "display_name": ".venv",
   "language": "python",
   "name": "python3"
  },
  "language_info": {
   "codemirror_mode": {
    "name": "ipython",
    "version": 3
   },
   "file_extension": ".py",
   "mimetype": "text/x-python",
   "name": "python",
   "nbconvert_exporter": "python",
   "pygments_lexer": "ipython3",
   "version": "3.9.20"
  }
 },
 "nbformat": 4,
 "nbformat_minor": 5
}
