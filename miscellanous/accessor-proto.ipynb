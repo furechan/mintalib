{
 "cells": [
  {
   "cell_type": "code",
   "execution_count": 2,
   "metadata": {},
   "outputs": [],
   "source": [
    "from mintalib import core\n",
    "from mintalib import functions as fx\n",
    "from mintalib.samples import sample_prices\n",
    "\n",
    "\n",
    "class PricesMethods:\n",
    "    _prices = None\n",
    "\n",
    "    def dispatch_prices(self, func, *args, **kwds):\n",
    "        result = func(self._prices, *args, **kwds)\n",
    "        return core.wrap_result(result, self._prices)\n",
    "\n",
    "    def atr(self, period: int = 14):\n",
    "        kwds = dict(period=period)\n",
    "        return self.dispatch_prices(core.calc_atr, **kwds)\n",
    "\n",
    "\n",
    "\n",
    "class SeriesMethods:\n",
    "    _series = None\n",
    "\n",
    "    def dispatch_series(self, func, *args, **kwds):\n",
    "        result = func(self._series, *args, **kwds)\n",
    "        return core.wrap_result(result, self._series)\n",
    "\n",
    "    def ema(self, period: int = 20):\n",
    "        kwds = dict(period=period)\n",
    "        return self.dispatch_series(core.calc_ema, **kwds)\n",
    "\n",
    "    def sma(self, period: int = 20):\n",
    "        kwds = dict(period=period)\n",
    "        return self.dispatch_series(core.calc_sma, **kwds)\n",
    "\n",
    "\n",
    "def register_pandas(name=\"ta\"):\n",
    "    import pandas as pd\n",
    "\n",
    "    @pd.api.extensions.register_dataframe_accessor(name)\n",
    "    class PricesAccessor(PricesMethods):\n",
    "        def __init__(self, prices):\n",
    "            self._validate(prices)\n",
    "            self._prices = prices\n",
    "\n",
    "        @staticmethod\n",
    "        def _validate(prices):\n",
    "            if \"close\" not in prices.columns:\n",
    "                raise AttributeError(\"Prices must have a 'close' column\") \n",
    "\n",
    "        @property\n",
    "        def _series(self):\n",
    "            return self._prices\n",
    "\n",
    "\n",
    "    @pd.api.extensions.register_series_accessor(name)\n",
    "    class SeriesAccessor(SeriesMethods):\n",
    "        def __init__(self, series):\n",
    "            self._series = series\n",
    "\n",
    "\n",
    "register_pandas()\n"
   ]
  },
  {
   "cell_type": "code",
   "execution_count": 3,
   "metadata": {},
   "outputs": [
    {
     "data": {
      "text/html": [
       "<div>\n",
       "<style scoped>\n",
       "    .dataframe tbody tr th:only-of-type {\n",
       "        vertical-align: middle;\n",
       "    }\n",
       "\n",
       "    .dataframe tbody tr th {\n",
       "        vertical-align: top;\n",
       "    }\n",
       "\n",
       "    .dataframe thead th {\n",
       "        text-align: right;\n",
       "    }\n",
       "</style>\n",
       "<table border=\"1\" class=\"dataframe\">\n",
       "  <thead>\n",
       "    <tr style=\"text-align: right;\">\n",
       "      <th></th>\n",
       "      <th>open</th>\n",
       "      <th>high</th>\n",
       "      <th>low</th>\n",
       "      <th>close</th>\n",
       "      <th>volume</th>\n",
       "      <th>sma50</th>\n",
       "    </tr>\n",
       "    <tr>\n",
       "      <th>date</th>\n",
       "      <th></th>\n",
       "      <th></th>\n",
       "      <th></th>\n",
       "      <th></th>\n",
       "      <th></th>\n",
       "      <th></th>\n",
       "    </tr>\n",
       "  </thead>\n",
       "  <tbody>\n",
       "    <tr>\n",
       "      <th>1980-12-12</th>\n",
       "      <td>0.098943</td>\n",
       "      <td>0.099373</td>\n",
       "      <td>0.098943</td>\n",
       "      <td>0.098943</td>\n",
       "      <td>469033600</td>\n",
       "      <td>NaN</td>\n",
       "    </tr>\n",
       "    <tr>\n",
       "      <th>1980-12-15</th>\n",
       "      <td>0.094211</td>\n",
       "      <td>0.094211</td>\n",
       "      <td>0.093781</td>\n",
       "      <td>0.093781</td>\n",
       "      <td>175884800</td>\n",
       "      <td>NaN</td>\n",
       "    </tr>\n",
       "    <tr>\n",
       "      <th>1980-12-16</th>\n",
       "      <td>0.087328</td>\n",
       "      <td>0.087328</td>\n",
       "      <td>0.086898</td>\n",
       "      <td>0.086898</td>\n",
       "      <td>105728000</td>\n",
       "      <td>NaN</td>\n",
       "    </tr>\n",
       "    <tr>\n",
       "      <th>1980-12-17</th>\n",
       "      <td>0.089049</td>\n",
       "      <td>0.089479</td>\n",
       "      <td>0.089049</td>\n",
       "      <td>0.089049</td>\n",
       "      <td>86441600</td>\n",
       "      <td>NaN</td>\n",
       "    </tr>\n",
       "    <tr>\n",
       "      <th>1980-12-18</th>\n",
       "      <td>0.091630</td>\n",
       "      <td>0.092061</td>\n",
       "      <td>0.091630</td>\n",
       "      <td>0.091630</td>\n",
       "      <td>73449600</td>\n",
       "      <td>NaN</td>\n",
       "    </tr>\n",
       "    <tr>\n",
       "      <th>...</th>\n",
       "      <td>...</td>\n",
       "      <td>...</td>\n",
       "      <td>...</td>\n",
       "      <td>...</td>\n",
       "      <td>...</td>\n",
       "      <td>...</td>\n",
       "    </tr>\n",
       "    <tr>\n",
       "      <th>2024-10-15</th>\n",
       "      <td>233.610001</td>\n",
       "      <td>237.490005</td>\n",
       "      <td>232.369995</td>\n",
       "      <td>233.850006</td>\n",
       "      <td>64751400</td>\n",
       "      <td>224.138625</td>\n",
       "    </tr>\n",
       "    <tr>\n",
       "      <th>2024-10-16</th>\n",
       "      <td>231.600006</td>\n",
       "      <td>232.119995</td>\n",
       "      <td>229.839996</td>\n",
       "      <td>231.779999</td>\n",
       "      <td>34082200</td>\n",
       "      <td>224.634417</td>\n",
       "    </tr>\n",
       "    <tr>\n",
       "      <th>2024-10-17</th>\n",
       "      <td>233.429993</td>\n",
       "      <td>233.850006</td>\n",
       "      <td>230.520004</td>\n",
       "      <td>232.149994</td>\n",
       "      <td>32993800</td>\n",
       "      <td>225.085868</td>\n",
       "    </tr>\n",
       "    <tr>\n",
       "      <th>2024-10-18</th>\n",
       "      <td>236.179993</td>\n",
       "      <td>236.179993</td>\n",
       "      <td>234.009995</td>\n",
       "      <td>235.000000</td>\n",
       "      <td>46431500</td>\n",
       "      <td>225.524600</td>\n",
       "    </tr>\n",
       "    <tr>\n",
       "      <th>2024-10-21</th>\n",
       "      <td>234.449997</td>\n",
       "      <td>236.850006</td>\n",
       "      <td>234.449997</td>\n",
       "      <td>236.479996</td>\n",
       "      <td>36220800</td>\n",
       "      <td>225.934400</td>\n",
       "    </tr>\n",
       "  </tbody>\n",
       "</table>\n",
       "<p>11056 rows × 6 columns</p>\n",
       "</div>"
      ],
      "text/plain": [
       "                  open        high         low       close     volume  \\\n",
       "date                                                                    \n",
       "1980-12-12    0.098943    0.099373    0.098943    0.098943  469033600   \n",
       "1980-12-15    0.094211    0.094211    0.093781    0.093781  175884800   \n",
       "1980-12-16    0.087328    0.087328    0.086898    0.086898  105728000   \n",
       "1980-12-17    0.089049    0.089479    0.089049    0.089049   86441600   \n",
       "1980-12-18    0.091630    0.092061    0.091630    0.091630   73449600   \n",
       "...                ...         ...         ...         ...        ...   \n",
       "2024-10-15  233.610001  237.490005  232.369995  233.850006   64751400   \n",
       "2024-10-16  231.600006  232.119995  229.839996  231.779999   34082200   \n",
       "2024-10-17  233.429993  233.850006  230.520004  232.149994   32993800   \n",
       "2024-10-18  236.179993  236.179993  234.009995  235.000000   46431500   \n",
       "2024-10-21  234.449997  236.850006  234.449997  236.479996   36220800   \n",
       "\n",
       "                 sma50  \n",
       "date                    \n",
       "1980-12-12         NaN  \n",
       "1980-12-15         NaN  \n",
       "1980-12-16         NaN  \n",
       "1980-12-17         NaN  \n",
       "1980-12-18         NaN  \n",
       "...                ...  \n",
       "2024-10-15  224.138625  \n",
       "2024-10-16  224.634417  \n",
       "2024-10-17  225.085868  \n",
       "2024-10-18  225.524600  \n",
       "2024-10-21  225.934400  \n",
       "\n",
       "[11056 rows x 6 columns]"
      ]
     },
     "execution_count": 3,
     "metadata": {},
     "output_type": "execute_result"
    }
   ],
   "source": [
    "from mintalib.indicators import SMA\n",
    "\n",
    "prices  = sample_prices()\n",
    "\n",
    "result = prices.assign(\n",
    "    sma50 = SMA(50),\n",
    ")\n",
    "result"
   ]
  },
  {
   "cell_type": "code",
   "execution_count": 4,
   "metadata": {},
   "outputs": [
    {
     "data": {
      "text/plain": [
       "date\n",
       "1980-12-12         NaN\n",
       "1980-12-15         NaN\n",
       "1980-12-16         NaN\n",
       "1980-12-17         NaN\n",
       "1980-12-18         NaN\n",
       "                ...   \n",
       "2024-10-15    4.516121\n",
       "2024-10-16    4.479971\n",
       "2024-10-17    4.397830\n",
       "2024-10-18    4.371556\n",
       "2024-10-21    4.230731\n",
       "Length: 11056, dtype: float64"
      ]
     },
     "execution_count": 4,
     "metadata": {},
     "output_type": "execute_result"
    }
   ],
   "source": [
    "prices.ta.atr()"
   ]
  },
  {
   "cell_type": "code",
   "execution_count": 5,
   "metadata": {},
   "outputs": [
    {
     "data": {
      "text/plain": [
       "date\n",
       "1980-12-12           NaN\n",
       "1980-12-15           NaN\n",
       "1980-12-16           NaN\n",
       "1980-12-17           NaN\n",
       "1980-12-18           NaN\n",
       "                 ...    \n",
       "2024-10-15    227.524000\n",
       "2024-10-16    228.078500\n",
       "2024-10-17    228.242500\n",
       "2024-10-18    228.582500\n",
       "2024-10-21    229.082999\n",
       "Length: 11056, dtype: float64"
      ]
     },
     "execution_count": 5,
     "metadata": {},
     "output_type": "execute_result"
    }
   ],
   "source": [
    "prices.close.ta.sma()"
   ]
  },
  {
   "cell_type": "code",
   "execution_count": 6,
   "metadata": {},
   "outputs": [
    {
     "data": {
      "text/plain": [
       "date\n",
       "1980-12-12           NaN\n",
       "1980-12-15           NaN\n",
       "1980-12-16           NaN\n",
       "1980-12-17           NaN\n",
       "1980-12-18           NaN\n",
       "                 ...    \n",
       "2024-10-15    224.138625\n",
       "2024-10-16    224.634417\n",
       "2024-10-17    225.085868\n",
       "2024-10-18    225.524600\n",
       "2024-10-21    225.934400\n",
       "Length: 11056, dtype: float64"
      ]
     },
     "execution_count": 6,
     "metadata": {},
     "output_type": "execute_result"
    }
   ],
   "source": [
    "prices.close.ta.sma(50)"
   ]
  },
  {
   "cell_type": "code",
   "execution_count": 7,
   "metadata": {},
   "outputs": [
    {
     "ename": "AttributeError",
     "evalue": "'PricesAccessor' object has no attribute 'ema'",
     "output_type": "error",
     "traceback": [
      "\u001b[0;31m---------------------------------------------------------------------------\u001b[0m",
      "\u001b[0;31mAttributeError\u001b[0m                            Traceback (most recent call last)",
      "Cell \u001b[0;32mIn[7], line 1\u001b[0m\n\u001b[0;32m----> 1\u001b[0m \u001b[43mprices\u001b[49m\u001b[38;5;241;43m.\u001b[39;49m\u001b[43mta\u001b[49m\u001b[38;5;241;43m.\u001b[39;49m\u001b[43mema\u001b[49m()\n",
      "\u001b[0;31mAttributeError\u001b[0m: 'PricesAccessor' object has no attribute 'ema'"
     ]
    }
   ],
   "source": [
    "prices.ta.ema()"
   ]
  },
  {
   "cell_type": "code",
   "execution_count": 8,
   "metadata": {},
   "outputs": [
    {
     "data": {
      "text/plain": [
       "{'a': 1, 'b': 2}"
      ]
     },
     "execution_count": 8,
     "metadata": {},
     "output_type": "execute_result"
    }
   ],
   "source": [
    "import inspect\n",
    "def binding_wrapper(func):\n",
    "    signature = inspect.signature(func)\n",
    "    def wrapper(*args, **kwargs):\n",
    "        bound = signature.bind(*args, **kwargs)\n",
    "        bound.apply_defaults()\n",
    "        return bound.arguments\n",
    "    return wrapper\n",
    "\n",
    "@binding_wrapper\n",
    "def myfunc(a=1, b=2):\n",
    "    return dict(a=a, b=b)\n",
    "\n",
    "myfunc()"
   ]
  },
  {
   "cell_type": "code",
   "execution_count": null,
   "metadata": {},
   "outputs": [],
   "source": []
  }
 ],
 "metadata": {
  "kernelspec": {
   "display_name": ".venv",
   "language": "python",
   "name": "python3"
  },
  "language_info": {
   "codemirror_mode": {
    "name": "ipython",
    "version": 3
   },
   "file_extension": ".py",
   "mimetype": "text/x-python",
   "name": "python",
   "nbconvert_exporter": "python",
   "pygments_lexer": "ipython3",
   "version": "3.9.6"
  }
 },
 "nbformat": 4,
 "nbformat_minor": 2
}
