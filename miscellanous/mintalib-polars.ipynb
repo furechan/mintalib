{
 "cells": [
  {
   "cell_type": "markdown",
   "metadata": {},
   "source": [
    "# Using mintalib with polars (experimental)\n"
   ]
  },
  {
   "cell_type": "code",
   "execution_count": 1,
   "metadata": {},
   "outputs": [],
   "source": [
    "import  numpy as np\n",
    "import polars as pl\n",
    "from polars import col\n",
    "\n",
    "from mintalib.indicators import SMA, ATR, MACD\n",
    "from mintalib.core import calc_sma, calc_atr, calc_macd"
   ]
  },
  {
   "cell_type": "code",
   "execution_count": 2,
   "metadata": {},
   "outputs": [
    {
     "data": {
      "text/html": [
       "<div><style>\n",
       ".dataframe > thead > tr,\n",
       ".dataframe > tbody > tr {\n",
       "  text-align: right;\n",
       "  white-space: pre-wrap;\n",
       "}\n",
       "</style>\n",
       "<small>shape: (11_056, 6)</small><table border=\"1\" class=\"dataframe\"><thead><tr><th>date</th><th>open</th><th>high</th><th>low</th><th>close</th><th>volume</th></tr><tr><td>datetime[ns]</td><td>f64</td><td>f64</td><td>f64</td><td>f64</td><td>i64</td></tr></thead><tbody><tr><td>1980-12-12 00:00:00</td><td>0.098943</td><td>0.099373</td><td>0.098943</td><td>0.098943</td><td>469033600</td></tr><tr><td>1980-12-15 00:00:00</td><td>0.094211</td><td>0.094211</td><td>0.093781</td><td>0.093781</td><td>175884800</td></tr><tr><td>1980-12-16 00:00:00</td><td>0.087328</td><td>0.087328</td><td>0.086898</td><td>0.086898</td><td>105728000</td></tr><tr><td>1980-12-17 00:00:00</td><td>0.089049</td><td>0.089479</td><td>0.089049</td><td>0.089049</td><td>86441600</td></tr><tr><td>1980-12-18 00:00:00</td><td>0.09163</td><td>0.092061</td><td>0.09163</td><td>0.09163</td><td>73449600</td></tr><tr><td>&hellip;</td><td>&hellip;</td><td>&hellip;</td><td>&hellip;</td><td>&hellip;</td><td>&hellip;</td></tr><tr><td>2024-10-15 00:00:00</td><td>233.610001</td><td>237.490005</td><td>232.369995</td><td>233.850006</td><td>64751400</td></tr><tr><td>2024-10-16 00:00:00</td><td>231.600006</td><td>232.119995</td><td>229.839996</td><td>231.779999</td><td>34082200</td></tr><tr><td>2024-10-17 00:00:00</td><td>233.429993</td><td>233.850006</td><td>230.520004</td><td>232.149994</td><td>32993800</td></tr><tr><td>2024-10-18 00:00:00</td><td>236.179993</td><td>236.179993</td><td>234.009995</td><td>235.0</td><td>46431500</td></tr><tr><td>2024-10-21 00:00:00</td><td>234.449997</td><td>236.850006</td><td>234.449997</td><td>236.479996</td><td>36220800</td></tr></tbody></table></div>"
      ],
      "text/plain": [
       "shape: (11_056, 6)\n",
       "┌─────────────────────┬────────────┬────────────┬────────────┬────────────┬───────────┐\n",
       "│ date                ┆ open       ┆ high       ┆ low        ┆ close      ┆ volume    │\n",
       "│ ---                 ┆ ---        ┆ ---        ┆ ---        ┆ ---        ┆ ---       │\n",
       "│ datetime[ns]        ┆ f64        ┆ f64        ┆ f64        ┆ f64        ┆ i64       │\n",
       "╞═════════════════════╪════════════╪════════════╪════════════╪════════════╪═══════════╡\n",
       "│ 1980-12-12 00:00:00 ┆ 0.098943   ┆ 0.099373   ┆ 0.098943   ┆ 0.098943   ┆ 469033600 │\n",
       "│ 1980-12-15 00:00:00 ┆ 0.094211   ┆ 0.094211   ┆ 0.093781   ┆ 0.093781   ┆ 175884800 │\n",
       "│ 1980-12-16 00:00:00 ┆ 0.087328   ┆ 0.087328   ┆ 0.086898   ┆ 0.086898   ┆ 105728000 │\n",
       "│ 1980-12-17 00:00:00 ┆ 0.089049   ┆ 0.089479   ┆ 0.089049   ┆ 0.089049   ┆ 86441600  │\n",
       "│ 1980-12-18 00:00:00 ┆ 0.09163    ┆ 0.092061   ┆ 0.09163    ┆ 0.09163    ┆ 73449600  │\n",
       "│ …                   ┆ …          ┆ …          ┆ …          ┆ …          ┆ …         │\n",
       "│ 2024-10-15 00:00:00 ┆ 233.610001 ┆ 237.490005 ┆ 232.369995 ┆ 233.850006 ┆ 64751400  │\n",
       "│ 2024-10-16 00:00:00 ┆ 231.600006 ┆ 232.119995 ┆ 229.839996 ┆ 231.779999 ┆ 34082200  │\n",
       "│ 2024-10-17 00:00:00 ┆ 233.429993 ┆ 233.850006 ┆ 230.520004 ┆ 232.149994 ┆ 32993800  │\n",
       "│ 2024-10-18 00:00:00 ┆ 236.179993 ┆ 236.179993 ┆ 234.009995 ┆ 235.0      ┆ 46431500  │\n",
       "│ 2024-10-21 00:00:00 ┆ 234.449997 ┆ 236.850006 ┆ 234.449997 ┆ 236.479996 ┆ 36220800  │\n",
       "└─────────────────────┴────────────┴────────────┴────────────┴────────────┴───────────┘"
      ]
     },
     "execution_count": 2,
     "metadata": {},
     "output_type": "execute_result"
    }
   ],
   "source": [
    "from mintalib.samples import sample_prices\n",
    "\n",
    "prices = sample_prices()\n",
    "prices = pl.from_pandas(prices, include_index=True)\n",
    "prices\n",
    "\n",
    "# Links\n",
    "# https://docs.pola.rs/user-guide/expressions/user-defined-python-functions/#combining-multiple-column-values"
   ]
  },
  {
   "cell_type": "code",
   "execution_count": 3,
   "metadata": {},
   "outputs": [
    {
     "data": {
      "text/html": [
       "<div><style>\n",
       ".dataframe > thead > tr,\n",
       ".dataframe > tbody > tr {\n",
       "  text-align: right;\n",
       "  white-space: pre-wrap;\n",
       "}\n",
       "</style>\n",
       "<small>shape: (11_056,)</small><table border=\"1\" class=\"dataframe\"><thead><tr><th>prices</th></tr><tr><td>struct[6]</td></tr></thead><tbody><tr><td>{1980-12-12 00:00:00,0.098943,0.099373,0.098943,0.098943,469033600}</td></tr><tr><td>{1980-12-15 00:00:00,0.094211,0.094211,0.093781,0.093781,175884800}</td></tr><tr><td>{1980-12-16 00:00:00,0.087328,0.087328,0.086898,0.086898,105728000}</td></tr><tr><td>{1980-12-17 00:00:00,0.089049,0.089479,0.089049,0.089049,86441600}</td></tr><tr><td>{1980-12-18 00:00:00,0.09163,0.092061,0.09163,0.09163,73449600}</td></tr><tr><td>&hellip;</td></tr><tr><td>{2024-10-15 00:00:00,233.610001,237.490005,232.369995,233.850006,64751400}</td></tr><tr><td>{2024-10-16 00:00:00,231.600006,232.119995,229.839996,231.779999,34082200}</td></tr><tr><td>{2024-10-17 00:00:00,233.429993,233.850006,230.520004,232.149994,32993800}</td></tr><tr><td>{2024-10-18 00:00:00,236.179993,236.179993,234.009995,235.0,46431500}</td></tr><tr><td>{2024-10-21 00:00:00,234.449997,236.850006,234.449997,236.479996,36220800}</td></tr></tbody></table></div>"
      ],
      "text/plain": [
       "shape: (11_056,)\n",
       "Series: 'prices' [struct[6]]\n",
       "[\n",
       "\t{1980-12-12 00:00:00,0.098943,0.099373,0.098943,0.098943,469033600}\n",
       "\t{1980-12-15 00:00:00,0.094211,0.094211,0.093781,0.093781,175884800}\n",
       "\t{1980-12-16 00:00:00,0.087328,0.087328,0.086898,0.086898,105728000}\n",
       "\t{1980-12-17 00:00:00,0.089049,0.089479,0.089049,0.089049,86441600}\n",
       "\t{1980-12-18 00:00:00,0.09163,0.092061,0.09163,0.09163,73449600}\n",
       "\t…\n",
       "\t{2024-10-15 00:00:00,233.610001,237.490005,232.369995,233.850006,64751400}\n",
       "\t{2024-10-16 00:00:00,231.600006,232.119995,229.839996,231.779999,34082200}\n",
       "\t{2024-10-17 00:00:00,233.429993,233.850006,230.520004,232.149994,32993800}\n",
       "\t{2024-10-18 00:00:00,236.179993,236.179993,234.009995,235.0,46431500}\n",
       "\t{2024-10-21 00:00:00,234.449997,236.850006,234.449997,236.479996,36220800}\n",
       "]"
      ]
     },
     "execution_count": 3,
     "metadata": {},
     "output_type": "execute_result"
    }
   ],
   "source": [
    "pstruct = prices.to_struct(\"prices\")\n",
    "pstruct\n"
   ]
  },
  {
   "cell_type": "code",
   "execution_count": 4,
   "metadata": {},
   "outputs": [
    {
     "name": "stdout",
     "output_type": "stream",
     "text": [
      "SMA SeriesMACD Series\n",
      "ATR Series\n",
      "struct ...\n",
      "\n"
     ]
    },
    {
     "data": {
      "text/html": [
       "<div><style>\n",
       ".dataframe > thead > tr,\n",
       ".dataframe > tbody > tr {\n",
       "  text-align: right;\n",
       "  white-space: pre-wrap;\n",
       "}\n",
       "</style>\n",
       "<small>shape: (11_056, 9)</small><table border=\"1\" class=\"dataframe\"><thead><tr><th>date</th><th>open</th><th>high</th><th>low</th><th>close</th><th>volume</th><th>sma</th><th>macd</th><th>atr</th></tr><tr><td>datetime[ns]</td><td>f64</td><td>f64</td><td>f64</td><td>f64</td><td>i64</td><td>f64</td><td>struct[3]</td><td>f64</td></tr></thead><tbody><tr><td>1980-12-12 00:00:00</td><td>0.098943</td><td>0.099373</td><td>0.098943</td><td>0.098943</td><td>469033600</td><td>NaN</td><td>{NaN,NaN,NaN}</td><td>NaN</td></tr><tr><td>1980-12-15 00:00:00</td><td>0.094211</td><td>0.094211</td><td>0.093781</td><td>0.093781</td><td>175884800</td><td>NaN</td><td>{NaN,NaN,NaN}</td><td>NaN</td></tr><tr><td>1980-12-16 00:00:00</td><td>0.087328</td><td>0.087328</td><td>0.086898</td><td>0.086898</td><td>105728000</td><td>NaN</td><td>{NaN,NaN,NaN}</td><td>NaN</td></tr><tr><td>1980-12-17 00:00:00</td><td>0.089049</td><td>0.089479</td><td>0.089049</td><td>0.089049</td><td>86441600</td><td>NaN</td><td>{NaN,NaN,NaN}</td><td>NaN</td></tr><tr><td>1980-12-18 00:00:00</td><td>0.09163</td><td>0.092061</td><td>0.09163</td><td>0.09163</td><td>73449600</td><td>NaN</td><td>{NaN,NaN,NaN}</td><td>NaN</td></tr><tr><td>&hellip;</td><td>&hellip;</td><td>&hellip;</td><td>&hellip;</td><td>&hellip;</td><td>&hellip;</td><td>&hellip;</td><td>&hellip;</td><td>&hellip;</td></tr><tr><td>2024-10-15 00:00:00</td><td>233.610001</td><td>237.490005</td><td>232.369995</td><td>233.850006</td><td>64751400</td><td>227.524</td><td>{1.815958,1.313965,0.501993}</td><td>4.516121</td></tr><tr><td>2024-10-16 00:00:00</td><td>231.600006</td><td>232.119995</td><td>229.839996</td><td>231.779999</td><td>34082200</td><td>228.0785</td><td>{1.941114,1.439395,0.501719}</td><td>4.479971</td></tr><tr><td>2024-10-17 00:00:00</td><td>233.429993</td><td>233.850006</td><td>230.520004</td><td>232.149994</td><td>32993800</td><td>228.2425</td><td>{2.046565,1.560829,0.485736}</td><td>4.39783</td></tr><tr><td>2024-10-18 00:00:00</td><td>236.179993</td><td>236.179993</td><td>234.009995</td><td>235.0</td><td>46431500</td><td>228.5825</td><td>{2.333211,1.715305,0.617906}</td><td>4.371556</td></tr><tr><td>2024-10-21 00:00:00</td><td>234.449997</td><td>236.850006</td><td>234.449997</td><td>236.479996</td><td>36220800</td><td>229.082999</td><td>{2.649265,1.902097,0.747168}</td><td>4.230731</td></tr></tbody></table></div>"
      ],
      "text/plain": [
       "shape: (11_056, 9)\n",
       "┌───────────┬───────────┬───────────┬───────────┬───┬───────────┬───────────┬───────────┬──────────┐\n",
       "│ date      ┆ open      ┆ high      ┆ low       ┆ … ┆ volume    ┆ sma       ┆ macd      ┆ atr      │\n",
       "│ ---       ┆ ---       ┆ ---       ┆ ---       ┆   ┆ ---       ┆ ---       ┆ ---       ┆ ---      │\n",
       "│ datetime[ ┆ f64       ┆ f64       ┆ f64       ┆   ┆ i64       ┆ f64       ┆ struct[3] ┆ f64      │\n",
       "│ ns]       ┆           ┆           ┆           ┆   ┆           ┆           ┆           ┆          │\n",
       "╞═══════════╪═══════════╪═══════════╪═══════════╪═══╪═══════════╪═══════════╪═══════════╪══════════╡\n",
       "│ 1980-12-1 ┆ 0.098943  ┆ 0.099373  ┆ 0.098943  ┆ … ┆ 469033600 ┆ NaN       ┆ {NaN,NaN, ┆ NaN      │\n",
       "│ 2         ┆           ┆           ┆           ┆   ┆           ┆           ┆ NaN}      ┆          │\n",
       "│ 00:00:00  ┆           ┆           ┆           ┆   ┆           ┆           ┆           ┆          │\n",
       "│ 1980-12-1 ┆ 0.094211  ┆ 0.094211  ┆ 0.093781  ┆ … ┆ 175884800 ┆ NaN       ┆ {NaN,NaN, ┆ NaN      │\n",
       "│ 5         ┆           ┆           ┆           ┆   ┆           ┆           ┆ NaN}      ┆          │\n",
       "│ 00:00:00  ┆           ┆           ┆           ┆   ┆           ┆           ┆           ┆          │\n",
       "│ 1980-12-1 ┆ 0.087328  ┆ 0.087328  ┆ 0.086898  ┆ … ┆ 105728000 ┆ NaN       ┆ {NaN,NaN, ┆ NaN      │\n",
       "│ 6         ┆           ┆           ┆           ┆   ┆           ┆           ┆ NaN}      ┆          │\n",
       "│ 00:00:00  ┆           ┆           ┆           ┆   ┆           ┆           ┆           ┆          │\n",
       "│ 1980-12-1 ┆ 0.089049  ┆ 0.089479  ┆ 0.089049  ┆ … ┆ 86441600  ┆ NaN       ┆ {NaN,NaN, ┆ NaN      │\n",
       "│ 7         ┆           ┆           ┆           ┆   ┆           ┆           ┆ NaN}      ┆          │\n",
       "│ 00:00:00  ┆           ┆           ┆           ┆   ┆           ┆           ┆           ┆          │\n",
       "│ 1980-12-1 ┆ 0.09163   ┆ 0.092061  ┆ 0.09163   ┆ … ┆ 73449600  ┆ NaN       ┆ {NaN,NaN, ┆ NaN      │\n",
       "│ 8         ┆           ┆           ┆           ┆   ┆           ┆           ┆ NaN}      ┆          │\n",
       "│ 00:00:00  ┆           ┆           ┆           ┆   ┆           ┆           ┆           ┆          │\n",
       "│ …         ┆ …         ┆ …         ┆ …         ┆ … ┆ …         ┆ …         ┆ …         ┆ …        │\n",
       "│ 2024-10-1 ┆ 233.61000 ┆ 237.49000 ┆ 232.36999 ┆ … ┆ 64751400  ┆ 227.524   ┆ {1.815958 ┆ 4.516121 │\n",
       "│ 5         ┆ 1         ┆ 5         ┆ 5         ┆   ┆           ┆           ┆ ,1.313965 ┆          │\n",
       "│ 00:00:00  ┆           ┆           ┆           ┆   ┆           ┆           ┆ ,0.501993 ┆          │\n",
       "│           ┆           ┆           ┆           ┆   ┆           ┆           ┆ }         ┆          │\n",
       "│ 2024-10-1 ┆ 231.60000 ┆ 232.11999 ┆ 229.83999 ┆ … ┆ 34082200  ┆ 228.0785  ┆ {1.941114 ┆ 4.479971 │\n",
       "│ 6         ┆ 6         ┆ 5         ┆ 6         ┆   ┆           ┆           ┆ ,1.439395 ┆          │\n",
       "│ 00:00:00  ┆           ┆           ┆           ┆   ┆           ┆           ┆ ,0.501719 ┆          │\n",
       "│           ┆           ┆           ┆           ┆   ┆           ┆           ┆ }         ┆          │\n",
       "│ 2024-10-1 ┆ 233.42999 ┆ 233.85000 ┆ 230.52000 ┆ … ┆ 32993800  ┆ 228.2425  ┆ {2.046565 ┆ 4.39783  │\n",
       "│ 7         ┆ 3         ┆ 6         ┆ 4         ┆   ┆           ┆           ┆ ,1.560829 ┆          │\n",
       "│ 00:00:00  ┆           ┆           ┆           ┆   ┆           ┆           ┆ ,0.485736 ┆          │\n",
       "│           ┆           ┆           ┆           ┆   ┆           ┆           ┆ }         ┆          │\n",
       "│ 2024-10-1 ┆ 236.17999 ┆ 236.17999 ┆ 234.00999 ┆ … ┆ 46431500  ┆ 228.5825  ┆ {2.333211 ┆ 4.371556 │\n",
       "│ 8         ┆ 3         ┆ 3         ┆ 5         ┆   ┆           ┆           ┆ ,1.715305 ┆          │\n",
       "│ 00:00:00  ┆           ┆           ┆           ┆   ┆           ┆           ┆ ,0.617906 ┆          │\n",
       "│           ┆           ┆           ┆           ┆   ┆           ┆           ┆ }         ┆          │\n",
       "│ 2024-10-2 ┆ 234.44999 ┆ 236.85000 ┆ 234.44999 ┆ … ┆ 36220800  ┆ 229.08299 ┆ {2.649265 ┆ 4.230731 │\n",
       "│ 1         ┆ 7         ┆ 6         ┆ 7         ┆   ┆           ┆ 9         ┆ ,1.902097 ┆          │\n",
       "│ 00:00:00  ┆           ┆           ┆           ┆   ┆           ┆           ┆ ,0.747168 ┆          │\n",
       "│           ┆           ┆           ┆           ┆   ┆           ┆           ┆ }         ┆          │\n",
       "└───────────┴───────────┴───────────┴───────────┴───┴───────────┴───────────┴───────────┴──────────┘"
      ]
     },
     "execution_count": 4,
     "metadata": {},
     "output_type": "execute_result"
    }
   ],
   "source": [
    "from polars.datatypes import Struct, Float64\n",
    "\n",
    "macd_type = Struct({'macd': Float64, 'macdsignal': Float64, 'macdhist': Float64})\n",
    "\n",
    "def my_sma(series, period: int = 20):\n",
    "    print(f\"SMA {type(series).__name__}\")\n",
    "    return calc_sma(series, period)\n",
    "\n",
    "def my_atr(prices, period: int = 14):\n",
    "    print(f\"ATR {type(prices).__name__}\")\n",
    "    if hasattr(prices, 'dtype') and prices.dtype.__class__.__name__ == 'Struct':\n",
    "        print(\"struct ...\")\n",
    "        prices = prices.struct\n",
    "    return calc_atr(prices, period)\n",
    "\n",
    "def my_macd(series):\n",
    "    print(f\"MACD {type(series).__name__}\")\n",
    "    result = calc_macd(series, wrap=True)\n",
    "    if hasattr(result, 'to_struct'):\n",
    "        return result.to_struct(\"macd\")\n",
    "\n",
    "\n",
    "df = prices.with_columns(\n",
    "    col('close').map_batches(my_sma).alias(\"sma\"),\n",
    "    col('close').map_batches(my_macd).alias(\"macd\"),\n",
    "    pl.struct(pl.all()).map_batches(my_atr).alias(\"atr\")\n",
    ")\n",
    "\n",
    "df"
   ]
  },
  {
   "cell_type": "code",
   "execution_count": 5,
   "metadata": {},
   "outputs": [
    {
     "data": {
      "text/plain": [
       "[Datetime(time_unit='ns', time_zone=None),\n",
       " Float64,\n",
       " Float64,\n",
       " Float64,\n",
       " Float64,\n",
       " Int64,\n",
       " Float64,\n",
       " Struct({'macd': Float64, 'macdsignal': Float64, 'macdhist': Float64}),\n",
       " Float64]"
      ]
     },
     "execution_count": 5,
     "metadata": {},
     "output_type": "execute_result"
    }
   ],
   "source": [
    "df.dtypes\n"
   ]
  },
  {
   "cell_type": "code",
   "execution_count": 6,
   "metadata": {},
   "outputs": [
    {
     "data": {
      "text/html": [
       "<div><style>\n",
       ".dataframe > thead > tr,\n",
       ".dataframe > tbody > tr {\n",
       "  text-align: right;\n",
       "  white-space: pre-wrap;\n",
       "}\n",
       "</style>\n",
       "<small>shape: (11_056,)</small><table border=\"1\" class=\"dataframe\"><thead><tr><th></th></tr><tr><td>f64</td></tr></thead><tbody><tr><td>NaN</td></tr><tr><td>NaN</td></tr><tr><td>NaN</td></tr><tr><td>NaN</td></tr><tr><td>NaN</td></tr><tr><td>&hellip;</td></tr><tr><td>227.524</td></tr><tr><td>228.0785</td></tr><tr><td>228.2425</td></tr><tr><td>228.5825</td></tr><tr><td>229.082999</td></tr></tbody></table></div>"
      ],
      "text/plain": [
       "shape: (11_056,)\n",
       "Series: '' [f64]\n",
       "[\n",
       "\tNaN\n",
       "\tNaN\n",
       "\tNaN\n",
       "\tNaN\n",
       "\tNaN\n",
       "\t…\n",
       "\t227.524\n",
       "\t228.0785\n",
       "\t228.2425\n",
       "\t228.5825\n",
       "\t229.082999\n",
       "]"
      ]
     },
     "execution_count": 6,
     "metadata": {},
     "output_type": "execute_result"
    }
   ],
   "source": [
    "sma = calc_sma(prices['close'], 20, wrap=True)\n",
    "sma"
   ]
  },
  {
   "cell_type": "code",
   "execution_count": 7,
   "metadata": {},
   "outputs": [
    {
     "data": {
      "text/html": [
       "<div><style>\n",
       ".dataframe > thead > tr,\n",
       ".dataframe > tbody > tr {\n",
       "  text-align: right;\n",
       "  white-space: pre-wrap;\n",
       "}\n",
       "</style>\n",
       "<small>shape: (11_056,)</small><table border=\"1\" class=\"dataframe\"><thead><tr><th></th></tr><tr><td>f64</td></tr></thead><tbody><tr><td>NaN</td></tr><tr><td>NaN</td></tr><tr><td>NaN</td></tr><tr><td>NaN</td></tr><tr><td>NaN</td></tr><tr><td>&hellip;</td></tr><tr><td>227.524</td></tr><tr><td>228.0785</td></tr><tr><td>228.2425</td></tr><tr><td>228.5825</td></tr><tr><td>229.082999</td></tr></tbody></table></div>"
      ],
      "text/plain": [
       "shape: (11_056,)\n",
       "Series: '' [f64]\n",
       "[\n",
       "\tNaN\n",
       "\tNaN\n",
       "\tNaN\n",
       "\tNaN\n",
       "\tNaN\n",
       "\t…\n",
       "\t227.524\n",
       "\t228.0785\n",
       "\t228.2425\n",
       "\t228.5825\n",
       "\t229.082999\n",
       "]"
      ]
     },
     "execution_count": 7,
     "metadata": {},
     "output_type": "execute_result"
    }
   ],
   "source": [
    "SMA(20) @ prices['close']\n"
   ]
  },
  {
   "cell_type": "code",
   "execution_count": 8,
   "metadata": {},
   "outputs": [
    {
     "data": {
      "text/html": [
       "<div><style>\n",
       ".dataframe > thead > tr,\n",
       ".dataframe > tbody > tr {\n",
       "  text-align: right;\n",
       "  white-space: pre-wrap;\n",
       "}\n",
       "</style>\n",
       "<small>shape: (11_056,)</small><table border=\"1\" class=\"dataframe\"><thead><tr><th></th></tr><tr><td>f64</td></tr></thead><tbody><tr><td>NaN</td></tr><tr><td>NaN</td></tr><tr><td>NaN</td></tr><tr><td>NaN</td></tr><tr><td>NaN</td></tr><tr><td>&hellip;</td></tr><tr><td>227.524</td></tr><tr><td>228.0785</td></tr><tr><td>228.2425</td></tr><tr><td>228.5825</td></tr><tr><td>229.082999</td></tr></tbody></table></div>"
      ],
      "text/plain": [
       "shape: (11_056,)\n",
       "Series: '' [f64]\n",
       "[\n",
       "\tNaN\n",
       "\tNaN\n",
       "\tNaN\n",
       "\tNaN\n",
       "\tNaN\n",
       "\t…\n",
       "\t227.524\n",
       "\t228.0785\n",
       "\t228.2425\n",
       "\t228.5825\n",
       "\t229.082999\n",
       "]"
      ]
     },
     "execution_count": 8,
     "metadata": {},
     "output_type": "execute_result"
    }
   ],
   "source": [
    "SMA(20) @ prices"
   ]
  },
  {
   "cell_type": "code",
   "execution_count": 9,
   "metadata": {},
   "outputs": [
    {
     "data": {
      "text/html": [
       "<div><style>\n",
       ".dataframe > thead > tr,\n",
       ".dataframe > tbody > tr {\n",
       "  text-align: right;\n",
       "  white-space: pre-wrap;\n",
       "}\n",
       "</style>\n",
       "<small>shape: (11_056, 3)</small><table border=\"1\" class=\"dataframe\"><thead><tr><th>macd</th><th>macdsignal</th><th>macdhist</th></tr><tr><td>f64</td><td>f64</td><td>f64</td></tr></thead><tbody><tr><td>NaN</td><td>NaN</td><td>NaN</td></tr><tr><td>NaN</td><td>NaN</td><td>NaN</td></tr><tr><td>NaN</td><td>NaN</td><td>NaN</td></tr><tr><td>NaN</td><td>NaN</td><td>NaN</td></tr><tr><td>NaN</td><td>NaN</td><td>NaN</td></tr><tr><td>&hellip;</td><td>&hellip;</td><td>&hellip;</td></tr><tr><td>1.815958</td><td>1.313965</td><td>0.501993</td></tr><tr><td>1.941114</td><td>1.439395</td><td>0.501719</td></tr><tr><td>2.046565</td><td>1.560829</td><td>0.485736</td></tr><tr><td>2.333211</td><td>1.715305</td><td>0.617906</td></tr><tr><td>2.649265</td><td>1.902097</td><td>0.747168</td></tr></tbody></table></div>"
      ],
      "text/plain": [
       "shape: (11_056, 3)\n",
       "┌──────────┬────────────┬──────────┐\n",
       "│ macd     ┆ macdsignal ┆ macdhist │\n",
       "│ ---      ┆ ---        ┆ ---      │\n",
       "│ f64      ┆ f64        ┆ f64      │\n",
       "╞══════════╪════════════╪══════════╡\n",
       "│ NaN      ┆ NaN        ┆ NaN      │\n",
       "│ NaN      ┆ NaN        ┆ NaN      │\n",
       "│ NaN      ┆ NaN        ┆ NaN      │\n",
       "│ NaN      ┆ NaN        ┆ NaN      │\n",
       "│ NaN      ┆ NaN        ┆ NaN      │\n",
       "│ …        ┆ …          ┆ …        │\n",
       "│ 1.815958 ┆ 1.313965   ┆ 0.501993 │\n",
       "│ 1.941114 ┆ 1.439395   ┆ 0.501719 │\n",
       "│ 2.046565 ┆ 1.560829   ┆ 0.485736 │\n",
       "│ 2.333211 ┆ 1.715305   ┆ 0.617906 │\n",
       "│ 2.649265 ┆ 1.902097   ┆ 0.747168 │\n",
       "└──────────┴────────────┴──────────┘"
      ]
     },
     "execution_count": 9,
     "metadata": {},
     "output_type": "execute_result"
    }
   ],
   "source": [
    "MACD() @ prices"
   ]
  },
  {
   "cell_type": "code",
   "execution_count": 10,
   "metadata": {},
   "outputs": [
    {
     "data": {
      "text/html": [
       "<div><style>\n",
       ".dataframe > thead > tr,\n",
       ".dataframe > tbody > tr {\n",
       "  text-align: right;\n",
       "  white-space: pre-wrap;\n",
       "}\n",
       "</style>\n",
       "<small>shape: (11_056,)</small><table border=\"1\" class=\"dataframe\"><thead><tr><th></th></tr><tr><td>f64</td></tr></thead><tbody><tr><td>NaN</td></tr><tr><td>NaN</td></tr><tr><td>NaN</td></tr><tr><td>NaN</td></tr><tr><td>NaN</td></tr><tr><td>&hellip;</td></tr><tr><td>4.516121</td></tr><tr><td>4.479971</td></tr><tr><td>4.39783</td></tr><tr><td>4.371556</td></tr><tr><td>4.230731</td></tr></tbody></table></div>"
      ],
      "text/plain": [
       "shape: (11_056,)\n",
       "Series: '' [f64]\n",
       "[\n",
       "\tNaN\n",
       "\tNaN\n",
       "\tNaN\n",
       "\tNaN\n",
       "\tNaN\n",
       "\t…\n",
       "\t4.516121\n",
       "\t4.479971\n",
       "\t4.39783\n",
       "\t4.371556\n",
       "\t4.230731\n",
       "]"
      ]
     },
     "execution_count": 10,
     "metadata": {},
     "output_type": "execute_result"
    }
   ],
   "source": [
    "ATR() @ prices"
   ]
  },
  {
   "cell_type": "code",
   "execution_count": 11,
   "metadata": {},
   "outputs": [
    {
     "data": {
      "text/html": [
       "<div><style>\n",
       ".dataframe > thead > tr,\n",
       ".dataframe > tbody > tr {\n",
       "  text-align: right;\n",
       "  white-space: pre-wrap;\n",
       "}\n",
       "</style>\n",
       "<small>shape: (11_056,)</small><table border=\"1\" class=\"dataframe\"><thead><tr><th></th></tr><tr><td>f64</td></tr></thead><tbody><tr><td>NaN</td></tr><tr><td>NaN</td></tr><tr><td>NaN</td></tr><tr><td>NaN</td></tr><tr><td>NaN</td></tr><tr><td>&hellip;</td></tr><tr><td>4.516121</td></tr><tr><td>4.479971</td></tr><tr><td>4.39783</td></tr><tr><td>4.371556</td></tr><tr><td>4.230731</td></tr></tbody></table></div>"
      ],
      "text/plain": [
       "shape: (11_056,)\n",
       "Series: '' [f64]\n",
       "[\n",
       "\tNaN\n",
       "\tNaN\n",
       "\tNaN\n",
       "\tNaN\n",
       "\tNaN\n",
       "\t…\n",
       "\t4.516121\n",
       "\t4.479971\n",
       "\t4.39783\n",
       "\t4.371556\n",
       "\t4.230731\n",
       "]"
      ]
     },
     "execution_count": 11,
     "metadata": {},
     "output_type": "execute_result"
    }
   ],
   "source": [
    "ATR() @ pstruct\n"
   ]
  },
  {
   "cell_type": "code",
   "execution_count": 12,
   "metadata": {},
   "outputs": [
    {
     "data": {
      "text/html": [
       "<div><style>\n",
       ".dataframe > thead > tr,\n",
       ".dataframe > tbody > tr {\n",
       "  text-align: right;\n",
       "  white-space: pre-wrap;\n",
       "}\n",
       "</style>\n",
       "<small>shape: (11_056, 1)</small><table border=\"1\" class=\"dataframe\"><thead><tr><th>close</th></tr><tr><td>f64</td></tr></thead><tbody><tr><td>NaN</td></tr><tr><td>NaN</td></tr><tr><td>NaN</td></tr><tr><td>NaN</td></tr><tr><td>NaN</td></tr><tr><td>&hellip;</td></tr><tr><td>227.524</td></tr><tr><td>228.0785</td></tr><tr><td>228.2425</td></tr><tr><td>228.5825</td></tr><tr><td>229.082999</td></tr></tbody></table></div>"
      ],
      "text/plain": [
       "shape: (11_056, 1)\n",
       "┌────────────┐\n",
       "│ close      │\n",
       "│ ---        │\n",
       "│ f64        │\n",
       "╞════════════╡\n",
       "│ NaN        │\n",
       "│ NaN        │\n",
       "│ NaN        │\n",
       "│ NaN        │\n",
       "│ NaN        │\n",
       "│ …          │\n",
       "│ 227.524    │\n",
       "│ 228.0785   │\n",
       "│ 228.2425   │\n",
       "│ 228.5825   │\n",
       "│ 229.082999 │\n",
       "└────────────┘"
      ]
     },
     "execution_count": 12,
     "metadata": {},
     "output_type": "execute_result"
    }
   ],
   "source": [
    "prices.select(\n",
    "    pl.col('close').map_batches(SMA(20))\n",
    ")"
   ]
  },
  {
   "cell_type": "code",
   "execution_count": 13,
   "metadata": {},
   "outputs": [
    {
     "data": {
      "text/html": [
       "<div><style>\n",
       ".dataframe > thead > tr,\n",
       ".dataframe > tbody > tr {\n",
       "  text-align: right;\n",
       "  white-space: pre-wrap;\n",
       "}\n",
       "</style>\n",
       "<small>shape: (11_056, 1)</small><table border=\"1\" class=\"dataframe\"><thead><tr><th>high</th></tr><tr><td>struct[3]</td></tr></thead><tbody><tr><td>{0.099373,0.098943,0.098943}</td></tr><tr><td>{0.094211,0.093781,0.093781}</td></tr><tr><td>{0.087328,0.086898,0.086898}</td></tr><tr><td>{0.089479,0.089049,0.089049}</td></tr><tr><td>{0.092061,0.09163,0.09163}</td></tr><tr><td>&hellip;</td></tr><tr><td>{237.490005,232.369995,233.850006}</td></tr><tr><td>{232.119995,229.839996,231.779999}</td></tr><tr><td>{233.850006,230.520004,232.149994}</td></tr><tr><td>{236.179993,234.009995,235.0}</td></tr><tr><td>{236.850006,234.449997,236.479996}</td></tr></tbody></table></div>"
      ],
      "text/plain": [
       "shape: (11_056, 1)\n",
       "┌─────────────────────────────────┐\n",
       "│ high                            │\n",
       "│ ---                             │\n",
       "│ struct[3]                       │\n",
       "╞═════════════════════════════════╡\n",
       "│ {0.099373,0.098943,0.098943}    │\n",
       "│ {0.094211,0.093781,0.093781}    │\n",
       "│ {0.087328,0.086898,0.086898}    │\n",
       "│ {0.089479,0.089049,0.089049}    │\n",
       "│ {0.092061,0.09163,0.09163}      │\n",
       "│ …                               │\n",
       "│ {237.490005,232.369995,233.850… │\n",
       "│ {232.119995,229.839996,231.779… │\n",
       "│ {233.850006,230.520004,232.149… │\n",
       "│ {236.179993,234.009995,235.0}   │\n",
       "│ {236.850006,234.449997,236.479… │\n",
       "└─────────────────────────────────┘"
      ]
     },
     "execution_count": 13,
     "metadata": {},
     "output_type": "execute_result"
    }
   ],
   "source": [
    "df.select([\n",
    "    pl.struct([\"high\", \"low\", \"close\"])\n",
    "])\n",
    "\n"
   ]
  },
  {
   "cell_type": "code",
   "execution_count": 17,
   "metadata": {},
   "outputs": [
    {
     "data": {
      "text/html": [
       "<div><style>\n",
       ".dataframe > thead > tr,\n",
       ".dataframe > tbody > tr {\n",
       "  text-align: right;\n",
       "  white-space: pre-wrap;\n",
       "}\n",
       "</style>\n",
       "<small>shape: (11_056, 1)</small><table border=\"1\" class=\"dataframe\"><thead><tr><th>date</th></tr><tr><td>struct[6]</td></tr></thead><tbody><tr><td>{1980-12-12 00:00:00,0.098943,0.099373,0.098943,0.098943,469033600}</td></tr><tr><td>{1980-12-15 00:00:00,0.094211,0.094211,0.093781,0.093781,175884800}</td></tr><tr><td>{1980-12-16 00:00:00,0.087328,0.087328,0.086898,0.086898,105728000}</td></tr><tr><td>{1980-12-17 00:00:00,0.089049,0.089479,0.089049,0.089049,86441600}</td></tr><tr><td>{1980-12-18 00:00:00,0.09163,0.092061,0.09163,0.09163,73449600}</td></tr><tr><td>&hellip;</td></tr><tr><td>{2024-10-15 00:00:00,233.610001,237.490005,232.369995,233.850006,64751400}</td></tr><tr><td>{2024-10-16 00:00:00,231.600006,232.119995,229.839996,231.779999,34082200}</td></tr><tr><td>{2024-10-17 00:00:00,233.429993,233.850006,230.520004,232.149994,32993800}</td></tr><tr><td>{2024-10-18 00:00:00,236.179993,236.179993,234.009995,235.0,46431500}</td></tr><tr><td>{2024-10-21 00:00:00,234.449997,236.850006,234.449997,236.479996,36220800}</td></tr></tbody></table></div>"
      ],
      "text/plain": [
       "shape: (11_056, 1)\n",
       "┌─────────────────────────────────┐\n",
       "│ date                            │\n",
       "│ ---                             │\n",
       "│ struct[6]                       │\n",
       "╞═════════════════════════════════╡\n",
       "│ {1980-12-12 00:00:00,0.098943,… │\n",
       "│ {1980-12-15 00:00:00,0.094211,… │\n",
       "│ {1980-12-16 00:00:00,0.087328,… │\n",
       "│ {1980-12-17 00:00:00,0.089049,… │\n",
       "│ {1980-12-18 00:00:00,0.09163,0… │\n",
       "│ …                               │\n",
       "│ {2024-10-15 00:00:00,233.61000… │\n",
       "│ {2024-10-16 00:00:00,231.60000… │\n",
       "│ {2024-10-17 00:00:00,233.42999… │\n",
       "│ {2024-10-18 00:00:00,236.17999… │\n",
       "│ {2024-10-21 00:00:00,234.44999… │\n",
       "└─────────────────────────────────┘"
      ]
     },
     "execution_count": 17,
     "metadata": {},
     "output_type": "execute_result"
    }
   ],
   "source": [
    "prices.select(\n",
    "    pl.struct(pl.col(\"*\"))\n",
    ")\n",
    "\n"
   ]
  },
  {
   "cell_type": "code",
   "execution_count": null,
   "metadata": {},
   "outputs": [
    {
     "ename": "DuplicateError",
     "evalue": "multiple fields with name 'high_low' found",
     "output_type": "error",
     "traceback": [
      "\u001b[0;31m---------------------------------------------------------------------------\u001b[0m",
      "\u001b[0;31mDuplicateError\u001b[0m                            Traceback (most recent call last)",
      "Cell \u001b[0;32mIn[20], line 1\u001b[0m\n\u001b[0;32m----> 1\u001b[0m \u001b[43mprices\u001b[49m\u001b[38;5;241;43m.\u001b[39;49m\u001b[43mselect\u001b[49m\u001b[43m(\u001b[49m\n\u001b[1;32m      2\u001b[0m \u001b[43m    \u001b[49m\u001b[43mpl\u001b[49m\u001b[38;5;241;43m.\u001b[39;49m\u001b[43mstruct\u001b[49m\u001b[43m(\u001b[49m\u001b[43mpl\u001b[49m\u001b[38;5;241;43m.\u001b[39;49m\u001b[43mcol\u001b[49m\u001b[43m(\u001b[49m\u001b[38;5;124;43m\"\u001b[39;49m\u001b[38;5;124;43mhigh\u001b[39;49m\u001b[38;5;124;43m\"\u001b[39;49m\u001b[43m,\u001b[49m\u001b[43m \u001b[49m\u001b[38;5;124;43m\"\u001b[39;49m\u001b[38;5;124;43mlow\u001b[39;49m\u001b[38;5;124;43m\"\u001b[39;49m\u001b[43m)\u001b[49m\u001b[38;5;241;43m.\u001b[39;49m\u001b[43malias\u001b[49m\u001b[43m(\u001b[49m\u001b[38;5;124;43m\"\u001b[39;49m\u001b[38;5;124;43mhigh_low\u001b[39;49m\u001b[38;5;124;43m\"\u001b[39;49m\u001b[43m)\u001b[49m\u001b[43m)\u001b[49m\n\u001b[1;32m      3\u001b[0m \u001b[43m)\u001b[49m\n",
      "File \u001b[0;32m~/Projects/mintalib/.venv/lib/python3.9/site-packages/polars/dataframe/frame.py:9323\u001b[0m, in \u001b[0;36mDataFrame.select\u001b[0;34m(self, *exprs, **named_exprs)\u001b[0m\n\u001b[1;32m   9223\u001b[0m \u001b[38;5;28;01mdef\u001b[39;00m\u001b[38;5;250m \u001b[39m\u001b[38;5;21mselect\u001b[39m(\n\u001b[1;32m   9224\u001b[0m     \u001b[38;5;28mself\u001b[39m, \u001b[38;5;241m*\u001b[39mexprs: IntoExpr \u001b[38;5;241m|\u001b[39m Iterable[IntoExpr], \u001b[38;5;241m*\u001b[39m\u001b[38;5;241m*\u001b[39mnamed_exprs: IntoExpr\n\u001b[1;32m   9225\u001b[0m ) \u001b[38;5;241m-\u001b[39m\u001b[38;5;241m>\u001b[39m DataFrame:\n\u001b[1;32m   9226\u001b[0m \u001b[38;5;250m    \u001b[39m\u001b[38;5;124;03m\"\"\"\u001b[39;00m\n\u001b[1;32m   9227\u001b[0m \u001b[38;5;124;03m    Select columns from this DataFrame.\u001b[39;00m\n\u001b[1;32m   9228\u001b[0m \n\u001b[0;32m   (...)\u001b[0m\n\u001b[1;32m   9321\u001b[0m \u001b[38;5;124;03m    └──────────────┘\u001b[39;00m\n\u001b[1;32m   9322\u001b[0m \u001b[38;5;124;03m    \"\"\"\u001b[39;00m\n\u001b[0;32m-> 9323\u001b[0m     \u001b[38;5;28;01mreturn\u001b[39;00m \u001b[38;5;28;43mself\u001b[39;49m\u001b[38;5;241;43m.\u001b[39;49m\u001b[43mlazy\u001b[49m\u001b[43m(\u001b[49m\u001b[43m)\u001b[49m\u001b[38;5;241;43m.\u001b[39;49m\u001b[43mselect\u001b[49m\u001b[43m(\u001b[49m\u001b[38;5;241;43m*\u001b[39;49m\u001b[43mexprs\u001b[49m\u001b[43m,\u001b[49m\u001b[43m \u001b[49m\u001b[38;5;241;43m*\u001b[39;49m\u001b[38;5;241;43m*\u001b[39;49m\u001b[43mnamed_exprs\u001b[49m\u001b[43m)\u001b[49m\u001b[38;5;241;43m.\u001b[39;49m\u001b[43mcollect\u001b[49m\u001b[43m(\u001b[49m\u001b[43m_eager\u001b[49m\u001b[38;5;241;43m=\u001b[39;49m\u001b[38;5;28;43;01mTrue\u001b[39;49;00m\u001b[43m)\u001b[49m\n",
      "File \u001b[0;32m~/Projects/mintalib/.venv/lib/python3.9/site-packages/polars/lazyframe/frame.py:2057\u001b[0m, in \u001b[0;36mLazyFrame.collect\u001b[0;34m(self, type_coercion, _type_check, predicate_pushdown, projection_pushdown, simplify_expression, slice_pushdown, comm_subplan_elim, comm_subexpr_elim, cluster_with_columns, collapse_joins, no_optimization, streaming, engine, background, _check_order, _eager, **_kwargs)\u001b[0m\n\u001b[1;32m   2055\u001b[0m \u001b[38;5;66;03m# Only for testing purposes\u001b[39;00m\n\u001b[1;32m   2056\u001b[0m callback \u001b[38;5;241m=\u001b[39m _kwargs\u001b[38;5;241m.\u001b[39mget(\u001b[38;5;124m\"\u001b[39m\u001b[38;5;124mpost_opt_callback\u001b[39m\u001b[38;5;124m\"\u001b[39m, callback)\n\u001b[0;32m-> 2057\u001b[0m \u001b[38;5;28;01mreturn\u001b[39;00m wrap_df(\u001b[43mldf\u001b[49m\u001b[38;5;241;43m.\u001b[39;49m\u001b[43mcollect\u001b[49m\u001b[43m(\u001b[49m\u001b[43mcallback\u001b[49m\u001b[43m)\u001b[49m)\n",
      "\u001b[0;31mDuplicateError\u001b[0m: multiple fields with name 'high_low' found"
     ]
    }
   ],
   "source": [
    "prices.select(\n",
    "    pl.struct(pl.col(\"high\", \"low\")).alias(\"high_low\")\n",
    ")\n"
   ]
  },
  {
   "cell_type": "code",
   "execution_count": null,
   "metadata": {},
   "outputs": [],
   "source": [
    "\n",
    "\n",
    "prices.select(\n",
    "    pl.struct('*').map_batches(ATR())\n",
    ")\n"
   ]
  },
  {
   "cell_type": "code",
   "execution_count": null,
   "metadata": {},
   "outputs": [],
   "source": [
    "\n",
    "prices.select(\n",
    "    pl.struct([\"high\", \"low\", \"close\"]).map_batches(ATR())\n",
    ")"
   ]
  },
  {
   "cell_type": "code",
   "execution_count": 18,
   "metadata": {},
   "outputs": [
    {
     "name": "stdout",
     "output_type": "stream",
     "text": [
      "MACD Series\n"
     ]
    },
    {
     "data": {
      "text/html": [
       "<div><style>\n",
       ".dataframe > thead > tr,\n",
       ".dataframe > tbody > tr {\n",
       "  text-align: right;\n",
       "  white-space: pre-wrap;\n",
       "}\n",
       "</style>\n",
       "<small>shape: (11_056, 1)</small><table border=\"1\" class=\"dataframe\"><thead><tr><th>close</th></tr><tr><td>struct[3]</td></tr></thead><tbody><tr><td>{NaN,NaN,NaN}</td></tr><tr><td>{NaN,NaN,NaN}</td></tr><tr><td>{NaN,NaN,NaN}</td></tr><tr><td>{NaN,NaN,NaN}</td></tr><tr><td>{NaN,NaN,NaN}</td></tr><tr><td>&hellip;</td></tr><tr><td>{1.815958,1.313965,0.501993}</td></tr><tr><td>{1.941114,1.439395,0.501719}</td></tr><tr><td>{2.046565,1.560829,0.485736}</td></tr><tr><td>{2.333211,1.715305,0.617906}</td></tr><tr><td>{2.649265,1.902097,0.747168}</td></tr></tbody></table></div>"
      ],
      "text/plain": [
       "shape: (11_056, 1)\n",
       "┌──────────────────────────────┐\n",
       "│ close                        │\n",
       "│ ---                          │\n",
       "│ struct[3]                    │\n",
       "╞══════════════════════════════╡\n",
       "│ {NaN,NaN,NaN}                │\n",
       "│ {NaN,NaN,NaN}                │\n",
       "│ {NaN,NaN,NaN}                │\n",
       "│ {NaN,NaN,NaN}                │\n",
       "│ {NaN,NaN,NaN}                │\n",
       "│ …                            │\n",
       "│ {1.815958,1.313965,0.501993} │\n",
       "│ {1.941114,1.439395,0.501719} │\n",
       "│ {2.046565,1.560829,0.485736} │\n",
       "│ {2.333211,1.715305,0.617906} │\n",
       "│ {2.649265,1.902097,0.747168} │\n",
       "└──────────────────────────────┘"
      ]
     },
     "execution_count": 18,
     "metadata": {},
     "output_type": "execute_result"
    }
   ],
   "source": [
    "prices.select(\n",
    "    pl.col('close').map_batches(my_macd, macd_type)\n",
    ")\n"
   ]
  },
  {
   "cell_type": "code",
   "execution_count": 19,
   "metadata": {},
   "outputs": [
    {
     "name": "stdout",
     "output_type": "stream",
     "text": [
      "MACD SeriesMACD Series\n",
      "\n",
      "MACD Series\n"
     ]
    },
    {
     "data": {
      "text/html": [
       "<div><style>\n",
       ".dataframe > thead > tr,\n",
       ".dataframe > tbody > tr {\n",
       "  text-align: right;\n",
       "  white-space: pre-wrap;\n",
       "}\n",
       "</style>\n",
       "<small>shape: (11_056, 3)</small><table border=\"1\" class=\"dataframe\"><thead><tr><th>macd</th><th>macdsignal</th><th>macdhist</th></tr><tr><td>f64</td><td>f64</td><td>f64</td></tr></thead><tbody><tr><td>NaN</td><td>NaN</td><td>NaN</td></tr><tr><td>NaN</td><td>NaN</td><td>NaN</td></tr><tr><td>NaN</td><td>NaN</td><td>NaN</td></tr><tr><td>NaN</td><td>NaN</td><td>NaN</td></tr><tr><td>NaN</td><td>NaN</td><td>NaN</td></tr><tr><td>&hellip;</td><td>&hellip;</td><td>&hellip;</td></tr><tr><td>1.815958</td><td>1.313965</td><td>0.501993</td></tr><tr><td>1.941114</td><td>1.439395</td><td>0.501719</td></tr><tr><td>2.046565</td><td>1.560829</td><td>0.485736</td></tr><tr><td>2.333211</td><td>1.715305</td><td>0.617906</td></tr><tr><td>2.649265</td><td>1.902097</td><td>0.747168</td></tr></tbody></table></div>"
      ],
      "text/plain": [
       "shape: (11_056, 3)\n",
       "┌──────────┬────────────┬──────────┐\n",
       "│ macd     ┆ macdsignal ┆ macdhist │\n",
       "│ ---      ┆ ---        ┆ ---      │\n",
       "│ f64      ┆ f64        ┆ f64      │\n",
       "╞══════════╪════════════╪══════════╡\n",
       "│ NaN      ┆ NaN        ┆ NaN      │\n",
       "│ NaN      ┆ NaN        ┆ NaN      │\n",
       "│ NaN      ┆ NaN        ┆ NaN      │\n",
       "│ NaN      ┆ NaN        ┆ NaN      │\n",
       "│ NaN      ┆ NaN        ┆ NaN      │\n",
       "│ …        ┆ …          ┆ …        │\n",
       "│ 1.815958 ┆ 1.313965   ┆ 0.501993 │\n",
       "│ 1.941114 ┆ 1.439395   ┆ 0.501719 │\n",
       "│ 2.046565 ┆ 1.560829   ┆ 0.485736 │\n",
       "│ 2.333211 ┆ 1.715305   ┆ 0.617906 │\n",
       "│ 2.649265 ┆ 1.902097   ┆ 0.747168 │\n",
       "└──────────┴────────────┴──────────┘"
      ]
     },
     "execution_count": 19,
     "metadata": {},
     "output_type": "execute_result"
    }
   ],
   "source": [
    "prices.select(\n",
    "    pl.col('close').map_batches(my_macd, macd_type).struct.unnest()\n",
    ")"
   ]
  },
  {
   "cell_type": "code",
   "execution_count": 20,
   "metadata": {},
   "outputs": [
    {
     "name": "stdout",
     "output_type": "stream",
     "text": [
      "MACD Series\n"
     ]
    },
    {
     "data": {
      "text/html": [
       "<div><style>\n",
       ".dataframe > thead > tr,\n",
       ".dataframe > tbody > tr {\n",
       "  text-align: right;\n",
       "  white-space: pre-wrap;\n",
       "}\n",
       "</style>\n",
       "<small>shape: (11_056, 1)</small><table border=\"1\" class=\"dataframe\"><thead><tr><th>macd</th></tr><tr><td>f64</td></tr></thead><tbody><tr><td>NaN</td></tr><tr><td>NaN</td></tr><tr><td>NaN</td></tr><tr><td>NaN</td></tr><tr><td>NaN</td></tr><tr><td>&hellip;</td></tr><tr><td>1.815958</td></tr><tr><td>1.941114</td></tr><tr><td>2.046565</td></tr><tr><td>2.333211</td></tr><tr><td>2.649265</td></tr></tbody></table></div>"
      ],
      "text/plain": [
       "shape: (11_056, 1)\n",
       "┌──────────┐\n",
       "│ macd     │\n",
       "│ ---      │\n",
       "│ f64      │\n",
       "╞══════════╡\n",
       "│ NaN      │\n",
       "│ NaN      │\n",
       "│ NaN      │\n",
       "│ NaN      │\n",
       "│ NaN      │\n",
       "│ …        │\n",
       "│ 1.815958 │\n",
       "│ 1.941114 │\n",
       "│ 2.046565 │\n",
       "│ 2.333211 │\n",
       "│ 2.649265 │\n",
       "└──────────┘"
      ]
     },
     "execution_count": 20,
     "metadata": {},
     "output_type": "execute_result"
    }
   ],
   "source": [
    "prices.select(\n",
    "    pl.col('close').map_batches(my_macd, macd_type).struct[0]\n",
    ")"
   ]
  },
  {
   "cell_type": "code",
   "execution_count": 21,
   "metadata": {},
   "outputs": [
    {
     "name": "stdout",
     "output_type": "stream",
     "text": [
      "MACD Series\n"
     ]
    },
    {
     "data": {
      "text/html": [
       "<div><style>\n",
       ".dataframe > thead > tr,\n",
       ".dataframe > tbody > tr {\n",
       "  text-align: right;\n",
       "  white-space: pre-wrap;\n",
       "}\n",
       "</style>\n",
       "<small>shape: (11_056, 1)</small><table border=\"1\" class=\"dataframe\"><thead><tr><th>macd</th></tr><tr><td>f64</td></tr></thead><tbody><tr><td>NaN</td></tr><tr><td>NaN</td></tr><tr><td>NaN</td></tr><tr><td>NaN</td></tr><tr><td>NaN</td></tr><tr><td>&hellip;</td></tr><tr><td>1.815958</td></tr><tr><td>1.941114</td></tr><tr><td>2.046565</td></tr><tr><td>2.333211</td></tr><tr><td>2.649265</td></tr></tbody></table></div>"
      ],
      "text/plain": [
       "shape: (11_056, 1)\n",
       "┌──────────┐\n",
       "│ macd     │\n",
       "│ ---      │\n",
       "│ f64      │\n",
       "╞══════════╡\n",
       "│ NaN      │\n",
       "│ NaN      │\n",
       "│ NaN      │\n",
       "│ NaN      │\n",
       "│ NaN      │\n",
       "│ …        │\n",
       "│ 1.815958 │\n",
       "│ 1.941114 │\n",
       "│ 2.046565 │\n",
       "│ 2.333211 │\n",
       "│ 2.649265 │\n",
       "└──────────┘"
      ]
     },
     "execution_count": 21,
     "metadata": {},
     "output_type": "execute_result"
    }
   ],
   "source": [
    "prices.select(\n",
    "    pl.col('close').map_batches(my_macd, macd_type).struct.field(\"macd\")\n",
    ")\n"
   ]
  },
  {
   "cell_type": "code",
   "execution_count": null,
   "metadata": {},
   "outputs": [],
   "source": []
  }
 ],
 "metadata": {
  "kernelspec": {
   "display_name": ".venv",
   "language": "python",
   "name": "python3"
  },
  "language_info": {
   "codemirror_mode": {
    "name": "ipython",
    "version": 3
   },
   "file_extension": ".py",
   "mimetype": "text/x-python",
   "name": "python",
   "nbconvert_exporter": "python",
   "pygments_lexer": "ipython3",
   "version": "3.9.6"
  }
 },
 "nbformat": 4,
 "nbformat_minor": 2
}
