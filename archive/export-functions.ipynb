{
 "cells": [
  {
   "cell_type": "markdown",
   "metadata": {
    "collapsed": false
   },
   "source": [
    "# Notebook to generate `functions` module"
   ]
  },
  {
   "cell_type": "code",
   "execution_count": 13,
   "metadata": {
    "ExecuteTime": {
     "end_time": "2024-04-26T00:51:53.662657Z",
     "start_time": "2024-04-26T00:51:53.613716Z"
    },
    "collapsed": false
   },
   "outputs": [],
   "source": [
    "from pathlib import Path\n",
    "\n",
    "from mintalib import core\n",
    "from mintalib.samples import sample_prices\n",
    "\n",
    "\n",
    "from pprint import pformat\n",
    "\n",
    "from IPython.lib.pretty import pretty\n",
    "\n",
    "class TEXT(str):\n",
    "    def __repr__(self):\n",
    "        return self\n",
    "    "
   ]
  },
  {
   "cell_type": "code",
   "execution_count": 14,
   "metadata": {},
   "outputs": [],
   "source": [
    "\n",
    "ROOTDIR = Path.cwd().parent\n",
    "PKGDIR = ROOTDIR.joinpath(\"src/mintalib\").resolve(strict=True)\n",
    "\n"
   ]
  },
  {
   "cell_type": "code",
   "execution_count": 15,
   "metadata": {},
   "outputs": [],
   "source": [
    "\n",
    "prices = sample_prices()\n"
   ]
  },
  {
   "cell_type": "code",
   "execution_count": 16,
   "metadata": {
    "ExecuteTime": {
     "end_time": "2024-04-26T00:51:54.867510Z",
     "start_time": "2024-04-26T00:51:54.854895Z"
    },
    "collapsed": false,
    "pycharm": {
     "name": "#%%\n"
    }
   },
   "outputs": [],
   "source": [
    "import importlib.util\n",
    "\n",
    "def new_module(name: str, code: str = None):\n",
    "    spec = importlib.util.spec_from_loader(name, None)\n",
    "    module = importlib.util.module_from_spec(spec)\n",
    "    if code:\n",
    "        exec(code, module.__dict__)\n",
    "    return module"
   ]
  },
  {
   "cell_type": "code",
   "execution_count": 17,
   "metadata": {
    "ExecuteTime": {
     "end_time": "2024-04-26T00:51:55.478825Z",
     "start_time": "2024-04-26T00:51:55.464190Z"
    },
    "collapsed": false
   },
   "outputs": [
    {
     "data": {
      "text/plain": [
       "('AVGPRICE',\n",
       " 'TYPPRICE',\n",
       " 'WCLPRICE',\n",
       " 'MIDPRICE',\n",
       " 'PRICE',\n",
       " 'CROSSOVER',\n",
       " 'CROSSUNDER',\n",
       " 'FLAG_ABOVE',\n",
       " 'FLAG_BELOW',\n",
       " 'FLAG_INVERT',\n",
       " 'FLAG_UPDOWN',\n",
       " 'SIGN',\n",
       " 'LOG',\n",
       " 'EXP',\n",
       " 'DIFF',\n",
       " 'LAG',\n",
       " 'MIN',\n",
       " 'MAX',\n",
       " 'SUM',\n",
       " 'ROC',\n",
       " 'MAD',\n",
       " 'STDEV',\n",
       " 'SMA',\n",
       " 'EMA',\n",
       " 'RMA',\n",
       " 'WMA',\n",
       " 'HMA',\n",
       " 'DEMA',\n",
       " 'TEMA',\n",
       " 'MA',\n",
       " 'RSI',\n",
       " 'ADX',\n",
       " 'PLUSDI',\n",
       " 'MINUSDI',\n",
       " 'TRANGE',\n",
       " 'ATR',\n",
       " 'NATR',\n",
       " 'SAR',\n",
       " 'CCI',\n",
       " 'CMF',\n",
       " 'MFI',\n",
       " 'BOP',\n",
       " 'BBANDS',\n",
       " 'KELTNER',\n",
       " 'KER',\n",
       " 'KAMA',\n",
       " 'MACD',\n",
       " 'PPO',\n",
       " 'SLOPE',\n",
       " 'RVALUE',\n",
       " 'FORECAST',\n",
       " 'STOCH',\n",
       " 'STREAK',\n",
       " 'EVAL')"
      ]
     },
     "execution_count": 17,
     "metadata": {},
     "output_type": "execute_result"
    }
   ],
   "source": [
    "def core_functions():\n",
    "    \"\"\"list of core functions\"\"\"\n",
    "\n",
    "    return tuple(k for k, v in vars(core).items() if k.isupper() and callable(v))\n",
    "\n",
    "\n",
    "core_functions()"
   ]
  },
  {
   "cell_type": "code",
   "execution_count": 18,
   "metadata": {},
   "outputs": [
    {
     "data": {
      "text/plain": [
       "abcd"
      ]
     },
     "execution_count": 18,
     "metadata": {},
     "output_type": "execute_result"
    }
   ],
   "source": [
    "class Symbol(str):\n",
    "    def __repr__(self):\n",
    "        return self\n",
    "\n",
    "Symbol(\"abcd\")\n"
   ]
  },
  {
   "cell_type": "code",
   "execution_count": 19,
   "metadata": {},
   "outputs": [
    {
     "data": {
      "text/plain": [
       "    'AVGPRICE', 'TYPPRICE', 'WCLPRICE', 'MIDPRICE', 'PRICE', 'CROSSOVER',\n",
       "    'CROSSUNDER', 'FLAG_ABOVE', 'FLAG_BELOW', 'FLAG_INVERT', 'FLAG_UPDOWN',\n",
       "    'SIGN', 'LOG', 'EXP', 'DIFF', 'LAG', 'MIN', 'MAX', 'SUM', 'ROC', 'MAD',\n",
       "    'STDEV', 'SMA', 'EMA', 'RMA', 'WMA', 'HMA', 'DEMA', 'TEMA', 'MA',\n",
       "    'RSI', 'ADX', 'PLUSDI', 'MINUSDI', 'TRANGE', 'ATR', 'NATR', 'SAR',\n",
       "    'CCI', 'CMF', 'MFI', 'BOP', 'BBANDS', 'KELTNER', 'KER', 'KAMA', 'MACD',\n",
       "    'PPO', 'SLOPE', 'RVALUE', 'FORECAST', 'STOCH', 'STREAK', 'EVAL'"
      ]
     },
     "execution_count": 19,
     "metadata": {},
     "output_type": "execute_result"
    }
   ],
   "source": [
    "names = core_functions()\n",
    "buffer = pformat(names, width=75, compact=True, indent=4)\n",
    "buffer = buffer.replace(\"(\", \" \").replace(\")\", \"\")\n",
    "TEXT(buffer)\n"
   ]
  },
  {
   "cell_type": "code",
   "execution_count": 20,
   "metadata": {},
   "outputs": [
    {
     "data": {
      "text/plain": [
       "    AVGPRICE, TYPPRICE, WCLPRICE, MIDPRICE, PRICE, CROSSOVER, CROSSUNDER,\n",
       "    FLAG_ABOVE, FLAG_BELOW, FLAG_INVERT, FLAG_UPDOWN, SIGN, LOG, EXP, DIFF,\n",
       "    LAG, MIN, MAX, SUM, ROC, MAD, STDEV, SMA, EMA, RMA, WMA, HMA, DEMA,\n",
       "    TEMA, MA, RSI, ADX, PLUSDI, MINUSDI, TRANGE, ATR, NATR, SAR, CCI, CMF,\n",
       "    MFI, BOP, BBANDS, KELTNER, KER, KAMA, MACD, PPO, SLOPE, RVALUE,\n",
       "    FORECAST, STOCH, STREAK, EVAL"
      ]
     },
     "execution_count": 20,
     "metadata": {},
     "output_type": "execute_result"
    }
   ],
   "source": [
    "symbols = tuple(Symbol(n) for n in core_functions())\n",
    "buffer = pformat(symbols, width=75, compact=True, indent=4)\n",
    "buffer = buffer.replace(\"(\", \" \").replace(\")\", \"\")\n",
    "TEXT(buffer)\n"
   ]
  },
  {
   "cell_type": "code",
   "execution_count": 21,
   "metadata": {},
   "outputs": [
    {
     "data": {
      "text/plain": [
       "\n",
       "\"\"\"\n",
       "Mintalib Functions\n",
       "\n",
       "Function names are upper case.\n",
       "\n",
       "Functions that accept a prices dataframe input have a first paramater called `prices`.\n",
       "Functions that accept a series input have a fist parameter called `series`,\n",
       "and an optional parameter `item` to specify which column to use on dataframe inputs.\n",
       "\n",
       "All functions wrap their output to match the type of their input.\n",
       "In particular the result of a function applied to a pandas series or dataframes\n",
       "will have the same index as the input. \n",
       "\"\"\"\n",
       "\n",
       "# Do not edit! This file was generated by make-functions.ipynb\n",
       "\n",
       "from .core import (\n",
       "    AVGPRICE, TYPPRICE, WCLPRICE, MIDPRICE, PRICE, CROSSOVER, CROSSUNDER,\n",
       "    FLAG_ABOVE, FLAG_BELOW, FLAG_INVERT, FLAG_UPDOWN, SIGN, LOG, EXP, DIFF,\n",
       "    LAG, MIN, MAX, SUM, ROC, MAD, STDEV, SMA, EMA, RMA, WMA, HMA, DEMA,\n",
       "    TEMA, MA, RSI, ADX, PLUSDI, MINUSDI, TRANGE, ATR, NATR, SAR, CCI, CMF,\n",
       "    MFI, BOP, BBANDS, KELTNER, KER, KAMA, MACD, PPO, SLOPE, RVALUE,\n",
       "    FORECAST, STOCH, STREAK, EVAL\n",
       ")\n",
       "\n",
       "__all__ = [\n",
       "    'AVGPRICE', 'TYPPRICE', 'WCLPRICE', 'MIDPRICE', 'PRICE', 'CROSSOVER',\n",
       "    'CROSSUNDER', 'FLAG_ABOVE', 'FLAG_BELOW', 'FLAG_INVERT', 'FLAG_UPDOWN',\n",
       "    'SIGN', 'LOG', 'EXP', 'DIFF', 'LAG', 'MIN', 'MAX', 'SUM', 'ROC', 'MAD',\n",
       "    'STDEV', 'SMA', 'EMA', 'RMA', 'WMA', 'HMA', 'DEMA', 'TEMA', 'MA',\n",
       "    'RSI', 'ADX', 'PLUSDI', 'MINUSDI', 'TRANGE', 'ATR', 'NATR', 'SAR',\n",
       "    'CCI', 'CMF', 'MFI', 'BOP', 'BBANDS', 'KELTNER', 'KER', 'KAMA', 'MACD',\n",
       "    'PPO', 'SLOPE', 'RVALUE', 'FORECAST', 'STOCH', 'STREAK', 'EVAL'\n",
       "]"
      ]
     },
     "execution_count": 21,
     "metadata": {},
     "output_type": "execute_result"
    }
   ],
   "source": [
    "\n",
    "\n",
    "PREAMBLE = '''\n",
    "\"\"\"\n",
    "Mintalib Functions\n",
    "\n",
    "Function names are upper case.\n",
    "\n",
    "Functions that accept a prices dataframe input have a first paramater called `prices`.\n",
    "Functions that accept a series input have a fist parameter called `series`,\n",
    "and an optional parameter `item` to specify which column to use on dataframe inputs.\n",
    "\n",
    "All functions wrap their output to match the type of their input.\n",
    "In particular the result of a function applied to a pandas series or dataframes\n",
    "will have the same index as the input. \n",
    "\"\"\"\n",
    "\n",
    "# Do not edit! This file was generated by make-functions.ipynb\n",
    "\n",
    "'''\n",
    "\n",
    "def make_functions():\n",
    "    output =  PREAMBLE\n",
    "\n",
    "    names = core_functions()\n",
    "    \n",
    "    symbols = tuple(Symbol(n) for n in names)\n",
    "    buffer = pformat(symbols, width=75, compact=True, indent=4)\n",
    "    buffer = buffer.replace(\"(\", \" \").replace(\")\", \"\")\n",
    "    output += f\"from .core import (\\n{buffer}\\n)\\n\\n\"\n",
    "\n",
    "    buffer = pformat(names, width=75, compact=True, indent=4)\n",
    "    buffer = buffer.replace(\"(\", \" \").replace(\")\", \"\")\n",
    "    output += f\"__all__ = [\\n{buffer}\\n]\\n\"\n",
    "\n",
    "    return output\n",
    "\n",
    "\n",
    "code = make_functions()\n",
    "\n",
    "TEXT(code)"
   ]
  },
  {
   "cell_type": "code",
   "execution_count": 22,
   "metadata": {
    "ExecuteTime": {
     "end_time": "2024-04-26T00:51:57.008492Z",
     "start_time": "2024-04-26T00:51:56.982675Z"
    },
    "collapsed": false
   },
   "outputs": [
    {
     "data": {
      "text/plain": [
       "['ADX',\n",
       " 'ATR',\n",
       " 'AVGPRICE',\n",
       " 'BBANDS',\n",
       " 'BOP',\n",
       " 'CCI',\n",
       " 'CMF',\n",
       " 'CROSSOVER',\n",
       " 'CROSSUNDER',\n",
       " 'DEMA',\n",
       " 'DIFF',\n",
       " 'EMA',\n",
       " 'EVAL',\n",
       " 'EXP',\n",
       " 'FLAG_ABOVE',\n",
       " 'FLAG_BELOW',\n",
       " 'FLAG_INVERT',\n",
       " 'FLAG_UPDOWN',\n",
       " 'FORECAST',\n",
       " 'HMA',\n",
       " 'KAMA',\n",
       " 'KELTNER',\n",
       " 'KER',\n",
       " 'LAG',\n",
       " 'LOG',\n",
       " 'MA',\n",
       " 'MACD',\n",
       " 'MAD',\n",
       " 'MAX',\n",
       " 'MFI',\n",
       " 'MIDPRICE',\n",
       " 'MIN',\n",
       " 'MINUSDI',\n",
       " 'NATR',\n",
       " 'PLUSDI',\n",
       " 'PPO',\n",
       " 'PRICE',\n",
       " 'RMA',\n",
       " 'ROC',\n",
       " 'RSI',\n",
       " 'RVALUE',\n",
       " 'SAR',\n",
       " 'SIGN',\n",
       " 'SLOPE',\n",
       " 'SMA',\n",
       " 'STDEV',\n",
       " 'STOCH',\n",
       " 'STREAK',\n",
       " 'SUM',\n",
       " 'TEMA',\n",
       " 'TRANGE',\n",
       " 'TYPPRICE',\n",
       " 'WCLPRICE',\n",
       " 'WMA',\n",
       " '__all__',\n",
       " '__builtins__',\n",
       " '__doc__',\n",
       " '__loader__',\n",
       " '__name__',\n",
       " '__package__',\n",
       " '__spec__']"
      ]
     },
     "execution_count": 22,
     "metadata": {},
     "output_type": "execute_result"
    }
   ],
   "source": [
    "code = make_functions()\n",
    "\n",
    "module = new_module(\"mintalib.functions\", code)\n",
    "\n",
    "dir(module)"
   ]
  },
  {
   "cell_type": "code",
   "execution_count": 23,
   "metadata": {
    "ExecuteTime": {
     "end_time": "2024-04-26T00:51:57.829813Z",
     "start_time": "2024-04-26T00:51:57.791865Z"
    },
    "collapsed": false
   },
   "outputs": [
    {
     "name": "stdout",
     "output_type": "stream",
     "text": [
      "Updating functions.py ...\n"
     ]
    },
    {
     "data": {
      "text/plain": [
       "1508"
      ]
     },
     "execution_count": 23,
     "metadata": {},
     "output_type": "execute_result"
    }
   ],
   "source": [
    "outfile = PKGDIR / \"functions.py\"\n",
    "\n",
    "print(f\"Updating {outfile.name} ...\")\n",
    "\n",
    "outfile.write_text(code)"
   ]
  },
  {
   "cell_type": "code",
   "execution_count": 24,
   "metadata": {
    "collapsed": false
   },
   "outputs": [],
   "source": [
    "from mintalib import functions\n",
    "\n",
    "assert callable(functions.SMA)\n",
    "\n",
    "res = functions.SMA(prices, 20)\n",
    "\n",
    "assert len(res) > 0"
   ]
  },
  {
   "cell_type": "code",
   "execution_count": null,
   "metadata": {},
   "outputs": [],
   "source": []
  },
  {
   "cell_type": "code",
   "execution_count": null,
   "metadata": {},
   "outputs": [],
   "source": []
  },
  {
   "cell_type": "markdown",
   "metadata": {},
   "source": []
  }
 ],
 "metadata": {
  "kernelspec": {
   "display_name": ".venv",
   "language": "python",
   "name": "python3"
  },
  "language_info": {
   "codemirror_mode": {
    "name": "ipython",
    "version": 3
   },
   "file_extension": ".py",
   "mimetype": "text/x-python",
   "name": "python",
   "nbconvert_exporter": "python",
   "pygments_lexer": "ipython3",
   "version": "3.9.19"
  }
 },
 "nbformat": 4,
 "nbformat_minor": 0
}
