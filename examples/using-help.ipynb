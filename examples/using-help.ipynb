{
 "cells": [
  {
   "cell_type": "markdown",
   "metadata": {
    "collapsed": false,
    "pycharm": {
     "name": "#%% md\n"
    }
   },
   "source": [
    "# Examples on getting help with mintalib"
   ]
  },
  {
   "cell_type": "code",
   "execution_count": 1,
   "metadata": {
    "ExecuteTime": {
     "end_time": "2024-04-26T00:52:14.026457Z",
     "start_time": "2024-04-26T00:52:13.974438Z"
    },
    "collapsed": false,
    "pycharm": {
     "name": "#%%\n"
    }
   },
   "outputs": [],
   "source": [
    "from mintalib import functions, indicators"
   ]
  },
  {
   "cell_type": "code",
   "execution_count": 2,
   "metadata": {
    "ExecuteTime": {
     "end_time": "2024-04-26T00:52:14.204333Z",
     "start_time": "2024-04-26T00:52:14.193375Z"
    },
    "collapsed": false,
    "pycharm": {
     "name": "#%%\n"
    }
   },
   "outputs": [
    {
     "name": "stdout",
     "output_type": "stream",
     "text": [
      "Help on module mintalib.functions in mintalib:\n",
      "\n",
      "NAME\n",
      "    mintalib.functions - Mintalib Functions\n",
      "\n",
      "FUNCTIONS\n",
      "    ADX(prices, period: 'int' = 14)\n",
      "        Average Directional Index\n",
      "    \n",
      "    ATR(prices, period: 'int' = 14)\n",
      "        Average True Range\n",
      "    \n",
      "    AVGPRICE(prices)\n",
      "        Average Price\n",
      "    \n",
      "    BBANDS(prices, period: 'int' = 20, nbdev: 'float' = 2.0)\n",
      "        Bollinger Bands\n",
      "    \n",
      "    BOP(prices, period: 'int' = 20)\n",
      "        Balance of Power\n",
      "    \n",
      "    CCI(prices, period: 'int' = 20)\n",
      "        Commodity Channel Index\n",
      "    \n",
      "    CMF(prices, period: 'int' = 20)\n",
      "        Chaikin Money Flow\n",
      "    \n",
      "    CROSSOVER(series, level: 'float' = 0.0, *, item: 'str' = None)\n",
      "        Cross Over\n",
      "    \n",
      "    CROSSUNDER(series, level: 'float' = 0.0, *, item: 'str' = None)\n",
      "        Cross Under\n",
      "    \n",
      "    DEMA(series, period: 'int', *, item: 'str' = None)\n",
      "        Double Exponential Moving Average\n",
      "    \n",
      "    DIFF(series, period: 'int' = 1, *, item: 'str' = None)\n",
      "        Difference\n",
      "    \n",
      "    EMA(series, period: 'int', *, adjust: 'bool' = False, item: 'str' = None)\n",
      "        Exponential Moving Average\n",
      "        \n",
      "        Args:\n",
      "            period (int) : time period, required\n",
      "            adjust (bool) : whether to adjust weights, default False\n",
      "                when true update ratio increases gradually (see formula)\n",
      "        \n",
      "        Formula:\n",
      "            EMA is calculated as a recursive formula\n",
      "            The standard formula is ema += alpha * (value - ema)\n",
      "                with alpha = 2.0 / (period + 1.0)\n",
      "            The adjusted formula is ema = num/div\n",
      "                where num = value + rho * num, div = 1.0 + rho * div\n",
      "                with rho = 1.0 - alpha\n",
      "    \n",
      "    EVAL(prices, expr: 'str')\n",
      "        Expression Eval (pandas only)\n",
      "    \n",
      "    EXP(series, *, item: 'str' = None)\n",
      "        Exponential\n",
      "    \n",
      "    FLAG_ABOVE(series, level: 'float' = 0.0, *, item: 'str' = None)\n",
      "        Flag for value above level\n",
      "    \n",
      "    FLAG_BELOW(series, level: 'float' = 0.0, *, item: 'str' = None)\n",
      "        Flag for value below level\n",
      "    \n",
      "    FLAG_INVERT(series, *, item: 'str' = None)\n",
      "        Inverse flag\n",
      "    \n",
      "    FLAG_UPDOWN(series, up_level: 'float' = 0.0, down_level: 'float' = 0.0, *, item: 'str' = None)\n",
      "        Flag for value crossing up & down levels\n",
      "    \n",
      "    FORECAST(series, period: 'int' = 20, offset: 'int' = 0, *, item: 'str' = None)\n",
      "        Forecast (time linear regression)\n",
      "    \n",
      "    HMA(series, period: 'int', *, item: 'str' = None)\n",
      "        Hull Moving Average\n",
      "    \n",
      "    KAMA(series, period: 'int' = 10, fastn: 'int' = 2, slown: 'int' = 30, *, item: 'str' = None)\n",
      "        Kaufman Adaptive Moving Average\n",
      "    \n",
      "    KELTNER(prices, period: 'int' = 20, nbatr: 'float' = 2.0)\n",
      "        Keltner Channel\n",
      "    \n",
      "    KER(series, period: 'int' = 10, *, item: 'str' = None)\n",
      "        Kaufman Efficiency Ratio\n",
      "    \n",
      "    LATR(prices, period: 'int' = 14)\n",
      "        Average True Range (logarithmic)\n",
      "    \n",
      "    LOG(series, *, item: 'str' = None)\n",
      "        Logarithm\n",
      "    \n",
      "    MA(series, period: 'int' = 20, *, ma_type: 'str' = None, item: 'str' = None)\n",
      "        Generic Moving Average\n",
      "        \n",
      "        Args:\n",
      "            matype (str) : one of 'SMA', 'EMA', 'WMA', 'HMA', 'DEMA', 'TEMA'\n",
      "                    defaults to 'SMA'\n",
      "    \n",
      "    MACD(series, n1: 'int' = 12, n2: 'int' = 26, n3: 'int' = 9, *, item: 'str' = None)\n",
      "        Moving Average Convergenge Divergence\n",
      "    \n",
      "    MAD(series, period: 'int' = 20, *, item: 'str' = None)\n",
      "        Mean Absolute Deviation\n",
      "    \n",
      "    MAX(series, period: 'int', *, item: 'str' = None)\n",
      "        Rolling Maximum\n",
      "    \n",
      "    MFI(prices, period: 'int' = 14)\n",
      "        Money Flow Index\n",
      "    \n",
      "    MIDPRICE(prices)\n",
      "        Mid Price\n",
      "    \n",
      "    MIN(series, period: 'int', *, item: 'str' = None)\n",
      "        Rolling Minimum\n",
      "    \n",
      "    MINUSDI(prices, period: 'int' = 14)\n",
      "        Minus Directional Index\n",
      "    \n",
      "    NATR(prices, period: 'int' = 14)\n",
      "        Average True Range (normalized)\n",
      "    \n",
      "    PLUSDI(prices, period: 'int' = 14)\n",
      "        Plus Directional Index\n",
      "    \n",
      "    PPO(series, n1: 'int' = 12, n2: 'int' = 26, n3: 'int' = 9, *, item: 'str' = None)\n",
      "        Price Percentage Oscillator\n",
      "    \n",
      "    PRICE(prices, item: 'str' = None)\n",
      "        Generic Price \n",
      "        \n",
      "        Args:\n",
      "            item (str) : one of 'open', 'high', 'low', 'close',\n",
      "                'avg', 'mid', 'typ', 'wcl' defaults to 'close'\n",
      "    \n",
      "    RMA(series, period: 'int', *, item: 'str' = None)\n",
      "        Rolling Moving Average (RSI style)\n",
      "        \n",
      "        Exponential moving average with `alpha = 2 / period`,\n",
      "        that starts as a simple moving average until\n",
      "        number of bars is equal to `period`.\n",
      "    \n",
      "    ROC(series, period: 'int' = 1, *, item: 'str' = None)\n",
      "        Rate of Change\n",
      "    \n",
      "    RSI(series, period: 'int' = 14, *, item: 'str' = None)\n",
      "        Relative Strength Index\n",
      "    \n",
      "    RVALUE(series, period: 'int' = 20, *, item: 'str' = None)\n",
      "        RValue (time linear regression)\n",
      "    \n",
      "    SAR(prices, afs: 'float' = 0.02, maxaf: 'float' = 0.2)\n",
      "        Parabolic Stop and Reverse\n",
      "    \n",
      "    SLOPE(series, period: 'int' = 20, *, item: 'str' = None)\n",
      "        Slope (time linear regression)\n",
      "    \n",
      "    SMA(series, period: 'int', *, item: 'str' = None)\n",
      "        Simple Moving Average\n",
      "    \n",
      "    STDEV(series, period: 'int' = 20, *, item: 'str' = None)\n",
      "        Standard Deviation\n",
      "    \n",
      "    STOCH(prices, period: 'int' = 14, fastn: 'int' = 3, slown: 'int' = 3)\n",
      "        Stochastic Oscillator\n",
      "    \n",
      "    STREAK(series, *, item: 'str' = None)\n",
      "        Consecutive streak of ups or downs\n",
      "    \n",
      "    SUM(series, period: 'int', *, item: 'str' = None)\n",
      "        Rolling Sum\n",
      "    \n",
      "    TEMA(series, period: 'int' = 20, *, item: 'str' = None)\n",
      "        Triple Exponential Moving Average\n",
      "    \n",
      "    TRANGE(prices, *, log_prices: 'bool' = False, percent: 'bool' = False)\n",
      "        True Range\n",
      "    \n",
      "    TYPPRICE(prices)\n",
      "        Typical Price\n",
      "    \n",
      "    WCLPRICE(prices)\n",
      "        Weighted Close Price\n",
      "    \n",
      "    WMA(series, period: 'int', *, item: 'str' = None)\n",
      "        Weighted Moving Average\n",
      "\n",
      "DATA\n",
      "    __all__ = ['ADX', 'ATR', 'AVGPRICE', 'BBANDS', 'BOP', 'CCI', 'CMF', 'C...\n",
      "\n",
      "FILE\n",
      "    /Users/frederic/Projects/mintalib/src/mintalib/functions.py\n",
      "\n",
      "\n"
     ]
    }
   ],
   "source": [
    "help(functions)"
   ]
  },
  {
   "cell_type": "code",
   "execution_count": 3,
   "metadata": {
    "ExecuteTime": {
     "end_time": "2024-04-26T00:52:15.153372Z",
     "start_time": "2024-04-26T00:52:15.140248Z"
    },
    "collapsed": false,
    "pycharm": {
     "name": "#%%\n"
    }
   },
   "outputs": [
    {
     "name": "stdout",
     "output_type": "stream",
     "text": [
      "Help on cython_function_or_method in module mintalib.core:\n",
      "\n",
      "EMA(series, period: 'int', *, adjust: 'bool' = False, item: 'str' = None)\n",
      "    Exponential Moving Average\n",
      "    \n",
      "    Args:\n",
      "        period (int) : time period, required\n",
      "        adjust (bool) : whether to adjust weights, default False\n",
      "            when true update ratio increases gradually (see formula)\n",
      "    \n",
      "    Formula:\n",
      "        EMA is calculated as a recursive formula\n",
      "        The standard formula is ema += alpha * (value - ema)\n",
      "            with alpha = 2.0 / (period + 1.0)\n",
      "        The adjusted formula is ema = num/div\n",
      "            where num = value + rho * num, div = 1.0 + rho * div\n",
      "            with rho = 1.0 - alpha\n",
      "\n"
     ]
    }
   ],
   "source": [
    "help(functions.EMA)"
   ]
  },
  {
   "cell_type": "code",
   "execution_count": 4,
   "metadata": {
    "collapsed": false,
    "pycharm": {
     "is_executing": true,
     "name": "#%%\n"
    }
   },
   "outputs": [
    {
     "name": "stdout",
     "output_type": "stream",
     "text": [
      "Help on module mintalib.indicators in mintalib:\n",
      "\n",
      "NAME\n",
      "    mintalib.indicators - Mintalib Indicators\n",
      "\n",
      "FUNCTIONS\n",
      "    ADX(period: int = 14)\n",
      "        Average Directional Index\n",
      "    \n",
      "    ATR(period: int = 14)\n",
      "        Average True Range\n",
      "    \n",
      "    AVGPRICE()\n",
      "        Average Price\n",
      "    \n",
      "    BBANDS(period: int = 20, nbdev: float = 2.0)\n",
      "        Bollinger Bands\n",
      "    \n",
      "    BOP(period: int = 20)\n",
      "        Balance of Power\n",
      "    \n",
      "    CCI(period: int = 20)\n",
      "        Commodity Channel Index\n",
      "    \n",
      "    CMF(period: int = 20)\n",
      "        Chaikin Money Flow\n",
      "    \n",
      "    CROSSOVER(level: float = 0.0, *, item: str = None)\n",
      "        Cross Over\n",
      "    \n",
      "    CROSSUNDER(level: float = 0.0, *, item: str = None)\n",
      "        Cross Under\n",
      "    \n",
      "    DEMA(period: int, *, item: str = None)\n",
      "        Double Exponential Moving Average\n",
      "    \n",
      "    DIFF(period: int = 1, *, item: str = None)\n",
      "        Difference\n",
      "    \n",
      "    EMA(period: int, *, adjust: bool = False, item: str = None)\n",
      "        Exponential Moving Average\n",
      "        \n",
      "        Args:\n",
      "            series (series) : data series, required\n",
      "            period (int) : time period, required\n",
      "            adjust (bool) : whether to adjust weights, default False\n",
      "                when true update ratio increases gradually (see formula)\n",
      "        \n",
      "        Formula:\n",
      "            EMA is calculated as a recursive formula\n",
      "            The standard formula is ema += alpha * (value - ema)\n",
      "                with alpha = 2.0 / (period + 1.0)\n",
      "            The adjusted formula is ema = num/div\n",
      "                where num = value + rho * num, div = 1.0 + rho * div\n",
      "                with rho = 1.0 - alpha\n",
      "    \n",
      "    EVAL(expr: str)\n",
      "        Expression Eval (pandas only)\n",
      "    \n",
      "    EXP(*, item: str = None)\n",
      "        Exponential\n",
      "    \n",
      "    FLAG_ABOVE(level: float = 0.0, *, item: str = None)\n",
      "        Flag for value above level\n",
      "    \n",
      "    FLAG_BELOW(level: float = 0.0, *, item: str = None)\n",
      "        Flag for value below level\n",
      "    \n",
      "    FLAG_INVERT(*, item: str = None)\n",
      "        Inverse flag\n",
      "    \n",
      "    FLAG_UPDOWN(up_level: float = 0.0, down_level: float = 0.0, *, item: str = None)\n",
      "        Flag for value crossing up & down levels\n",
      "    \n",
      "    FORECAST(period: int = 20, offset: int = 0, *, item: str = None)\n",
      "        Forecast (time linear regression)\n",
      "    \n",
      "    HMA(period: int, *, item: str = None)\n",
      "        Hull Moving Average\n",
      "    \n",
      "    KAMA(period: int = 10, fastn: int = 2, slown: int = 30, *, item: str = None)\n",
      "        Kaufman Adaptive Moving Average\n",
      "    \n",
      "    KELTNER(period: int = 20, nbatr: float = 2.0)\n",
      "        Keltner Channel\n",
      "    \n",
      "    KER(period: int = 10, *, item: str = None)\n",
      "        Kaufman Efficiency Ratio\n",
      "    \n",
      "    LATR(period: int = 14)\n",
      "        Average True Range (logarithmic)\n",
      "    \n",
      "    LOG(*, item: str = None)\n",
      "        Logarithm\n",
      "    \n",
      "    MA(period: int = 20, *, ma_type: str = None, item: str = None)\n",
      "        Generic Moving Average\n",
      "        \n",
      "        Where `my_type` is one of\n",
      "        'SMA', 'EMA', 'WMA', 'RMA', 'DEMA', 'TEMA'\n",
      "    \n",
      "    MACD(n1: int = 12, n2: int = 26, n3: int = 9, *, item: str = None)\n",
      "        Moving Average Convergenge Divergence\n",
      "    \n",
      "    MAD(period: int = 20, *, item: str = None)\n",
      "        Mean Absolute Deviation\n",
      "    \n",
      "    MAX(period: int, *, item: str = None)\n",
      "        Rolling Maximum\n",
      "    \n",
      "    MFI(period: int = 14)\n",
      "        Money Flow Index\n",
      "    \n",
      "    MIDPRICE()\n",
      "        Mid Price\n",
      "    \n",
      "    MIN(period: int, *, item: str = None)\n",
      "        Rolling Minimum\n",
      "    \n",
      "    MINUSDI(period: int = 14)\n",
      "        Minus Directional Index\n",
      "    \n",
      "    NATR(period: int = 14)\n",
      "        Average True Range (normalized)\n",
      "    \n",
      "    PLUSDI(period: int = 14)\n",
      "        Plus Directional Index\n",
      "    \n",
      "    PPO(n1: int = 12, n2: int = 26, n3: int = 9, *, item: str = None)\n",
      "        Price Percentage Oscillator\n",
      "    \n",
      "    PRICE(item: str = None)\n",
      "        Generic Price\n",
      "    \n",
      "    RMA(period: int, *, item: str = None)\n",
      "        Rolling Moving Average (RSI style)\n",
      "        \n",
      "        Exponential moving average with `alpha = 2 / period`,\n",
      "        that starts as a simple moving average until\n",
      "        number of bars is equal to `period`.\n",
      "    \n",
      "    ROC(period: int = 1, *, item: str = None)\n",
      "        Rate of Change\n",
      "    \n",
      "    RSI(period: int = 14, *, item: str = None)\n",
      "        Relative Strength Index\n",
      "    \n",
      "    RVALUE(period: int = 20, *, item: str = None)\n",
      "        RValue (time linear regression)\n",
      "    \n",
      "    SAR(afs: float = 0.02, maxaf: float = 0.2)\n",
      "        Parabolic Stop and Reverse\n",
      "    \n",
      "    SLOPE(period: int = 20, *, item: str = None)\n",
      "        Slope (time linear regression)\n",
      "    \n",
      "    SMA(period: int, *, item: str = None)\n",
      "        Simple Moving Average\n",
      "    \n",
      "    STDEV(period: int = 20, *, item: str = None)\n",
      "        Standard Deviation\n",
      "    \n",
      "    STOCH(period: int = 14, fastn: int = 3, slown: int = 3)\n",
      "        Stochastic Oscillator\n",
      "    \n",
      "    STREAK(*, item: str = None)\n",
      "        Consecutive streak of ups or downs\n",
      "    \n",
      "    SUM(period: int, *, item: str = None)\n",
      "        Rolling Sum\n",
      "    \n",
      "    TEMA(period: int = 20, *, item: str = None)\n",
      "        Triple Exponential Moving Average\n",
      "    \n",
      "    TRANGE(*, log_prices: bool = False, percent: bool = False)\n",
      "        True Range\n",
      "    \n",
      "    TYPPRICE()\n",
      "        Typical Price\n",
      "    \n",
      "    WCLPRICE()\n",
      "        Weighted Close Price\n",
      "    \n",
      "    WMA(period: int, *, item: str = None)\n",
      "        Weighted Moving Average\n",
      "\n",
      "DATA\n",
      "    __all__ = ['ADX', 'ATR', 'AVGPRICE', 'BBANDS', 'BOP', 'CCI', 'CMF', 'C...\n",
      "\n",
      "FILE\n",
      "    /Users/frederic/Projects/mintalib/src/mintalib/indicators.py\n",
      "\n",
      "\n"
     ]
    }
   ],
   "source": [
    "help(indicators)"
   ]
  },
  {
   "cell_type": "code",
   "execution_count": 5,
   "metadata": {
    "collapsed": false,
    "pycharm": {
     "name": "#%%\n"
    }
   },
   "outputs": [
    {
     "name": "stdout",
     "output_type": "stream",
     "text": [
      "Help on function SMA in module mintalib.indicators:\n",
      "\n",
      "SMA(period: int, *, item: str = None)\n",
      "    Simple Moving Average\n",
      "    \n",
      "    Args:\n",
      "        period (int) : time period, required\n",
      "\n"
     ]
    }
   ],
   "source": [
    "help(indicators.SMA)"
   ]
  },
  {
   "cell_type": "code",
   "execution_count": 7,
   "metadata": {},
   "outputs": [
    {
     "ename": "AttributeError",
     "evalue": "'_cython_3_0_11.cython_function_or_method' object has no attribute '__signature__'",
     "output_type": "error",
     "traceback": [
      "\u001b[0;31m---------------------------------------------------------------------------\u001b[0m",
      "\u001b[0;31mAttributeError\u001b[0m                            Traceback (most recent call last)",
      "Cell \u001b[0;32mIn[7], line 1\u001b[0m\n\u001b[0;32m----> 1\u001b[0m \u001b[43mfunctions\u001b[49m\u001b[38;5;241;43m.\u001b[39;49m\u001b[43mSMA\u001b[49m\u001b[38;5;241;43m.\u001b[39;49m\u001b[43m__signature__\u001b[49m\n",
      "\u001b[0;31mAttributeError\u001b[0m: '_cython_3_0_11.cython_function_or_method' object has no attribute '__signature__'"
     ]
    }
   ],
   "source": [
    "functions.SMA.__signature__"
   ]
  },
  {
   "cell_type": "code",
   "execution_count": 8,
   "metadata": {},
   "outputs": [
    {
     "name": "stdout",
     "output_type": "stream",
     "text": [
      "Help on cython_function_or_method in module mintalib.core:\n",
      "\n",
      "SMA(series, period: 'int', *, item: 'str' = None)\n",
      "    Simple Moving Average\n",
      "    \n",
      "    Args:\n",
      "        period (int) : time period, required\n",
      "\n"
     ]
    }
   ],
   "source": [
    "help(functions.SMA)"
   ]
  },
  {
   "cell_type": "code",
   "execution_count": 10,
   "metadata": {},
   "outputs": [
    {
     "data": {
      "text/plain": [
       "<Signature (series, period: 'int', *, item: 'str' = None)>"
      ]
     },
     "execution_count": 10,
     "metadata": {},
     "output_type": "execute_result"
    }
   ],
   "source": [
    "import inspect\n",
    "inspect.signature(functions.SMA)"
   ]
  },
  {
   "cell_type": "code",
   "execution_count": 11,
   "metadata": {},
   "outputs": [
    {
     "data": {
      "text/plain": [
       "FullArgSpec(args=['series', 'period'], varargs=None, varkw=None, defaults=None, kwonlyargs=['item'], kwonlydefaults={'item': None}, annotations={'period': 'int', 'item': 'str'})"
      ]
     },
     "execution_count": 11,
     "metadata": {},
     "output_type": "execute_result"
    }
   ],
   "source": [
    "inspect.getfullargspec(functions.SMA)"
   ]
  },
  {
   "cell_type": "code",
   "execution_count": 13,
   "metadata": {},
   "outputs": [
    {
     "ename": "TypeError",
     "evalue": "module, class, method, function, traceback, frame, or code object was expected, got cython_function_or_method",
     "output_type": "error",
     "traceback": [
      "\u001b[0;31m---------------------------------------------------------------------------\u001b[0m",
      "\u001b[0;31mTypeError\u001b[0m                                 Traceback (most recent call last)",
      "Cell \u001b[0;32mIn[13], line 1\u001b[0m\n\u001b[0;32m----> 1\u001b[0m \u001b[43minspect\u001b[49m\u001b[38;5;241;43m.\u001b[39;49m\u001b[43mgetsourcelines\u001b[49m\u001b[43m(\u001b[49m\u001b[43mfunctions\u001b[49m\u001b[38;5;241;43m.\u001b[39;49m\u001b[43mSMA\u001b[49m\u001b[43m)\u001b[49m\n",
      "File \u001b[0;32m~/miniconda3/envs/py39/lib/python3.9/inspect.py:1006\u001b[0m, in \u001b[0;36mgetsourcelines\u001b[0;34m(object)\u001b[0m\n\u001b[1;32m    998\u001b[0m \u001b[38;5;250m\u001b[39m\u001b[38;5;124;03m\"\"\"Return a list of source lines and starting line number for an object.\u001b[39;00m\n\u001b[1;32m    999\u001b[0m \n\u001b[1;32m   1000\u001b[0m \u001b[38;5;124;03mThe argument may be a module, class, method, function, traceback, frame,\u001b[39;00m\n\u001b[0;32m   (...)\u001b[0m\n\u001b[1;32m   1003\u001b[0m \u001b[38;5;124;03moriginal source file the first line of code was found.  An OSError is\u001b[39;00m\n\u001b[1;32m   1004\u001b[0m \u001b[38;5;124;03mraised if the source code cannot be retrieved.\"\"\"\u001b[39;00m\n\u001b[1;32m   1005\u001b[0m \u001b[38;5;28mobject\u001b[39m \u001b[38;5;241m=\u001b[39m unwrap(\u001b[38;5;28mobject\u001b[39m)\n\u001b[0;32m-> 1006\u001b[0m lines, lnum \u001b[38;5;241m=\u001b[39m \u001b[43mfindsource\u001b[49m\u001b[43m(\u001b[49m\u001b[38;5;28;43mobject\u001b[39;49m\u001b[43m)\u001b[49m\n\u001b[1;32m   1008\u001b[0m \u001b[38;5;28;01mif\u001b[39;00m istraceback(\u001b[38;5;28mobject\u001b[39m):\n\u001b[1;32m   1009\u001b[0m     \u001b[38;5;28mobject\u001b[39m \u001b[38;5;241m=\u001b[39m \u001b[38;5;28mobject\u001b[39m\u001b[38;5;241m.\u001b[39mtb_frame\n",
      "File \u001b[0;32m~/miniconda3/envs/py39/lib/python3.9/inspect.py:817\u001b[0m, in \u001b[0;36mfindsource\u001b[0;34m(object)\u001b[0m\n\u001b[1;32m    809\u001b[0m \u001b[38;5;28;01mdef\u001b[39;00m \u001b[38;5;21mfindsource\u001b[39m(\u001b[38;5;28mobject\u001b[39m):\n\u001b[1;32m    810\u001b[0m \u001b[38;5;250m    \u001b[39m\u001b[38;5;124;03m\"\"\"Return the entire source file and starting line number for an object.\u001b[39;00m\n\u001b[1;32m    811\u001b[0m \n\u001b[1;32m    812\u001b[0m \u001b[38;5;124;03m    The argument may be a module, class, method, function, traceback, frame,\u001b[39;00m\n\u001b[1;32m    813\u001b[0m \u001b[38;5;124;03m    or code object.  The source code is returned as a list of all the lines\u001b[39;00m\n\u001b[1;32m    814\u001b[0m \u001b[38;5;124;03m    in the file and the line number indexes a line in that list.  An OSError\u001b[39;00m\n\u001b[1;32m    815\u001b[0m \u001b[38;5;124;03m    is raised if the source code cannot be retrieved.\"\"\"\u001b[39;00m\n\u001b[0;32m--> 817\u001b[0m     file \u001b[38;5;241m=\u001b[39m \u001b[43mgetsourcefile\u001b[49m\u001b[43m(\u001b[49m\u001b[38;5;28;43mobject\u001b[39;49m\u001b[43m)\u001b[49m\n\u001b[1;32m    818\u001b[0m     \u001b[38;5;28;01mif\u001b[39;00m file:\n\u001b[1;32m    819\u001b[0m         \u001b[38;5;66;03m# Invalidate cache if needed.\u001b[39;00m\n\u001b[1;32m    820\u001b[0m         linecache\u001b[38;5;241m.\u001b[39mcheckcache(file)\n",
      "File \u001b[0;32m~/miniconda3/envs/py39/lib/python3.9/inspect.py:697\u001b[0m, in \u001b[0;36mgetsourcefile\u001b[0;34m(object)\u001b[0m\n\u001b[1;32m    693\u001b[0m \u001b[38;5;28;01mdef\u001b[39;00m \u001b[38;5;21mgetsourcefile\u001b[39m(\u001b[38;5;28mobject\u001b[39m):\n\u001b[1;32m    694\u001b[0m \u001b[38;5;250m    \u001b[39m\u001b[38;5;124;03m\"\"\"Return the filename that can be used to locate an object's source.\u001b[39;00m\n\u001b[1;32m    695\u001b[0m \u001b[38;5;124;03m    Return None if no way can be identified to get the source.\u001b[39;00m\n\u001b[1;32m    696\u001b[0m \u001b[38;5;124;03m    \"\"\"\u001b[39;00m\n\u001b[0;32m--> 697\u001b[0m     filename \u001b[38;5;241m=\u001b[39m \u001b[43mgetfile\u001b[49m\u001b[43m(\u001b[49m\u001b[38;5;28;43mobject\u001b[39;49m\u001b[43m)\u001b[49m\n\u001b[1;32m    698\u001b[0m     all_bytecode_suffixes \u001b[38;5;241m=\u001b[39m importlib\u001b[38;5;241m.\u001b[39mmachinery\u001b[38;5;241m.\u001b[39mDEBUG_BYTECODE_SUFFIXES[:]\n\u001b[1;32m    699\u001b[0m     all_bytecode_suffixes \u001b[38;5;241m+\u001b[39m\u001b[38;5;241m=\u001b[39m importlib\u001b[38;5;241m.\u001b[39mmachinery\u001b[38;5;241m.\u001b[39mOPTIMIZED_BYTECODE_SUFFIXES[:]\n",
      "File \u001b[0;32m~/miniconda3/envs/py39/lib/python3.9/inspect.py:677\u001b[0m, in \u001b[0;36mgetfile\u001b[0;34m(object)\u001b[0m\n\u001b[1;32m    675\u001b[0m \u001b[38;5;28;01mif\u001b[39;00m iscode(\u001b[38;5;28mobject\u001b[39m):\n\u001b[1;32m    676\u001b[0m     \u001b[38;5;28;01mreturn\u001b[39;00m \u001b[38;5;28mobject\u001b[39m\u001b[38;5;241m.\u001b[39mco_filename\n\u001b[0;32m--> 677\u001b[0m \u001b[38;5;28;01mraise\u001b[39;00m \u001b[38;5;167;01mTypeError\u001b[39;00m(\u001b[38;5;124m'\u001b[39m\u001b[38;5;124mmodule, class, method, function, traceback, frame, or \u001b[39m\u001b[38;5;124m'\u001b[39m\n\u001b[1;32m    678\u001b[0m                 \u001b[38;5;124m'\u001b[39m\u001b[38;5;124mcode object was expected, got \u001b[39m\u001b[38;5;132;01m{}\u001b[39;00m\u001b[38;5;124m'\u001b[39m\u001b[38;5;241m.\u001b[39mformat(\n\u001b[1;32m    679\u001b[0m                 \u001b[38;5;28mtype\u001b[39m(\u001b[38;5;28mobject\u001b[39m)\u001b[38;5;241m.\u001b[39m\u001b[38;5;18m__name__\u001b[39m))\n",
      "\u001b[0;31mTypeError\u001b[0m: module, class, method, function, traceback, frame, or code object was expected, got cython_function_or_method"
     ]
    }
   ],
   "source": []
  },
  {
   "cell_type": "code",
   "execution_count": null,
   "metadata": {},
   "outputs": [],
   "source": []
  }
 ],
 "metadata": {
  "kernelspec": {
   "display_name": "Python 3",
   "language": "python",
   "name": "python3"
  },
  "language_info": {
   "codemirror_mode": {
    "name": "ipython",
    "version": 3
   },
   "file_extension": ".py",
   "mimetype": "text/x-python",
   "name": "python",
   "nbconvert_exporter": "python",
   "pygments_lexer": "ipython3",
   "version": "3.9.19"
  }
 },
 "nbformat": 4,
 "nbformat_minor": 0
}
