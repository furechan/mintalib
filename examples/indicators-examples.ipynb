{
 "cells": [
  {
   "cell_type": "markdown",
   "metadata": {
    "collapsed": false,
    "pycharm": {
     "name": "#%% md\n"
    }
   },
   "source": [
    "# Using mintalib indicators"
   ]
  },
  {
   "cell_type": "code",
   "execution_count": 1,
   "metadata": {
    "ExecuteTime": {
     "end_time": "2023-10-27T21:32:22.739236Z",
     "start_time": "2023-10-27T21:32:22.450865Z"
    },
    "collapsed": false,
    "pycharm": {
     "name": "#%%\n"
    }
   },
   "outputs": [],
   "source": [
    "from mintalib.samples import sample_prices\n",
    "from mintalib.indicators import ROC, SMA, EMA, RSI, MACD, TRANGE, ATR, SLOPE, EVAL"
   ]
  },
  {
   "cell_type": "code",
   "execution_count": 2,
   "metadata": {
    "ExecuteTime": {
     "end_time": "2023-10-27T21:32:22.759080Z",
     "start_time": "2023-10-27T21:32:22.739843Z"
    },
    "collapsed": false,
    "pycharm": {
     "name": "#%%\n"
    }
   },
   "outputs": [
    {
     "name": "stdout",
     "output_type": "stream",
     "text": [
      "<class 'pandas.core.frame.DataFrame'>\n",
      "DatetimeIndex: 11056 entries, 1980-12-12 to 2024-10-21\n",
      "Data columns (total 5 columns):\n",
      " #   Column  Non-Null Count  Dtype  \n",
      "---  ------  --------------  -----  \n",
      " 0   open    11056 non-null  float64\n",
      " 1   high    11056 non-null  float64\n",
      " 2   low     11056 non-null  float64\n",
      " 3   close   11056 non-null  float64\n",
      " 4   volume  11056 non-null  int64  \n",
      "dtypes: float64(4), int64(1)\n",
      "memory usage: 518.2 KB\n"
     ]
    }
   ],
   "source": [
    "prices = sample_prices()\n",
    "prices.info()"
   ]
  },
  {
   "cell_type": "code",
   "execution_count": 3,
   "metadata": {
    "ExecuteTime": {
     "end_time": "2023-10-27T21:32:22.857257Z",
     "start_time": "2023-10-27T21:32:22.844662Z"
    },
    "collapsed": false,
    "pycharm": {
     "name": "#%%\n"
    }
   },
   "outputs": [
    {
     "data": {
      "text/plain": [
       "date\n",
       "2024-10-15    0.025544\n",
       "2024-10-16    0.027888\n",
       "2024-10-17    0.026559\n",
       "2024-10-18    0.026874\n",
       "2024-10-21    0.028549\n",
       "dtype: float64"
      ]
     },
     "execution_count": 3,
     "metadata": {},
     "output_type": "execute_result"
    }
   ],
   "source": [
    "indicator = ROC(20) @ EMA(20)\n",
    "\n",
    "res = indicator(prices)\n",
    "res.tail()"
   ]
  },
  {
   "cell_type": "code",
   "execution_count": 4,
   "metadata": {
    "ExecuteTime": {
     "end_time": "2023-10-27T21:32:23.241102Z",
     "start_time": "2023-10-27T21:32:23.227823Z"
    },
    "collapsed": false,
    "pycharm": {
     "name": "#%%\n"
    }
   },
   "outputs": [
    {
     "data": {
      "text/plain": [
       "date\n",
       "2024-10-15    6.190002\n",
       "2024-10-16    4.010010\n",
       "2024-10-17    3.330002\n",
       "2024-10-18    4.029999\n",
       "2024-10-21    2.400009\n",
       "dtype: float64"
      ]
     },
     "execution_count": 4,
     "metadata": {},
     "output_type": "execute_result"
    }
   ],
   "source": [
    "res = TRANGE() @ prices\n",
    "res.tail()"
   ]
  },
  {
   "cell_type": "code",
   "execution_count": 5,
   "metadata": {
    "ExecuteTime": {
     "end_time": "2023-10-27T21:32:23.650256Z",
     "start_time": "2023-10-27T21:32:23.638127Z"
    },
    "collapsed": false,
    "pycharm": {
     "name": "#%%\n"
    }
   },
   "outputs": [
    {
     "data": {
      "text/plain": [
       "date\n",
       "2024-10-15    57377740.0\n",
       "2024-10-16    56087105.0\n",
       "2024-10-17    54397730.0\n",
       "2024-10-18    40785310.0\n",
       "2024-10-21    39889050.0\n",
       "dtype: float64"
      ]
     },
     "execution_count": 5,
     "metadata": {},
     "output_type": "execute_result"
    }
   ],
   "source": [
    "res = SMA(20, item=\"volume\") @ prices\n",
    "res.tail()"
   ]
  },
  {
   "cell_type": "code",
   "execution_count": 6,
   "metadata": {
    "ExecuteTime": {
     "end_time": "2023-10-27T21:32:24.024206Z",
     "start_time": "2023-10-27T21:32:24.005663Z"
    },
    "collapsed": false,
    "pycharm": {
     "name": "#%%\n"
    }
   },
   "outputs": [
    {
     "data": {
      "text/html": [
       "<div>\n",
       "<style scoped>\n",
       "    .dataframe tbody tr th:only-of-type {\n",
       "        vertical-align: middle;\n",
       "    }\n",
       "\n",
       "    .dataframe tbody tr th {\n",
       "        vertical-align: top;\n",
       "    }\n",
       "\n",
       "    .dataframe thead th {\n",
       "        text-align: right;\n",
       "    }\n",
       "</style>\n",
       "<table border=\"1\" class=\"dataframe\">\n",
       "  <thead>\n",
       "    <tr style=\"text-align: right;\">\n",
       "      <th></th>\n",
       "      <th>open</th>\n",
       "      <th>high</th>\n",
       "      <th>low</th>\n",
       "      <th>close</th>\n",
       "      <th>volume</th>\n",
       "      <th>rsi</th>\n",
       "      <th>sma20</th>\n",
       "      <th>sma50</th>\n",
       "      <th>sma200</th>\n",
       "      <th>slope20</th>\n",
       "      <th>pos</th>\n",
       "    </tr>\n",
       "    <tr>\n",
       "      <th>date</th>\n",
       "      <th></th>\n",
       "      <th></th>\n",
       "      <th></th>\n",
       "      <th></th>\n",
       "      <th></th>\n",
       "      <th></th>\n",
       "      <th></th>\n",
       "      <th></th>\n",
       "      <th></th>\n",
       "      <th></th>\n",
       "      <th></th>\n",
       "    </tr>\n",
       "  </thead>\n",
       "  <tbody>\n",
       "    <tr>\n",
       "      <th>2024-10-15</th>\n",
       "      <td>233.610001</td>\n",
       "      <td>237.490005</td>\n",
       "      <td>232.369995</td>\n",
       "      <td>233.850006</td>\n",
       "      <td>64751400</td>\n",
       "      <td>61.199897</td>\n",
       "      <td>227.524000</td>\n",
       "      <td>224.138625</td>\n",
       "      <td>198.832826</td>\n",
       "      <td>0.200226</td>\n",
       "      <td>1.0</td>\n",
       "    </tr>\n",
       "    <tr>\n",
       "      <th>2024-10-16</th>\n",
       "      <td>231.600006</td>\n",
       "      <td>232.119995</td>\n",
       "      <td>229.839996</td>\n",
       "      <td>231.779999</td>\n",
       "      <td>34082200</td>\n",
       "      <td>57.519445</td>\n",
       "      <td>228.078500</td>\n",
       "      <td>224.634417</td>\n",
       "      <td>199.032715</td>\n",
       "      <td>0.153121</td>\n",
       "      <td>1.0</td>\n",
       "    </tr>\n",
       "    <tr>\n",
       "      <th>2024-10-17</th>\n",
       "      <td>233.429993</td>\n",
       "      <td>233.850006</td>\n",
       "      <td>230.520004</td>\n",
       "      <td>232.149994</td>\n",
       "      <td>32993800</td>\n",
       "      <td>58.005573</td>\n",
       "      <td>228.242500</td>\n",
       "      <td>225.085868</td>\n",
       "      <td>199.268774</td>\n",
       "      <td>0.223782</td>\n",
       "      <td>1.0</td>\n",
       "    </tr>\n",
       "    <tr>\n",
       "      <th>2024-10-18</th>\n",
       "      <td>236.179993</td>\n",
       "      <td>236.179993</td>\n",
       "      <td>234.009995</td>\n",
       "      <td>235.000000</td>\n",
       "      <td>46431500</td>\n",
       "      <td>61.646411</td>\n",
       "      <td>228.582500</td>\n",
       "      <td>225.524600</td>\n",
       "      <td>199.526006</td>\n",
       "      <td>0.319647</td>\n",
       "      <td>1.0</td>\n",
       "    </tr>\n",
       "    <tr>\n",
       "      <th>2024-10-21</th>\n",
       "      <td>234.449997</td>\n",
       "      <td>236.850006</td>\n",
       "      <td>234.449997</td>\n",
       "      <td>236.479996</td>\n",
       "      <td>36220800</td>\n",
       "      <td>63.419998</td>\n",
       "      <td>229.082999</td>\n",
       "      <td>225.934400</td>\n",
       "      <td>199.802295</td>\n",
       "      <td>0.399113</td>\n",
       "      <td>1.0</td>\n",
       "    </tr>\n",
       "  </tbody>\n",
       "</table>\n",
       "</div>"
      ],
      "text/plain": [
       "                  open        high         low       close    volume  \\\n",
       "date                                                                   \n",
       "2024-10-15  233.610001  237.490005  232.369995  233.850006  64751400   \n",
       "2024-10-16  231.600006  232.119995  229.839996  231.779999  34082200   \n",
       "2024-10-17  233.429993  233.850006  230.520004  232.149994  32993800   \n",
       "2024-10-18  236.179993  236.179993  234.009995  235.000000  46431500   \n",
       "2024-10-21  234.449997  236.850006  234.449997  236.479996  36220800   \n",
       "\n",
       "                  rsi       sma20       sma50      sma200   slope20  pos  \n",
       "date                                                                      \n",
       "2024-10-15  61.199897  227.524000  224.138625  198.832826  0.200226  1.0  \n",
       "2024-10-16  57.519445  228.078500  224.634417  199.032715  0.153121  1.0  \n",
       "2024-10-17  58.005573  228.242500  225.085868  199.268774  0.223782  1.0  \n",
       "2024-10-18  61.646411  228.582500  225.524600  199.526006  0.319647  1.0  \n",
       "2024-10-21  63.419998  229.082999  225.934400  199.802295  0.399113  1.0  "
      ]
     },
     "execution_count": 6,
     "metadata": {},
     "output_type": "execute_result"
    }
   ],
   "source": [
    "prices.assign(\n",
    "    rsi=RSI(),\n",
    "    sma20=SMA(20),\n",
    "    sma50=SMA(50),\n",
    "    sma200=SMA(200),\n",
    "    slope20=SLOPE(20),\n",
    "    pos=EVAL(\"sma50 > sma200 and slope20 > 0.0\"),\n",
    ").tail()"
   ]
  },
  {
   "cell_type": "code",
   "execution_count": null,
   "metadata": {
    "collapsed": false,
    "pycharm": {
     "name": "#%%\n"
    }
   },
   "outputs": [],
   "source": []
  }
 ],
 "metadata": {
  "kernelspec": {
   "display_name": ".venv",
   "language": "python",
   "name": "python3"
  },
  "language_info": {
   "codemirror_mode": {
    "name": "ipython",
    "version": 3
   },
   "file_extension": ".py",
   "mimetype": "text/x-python",
   "name": "python",
   "nbconvert_exporter": "python",
   "pygments_lexer": "ipython3",
   "version": "3.9.19"
  }
 },
 "nbformat": 4,
 "nbformat_minor": 0
}
