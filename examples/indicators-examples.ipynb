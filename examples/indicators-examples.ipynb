{
 "cells": [
  {
   "cell_type": "markdown",
   "metadata": {
    "collapsed": false,
    "pycharm": {
     "name": "#%% md\n"
    }
   },
   "source": [
    "# Using mintalib indicators"
   ]
  },
  {
   "cell_type": "code",
   "execution_count": 1,
   "metadata": {
    "ExecuteTime": {
     "end_time": "2023-10-27T21:32:22.739236Z",
     "start_time": "2023-10-27T21:32:22.450865Z"
    },
    "collapsed": false,
    "pycharm": {
     "name": "#%%\n"
    }
   },
   "outputs": [],
   "source": [
    "from mintalib.samples import sample_prices\n",
    "from mintalib.indicators import ROC, SMA, EMA, RSI, MACD, TRANGE, ATR, SLOPE, EVAL"
   ]
  },
  {
   "cell_type": "code",
   "execution_count": 2,
   "metadata": {
    "ExecuteTime": {
     "end_time": "2023-10-27T21:32:22.759080Z",
     "start_time": "2023-10-27T21:32:22.739843Z"
    },
    "collapsed": false,
    "pycharm": {
     "name": "#%%\n"
    }
   },
   "outputs": [
    {
     "name": "stdout",
     "output_type": "stream",
     "text": [
      "<class 'pandas.core.frame.DataFrame'>\n",
      "DatetimeIndex: 11033 entries, 1980-12-12 to 2024-09-18\n",
      "Data columns (total 5 columns):\n",
      " #   Column  Non-Null Count  Dtype  \n",
      "---  ------  --------------  -----  \n",
      " 0   open    11033 non-null  float64\n",
      " 1   high    11033 non-null  float64\n",
      " 2   low     11033 non-null  float64\n",
      " 3   close   11033 non-null  float64\n",
      " 4   volume  11033 non-null  int64  \n",
      "dtypes: float64(4), int64(1)\n",
      "memory usage: 517.2 KB\n"
     ]
    }
   ],
   "source": [
    "prices = sample_prices()\n",
    "prices.info()"
   ]
  },
  {
   "cell_type": "code",
   "execution_count": 3,
   "metadata": {
    "ExecuteTime": {
     "end_time": "2023-10-27T21:32:22.857257Z",
     "start_time": "2023-10-27T21:32:22.844662Z"
    },
    "collapsed": false,
    "pycharm": {
     "name": "#%%\n"
    }
   },
   "outputs": [
    {
     "data": {
      "text/plain": [
       "date\n",
       "2024-09-12    0.023497\n",
       "2024-09-13    0.020226\n",
       "2024-09-16    0.014011\n",
       "2024-09-17    0.008697\n",
       "2024-09-18    0.005331\n",
       "dtype: float64"
      ]
     },
     "execution_count": 3,
     "metadata": {},
     "output_type": "execute_result"
    }
   ],
   "source": [
    "indicator = ROC(20) @ EMA(20)\n",
    "\n",
    "res = indicator(prices)\n",
    "res.tail()"
   ]
  },
  {
   "cell_type": "code",
   "execution_count": 4,
   "metadata": {
    "ExecuteTime": {
     "end_time": "2023-10-27T21:32:23.241102Z",
     "start_time": "2023-10-27T21:32:23.227823Z"
    },
    "collapsed": false,
    "pycharm": {
     "name": "#%%\n"
    }
   },
   "outputs": [
    {
     "data": {
      "text/plain": [
       "date\n",
       "2024-09-12    3.729996\n",
       "2024-09-13    2.129990\n",
       "2024-09-16    8.580002\n",
       "2024-09-17    2.399994\n",
       "2024-09-18    5.920013\n",
       "dtype: float64"
      ]
     },
     "execution_count": 4,
     "metadata": {},
     "output_type": "execute_result"
    }
   ],
   "source": [
    "res = TRANGE() @ prices\n",
    "res.tail()"
   ]
  },
  {
   "cell_type": "code",
   "execution_count": 5,
   "metadata": {
    "ExecuteTime": {
     "end_time": "2023-10-27T21:32:23.650256Z",
     "start_time": "2023-10-27T21:32:23.638127Z"
    },
    "collapsed": false,
    "pycharm": {
     "name": "#%%\n"
    }
   },
   "outputs": [
    {
     "data": {
      "text/plain": [
       "date\n",
       "2024-09-12    43414535.0\n",
       "2024-09-13    42932165.0\n",
       "2024-09-16    43683025.0\n",
       "2024-09-17    43924600.0\n",
       "2024-09-18    45399070.0\n",
       "dtype: float64"
      ]
     },
     "execution_count": 5,
     "metadata": {},
     "output_type": "execute_result"
    }
   ],
   "source": [
    "res = SMA(20, item=\"volume\") @ prices\n",
    "res.tail()"
   ]
  },
  {
   "cell_type": "code",
   "execution_count": 6,
   "metadata": {
    "ExecuteTime": {
     "end_time": "2023-10-27T21:32:24.024206Z",
     "start_time": "2023-10-27T21:32:24.005663Z"
    },
    "collapsed": false,
    "pycharm": {
     "name": "#%%\n"
    }
   },
   "outputs": [
    {
     "data": {
      "text/html": [
       "<div>\n",
       "<style scoped>\n",
       "    .dataframe tbody tr th:only-of-type {\n",
       "        vertical-align: middle;\n",
       "    }\n",
       "\n",
       "    .dataframe tbody tr th {\n",
       "        vertical-align: top;\n",
       "    }\n",
       "\n",
       "    .dataframe thead th {\n",
       "        text-align: right;\n",
       "    }\n",
       "</style>\n",
       "<table border=\"1\" class=\"dataframe\">\n",
       "  <thead>\n",
       "    <tr style=\"text-align: right;\">\n",
       "      <th></th>\n",
       "      <th>open</th>\n",
       "      <th>high</th>\n",
       "      <th>low</th>\n",
       "      <th>close</th>\n",
       "      <th>volume</th>\n",
       "      <th>rsi</th>\n",
       "      <th>sma20</th>\n",
       "      <th>sma50</th>\n",
       "      <th>sma200</th>\n",
       "      <th>slope20</th>\n",
       "      <th>pos</th>\n",
       "    </tr>\n",
       "    <tr>\n",
       "      <th>date</th>\n",
       "      <th></th>\n",
       "      <th></th>\n",
       "      <th></th>\n",
       "      <th></th>\n",
       "      <th></th>\n",
       "      <th></th>\n",
       "      <th></th>\n",
       "      <th></th>\n",
       "      <th></th>\n",
       "      <th></th>\n",
       "      <th></th>\n",
       "    </tr>\n",
       "  </thead>\n",
       "  <tbody>\n",
       "    <tr>\n",
       "      <th>2024-09-12</th>\n",
       "      <td>222.500000</td>\n",
       "      <td>223.550003</td>\n",
       "      <td>219.820007</td>\n",
       "      <td>222.770004</td>\n",
       "      <td>37498200</td>\n",
       "      <td>50.645416</td>\n",
       "      <td>224.735001</td>\n",
       "      <td>222.930503</td>\n",
       "      <td>194.983954</td>\n",
       "      <td>-0.295248</td>\n",
       "      <td>0.0</td>\n",
       "    </tr>\n",
       "    <tr>\n",
       "      <th>2024-09-13</th>\n",
       "      <td>223.580002</td>\n",
       "      <td>224.039993</td>\n",
       "      <td>221.910004</td>\n",
       "      <td>222.500000</td>\n",
       "      <td>36766600</td>\n",
       "      <td>50.071699</td>\n",
       "      <td>224.624001</td>\n",
       "      <td>222.954626</td>\n",
       "      <td>195.151092</td>\n",
       "      <td>-0.327413</td>\n",
       "      <td>0.0</td>\n",
       "    </tr>\n",
       "    <tr>\n",
       "      <th>2024-09-16</th>\n",
       "      <td>216.539993</td>\n",
       "      <td>217.220001</td>\n",
       "      <td>213.919998</td>\n",
       "      <td>216.320007</td>\n",
       "      <td>59357400</td>\n",
       "      <td>39.142125</td>\n",
       "      <td>224.137501</td>\n",
       "      <td>222.759460</td>\n",
       "      <td>195.284290</td>\n",
       "      <td>-0.423526</td>\n",
       "      <td>0.0</td>\n",
       "    </tr>\n",
       "    <tr>\n",
       "      <th>2024-09-17</th>\n",
       "      <td>215.750000</td>\n",
       "      <td>216.899994</td>\n",
       "      <td>214.500000</td>\n",
       "      <td>216.789993</td>\n",
       "      <td>45519300</td>\n",
       "      <td>40.210968</td>\n",
       "      <td>223.682500</td>\n",
       "      <td>222.544128</td>\n",
       "      <td>195.424970</td>\n",
       "      <td>-0.500819</td>\n",
       "      <td>0.0</td>\n",
       "    </tr>\n",
       "    <tr>\n",
       "      <th>2024-09-18</th>\n",
       "      <td>217.550003</td>\n",
       "      <td>222.710007</td>\n",
       "      <td>217.539993</td>\n",
       "      <td>220.690002</td>\n",
       "      <td>59788400</td>\n",
       "      <td>48.321876</td>\n",
       "      <td>223.391501</td>\n",
       "      <td>222.389616</td>\n",
       "      <td>195.582260</td>\n",
       "      <td>-0.498924</td>\n",
       "      <td>0.0</td>\n",
       "    </tr>\n",
       "  </tbody>\n",
       "</table>\n",
       "</div>"
      ],
      "text/plain": [
       "                  open        high         low       close    volume  \\\n",
       "date                                                                   \n",
       "2024-09-12  222.500000  223.550003  219.820007  222.770004  37498200   \n",
       "2024-09-13  223.580002  224.039993  221.910004  222.500000  36766600   \n",
       "2024-09-16  216.539993  217.220001  213.919998  216.320007  59357400   \n",
       "2024-09-17  215.750000  216.899994  214.500000  216.789993  45519300   \n",
       "2024-09-18  217.550003  222.710007  217.539993  220.690002  59788400   \n",
       "\n",
       "                  rsi       sma20       sma50      sma200   slope20  pos  \n",
       "date                                                                      \n",
       "2024-09-12  50.645416  224.735001  222.930503  194.983954 -0.295248  0.0  \n",
       "2024-09-13  50.071699  224.624001  222.954626  195.151092 -0.327413  0.0  \n",
       "2024-09-16  39.142125  224.137501  222.759460  195.284290 -0.423526  0.0  \n",
       "2024-09-17  40.210968  223.682500  222.544128  195.424970 -0.500819  0.0  \n",
       "2024-09-18  48.321876  223.391501  222.389616  195.582260 -0.498924  0.0  "
      ]
     },
     "execution_count": 6,
     "metadata": {},
     "output_type": "execute_result"
    }
   ],
   "source": [
    "prices.assign(\n",
    "    rsi=RSI(),\n",
    "    sma20=SMA(20),\n",
    "    sma50=SMA(50),\n",
    "    sma200=SMA(200),\n",
    "    slope20=SLOPE(20),\n",
    "    pos=EVAL(\"sma50 > sma200 and slope20 > 0.0\"),\n",
    ").tail()"
   ]
  },
  {
   "cell_type": "code",
   "execution_count": null,
   "metadata": {
    "collapsed": false,
    "pycharm": {
     "name": "#%%\n"
    }
   },
   "outputs": [],
   "source": []
  }
 ],
 "metadata": {
  "kernelspec": {
   "display_name": ".venv",
   "language": "python",
   "name": "python3"
  },
  "language_info": {
   "codemirror_mode": {
    "name": "ipython",
    "version": 3
   },
   "file_extension": ".py",
   "mimetype": "text/x-python",
   "name": "python",
   "nbconvert_exporter": "python",
   "pygments_lexer": "ipython3",
   "version": "3.9.19"
  }
 },
 "nbformat": 4,
 "nbformat_minor": 0
}
