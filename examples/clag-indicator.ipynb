{
 "cells": [
  {
   "cell_type": "markdown",
   "metadata": {
    "collapsed": false,
    "pycharm": {
     "name": "#%% md\n"
    }
   },
   "source": [
    "# Confirmation Lag Example"
   ]
  },
  {
   "cell_type": "code",
   "execution_count": null,
   "metadata": {
    "ExecuteTime": {
     "end_time": "2023-10-27T21:32:22.739236Z",
     "start_time": "2023-10-27T21:32:22.450865Z"
    },
    "collapsed": false,
    "pycharm": {
     "name": "#%%\n"
    }
   },
   "outputs": [],
   "source": [
    "import matplotlib as mpl\n",
    "import matplotlib.pyplot as plt\n",
    "\n",
    "from mintalib.samples import sample_prices\n",
    "from mintalib.indicators import SMA, EVAL, CLAG\n",
    "\n",
    "mpl.rc(\"figure\", figsize=(12, 9))"
   ]
  },
  {
   "cell_type": "code",
   "execution_count": 5,
   "metadata": {
    "ExecuteTime": {
     "end_time": "2023-10-27T21:32:22.759080Z",
     "start_time": "2023-10-27T21:32:22.739843Z"
    },
    "collapsed": false,
    "pycharm": {
     "name": "#%%\n"
    }
   },
   "outputs": [
    {
     "name": "stdout",
     "output_type": "stream",
     "text": [
      "<class 'pandas.core.frame.DataFrame'>\n",
      "DatetimeIndex: 11056 entries, 1980-12-12 to 2024-10-21\n",
      "Data columns (total 5 columns):\n",
      " #   Column  Non-Null Count  Dtype  \n",
      "---  ------  --------------  -----  \n",
      " 0   open    11056 non-null  float64\n",
      " 1   high    11056 non-null  float64\n",
      " 2   low     11056 non-null  float64\n",
      " 3   close   11056 non-null  float64\n",
      " 4   volume  11056 non-null  int64  \n",
      "dtypes: float64(4), int64(1)\n",
      "memory usage: 518.2 KB\n"
     ]
    }
   ],
   "source": [
    "prices = sample_prices()\n",
    "prices.info()"
   ]
  },
  {
   "cell_type": "code",
   "execution_count": 6,
   "metadata": {
    "ExecuteTime": {
     "end_time": "2023-10-27T21:32:22.857257Z",
     "start_time": "2023-10-27T21:32:22.844662Z"
    },
    "collapsed": false,
    "pycharm": {
     "name": "#%%\n"
    }
   },
   "outputs": [
    {
     "data": {
      "application/vnd.microsoft.datawrangler.viewer.v0+json": {
       "columns": [
        {
         "name": "date",
         "rawType": "datetime64[ns]",
         "type": "datetime"
        },
        {
         "name": "open",
         "rawType": "float64",
         "type": "float"
        },
        {
         "name": "high",
         "rawType": "float64",
         "type": "float"
        },
        {
         "name": "low",
         "rawType": "float64",
         "type": "float"
        },
        {
         "name": "close",
         "rawType": "float64",
         "type": "float"
        },
        {
         "name": "volume",
         "rawType": "int64",
         "type": "integer"
        },
        {
         "name": "sma",
         "rawType": "float64",
         "type": "float"
        },
        {
         "name": "pos",
         "rawType": "float64",
         "type": "float"
        },
        {
         "name": "pos5",
         "rawType": "float64",
         "type": "float"
        }
       ],
       "conversionMethod": "pd.DataFrame",
       "ref": "4afb593e-13d9-477e-a608-547ca6c71cc6",
       "rows": [
        [
         "1980-12-12 00:00:00",
         "0.098943218588829",
         "0.0993733826221802",
         "0.098943218588829",
         "0.098943218588829",
         "469033600",
         null,
         "0.0",
         null
        ],
        [
         "1980-12-15 00:00:00",
         "0.0942114415117247",
         "0.0942114415117247",
         "0.0937812775373458",
         "0.0937812775373458",
         "175884800",
         null,
         "0.0",
         null
        ],
        [
         "1980-12-16 00:00:00",
         "0.0873280902323824",
         "0.0873280902323824",
         "0.0868979319930076",
         "0.0868979319930076",
         "105728000",
         null,
         "0.0",
         null
        ],
        [
         "1980-12-17 00:00:00",
         "0.0890487432479858",
         "0.0894789072724007",
         "0.0890487432479858",
         "0.0890487432479858",
         "86441600",
         null,
         "0.0",
         null
        ],
        [
         "1980-12-18 00:00:00",
         "0.0916304960846901",
         "0.0920606544149",
         "0.0916304960846901",
         "0.0916304960846901",
         "73449600",
         null,
         "0.0",
         null
        ],
        [
         "1980-12-19 00:00:00",
         "0.0972225740551948",
         "0.0976527380890438",
         "0.0972225740551948",
         "0.0972225740551948",
         "48630400",
         null,
         "0.0",
         "0.0"
        ],
        [
         "1980-12-22 00:00:00",
         "0.1019543185830116",
         "0.1023852521085301",
         "0.1019543185830116",
         "0.1019543185830116",
         "37363200",
         null,
         "0.0",
         "0.0"
        ],
        [
         "1980-12-23 00:00:00",
         "0.1062566936016082",
         "0.1066868574841481",
         "0.1062566936016082",
         "0.1062566936016082",
         "46950400",
         null,
         "0.0",
         "0.0"
        ],
        [
         "1980-12-24 00:00:00",
         "0.1118488311767578",
         "0.1122789952191501",
         "0.1118488311767578",
         "0.1118488311767578",
         "48003200",
         null,
         "0.0",
         "0.0"
        ],
        [
         "1980-12-26 00:00:00",
         "0.1221734434366226",
         "0.1226036073892967",
         "0.1221734434366226",
         "0.1221734434366226",
         "55574400",
         null,
         "0.0",
         "0.0"
        ],
        [
         "1980-12-29 00:00:00",
         "0.123894140124321",
         "0.1243243042588054",
         "0.123894140124321",
         "0.1238941401243209",
         "93161600",
         null,
         "0.0",
         "0.0"
        ],
        [
         "1980-12-30 00:00:00",
         "0.1213131255759294",
         "0.1213131255759294",
         "0.120882973074913",
         "0.120882973074913",
         "68880000",
         null,
         "0.0",
         "0.0"
        ],
        [
         "1980-12-31 00:00:00",
         "0.1178718629511808",
         "0.1178718629511808",
         "0.1174416989088058",
         "0.1174416989088058",
         "35750400",
         null,
         "0.0",
         "0.0"
        ],
        [
         "1981-01-02 00:00:00",
         "0.1187321469187736",
         "0.1195924747670889",
         "0.1187321469187736",
         "0.1187321469187736",
         "21660800",
         null,
         "0.0",
         "0.0"
        ],
        [
         "1981-01-05 00:00:00",
         "0.1165813736620856",
         "0.1165813736620856",
         "0.1161512210965156",
         "0.1161512210965156",
         "35728000",
         null,
         "0.0",
         "0.0"
        ],
        [
         "1981-01-06 00:00:00",
         "0.111418654276239",
         "0.111418654276239",
         "0.1109884902834892",
         "0.1109884902834892",
         "45158400",
         null,
         "0.0",
         "0.0"
        ],
        [
         "1981-01-07 00:00:00",
         "0.1066868574841481",
         "0.1066868574841481",
         "0.1062566936016082",
         "0.1062566936016082",
         "55686400",
         null,
         "0.0",
         "0.0"
        ],
        [
         "1981-01-08 00:00:00",
         "0.1045360795688692",
         "0.1045360795688692",
         "0.1041059270501136",
         "0.1041059270501136",
         "39827200",
         null,
         "0.0",
         "0.0"
        ],
        [
         "1981-01-09 00:00:00",
         "0.1096979528665542",
         "0.1101281166360776",
         "0.1096979528665542",
         "0.1096979528665542",
         "21504000",
         null,
         "0.0",
         "0.0"
        ],
        [
         "1981-01-12 00:00:00",
         "0.1096980329613421",
         "0.1096980329613421",
         "0.108837716281414",
         "0.108837716281414",
         "23699200",
         null,
         "0.0",
         "0.0"
        ],
        [
         "1981-01-13 00:00:00",
         "0.1053964096059363",
         "0.1053964096059363",
         "0.1049662455916404",
         "0.1049662455916404",
         "23049600",
         null,
         "0.0",
         "0.0"
        ],
        [
         "1981-01-14 00:00:00",
         "0.1053964346647262",
         "0.1058265987812968",
         "0.1053964346647262",
         "0.1053964346647262",
         "14291200",
         null,
         "0.0",
         "0.0"
        ],
        [
         "1981-01-15 00:00:00",
         "0.1075472012162208",
         "0.1084075176217551",
         "0.1075472012162208",
         "0.1075472012162208",
         "14067200",
         null,
         "0.0",
         "0.0"
        ],
        [
         "1981-01-16 00:00:00",
         "0.1071170691006673",
         "0.1071170691006673",
         "0.1066869050264358",
         "0.1066869050264358",
         "13395200",
         null,
         "0.0",
         "0.0"
        ],
        [
         "1981-01-19 00:00:00",
         "0.1131393015384674",
         "0.1135694655417813",
         "0.1131393015384674",
         "0.1131393015384674",
         "41574400",
         null,
         "0.0",
         "0.0"
        ],
        [
         "1981-01-20 00:00:00",
         "0.1101281166360776",
         "0.1101281166360776",
         "0.1096979528665542",
         "0.1096979528665542",
         "30083200",
         null,
         "0.0",
         "0.0"
        ],
        [
         "1981-01-21 00:00:00",
         "0.1118488311767578",
         "0.112709147774266",
         "0.1118488311767578",
         "0.1118488311767578",
         "15904000",
         null,
         "0.0",
         "0.0"
        ],
        [
         "1981-01-22 00:00:00",
         "0.1131393015384674",
         "0.1139996295450952",
         "0.1131393015384674",
         "0.1131393015384674",
         "35548800",
         null,
         "0.0",
         "0.0"
        ],
        [
         "1981-01-23 00:00:00",
         "0.1131392389779327",
         "0.1135694027433868",
         "0.1127090752124786",
         "0.1127090752124786",
         "11222400",
         null,
         "0.0",
         "0.0"
        ],
        [
         "1981-01-26 00:00:00",
         "0.111418654276239",
         "0.111418654276239",
         "0.1109884902834892",
         "0.1109884902834892",
         "24640000",
         null,
         "0.0",
         "0.0"
        ],
        [
         "1981-01-27 00:00:00",
         "0.1109885107505773",
         "0.1109885107505773",
         "0.1101281940937042",
         "0.1101281940937042",
         "23699200",
         null,
         "0.0",
         "0.0"
        ],
        [
         "1981-01-28 00:00:00",
         "0.1071170691006673",
         "0.1071170691006673",
         "0.1066869050264358",
         "0.1066869050264358",
         "28156800",
         null,
         "0.0",
         "0.0"
        ],
        [
         "1981-01-29 00:00:00",
         "0.1032456058215367",
         "0.1032456058215367",
         "0.1028154417872428",
         "0.1028154417872428",
         "43904000",
         null,
         "0.0",
         "0.0"
        ],
        [
         "1981-01-30 00:00:00",
         "0.0980829021228928",
         "0.0980829021228928",
         "0.0972225740551948",
         "0.0972225740551948",
         "46188800",
         null,
         "0.0",
         "0.0"
        ],
        [
         "1981-02-02 00:00:00",
         "0.0920606544149",
         "0.0920606544149",
         "0.0916304960846901",
         "0.0916304960846901",
         "23766400",
         null,
         "0.0",
         "0.0"
        ],
        [
         "1981-02-03 00:00:00",
         "0.0950717329978942",
         "0.0955018910896459",
         "0.0950717329978942",
         "0.0950717329978942",
         "19152000",
         null,
         "0.0",
         "0.0"
        ],
        [
         "1981-02-04 00:00:00",
         "0.0985130593180656",
         "0.0989432118347776",
         "0.0985130593180656",
         "0.0985130593180656",
         "27865600",
         null,
         "0.0",
         "0.0"
        ],
        [
         "1981-02-05 00:00:00",
         "0.0985130593180656",
         "0.099373375838765",
         "0.0985130593180656",
         "0.0985130593180656",
         "7929600",
         null,
         "0.0",
         "0.0"
        ],
        [
         "1981-02-06 00:00:00",
         "0.098943218588829",
         "0.0993733826221802",
         "0.098943218588829",
         "0.098943218588829",
         "13865600",
         null,
         "0.0",
         "0.0"
        ],
        [
         "1981-02-09 00:00:00",
         "0.0946415997424663",
         "0.0946415997424663",
         "0.0937812775373458",
         "0.0937812775373458",
         "16755200",
         null,
         "0.0",
         "0.0"
        ],
        [
         "1981-02-10 00:00:00",
         "0.0937812775373458",
         "0.0942114415117247",
         "0.0937812775373458",
         "0.0937812775373458",
         "18345600",
         null,
         "0.0",
         "0.0"
        ],
        [
         "1981-02-11 00:00:00",
         "0.0912003209199001",
         "0.0912003209199001",
         "0.0907701626420021",
         "0.0907701626420021",
         "13843200",
         null,
         "0.0",
         "0.0"
        ],
        [
         "1981-02-12 00:00:00",
         "0.0903399879570892",
         "0.0903399879570892",
         "0.089909054338932",
         "0.089909054338932",
         "14560000",
         null,
         "0.0",
         "0.0"
        ],
        [
         "1981-02-13 00:00:00",
         "0.0886185952916998",
         "0.0886185952916998",
         "0.0877582728862762",
         "0.0877582728862762",
         "11155200",
         null,
         "0.0",
         "0.0"
        ],
        [
         "1981-02-17 00:00:00",
         "0.089909054338932",
         "0.0903399879570892",
         "0.089909054338932",
         "0.089909054338932",
         "12275200",
         null,
         "0.0",
         "0.0"
        ],
        [
         "1981-02-18 00:00:00",
         "0.0937812775373458",
         "0.0946415997424663",
         "0.0937812775373458",
         "0.0937812775373458",
         "19241600",
         null,
         "0.0",
         "0.0"
        ],
        [
         "1981-02-19 00:00:00",
         "0.0886185662884635",
         "0.0886185662884635",
         "0.0881884023547172",
         "0.0881884023547172",
         "22310400",
         null,
         "0.0",
         "0.0"
        ],
        [
         "1981-02-20 00:00:00",
         "0.0838868443527526",
         "0.0838868443527526",
         "0.0834566801786422",
         "0.0834566801786422",
         "24371200",
         null,
         "0.0",
         "0.0"
        ],
        [
         "1981-02-23 00:00:00",
         "0.0847471207380294",
         "0.0851772847066912",
         "0.0847471207380294",
         "0.0847471207380294",
         "14112000",
         null,
         "0.0",
         "0.0"
        ],
        [
         "1981-02-24 00:00:00",
         "0.0825963431986939",
         "0.0825963431986939",
         "0.0817360207438469",
         "0.0817360207438469",
         "16979200",
         "0.10220419019460676",
         "0.0",
         "0.0"
        ]
       ],
       "shape": {
        "columns": 8,
        "rows": 11056
       }
      },
      "text/html": [
       "<div>\n",
       "<style scoped>\n",
       "    .dataframe tbody tr th:only-of-type {\n",
       "        vertical-align: middle;\n",
       "    }\n",
       "\n",
       "    .dataframe tbody tr th {\n",
       "        vertical-align: top;\n",
       "    }\n",
       "\n",
       "    .dataframe thead th {\n",
       "        text-align: right;\n",
       "    }\n",
       "</style>\n",
       "<table border=\"1\" class=\"dataframe\">\n",
       "  <thead>\n",
       "    <tr style=\"text-align: right;\">\n",
       "      <th></th>\n",
       "      <th>open</th>\n",
       "      <th>high</th>\n",
       "      <th>low</th>\n",
       "      <th>close</th>\n",
       "      <th>volume</th>\n",
       "      <th>sma</th>\n",
       "      <th>pos</th>\n",
       "      <th>pos5</th>\n",
       "    </tr>\n",
       "    <tr>\n",
       "      <th>date</th>\n",
       "      <th></th>\n",
       "      <th></th>\n",
       "      <th></th>\n",
       "      <th></th>\n",
       "      <th></th>\n",
       "      <th></th>\n",
       "      <th></th>\n",
       "      <th></th>\n",
       "    </tr>\n",
       "  </thead>\n",
       "  <tbody>\n",
       "    <tr>\n",
       "      <th>1980-12-12</th>\n",
       "      <td>0.098943</td>\n",
       "      <td>0.099373</td>\n",
       "      <td>0.098943</td>\n",
       "      <td>0.098943</td>\n",
       "      <td>469033600</td>\n",
       "      <td>NaN</td>\n",
       "      <td>0.0</td>\n",
       "      <td>NaN</td>\n",
       "    </tr>\n",
       "    <tr>\n",
       "      <th>1980-12-15</th>\n",
       "      <td>0.094211</td>\n",
       "      <td>0.094211</td>\n",
       "      <td>0.093781</td>\n",
       "      <td>0.093781</td>\n",
       "      <td>175884800</td>\n",
       "      <td>NaN</td>\n",
       "      <td>0.0</td>\n",
       "      <td>NaN</td>\n",
       "    </tr>\n",
       "    <tr>\n",
       "      <th>1980-12-16</th>\n",
       "      <td>0.087328</td>\n",
       "      <td>0.087328</td>\n",
       "      <td>0.086898</td>\n",
       "      <td>0.086898</td>\n",
       "      <td>105728000</td>\n",
       "      <td>NaN</td>\n",
       "      <td>0.0</td>\n",
       "      <td>NaN</td>\n",
       "    </tr>\n",
       "    <tr>\n",
       "      <th>1980-12-17</th>\n",
       "      <td>0.089049</td>\n",
       "      <td>0.089479</td>\n",
       "      <td>0.089049</td>\n",
       "      <td>0.089049</td>\n",
       "      <td>86441600</td>\n",
       "      <td>NaN</td>\n",
       "      <td>0.0</td>\n",
       "      <td>NaN</td>\n",
       "    </tr>\n",
       "    <tr>\n",
       "      <th>1980-12-18</th>\n",
       "      <td>0.091630</td>\n",
       "      <td>0.092061</td>\n",
       "      <td>0.091630</td>\n",
       "      <td>0.091630</td>\n",
       "      <td>73449600</td>\n",
       "      <td>NaN</td>\n",
       "      <td>0.0</td>\n",
       "      <td>NaN</td>\n",
       "    </tr>\n",
       "    <tr>\n",
       "      <th>...</th>\n",
       "      <td>...</td>\n",
       "      <td>...</td>\n",
       "      <td>...</td>\n",
       "      <td>...</td>\n",
       "      <td>...</td>\n",
       "      <td>...</td>\n",
       "      <td>...</td>\n",
       "      <td>...</td>\n",
       "    </tr>\n",
       "    <tr>\n",
       "      <th>2024-10-15</th>\n",
       "      <td>233.610001</td>\n",
       "      <td>237.490005</td>\n",
       "      <td>232.369995</td>\n",
       "      <td>233.850006</td>\n",
       "      <td>64751400</td>\n",
       "      <td>224.138625</td>\n",
       "      <td>1.0</td>\n",
       "      <td>1.0</td>\n",
       "    </tr>\n",
       "    <tr>\n",
       "      <th>2024-10-16</th>\n",
       "      <td>231.600006</td>\n",
       "      <td>232.119995</td>\n",
       "      <td>229.839996</td>\n",
       "      <td>231.779999</td>\n",
       "      <td>34082200</td>\n",
       "      <td>224.634417</td>\n",
       "      <td>1.0</td>\n",
       "      <td>1.0</td>\n",
       "    </tr>\n",
       "    <tr>\n",
       "      <th>2024-10-17</th>\n",
       "      <td>233.429993</td>\n",
       "      <td>233.850006</td>\n",
       "      <td>230.520004</td>\n",
       "      <td>232.149994</td>\n",
       "      <td>32993800</td>\n",
       "      <td>225.085868</td>\n",
       "      <td>1.0</td>\n",
       "      <td>1.0</td>\n",
       "    </tr>\n",
       "    <tr>\n",
       "      <th>2024-10-18</th>\n",
       "      <td>236.179993</td>\n",
       "      <td>236.179993</td>\n",
       "      <td>234.009995</td>\n",
       "      <td>235.000000</td>\n",
       "      <td>46431500</td>\n",
       "      <td>225.524600</td>\n",
       "      <td>1.0</td>\n",
       "      <td>1.0</td>\n",
       "    </tr>\n",
       "    <tr>\n",
       "      <th>2024-10-21</th>\n",
       "      <td>234.449997</td>\n",
       "      <td>236.850006</td>\n",
       "      <td>234.449997</td>\n",
       "      <td>236.479996</td>\n",
       "      <td>36220800</td>\n",
       "      <td>225.934400</td>\n",
       "      <td>1.0</td>\n",
       "      <td>1.0</td>\n",
       "    </tr>\n",
       "  </tbody>\n",
       "</table>\n",
       "<p>11056 rows × 8 columns</p>\n",
       "</div>"
      ],
      "text/plain": [
       "                  open        high         low       close     volume  \\\n",
       "date                                                                    \n",
       "1980-12-12    0.098943    0.099373    0.098943    0.098943  469033600   \n",
       "1980-12-15    0.094211    0.094211    0.093781    0.093781  175884800   \n",
       "1980-12-16    0.087328    0.087328    0.086898    0.086898  105728000   \n",
       "1980-12-17    0.089049    0.089479    0.089049    0.089049   86441600   \n",
       "1980-12-18    0.091630    0.092061    0.091630    0.091630   73449600   \n",
       "...                ...         ...         ...         ...        ...   \n",
       "2024-10-15  233.610001  237.490005  232.369995  233.850006   64751400   \n",
       "2024-10-16  231.600006  232.119995  229.839996  231.779999   34082200   \n",
       "2024-10-17  233.429993  233.850006  230.520004  232.149994   32993800   \n",
       "2024-10-18  236.179993  236.179993  234.009995  235.000000   46431500   \n",
       "2024-10-21  234.449997  236.850006  234.449997  236.479996   36220800   \n",
       "\n",
       "                   sma  pos  pos5  \n",
       "date                               \n",
       "1980-12-12         NaN  0.0   NaN  \n",
       "1980-12-15         NaN  0.0   NaN  \n",
       "1980-12-16         NaN  0.0   NaN  \n",
       "1980-12-17         NaN  0.0   NaN  \n",
       "1980-12-18         NaN  0.0   NaN  \n",
       "...                ...  ...   ...  \n",
       "2024-10-15  224.138625  1.0   1.0  \n",
       "2024-10-16  224.634417  1.0   1.0  \n",
       "2024-10-17  225.085868  1.0   1.0  \n",
       "2024-10-18  225.524600  1.0   1.0  \n",
       "2024-10-21  225.934400  1.0   1.0  \n",
       "\n",
       "[11056 rows x 8 columns]"
      ]
     },
     "execution_count": 6,
     "metadata": {},
     "output_type": "execute_result"
    }
   ],
   "source": [
    "prices = prices.assign(\n",
    "    sma = SMA(50),\n",
    "    pos = EVAL(\"close > sma\"),\n",
    "    pos5 = CLAG(5, item=\"pos\"),\n",
    ")\n",
    "prices\n",
    "\n"
   ]
  },
  {
   "cell_type": "code",
   "execution_count": null,
   "metadata": {},
   "outputs": [
    {
     "data": {
      "image/png": "[encoded data removed]",
      "text/plain": [
       "<Figure size 1200x900 with 2 Axes>"
      ]
     },
     "metadata": {},
     "output_type": "display_data"
    }
   ],
   "source": [
    "axes = prices.tail(100).plot(\n",
    "    y=[\"close\", \"sma\", \"pos\", \"pos5\"],\n",
    "    subplots=[[\"close\", \"sma\" ], [\"pos\", \"pos5\"]],\n",
    "    use_index=False,\n",
    ")\n",
    "\n",
    "ax = axes[-1]\n",
    "gs = ax.get_gridspec()\n",
    "gs.set_height_ratios([4, 1])\n",
    "gs.update(hspace=0.0)\n"
   ]
  },
  {
   "cell_type": "code",
   "execution_count": null,
   "metadata": {},
   "outputs": [],
   "source": []
  }
 ],
 "metadata": {
  "kernelspec": {
   "display_name": ".venv",
   "language": "python",
   "name": "python3"
  },
  "language_info": {
   "codemirror_mode": {
    "name": "ipython",
    "version": 3
   },
   "file_extension": ".py",
   "mimetype": "text/x-python",
   "name": "python",
   "nbconvert_exporter": "python",
   "pygments_lexer": "ipython3",
   "version": "3.9.20"
  }
 },
 "nbformat": 4,
 "nbformat_minor": 0
}
