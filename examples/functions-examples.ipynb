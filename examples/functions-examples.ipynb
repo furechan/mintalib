{
 "cells": [
  {
   "cell_type": "markdown",
   "metadata": {
    "collapsed": false,
    "pycharm": {
     "name": "#%% md\n"
    }
   },
   "source": [
    "# Using mintalib functions"
   ]
  },
  {
   "cell_type": "code",
   "execution_count": 2,
   "metadata": {
    "ExecuteTime": {
     "end_time": "2023-10-27T21:31:36.300809Z",
     "start_time": "2023-10-27T21:31:36.042896Z"
    },
    "collapsed": false,
    "pycharm": {
     "name": "#%%\n"
    }
   },
   "outputs": [],
   "source": [
    "from mintalib.functions import EMA, SMA, TRANGE, MACD\n",
    "from mintalib.samples import sample_prices"
   ]
  },
  {
   "cell_type": "code",
   "execution_count": 3,
   "metadata": {
    "ExecuteTime": {
     "end_time": "2023-10-27T21:31:36.706450Z",
     "start_time": "2023-10-27T21:31:36.671381Z"
    },
    "collapsed": false,
    "pycharm": {
     "name": "#%%\n"
    }
   },
   "outputs": [
    {
     "name": "stdout",
     "output_type": "stream",
     "text": [
      "<class 'pandas.core.frame.DataFrame'>\n",
      "DatetimeIndex: 11033 entries, 1980-12-12 to 2024-09-18\n",
      "Data columns (total 5 columns):\n",
      " #   Column  Non-Null Count  Dtype  \n",
      "---  ------  --------------  -----  \n",
      " 0   open    11033 non-null  float64\n",
      " 1   high    11033 non-null  float64\n",
      " 2   low     11033 non-null  float64\n",
      " 3   close   11033 non-null  float64\n",
      " 4   volume  11033 non-null  int64  \n",
      "dtypes: float64(4), int64(1)\n",
      "memory usage: 517.2 KB\n"
     ]
    }
   ],
   "source": [
    "prices = sample_prices()\n",
    "prices.info()"
   ]
  },
  {
   "cell_type": "code",
   "execution_count": 4,
   "metadata": {
    "ExecuteTime": {
     "end_time": "2023-10-27T21:31:37.265354Z",
     "start_time": "2023-10-27T21:31:37.242337Z"
    },
    "collapsed": false,
    "pycharm": {
     "name": "#%%\n"
    }
   },
   "outputs": [
    {
     "data": {
      "text/html": [
       "<div>\n",
       "<style scoped>\n",
       "    .dataframe tbody tr th:only-of-type {\n",
       "        vertical-align: middle;\n",
       "    }\n",
       "\n",
       "    .dataframe tbody tr th {\n",
       "        vertical-align: top;\n",
       "    }\n",
       "\n",
       "    .dataframe thead th {\n",
       "        text-align: right;\n",
       "    }\n",
       "</style>\n",
       "<table border=\"1\" class=\"dataframe\">\n",
       "  <thead>\n",
       "    <tr style=\"text-align: right;\">\n",
       "      <th></th>\n",
       "      <th>macd</th>\n",
       "      <th>macdsignal</th>\n",
       "      <th>macdhist</th>\n",
       "    </tr>\n",
       "    <tr>\n",
       "      <th>date</th>\n",
       "      <th></th>\n",
       "      <th></th>\n",
       "      <th></th>\n",
       "    </tr>\n",
       "  </thead>\n",
       "  <tbody>\n",
       "    <tr>\n",
       "      <th>1980-12-12</th>\n",
       "      <td>NaN</td>\n",
       "      <td>NaN</td>\n",
       "      <td>NaN</td>\n",
       "    </tr>\n",
       "    <tr>\n",
       "      <th>1980-12-15</th>\n",
       "      <td>NaN</td>\n",
       "      <td>NaN</td>\n",
       "      <td>NaN</td>\n",
       "    </tr>\n",
       "    <tr>\n",
       "      <th>1980-12-16</th>\n",
       "      <td>NaN</td>\n",
       "      <td>NaN</td>\n",
       "      <td>NaN</td>\n",
       "    </tr>\n",
       "    <tr>\n",
       "      <th>1980-12-17</th>\n",
       "      <td>NaN</td>\n",
       "      <td>NaN</td>\n",
       "      <td>NaN</td>\n",
       "    </tr>\n",
       "    <tr>\n",
       "      <th>1980-12-18</th>\n",
       "      <td>NaN</td>\n",
       "      <td>NaN</td>\n",
       "      <td>NaN</td>\n",
       "    </tr>\n",
       "    <tr>\n",
       "      <th>...</th>\n",
       "      <td>...</td>\n",
       "      <td>...</td>\n",
       "      <td>...</td>\n",
       "    </tr>\n",
       "    <tr>\n",
       "      <th>2024-09-12</th>\n",
       "      <td>0.335167</td>\n",
       "      <td>1.020443</td>\n",
       "      <td>-0.685276</td>\n",
       "    </tr>\n",
       "    <tr>\n",
       "      <th>2024-09-13</th>\n",
       "      <td>0.279937</td>\n",
       "      <td>0.872342</td>\n",
       "      <td>-0.592404</td>\n",
       "    </tr>\n",
       "    <tr>\n",
       "      <th>2024-09-16</th>\n",
       "      <td>-0.259515</td>\n",
       "      <td>0.645970</td>\n",
       "      <td>-0.905485</td>\n",
       "    </tr>\n",
       "    <tr>\n",
       "      <th>2024-09-17</th>\n",
       "      <td>-0.641714</td>\n",
       "      <td>0.388433</td>\n",
       "      <td>-1.030147</td>\n",
       "    </tr>\n",
       "    <tr>\n",
       "      <th>2024-09-18</th>\n",
       "      <td>-0.622733</td>\n",
       "      <td>0.186200</td>\n",
       "      <td>-0.808933</td>\n",
       "    </tr>\n",
       "  </tbody>\n",
       "</table>\n",
       "<p>11033 rows × 3 columns</p>\n",
       "</div>"
      ],
      "text/plain": [
       "                macd  macdsignal  macdhist\n",
       "date                                      \n",
       "1980-12-12       NaN         NaN       NaN\n",
       "1980-12-15       NaN         NaN       NaN\n",
       "1980-12-16       NaN         NaN       NaN\n",
       "1980-12-17       NaN         NaN       NaN\n",
       "1980-12-18       NaN         NaN       NaN\n",
       "...              ...         ...       ...\n",
       "2024-09-12  0.335167    1.020443 -0.685276\n",
       "2024-09-13  0.279937    0.872342 -0.592404\n",
       "2024-09-16 -0.259515    0.645970 -0.905485\n",
       "2024-09-17 -0.641714    0.388433 -1.030147\n",
       "2024-09-18 -0.622733    0.186200 -0.808933\n",
       "\n",
       "[11033 rows x 3 columns]"
      ]
     },
     "execution_count": 4,
     "metadata": {},
     "output_type": "execute_result"
    }
   ],
   "source": [
    "res = MACD(prices)\n",
    "res"
   ]
  },
  {
   "cell_type": "code",
   "execution_count": 5,
   "metadata": {
    "ExecuteTime": {
     "end_time": "2023-10-27T21:31:37.884970Z",
     "start_time": "2023-10-27T21:31:37.870277Z"
    },
    "collapsed": false,
    "pycharm": {
     "name": "#%%\n"
    }
   },
   "outputs": [
    {
     "data": {
      "text/plain": [
       "date\n",
       "1980-12-12         NaN\n",
       "1980-12-15    0.005162\n",
       "1980-12-16    0.006883\n",
       "1980-12-17    0.002581\n",
       "1980-12-18    0.003012\n",
       "                ...   \n",
       "2024-09-12    3.729996\n",
       "2024-09-13    2.129990\n",
       "2024-09-16    8.580002\n",
       "2024-09-17    2.399994\n",
       "2024-09-18    5.920013\n",
       "Length: 11033, dtype: float64"
      ]
     },
     "execution_count": 5,
     "metadata": {},
     "output_type": "execute_result"
    }
   ],
   "source": [
    "res = TRANGE(prices)\n",
    "res"
   ]
  },
  {
   "cell_type": "code",
   "execution_count": 6,
   "metadata": {
    "ExecuteTime": {
     "end_time": "2023-10-27T21:31:38.457841Z",
     "start_time": "2023-10-27T21:31:38.448667Z"
    },
    "collapsed": false,
    "pycharm": {
     "name": "#%%\n"
    }
   },
   "outputs": [
    {
     "data": {
      "text/plain": [
       "date\n",
       "1980-12-12           NaN\n",
       "1980-12-15           NaN\n",
       "1980-12-16           NaN\n",
       "1980-12-17           NaN\n",
       "1980-12-18           NaN\n",
       "                 ...    \n",
       "2024-09-12    43414535.0\n",
       "2024-09-13    42932165.0\n",
       "2024-09-16    43683025.0\n",
       "2024-09-17    43924600.0\n",
       "2024-09-18    45399070.0\n",
       "Length: 11033, dtype: float64"
      ]
     },
     "execution_count": 6,
     "metadata": {},
     "output_type": "execute_result"
    }
   ],
   "source": [
    "res = SMA(prices, 20, item=\"volume\")\n",
    "res"
   ]
  },
  {
   "cell_type": "code",
   "execution_count": 5,
   "metadata": {
    "ExecuteTime": {
     "end_time": "2023-10-25T18:56:23.371585Z",
     "start_time": "2023-10-25T18:56:23.359173Z"
    },
    "collapsed": false,
    "pycharm": {
     "name": "#%%\n"
    }
   },
   "outputs": [],
   "source": []
  },
  {
   "cell_type": "code",
   "execution_count": null,
   "metadata": {
    "collapsed": false
   },
   "outputs": [],
   "source": []
  }
 ],
 "metadata": {
  "kernelspec": {
   "display_name": ".venv",
   "language": "python",
   "name": "python3"
  },
  "language_info": {
   "codemirror_mode": {
    "name": "ipython",
    "version": 3
   },
   "file_extension": ".py",
   "mimetype": "text/x-python",
   "name": "python",
   "nbconvert_exporter": "python",
   "pygments_lexer": "ipython3",
   "version": "3.9.19"
  }
 },
 "nbformat": 4,
 "nbformat_minor": 0
}
