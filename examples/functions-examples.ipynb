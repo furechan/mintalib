{
 "cells": [
  {
   "cell_type": "markdown",
   "metadata": {
    "collapsed": false,
    "pycharm": {
     "name": "#%% md\n"
    }
   },
   "source": [
    "# Using mintalib functions"
   ]
  },
  {
   "cell_type": "code",
   "execution_count": 1,
   "metadata": {
    "ExecuteTime": {
     "end_time": "2023-10-27T21:31:36.300809Z",
     "start_time": "2023-10-27T21:31:36.042896Z"
    },
    "collapsed": false,
    "pycharm": {
     "name": "#%%\n"
    }
   },
   "outputs": [],
   "source": [
    "from mintalib.functions import EMA, SMA, TRANGE, MACD\n",
    "from mintalib.samples import sample_prices"
   ]
  },
  {
   "cell_type": "code",
   "execution_count": 2,
   "metadata": {
    "ExecuteTime": {
     "end_time": "2023-10-27T21:31:36.706450Z",
     "start_time": "2023-10-27T21:31:36.671381Z"
    },
    "collapsed": false,
    "pycharm": {
     "name": "#%%\n"
    }
   },
   "outputs": [
    {
     "data": {
      "text/html": [
       "<div>\n",
       "<style scoped>\n",
       "    .dataframe tbody tr th:only-of-type {\n",
       "        vertical-align: middle;\n",
       "    }\n",
       "\n",
       "    .dataframe tbody tr th {\n",
       "        vertical-align: top;\n",
       "    }\n",
       "\n",
       "    .dataframe thead th {\n",
       "        text-align: right;\n",
       "    }\n",
       "</style>\n",
       "<table border=\"1\" class=\"dataframe\">\n",
       "  <thead>\n",
       "    <tr style=\"text-align: right;\">\n",
       "      <th></th>\n",
       "      <th>open</th>\n",
       "      <th>high</th>\n",
       "      <th>low</th>\n",
       "      <th>close</th>\n",
       "      <th>volume</th>\n",
       "    </tr>\n",
       "    <tr>\n",
       "      <th>date</th>\n",
       "      <th></th>\n",
       "      <th></th>\n",
       "      <th></th>\n",
       "      <th></th>\n",
       "      <th></th>\n",
       "    </tr>\n",
       "  </thead>\n",
       "  <tbody>\n",
       "    <tr>\n",
       "      <th>1980-12-12</th>\n",
       "      <td>0.098943</td>\n",
       "      <td>0.099373</td>\n",
       "      <td>0.098943</td>\n",
       "      <td>0.098943</td>\n",
       "      <td>469033600</td>\n",
       "    </tr>\n",
       "    <tr>\n",
       "      <th>1980-12-15</th>\n",
       "      <td>0.094211</td>\n",
       "      <td>0.094211</td>\n",
       "      <td>0.093781</td>\n",
       "      <td>0.093781</td>\n",
       "      <td>175884800</td>\n",
       "    </tr>\n",
       "    <tr>\n",
       "      <th>1980-12-16</th>\n",
       "      <td>0.087328</td>\n",
       "      <td>0.087328</td>\n",
       "      <td>0.086898</td>\n",
       "      <td>0.086898</td>\n",
       "      <td>105728000</td>\n",
       "    </tr>\n",
       "    <tr>\n",
       "      <th>1980-12-17</th>\n",
       "      <td>0.089049</td>\n",
       "      <td>0.089479</td>\n",
       "      <td>0.089049</td>\n",
       "      <td>0.089049</td>\n",
       "      <td>86441600</td>\n",
       "    </tr>\n",
       "    <tr>\n",
       "      <th>1980-12-18</th>\n",
       "      <td>0.091630</td>\n",
       "      <td>0.092061</td>\n",
       "      <td>0.091630</td>\n",
       "      <td>0.091630</td>\n",
       "      <td>73449600</td>\n",
       "    </tr>\n",
       "    <tr>\n",
       "      <th>...</th>\n",
       "      <td>...</td>\n",
       "      <td>...</td>\n",
       "      <td>...</td>\n",
       "      <td>...</td>\n",
       "      <td>...</td>\n",
       "    </tr>\n",
       "    <tr>\n",
       "      <th>2024-09-12</th>\n",
       "      <td>222.500000</td>\n",
       "      <td>223.550003</td>\n",
       "      <td>219.820007</td>\n",
       "      <td>222.770004</td>\n",
       "      <td>37498200</td>\n",
       "    </tr>\n",
       "    <tr>\n",
       "      <th>2024-09-13</th>\n",
       "      <td>223.580002</td>\n",
       "      <td>224.039993</td>\n",
       "      <td>221.910004</td>\n",
       "      <td>222.500000</td>\n",
       "      <td>36766600</td>\n",
       "    </tr>\n",
       "    <tr>\n",
       "      <th>2024-09-16</th>\n",
       "      <td>216.539993</td>\n",
       "      <td>217.220001</td>\n",
       "      <td>213.919998</td>\n",
       "      <td>216.320007</td>\n",
       "      <td>59357400</td>\n",
       "    </tr>\n",
       "    <tr>\n",
       "      <th>2024-09-17</th>\n",
       "      <td>215.750000</td>\n",
       "      <td>216.899994</td>\n",
       "      <td>214.500000</td>\n",
       "      <td>216.789993</td>\n",
       "      <td>45519300</td>\n",
       "    </tr>\n",
       "    <tr>\n",
       "      <th>2024-09-18</th>\n",
       "      <td>217.550003</td>\n",
       "      <td>222.710007</td>\n",
       "      <td>217.539993</td>\n",
       "      <td>220.690002</td>\n",
       "      <td>59788400</td>\n",
       "    </tr>\n",
       "  </tbody>\n",
       "</table>\n",
       "<p>11033 rows × 5 columns</p>\n",
       "</div>"
      ],
      "text/plain": [
       "                  open        high         low       close     volume\n",
       "date                                                                 \n",
       "1980-12-12    0.098943    0.099373    0.098943    0.098943  469033600\n",
       "1980-12-15    0.094211    0.094211    0.093781    0.093781  175884800\n",
       "1980-12-16    0.087328    0.087328    0.086898    0.086898  105728000\n",
       "1980-12-17    0.089049    0.089479    0.089049    0.089049   86441600\n",
       "1980-12-18    0.091630    0.092061    0.091630    0.091630   73449600\n",
       "...                ...         ...         ...         ...        ...\n",
       "2024-09-12  222.500000  223.550003  219.820007  222.770004   37498200\n",
       "2024-09-13  223.580002  224.039993  221.910004  222.500000   36766600\n",
       "2024-09-16  216.539993  217.220001  213.919998  216.320007   59357400\n",
       "2024-09-17  215.750000  216.899994  214.500000  216.789993   45519300\n",
       "2024-09-18  217.550003  222.710007  217.539993  220.690002   59788400\n",
       "\n",
       "[11033 rows x 5 columns]"
      ]
     },
     "execution_count": 2,
     "metadata": {},
     "output_type": "execute_result"
    }
   ],
   "source": [
    "prices = sample_prices()\n",
    "prices"
   ]
  },
  {
   "cell_type": "code",
   "execution_count": 3,
   "metadata": {
    "ExecuteTime": {
     "end_time": "2023-10-27T21:31:37.265354Z",
     "start_time": "2023-10-27T21:31:37.242337Z"
    },
    "collapsed": false,
    "pycharm": {
     "name": "#%%\n"
    }
   },
   "outputs": [
    {
     "data": {
      "text/html": [
       "<div>\n",
       "<style scoped>\n",
       "    .dataframe tbody tr th:only-of-type {\n",
       "        vertical-align: middle;\n",
       "    }\n",
       "\n",
       "    .dataframe tbody tr th {\n",
       "        vertical-align: top;\n",
       "    }\n",
       "\n",
       "    .dataframe thead th {\n",
       "        text-align: right;\n",
       "    }\n",
       "</style>\n",
       "<table border=\"1\" class=\"dataframe\">\n",
       "  <thead>\n",
       "    <tr style=\"text-align: right;\">\n",
       "      <th></th>\n",
       "      <th>macd</th>\n",
       "      <th>macdsignal</th>\n",
       "      <th>macdhist</th>\n",
       "    </tr>\n",
       "    <tr>\n",
       "      <th>date</th>\n",
       "      <th></th>\n",
       "      <th></th>\n",
       "      <th></th>\n",
       "    </tr>\n",
       "  </thead>\n",
       "  <tbody>\n",
       "    <tr>\n",
       "      <th>1980-12-12</th>\n",
       "      <td>NaN</td>\n",
       "      <td>NaN</td>\n",
       "      <td>NaN</td>\n",
       "    </tr>\n",
       "    <tr>\n",
       "      <th>1980-12-15</th>\n",
       "      <td>NaN</td>\n",
       "      <td>NaN</td>\n",
       "      <td>NaN</td>\n",
       "    </tr>\n",
       "    <tr>\n",
       "      <th>1980-12-16</th>\n",
       "      <td>NaN</td>\n",
       "      <td>NaN</td>\n",
       "      <td>NaN</td>\n",
       "    </tr>\n",
       "    <tr>\n",
       "      <th>1980-12-17</th>\n",
       "      <td>NaN</td>\n",
       "      <td>NaN</td>\n",
       "      <td>NaN</td>\n",
       "    </tr>\n",
       "    <tr>\n",
       "      <th>1980-12-18</th>\n",
       "      <td>NaN</td>\n",
       "      <td>NaN</td>\n",
       "      <td>NaN</td>\n",
       "    </tr>\n",
       "    <tr>\n",
       "      <th>...</th>\n",
       "      <td>...</td>\n",
       "      <td>...</td>\n",
       "      <td>...</td>\n",
       "    </tr>\n",
       "    <tr>\n",
       "      <th>2024-09-12</th>\n",
       "      <td>0.335167</td>\n",
       "      <td>1.020443</td>\n",
       "      <td>-0.685276</td>\n",
       "    </tr>\n",
       "    <tr>\n",
       "      <th>2024-09-13</th>\n",
       "      <td>0.279937</td>\n",
       "      <td>0.872342</td>\n",
       "      <td>-0.592404</td>\n",
       "    </tr>\n",
       "    <tr>\n",
       "      <th>2024-09-16</th>\n",
       "      <td>-0.259515</td>\n",
       "      <td>0.645970</td>\n",
       "      <td>-0.905485</td>\n",
       "    </tr>\n",
       "    <tr>\n",
       "      <th>2024-09-17</th>\n",
       "      <td>-0.641714</td>\n",
       "      <td>0.388433</td>\n",
       "      <td>-1.030147</td>\n",
       "    </tr>\n",
       "    <tr>\n",
       "      <th>2024-09-18</th>\n",
       "      <td>-0.622733</td>\n",
       "      <td>0.186200</td>\n",
       "      <td>-0.808933</td>\n",
       "    </tr>\n",
       "  </tbody>\n",
       "</table>\n",
       "<p>11033 rows × 3 columns</p>\n",
       "</div>"
      ],
      "text/plain": [
       "                macd  macdsignal  macdhist\n",
       "date                                      \n",
       "1980-12-12       NaN         NaN       NaN\n",
       "1980-12-15       NaN         NaN       NaN\n",
       "1980-12-16       NaN         NaN       NaN\n",
       "1980-12-17       NaN         NaN       NaN\n",
       "1980-12-18       NaN         NaN       NaN\n",
       "...              ...         ...       ...\n",
       "2024-09-12  0.335167    1.020443 -0.685276\n",
       "2024-09-13  0.279937    0.872342 -0.592404\n",
       "2024-09-16 -0.259515    0.645970 -0.905485\n",
       "2024-09-17 -0.641714    0.388433 -1.030147\n",
       "2024-09-18 -0.622733    0.186200 -0.808933\n",
       "\n",
       "[11033 rows x 3 columns]"
      ]
     },
     "execution_count": 3,
     "metadata": {},
     "output_type": "execute_result"
    }
   ],
   "source": [
    "res = MACD(prices)\n",
    "res"
   ]
  },
  {
   "cell_type": "code",
   "execution_count": 4,
   "metadata": {
    "ExecuteTime": {
     "end_time": "2023-10-27T21:31:37.884970Z",
     "start_time": "2023-10-27T21:31:37.870277Z"
    },
    "collapsed": false,
    "pycharm": {
     "name": "#%%\n"
    }
   },
   "outputs": [
    {
     "data": {
      "text/plain": [
       "date\n",
       "1980-12-12         NaN\n",
       "1980-12-15    0.005162\n",
       "1980-12-16    0.006883\n",
       "1980-12-17    0.002581\n",
       "1980-12-18    0.003012\n",
       "                ...   \n",
       "2024-09-12    3.729996\n",
       "2024-09-13    2.129990\n",
       "2024-09-16    8.580002\n",
       "2024-09-17    2.399994\n",
       "2024-09-18    5.920013\n",
       "Length: 11033, dtype: float64"
      ]
     },
     "execution_count": 4,
     "metadata": {},
     "output_type": "execute_result"
    }
   ],
   "source": [
    "res = TRANGE(prices)\n",
    "res"
   ]
  },
  {
   "cell_type": "code",
   "execution_count": 5,
   "metadata": {
    "ExecuteTime": {
     "end_time": "2023-10-27T21:31:38.457841Z",
     "start_time": "2023-10-27T21:31:38.448667Z"
    },
    "collapsed": false,
    "pycharm": {
     "name": "#%%\n"
    }
   },
   "outputs": [
    {
     "data": {
      "text/plain": [
       "date\n",
       "1980-12-12           NaN\n",
       "1980-12-15           NaN\n",
       "1980-12-16           NaN\n",
       "1980-12-17           NaN\n",
       "1980-12-18           NaN\n",
       "                 ...    \n",
       "2024-09-12    43414535.0\n",
       "2024-09-13    42932165.0\n",
       "2024-09-16    43683025.0\n",
       "2024-09-17    43924600.0\n",
       "2024-09-18    45399070.0\n",
       "Length: 11033, dtype: float64"
      ]
     },
     "execution_count": 5,
     "metadata": {},
     "output_type": "execute_result"
    }
   ],
   "source": [
    "res = SMA(prices, 20, item=\"volume\")\n",
    "res"
   ]
  },
  {
   "cell_type": "code",
   "execution_count": 5,
   "metadata": {
    "ExecuteTime": {
     "end_time": "2023-10-25T18:56:23.371585Z",
     "start_time": "2023-10-25T18:56:23.359173Z"
    },
    "collapsed": false,
    "pycharm": {
     "name": "#%%\n"
    }
   },
   "outputs": [],
   "source": []
  },
  {
   "cell_type": "code",
   "execution_count": null,
   "metadata": {
    "collapsed": false
   },
   "outputs": [],
   "source": []
  }
 ],
 "metadata": {
  "kernelspec": {
   "display_name": "Python 3",
   "language": "python",
   "name": "python3"
  },
  "language_info": {
   "codemirror_mode": {
    "name": "ipython",
    "version": 3
   },
   "file_extension": ".py",
   "mimetype": "text/x-python",
   "name": "python",
   "nbconvert_exporter": "python",
   "pygments_lexer": "ipython3",
   "version": "3.9.19"
  }
 },
 "nbformat": 4,
 "nbformat_minor": 0
}
