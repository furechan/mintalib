{
 "cells": [
  {
   "cell_type": "markdown",
   "metadata": {
    "collapsed": false,
    "pycharm": {
     "name": "#%% md\n"
    }
   },
   "source": [
    "# Using mintalib functions"
   ]
  },
  {
   "cell_type": "code",
   "execution_count": 6,
   "metadata": {
    "ExecuteTime": {
     "end_time": "2023-10-27T21:31:36.300809Z",
     "start_time": "2023-10-27T21:31:36.042896Z"
    },
    "collapsed": false,
    "pycharm": {
     "name": "#%%\n"
    }
   },
   "outputs": [],
   "source": [
    "import matplotlib as mpl\n",
    "\n",
    "import mintalib.functions as ta\n",
    "\n",
    "from mintalib.samples import sample_prices\n",
    "\n",
    "mpl.rc(\"figure\", figsize=(12, 9))\n"
   ]
  },
  {
   "cell_type": "code",
   "execution_count": 2,
   "metadata": {
    "ExecuteTime": {
     "end_time": "2023-10-27T21:31:36.706450Z",
     "start_time": "2023-10-27T21:31:36.671381Z"
    },
    "collapsed": false,
    "pycharm": {
     "name": "#%%\n"
    }
   },
   "outputs": [
    {
     "name": "stdout",
     "output_type": "stream",
     "text": [
      "<class 'pandas.core.frame.DataFrame'>\n",
      "DatetimeIndex: 11056 entries, 1980-12-12 to 2024-10-21\n",
      "Data columns (total 5 columns):\n",
      " #   Column  Non-Null Count  Dtype  \n",
      "---  ------  --------------  -----  \n",
      " 0   open    11056 non-null  float64\n",
      " 1   high    11056 non-null  float64\n",
      " 2   low     11056 non-null  float64\n",
      " 3   close   11056 non-null  float64\n",
      " 4   volume  11056 non-null  int64  \n",
      "dtypes: float64(4), int64(1)\n",
      "memory usage: 518.2 KB\n"
     ]
    }
   ],
   "source": [
    "prices = sample_prices()\n",
    "prices.info()"
   ]
  },
  {
   "cell_type": "code",
   "execution_count": 3,
   "metadata": {
    "ExecuteTime": {
     "end_time": "2023-10-27T21:31:37.265354Z",
     "start_time": "2023-10-27T21:31:37.242337Z"
    },
    "collapsed": false,
    "pycharm": {
     "name": "#%%\n"
    }
   },
   "outputs": [
    {
     "data": {
      "text/html": [
       "<div>\n",
       "<style scoped>\n",
       "    .dataframe tbody tr th:only-of-type {\n",
       "        vertical-align: middle;\n",
       "    }\n",
       "\n",
       "    .dataframe tbody tr th {\n",
       "        vertical-align: top;\n",
       "    }\n",
       "\n",
       "    .dataframe thead th {\n",
       "        text-align: right;\n",
       "    }\n",
       "</style>\n",
       "<table border=\"1\" class=\"dataframe\">\n",
       "  <thead>\n",
       "    <tr style=\"text-align: right;\">\n",
       "      <th></th>\n",
       "      <th>macd</th>\n",
       "      <th>macdsignal</th>\n",
       "      <th>macdhist</th>\n",
       "    </tr>\n",
       "    <tr>\n",
       "      <th>date</th>\n",
       "      <th></th>\n",
       "      <th></th>\n",
       "      <th></th>\n",
       "    </tr>\n",
       "  </thead>\n",
       "  <tbody>\n",
       "    <tr>\n",
       "      <th>1980-12-12</th>\n",
       "      <td>NaN</td>\n",
       "      <td>NaN</td>\n",
       "      <td>NaN</td>\n",
       "    </tr>\n",
       "    <tr>\n",
       "      <th>1980-12-15</th>\n",
       "      <td>NaN</td>\n",
       "      <td>NaN</td>\n",
       "      <td>NaN</td>\n",
       "    </tr>\n",
       "    <tr>\n",
       "      <th>1980-12-16</th>\n",
       "      <td>NaN</td>\n",
       "      <td>NaN</td>\n",
       "      <td>NaN</td>\n",
       "    </tr>\n",
       "    <tr>\n",
       "      <th>1980-12-17</th>\n",
       "      <td>NaN</td>\n",
       "      <td>NaN</td>\n",
       "      <td>NaN</td>\n",
       "    </tr>\n",
       "    <tr>\n",
       "      <th>1980-12-18</th>\n",
       "      <td>NaN</td>\n",
       "      <td>NaN</td>\n",
       "      <td>NaN</td>\n",
       "    </tr>\n",
       "    <tr>\n",
       "      <th>...</th>\n",
       "      <td>...</td>\n",
       "      <td>...</td>\n",
       "      <td>...</td>\n",
       "    </tr>\n",
       "    <tr>\n",
       "      <th>2024-10-15</th>\n",
       "      <td>1.815958</td>\n",
       "      <td>1.313965</td>\n",
       "      <td>0.501993</td>\n",
       "    </tr>\n",
       "    <tr>\n",
       "      <th>2024-10-16</th>\n",
       "      <td>1.941114</td>\n",
       "      <td>1.439395</td>\n",
       "      <td>0.501719</td>\n",
       "    </tr>\n",
       "    <tr>\n",
       "      <th>2024-10-17</th>\n",
       "      <td>2.046565</td>\n",
       "      <td>1.560829</td>\n",
       "      <td>0.485736</td>\n",
       "    </tr>\n",
       "    <tr>\n",
       "      <th>2024-10-18</th>\n",
       "      <td>2.333211</td>\n",
       "      <td>1.715305</td>\n",
       "      <td>0.617906</td>\n",
       "    </tr>\n",
       "    <tr>\n",
       "      <th>2024-10-21</th>\n",
       "      <td>2.649265</td>\n",
       "      <td>1.902097</td>\n",
       "      <td>0.747168</td>\n",
       "    </tr>\n",
       "  </tbody>\n",
       "</table>\n",
       "<p>11056 rows × 3 columns</p>\n",
       "</div>"
      ],
      "text/plain": [
       "                macd  macdsignal  macdhist\n",
       "date                                      \n",
       "1980-12-12       NaN         NaN       NaN\n",
       "1980-12-15       NaN         NaN       NaN\n",
       "1980-12-16       NaN         NaN       NaN\n",
       "1980-12-17       NaN         NaN       NaN\n",
       "1980-12-18       NaN         NaN       NaN\n",
       "...              ...         ...       ...\n",
       "2024-10-15  1.815958    1.313965  0.501993\n",
       "2024-10-16  1.941114    1.439395  0.501719\n",
       "2024-10-17  2.046565    1.560829  0.485736\n",
       "2024-10-18  2.333211    1.715305  0.617906\n",
       "2024-10-21  2.649265    1.902097  0.747168\n",
       "\n",
       "[11056 rows x 3 columns]"
      ]
     },
     "execution_count": 3,
     "metadata": {},
     "output_type": "execute_result"
    }
   ],
   "source": [
    "res = ta.macd(prices)\n",
    "res"
   ]
  },
  {
   "cell_type": "code",
   "execution_count": 4,
   "metadata": {
    "ExecuteTime": {
     "end_time": "2023-10-27T21:31:37.884970Z",
     "start_time": "2023-10-27T21:31:37.870277Z"
    },
    "collapsed": false,
    "pycharm": {
     "name": "#%%\n"
    }
   },
   "outputs": [
    {
     "data": {
      "text/plain": [
       "date\n",
       "1980-12-12    0.000430\n",
       "1980-12-15    0.005162\n",
       "1980-12-16    0.006883\n",
       "1980-12-17    0.002581\n",
       "1980-12-18    0.003012\n",
       "                ...   \n",
       "2024-10-15    6.190002\n",
       "2024-10-16    4.010010\n",
       "2024-10-17    3.330002\n",
       "2024-10-18    4.029999\n",
       "2024-10-21    2.400009\n",
       "Length: 11056, dtype: float64"
      ]
     },
     "execution_count": 4,
     "metadata": {},
     "output_type": "execute_result"
    }
   ],
   "source": [
    "res = ta.trange(prices)\n",
    "res"
   ]
  },
  {
   "cell_type": "code",
   "execution_count": 5,
   "metadata": {
    "ExecuteTime": {
     "end_time": "2023-10-27T21:31:38.457841Z",
     "start_time": "2023-10-27T21:31:38.448667Z"
    },
    "collapsed": false,
    "pycharm": {
     "name": "#%%\n"
    }
   },
   "outputs": [
    {
     "data": {
      "text/plain": [
       "date\n",
       "1980-12-12           NaN\n",
       "1980-12-15           NaN\n",
       "1980-12-16           NaN\n",
       "1980-12-17           NaN\n",
       "1980-12-18           NaN\n",
       "                 ...    \n",
       "2024-10-15    57377740.0\n",
       "2024-10-16    56087105.0\n",
       "2024-10-17    54397730.0\n",
       "2024-10-18    40785310.0\n",
       "2024-10-21    39889050.0\n",
       "Length: 11056, dtype: float64"
      ]
     },
     "execution_count": 5,
     "metadata": {},
     "output_type": "execute_result"
    }
   ],
   "source": [
    "res = ta.sma(prices, 20, item=\"volume\")\n",
    "res"
   ]
  },
  {
   "cell_type": "code",
   "execution_count": null,
   "metadata": {
    "collapsed": false
   },
   "outputs": [],
   "source": []
  }
 ],
 "metadata": {
  "kernelspec": {
   "display_name": ".venv",
   "language": "python",
   "name": "python3"
  },
  "language_info": {
   "codemirror_mode": {
    "name": "ipython",
    "version": 3
   },
   "file_extension": ".py",
   "mimetype": "text/x-python",
   "name": "python",
   "nbconvert_exporter": "python",
   "pygments_lexer": "ipython3",
   "version": "3.9.20"
  }
 },
 "nbformat": 4,
 "nbformat_minor": 0
}
