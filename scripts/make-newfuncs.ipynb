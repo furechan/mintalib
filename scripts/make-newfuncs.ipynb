{
 "cells": [
  {
   "cell_type": "markdown",
   "metadata": {
    "collapsed": false
   },
   "source": [
    "# Notebook to generate `functions` module"
   ]
  },
  {
   "cell_type": "code",
   "execution_count": 15,
   "metadata": {
    "ExecuteTime": {
     "end_time": "2024-04-26T00:51:31.241117Z",
     "start_time": "2024-04-26T00:51:31.185653Z"
    },
    "collapsed": false
   },
   "outputs": [],
   "source": [
    "import inspect\n",
    "import warnings\n",
    "\n",
    "from pathlib import Path\n",
    "\n",
    "from pprint import pformat\n",
    "\n",
    "from mintalib import core\n",
    "\n",
    "from inspect import Signature\n",
    "\n",
    "from mintalib.samples import sample_prices\n",
    "from mintalib.builder import annotate_parameter\n",
    "\n",
    "class TEXT(str):\n",
    "    def __repr__(self):\n",
    "        return self"
   ]
  },
  {
   "cell_type": "code",
   "execution_count": 16,
   "metadata": {},
   "outputs": [],
   "source": [
    "\n",
    "ROOTDIR = Path.cwd().parent\n",
    "PKGDIR = ROOTDIR.joinpath(\"src/mintalib\").resolve(strict=True)\n",
    "\n"
   ]
  },
  {
   "cell_type": "code",
   "execution_count": 17,
   "metadata": {},
   "outputs": [],
   "source": [
    "\n",
    "prices = sample_prices()\n"
   ]
  },
  {
   "cell_type": "code",
   "execution_count": 18,
   "metadata": {},
   "outputs": [],
   "source": [
    "import importlib.util\n",
    "\n",
    "def new_module(name: str, code: str = None):\n",
    "    spec = importlib.util.spec_from_loader(name, None)\n",
    "    module = importlib.util.module_from_spec(spec)\n",
    "    if code:\n",
    "        exec(code, module.__dict__)\n",
    "    return module"
   ]
  },
  {
   "cell_type": "code",
   "execution_count": 19,
   "metadata": {
    "ExecuteTime": {
     "end_time": "2024-04-26T00:51:32.396282Z",
     "start_time": "2024-04-26T00:51:32.360134Z"
    },
    "collapsed": false
   },
   "outputs": [
    {
     "data": {
      "text/plain": [
       "['calc_avgprice',\n",
       " 'calc_typprice',\n",
       " 'calc_wclprice',\n",
       " 'calc_midprice',\n",
       " 'calc_price',\n",
       " 'calc_crossover',\n",
       " 'calc_crossunder',\n",
       " 'calc_flag',\n",
       " 'calc_updown',\n",
       " 'calc_sign',\n",
       " 'calc_log',\n",
       " 'calc_exp',\n",
       " 'calc_diff',\n",
       " 'calc_lag',\n",
       " 'calc_min',\n",
       " 'calc_max',\n",
       " 'calc_sum',\n",
       " 'calc_roc',\n",
       " 'calc_mad',\n",
       " 'calc_stdev',\n",
       " 'calc_sma',\n",
       " 'calc_ema',\n",
       " 'calc_rma',\n",
       " 'calc_wma',\n",
       " 'calc_hma',\n",
       " 'calc_dema',\n",
       " 'calc_tema',\n",
       " 'calc_ma',\n",
       " 'calc_rsi',\n",
       " 'calc_dmi',\n",
       " 'calc_adx',\n",
       " 'calc_pdi',\n",
       " 'calc_mdi',\n",
       " 'calc_trange',\n",
       " 'calc_atr',\n",
       " 'calc_natr',\n",
       " 'calc_sar',\n",
       " 'calc_cci',\n",
       " 'calc_cmf',\n",
       " 'calc_mfi',\n",
       " 'calc_bop',\n",
       " 'calc_bbands',\n",
       " 'calc_keltner',\n",
       " 'calc_ker',\n",
       " 'calc_kama',\n",
       " 'calc_macd',\n",
       " 'calc_ppo',\n",
       " 'calc_slope',\n",
       " 'calc_rvalue',\n",
       " 'calc_tsf',\n",
       " 'calc_curve',\n",
       " 'calc_stoch',\n",
       " 'calc_streak',\n",
       " 'calc_eval']"
      ]
     },
     "execution_count": 19,
     "metadata": {},
     "output_type": "execute_result"
    }
   ],
   "source": [
    "import inspect\n",
    "\n",
    "def first_param(func):\n",
    "    return next(iter(inspect.signature(func).parameters), None)\n",
    "\n",
    "def core_functions():\n",
    "    return list(k for k, v in vars(core).items() if k.startswith(\"calc\") and callable(v))\n",
    "\n",
    "core_functions()"
   ]
  },
  {
   "cell_type": "code",
   "execution_count": 20,
   "metadata": {
    "ExecuteTime": {
     "end_time": "2024-04-26T00:51:33.117948Z",
     "start_time": "2024-04-26T00:51:33.098909Z"
    },
    "collapsed": false
   },
   "outputs": [],
   "source": [
    "# Sample code for indicator\n",
    "\n",
    "from mintalib.core import get_series, wrap_function, wrap_result\n",
    "\n",
    "@wrap_function(core.calc_sma)\n",
    "def sma(series, period: int, *, item: str = None):\n",
    "    kwargs = dict(period=period)\n",
    "    series = get_series(series, item=item)\n",
    "    result = core.calc_sma(series, **kwargs)\n",
    "    return wrap_result(result, series)\n",
    "\n"
   ]
  },
  {
   "cell_type": "code",
   "execution_count": 21,
   "metadata": {},
   "outputs": [
    {
     "data": {
      "text/plain": [
       "date\n",
       "1980-12-12           NaN\n",
       "1980-12-15           NaN\n",
       "1980-12-16           NaN\n",
       "1980-12-17           NaN\n",
       "1980-12-18           NaN\n",
       "                 ...    \n",
       "2024-10-15    227.524000\n",
       "2024-10-16    228.078500\n",
       "2024-10-17    228.242500\n",
       "2024-10-18    228.582500\n",
       "2024-10-21    229.082999\n",
       "Length: 11056, dtype: float64"
      ]
     },
     "execution_count": 21,
     "metadata": {},
     "output_type": "execute_result"
    }
   ],
   "source": [
    "sma(prices, 20)"
   ]
  },
  {
   "cell_type": "code",
   "execution_count": 22,
   "metadata": {
    "ExecuteTime": {
     "end_time": "2024-04-26T00:51:33.784132Z",
     "start_time": "2024-04-26T00:51:33.749869Z"
    },
    "collapsed": false
   },
   "outputs": [
    {
     "data": {
      "text/plain": [
       "@wrap_function(core.calc_ema)\n",
       "def ema(series, period: int, *, adjust: bool = False, item: str = None):\n",
       "    series = get_series(series, item=item)\n",
       "    kwargs = dict(period=period, adjust=adjust)\n",
       "    result = core.calc_ema(series, **kwargs)\n",
       "    return wrap_result(result, series)"
      ]
     },
     "execution_count": 22,
     "metadata": {},
     "output_type": "execute_result"
    }
   ],
   "source": [
    "PREAMBLE = '''\"\"\"\n",
    "Calculation functions for technical analysis indicators.\n",
    "\n",
    "The function names are all lower case and may conflict with standard functions,\n",
    "so the best way to use this module is to alias it to a short name\n",
    "like `ta` and access all functions as attributes.\n",
    "\n",
    "The first parameter `series` or `prices` indicates whether the function\n",
    "accepts a single series or a prices dataframe.\n",
    "\n",
    "Functions that accept a series usually have an optional parameter `item`\n",
    "to specify which column to use if the input is a dataframe.\n",
    "\n",
    "All functions wrap their output to match the type of their input.\n",
    "\n",
    "In particular the result of a function applied to a pandas series or dataframes\n",
    "will have the same index as the input.\n",
    "\"\"\"\n",
    "\n",
    "# Do not edit! This file was generated\n",
    "\n",
    "from . import core\n",
    "from .core import get_series, wrap_function, wrap_result\n",
    "\n",
    "\n",
    "nan = float('nan')\n",
    "\n",
    "def __getattr__(name):\n",
    "    if name.isupper() and name.lower() in globals():\n",
    "        return globals()[name.lower()]\n",
    "    raise AttributeError(f\"Module {__name__} has no attribute {name!r}\")\n",
    "\n",
    "'''\n",
    "\n",
    "def short_name(func):\n",
    "    name = func.__name__\n",
    "    if name.startswith(\"calc_\"):\n",
    "        name = name.removeprefix(\"calc_\")\n",
    "    else:\n",
    "        raise ValueError(\"Expected a function names starting with 'calc_'\")\n",
    "    return name\n",
    "\n",
    "def make_function(func, name: str = None, preamble=False, verbose=False):\n",
    "    if name is None:\n",
    "        name = short_name(func)\n",
    "\n",
    "    fname = func.__qualname__\n",
    "    module = func.__module__.rpartition(\".\")[2]\n",
    "    qname = f\"{module}.{fname}\"\n",
    "\n",
    "    signature = Signature.from_callable(func)\n",
    "    parameters = list(signature.parameters.values())\n",
    "\n",
    "    if verbose:\n",
    "        print(\"signature\", signature)\n",
    "        print(\"parameters\", parameters)\n",
    "\n",
    "    newparams = []\n",
    "    ftype = parameters[0].name\n",
    "\n",
    "    newparams = [annotate_parameter(p) for p in parameters if p.name != \"wrap\"]\n",
    "\n",
    "    if ftype == \"series\":\n",
    "        newparams.append(inspect.Parameter(\"item\", kind=inspect.Parameter.KEYWORD_ONLY, default=None, annotation=str))\n",
    "\n",
    "    if verbose:\n",
    "        print(\"newparams\", newparams)\n",
    "\n",
    "    newsig = Signature(newparams)\n",
    "\n",
    "    def argument(arg):\n",
    "        return ftype if arg == \"self\" else f\"{arg}=self.{arg}\"\n",
    "\n",
    "    code = PREAMBLE if preamble else \"\"\n",
    "    # code = \"# noinspection PyPep8Naming\\n\"\n",
    "\n",
    "    code += f\"@wrap_function({qname})\\n\"\n",
    "    code += f\"def {name}{newsig}:\\n\"\n",
    "\n",
    "    if ftype == \"series\":\n",
    "        code += \"    series = get_series(series, item=item)\\n\"\n",
    "\n",
    "    kwargs = \", \".join(f\"{p.name}={p.name}\" for p in newparams[1:] if p.name not in (\"series\", \"prices\", \"item\"))\n",
    "    code += f\"    kwargs = dict({kwargs})\\n\"\n",
    "    code += f\"    result = {qname}({ftype}, **kwargs)\\n\"\n",
    "    code += f\"    return wrap_result(result, {ftype})\\n\"\n",
    "\n",
    "    return code\n",
    "\n",
    "\n",
    "TEXT(make_function(core.calc_ema))"
   ]
  },
  {
   "cell_type": "code",
   "execution_count": 23,
   "metadata": {},
   "outputs": [
    {
     "data": {
      "text/plain": [
       "<module 'mintalib.functions'>"
      ]
     },
     "execution_count": 23,
     "metadata": {},
     "output_type": "execute_result"
    }
   ],
   "source": [
    "def test_function(func, name=None, verbose=False):\n",
    "    code = make_function(func, name=name, preamble=True, verbose=verbose)\n",
    "    return new_module(\"mintalib.functions\", code)\n",
    "\n",
    "test_function(core.calc_sma)\n"
   ]
  },
  {
   "cell_type": "code",
   "execution_count": 24,
   "metadata": {
    "ExecuteTime": {
     "end_time": "2024-04-26T00:51:35.236897Z",
     "start_time": "2024-04-26T00:51:35.215996Z"
    },
    "collapsed": false
   },
   "outputs": [
    {
     "data": {
      "text/plain": [
       "\"\"\"\n",
       "Calculation functions for technical analysis indicators.\n",
       "\n",
       "The function names are all lower case and may conflict with standard functions,\n",
       "so the best way to use this module is to alias it to a short name\n",
       "like `ta` and access all functions as attributes.\n",
       "\n",
       "The first parameter `series` or `prices` indicates whether the function\n",
       "accepts a single series or a prices dataframe.\n",
       "\n",
       "Functions that accept a series usually have an optional parameter `item`\n",
       "to specify which column to use if the input is a dataframe.\n",
       "\n",
       "All functions wrap their output to match the type of their input.\n",
       "\n",
       "In particular the result of a function applied to a pandas series or dataframes\n",
       "will have the same index as the input.\n",
       "\"\"\"\n",
       "\n",
       "# Do not edit! This file was generated\n",
       "\n",
       "from . import core\n",
       "from .core import get_series, wrap_function, wrap_result\n",
       "\n",
       "\n",
       "nan = float('nan')\n",
       "\n",
       "def __getattr__(name):\n",
       "    if name.isupper() and name.lower() in globals():\n",
       "        return globals()[name.lower()]\n",
       "    raise AttributeError(f\"Module {__name__} has no attribute {name ..."
      ]
     },
     "execution_count": 24,
     "metadata": {},
     "output_type": "execute_result"
    }
   ],
   "source": [
    "\n",
    "def make_functions(names=None):\n",
    "    if names is None:\n",
    "        names = core_functions()\n",
    "\n",
    "    output = PREAMBLE\n",
    "\n",
    "#    buffer = pformat(names, width=75, compact=True, indent=4)\n",
    "#    buffer = buffer.replace(\"[\", \" \").replace(\"]\", \"\")\n",
    "#    output += f\"__all__ = [\\n{buffer}\\n]\\n\"\n",
    "\n",
    "    output += \"__all__ = ()\\n\"\n",
    "    output += \"\\n\\n\"\n",
    "\n",
    "    for name in names:\n",
    "        func = getattr(core, name)\n",
    "        text = make_function(func)\n",
    "        output += text + \"\\n\\n\"\n",
    "\n",
    "    # output += \"__all__ = [name for name in dir() if name.isupper()]\\n\"\n",
    "\n",
    "    return output\n",
    "\n",
    "\n",
    "code = make_functions()\n",
    "\n",
    "TEXT(code[:1024] +  \" ...\")"
   ]
  },
  {
   "cell_type": "code",
   "execution_count": 25,
   "metadata": {
    "ExecuteTime": {
     "end_time": "2024-04-26T00:51:36.042638Z",
     "start_time": "2024-04-26T00:51:35.998144Z"
    },
    "collapsed": false
   },
   "outputs": [
    {
     "data": {
      "text/plain": [
       "['__all__',\n",
       " '__builtins__',\n",
       " '__doc__',\n",
       " '__getattr__',\n",
       " '__loader__',\n",
       " '__name__',\n",
       " '__package__',\n",
       " '__spec__',\n",
       " 'adx',\n",
       " 'atr',\n",
       " 'avgprice',\n",
       " 'bbands',\n",
       " 'bop',\n",
       " 'cci',\n",
       " 'cmf',\n",
       " 'core',\n",
       " 'crossover',\n",
       " 'crossunder',\n",
       " 'curve',\n",
       " 'dema',\n",
       " 'diff',\n",
       " 'dmi',\n",
       " 'ema',\n",
       " 'eval',\n",
       " 'exp',\n",
       " 'flag',\n",
       " 'get_series',\n",
       " 'hma',\n",
       " 'kama',\n",
       " 'keltner',\n",
       " 'ker',\n",
       " 'lag',\n",
       " 'log',\n",
       " 'ma',\n",
       " 'macd',\n",
       " 'mad',\n",
       " 'max',\n",
       " 'mdi',\n",
       " 'mfi',\n",
       " 'midprice',\n",
       " 'min',\n",
       " 'nan',\n",
       " 'natr',\n",
       " 'pdi',\n",
       " 'ppo',\n",
       " 'price',\n",
       " 'rma',\n",
       " 'roc',\n",
       " 'rsi',\n",
       " 'rvalue',\n",
       " 'sar',\n",
       " 'sign',\n",
       " 'slope',\n",
       " 'sma',\n",
       " 'stdev',\n",
       " 'stoch',\n",
       " 'streak',\n",
       " 'sum',\n",
       " 'tema',\n",
       " 'trange',\n",
       " 'tsf',\n",
       " 'typprice',\n",
       " 'updown',\n",
       " 'wclprice',\n",
       " 'wma',\n",
       " 'wrap_function',\n",
       " 'wrap_result']"
      ]
     },
     "execution_count": 25,
     "metadata": {},
     "output_type": "execute_result"
    }
   ],
   "source": [
    "code = make_functions()\n",
    "\n",
    "functions = new_module(\"mintalib.functions\", code)\n",
    "\n",
    "dir(functions)"
   ]
  },
  {
   "cell_type": "code",
   "execution_count": 26,
   "metadata": {
    "ExecuteTime": {
     "end_time": "2024-04-26T00:51:36.914647Z",
     "start_time": "2024-04-26T00:51:36.891830Z"
    },
    "collapsed": false
   },
   "outputs": [],
   "source": [
    "assert callable(functions.sma)\n",
    "\n",
    "res = functions.sma(prices, 20)\n",
    "\n",
    "assert len(res) > 0\n"
   ]
  },
  {
   "cell_type": "code",
   "execution_count": 27,
   "metadata": {},
   "outputs": [
    {
     "name": "stdout",
     "output_type": "stream",
     "text": [
      "Updating functions.py ...\n"
     ]
    },
    {
     "data": {
      "text/plain": [
       "13482"
      ]
     },
     "execution_count": 27,
     "metadata": {},
     "output_type": "execute_result"
    }
   ],
   "source": [
    "outfile = PKGDIR / \"functions.py\"\n",
    "\n",
    "print(f\"Updating {outfile.name} ...\")\n",
    "\n",
    "outfile.write_text(code)"
   ]
  },
  {
   "cell_type": "code",
   "execution_count": 28,
   "metadata": {
    "collapsed": false
   },
   "outputs": [],
   "source": [
    "from mintalib import functions\n",
    "\n",
    "assert callable(functions.sma)\n",
    "\n",
    "res = functions.sma(prices, 20)\n",
    "\n",
    "assert len(res) > 0"
   ]
  },
  {
   "cell_type": "code",
   "execution_count": null,
   "metadata": {},
   "outputs": [],
   "source": []
  },
  {
   "cell_type": "code",
   "execution_count": null,
   "metadata": {},
   "outputs": [],
   "source": []
  }
 ],
 "metadata": {
  "kernelspec": {
   "display_name": ".venv",
   "language": "python",
   "name": "python3"
  },
  "language_info": {
   "codemirror_mode": {
    "name": "ipython",
    "version": 3
   },
   "file_extension": ".py",
   "mimetype": "text/x-python",
   "name": "python",
   "nbconvert_exporter": "python",
   "pygments_lexer": "ipython3",
   "version": "3.9.20"
  }
 },
 "nbformat": 4,
 "nbformat_minor": 0
}
