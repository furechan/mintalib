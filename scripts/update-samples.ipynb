{
 "cells": [
  {
   "cell_type": "markdown",
   "id": "499a97e350a41475",
   "metadata": {
    "collapsed": false
   },
   "source": [
    "# Notebook to update sample prices data"
   ]
  },
  {
   "cell_type": "code",
   "execution_count": 11,
   "id": "initial_id",
   "metadata": {
    "ExecuteTime": {
     "end_time": "2024-06-05T12:56:06.179717Z",
     "start_time": "2024-06-05T12:56:06.140611Z"
    },
    "collapsed": false
   },
   "outputs": [],
   "source": [
    "from pathlib import Path\n",
    "\n",
    "import yfinance as yf # type: ignore\n"
   ]
  },
  {
   "cell_type": "code",
   "execution_count": 12,
   "id": "c3718b82",
   "metadata": {},
   "outputs": [],
   "source": [
    "ROOTDIR = Path.cwd().parent\n",
    "PKGDIR = ROOTDIR.joinpath(\"src/mintalib\").resolve(strict=True)"
   ]
  },
  {
   "cell_type": "code",
   "execution_count": 2,
   "id": "d2fae6336cff11e",
   "metadata": {
    "ExecuteTime": {
     "end_time": "2024-06-05T12:56:06.725757Z",
     "start_time": "2024-06-05T12:56:06.709034Z"
    },
    "collapsed": false
   },
   "outputs": [],
   "source": [
    "from functools import lru_cache\n",
    "\n",
    "INTERVAL = dict(daily=\"1d\", hourly=\"1h\", minute=\"1m\")\n",
    "MAXPERIOD = dict(daily=\"max\", hourly=\"2Y\", minute=\"5d\")\n",
    "\n",
    "\n",
    "@lru_cache\n",
    "def get_prices(symbol: str, *, freq=\"daily\", max_bars=0):\n",
    "    interval = INTERVAL[freq]\n",
    "    period = MAXPERIOD[freq]\n",
    "    prices = yf.Ticker(symbol).history(interval=interval, period=period, auto_adjust=True)\n",
    "    prices = prices.filter([\"Open\", \"High\", \"Low\", \"Close\", \"Volume\"])\n",
    "    prices = prices.rename(columns=str.lower).rename_axis(index=str.lower)\n",
    "    \n",
    "    if freq == \"daily\":\n",
    "        prices.index = prices.index.tz_localize(None)\n",
    "    \n",
    "    if max_bars > 0:\n",
    "        prices = prices.tail(max_bars)\n",
    "    return prices\n",
    "\n"
   ]
  },
  {
   "cell_type": "code",
   "execution_count": 3,
   "id": "2fdc8807cf0e7ca6",
   "metadata": {
    "ExecuteTime": {
     "end_time": "2024-06-05T12:56:08.337782Z",
     "start_time": "2024-06-05T12:56:07.850466Z"
    }
   },
   "outputs": [],
   "source": [
    "SYMBOL = 'AAPL'\n",
    "prices = get_prices(SYMBOL, freq=\"daily\")\n",
    "prices.index"
   ]
  },
  {
   "cell_type": "code",
   "execution_count": 5,
   "id": "6f0b632cdec46288",
   "metadata": {
    "ExecuteTime": {
     "end_time": "2024-06-05T12:56:10.678335Z",
     "start_time": "2024-06-05T12:56:09.978268Z"
    }
   },
   "outputs": [
    {
     "name": "stdout",
     "output_type": "stream",
     "text": [
      "daily 5000 datetime64[ns]\n",
      "hourly 3491 datetime64[ns, America/New_York]\n",
      "minute 1949 datetime64[ns, America/New_York]\n"
     ]
    }
   ],
   "source": [
    "for freq in INTERVAL.keys():\n",
    "    prices = get_prices(SYMBOL, freq=freq, max_bars=5000)\n",
    "    print(freq, len(prices), prices.index.dtype)\n"
   ]
  },
  {
   "cell_type": "code",
   "execution_count": 7,
   "id": "d924dbd4bb20fb39",
   "metadata": {
    "ExecuteTime": {
     "end_time": "2024-06-04T19:01:24.508Z",
     "start_time": "2024-06-04T19:01:24.361413Z"
    }
   },
   "outputs": [
    {
     "name": "stdout",
     "output_type": "stream",
     "text": [
      "Updating daily-prices.csv ...\n",
      "Updating hourly-prices.csv ...\n",
      "Updating minute-prices.csv ...\n"
     ]
    }
   ],
   "source": [
    "SAMPLES = PKGDIR.joinpath(\"samples\")\n",
    "\n",
    "for freq in INTERVAL.keys():\n",
    "    fname = f\"{freq}-prices.csv\"\n",
    "    prices = get_prices(SYMBOL, freq=freq)\n",
    "    data = prices.to_csv(lineterminator=\"\\n\")\n",
    "    outfile = SAMPLES.joinpath(fname)\n",
    "    print(f\"Updating {outfile.name} ...\")\n",
    "    outfile.write_text(data)"
   ]
  },
  {
   "cell_type": "code",
   "execution_count": 8,
   "id": "e3ec84022210d0c0",
   "metadata": {
    "ExecuteTime": {
     "end_time": "2024-06-04T19:01:58.007476Z",
     "start_time": "2024-06-04T19:01:57.935963Z"
    },
    "collapsed": false
   },
   "outputs": [
    {
     "name": "stdout",
     "output_type": "stream",
     "text": [
      "daily 5000\n",
      "hourly 3491\n",
      "minute 1949\n"
     ]
    }
   ],
   "source": [
    "from mintalib.samples import sample_prices\n",
    "\n",
    "for freq in INTERVAL.keys():\n",
    "    prices = sample_prices(freq=freq, max_bars=5000)\n",
    "    print(freq, len(prices))\n"
   ]
  },
  {
   "cell_type": "code",
   "execution_count": null,
   "id": "425390c4ed258f9",
   "metadata": {
    "collapsed": false
   },
   "outputs": [],
   "source": []
  }
 ],
 "metadata": {
  "kernelspec": {
   "display_name": ".venv",
   "language": "python",
   "name": "python3"
  },
  "language_info": {
   "codemirror_mode": {
    "name": "ipython",
    "version": 3
   },
   "file_extension": ".py",
   "mimetype": "text/x-python",
   "name": "python",
   "nbconvert_exporter": "python",
   "pygments_lexer": "ipython3",
   "version": "3.9.19"
  }
 },
 "nbformat": 4,
 "nbformat_minor": 5
}
