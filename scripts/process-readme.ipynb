{
 "cells": [
  {
   "cell_type": "markdown",
   "metadata": {},
   "source": [
    "Script to translate README.md relative urls\n",
    "\n",
    "Creates output/README.md for usage with pypi\n",
    "\n",
    "Requires toml !"
   ]
  },
  {
   "cell_type": "code",
   "execution_count": 30,
   "metadata": {},
   "outputs": [],
   "source": [
    "\n",
    "import re\n",
    "import toml\n",
    "import argparse\n",
    "import posixpath\n",
    "\n",
    "from pathlib import Path\n",
    "\n"
   ]
  },
  {
   "cell_type": "code",
   "execution_count": 31,
   "metadata": {},
   "outputs": [],
   "source": [
    "\n",
    "PYPROJECT = Path.cwd().joinpath(\"../pyproject.toml\").resolve(strict=True)\n",
    "ROOTDIR = PYPROJECT.parent\n"
   ]
  },
  {
   "cell_type": "code",
   "execution_count": 32,
   "metadata": {},
   "outputs": [
    {
     "data": {
      "text/plain": [
       "'https://github.com/furechan/mintalib'"
      ]
     },
     "execution_count": 32,
     "metadata": {},
     "output_type": "execute_result"
    }
   ],
   "source": [
    "\n",
    "def jquery(data: dict, item: str, default=None):\n",
    "    result = data\n",
    "\n",
    "    for i in item.split(\".\"):\n",
    "        result = result.get(i, None)\n",
    "        if result is None:\n",
    "            return default\n",
    "\n",
    "    return result\n",
    "\n",
    "\n",
    "def get_project_url(pyproject=PYPROJECT):\n",
    "    \"\"\"extract project url from project configuration\"\"\"\n",
    "\n",
    "    if not pyproject.exists():\n",
    "        raise FileNotFoundError(\"pyproject.toml\")\n",
    "\n",
    "    config = toml.load(pyproject)\n",
    "    \n",
    "    return jquery(config, \"project.urls.homepage\")\n",
    "\n",
    "get_project_url()\n",
    "\n"
   ]
  },
  {
   "cell_type": "code",
   "execution_count": 33,
   "metadata": {},
   "outputs": [
    {
     "name": "stdout",
     "output_type": "stream",
     "text": [
      "mapping [mintalib.core](docs/mintalib.core.md) -> [mintalib.core](https://github.com/furechan/mintalib/blob/main/docs/mintalib.core.md)\n",
      "mapping [mintalib.functions](docs/mintalib.functions.md) -> [mintalib.functions](https://github.com/furechan/mintalib/blob/main/docs/mintalib.functions.md)\n",
      "mapping [mintalib.indicators](docs/mintalib.indicators.md) -> [mintalib.indicators](https://github.com/furechan/mintalib/blob/main/docs/mintalib.indicators.md)\n"
     ]
    }
   ],
   "source": [
    "def process_readme(file, *, project_url=None, branch=\"main\", verbose=True):\n",
    "    \"\"\"translate relative urls to full urls\"\"\"\n",
    "\n",
    "    if project_url is None:\n",
    "        project_url = get_project_url()\n",
    "\n",
    "    def replace(m):\n",
    "        exclam, alt, url = m.groups()\n",
    "        ftype = \"raw\" if exclam else \"blob\"\n",
    "        if re.fullmatch(\"[^:/][^:]*\", url):\n",
    "            url = posixpath.join(project_url, ftype, branch, url)\n",
    "            text = f\"{exclam}[{alt}]({url})\"\n",
    "            if verbose:\n",
    "                print(\"mapping\", m.group(0), \"->\", text)\n",
    "        else:\n",
    "            text = m.group(0)\n",
    "        return text\n",
    "\n",
    "    source = file.read_text()\n",
    "\n",
    "    result = re.sub(\n",
    "        r\"(\\!?) \\[ ([^]]*) \\] \\( ([^)]+) \\)\", replace, source,\n",
    "        flags = re.VERBOSE\n",
    "        )\n",
    "\n",
    "    return result\n",
    "\n",
    "README = ROOTDIR.joinpath(\"README.md\").resolve(strict=True)\n",
    "\n",
    "output = process_readme(README, verbose=True)\n",
    "\n"
   ]
  },
  {
   "cell_type": "code",
   "execution_count": 34,
   "metadata": {},
   "outputs": [
    {
     "name": "stdout",
     "output_type": "stream",
     "text": [
      "mapping [mintalib.core](docs/mintalib.core.md) -> [mintalib.core](https://github.com/furechan/mintalib/blob/main/docs/mintalib.core.md)\n",
      "mapping [mintalib.functions](docs/mintalib.functions.md) -> [mintalib.functions](https://github.com/furechan/mintalib/blob/main/docs/mintalib.functions.md)\n",
      "mapping [mintalib.indicators](docs/mintalib.indicators.md) -> [mintalib.indicators](https://github.com/furechan/mintalib/blob/main/docs/mintalib.indicators.md)\n"
     ]
    },
    {
     "data": {
      "text/plain": [
       "8734"
      ]
     },
     "execution_count": 34,
     "metadata": {},
     "output_type": "execute_result"
    }
   ],
   "source": [
    "OUTDIR = ROOTDIR / \"output\"\n",
    "OUTDIR.mkdir(exist_ok=True)\n",
    "\n",
    "\n",
    "output = process_readme(README, verbose=True)\n",
    "outfile = OUTDIR.joinpath(\"README.md\").resolve()\n",
    "\n",
    "outfile.write_text(output)"
   ]
  },
  {
   "cell_type": "code",
   "execution_count": 35,
   "metadata": {},
   "outputs": [
    {
     "data": {
      "text/plain": [
       "<re.Match object; span=(0, 10), match='aaa/bbb.cc'>"
      ]
     },
     "execution_count": 35,
     "metadata": {},
     "output_type": "execute_result"
    }
   ],
   "source": [
    "import re \n",
    "\n",
    "re.fullmatch(\"[^:/][^:]*\", \"aaa/bbb.cc\")"
   ]
  },
  {
   "cell_type": "code",
   "execution_count": 36,
   "metadata": {},
   "outputs": [
    {
     "data": {
      "text/plain": [
       "'http://acme.com/aaa/bbb/toto.md'"
      ]
     },
     "execution_count": 36,
     "metadata": {},
     "output_type": "execute_result"
    }
   ],
   "source": [
    "posixpath.join(\"http://acme.com\", \"aaa\", \"bbb/toto.md\")"
   ]
  },
  {
   "cell_type": "code",
   "execution_count": null,
   "metadata": {},
   "outputs": [],
   "source": []
  },
  {
   "cell_type": "code",
   "execution_count": null,
   "metadata": {},
   "outputs": [],
   "source": []
  }
 ],
 "metadata": {
  "kernelspec": {
   "display_name": ".venv",
   "language": "python",
   "name": "python3"
  },
  "language_info": {
   "codemirror_mode": {
    "name": "ipython",
    "version": 3
   },
   "file_extension": ".py",
   "mimetype": "text/x-python",
   "name": "python",
   "nbconvert_exporter": "python",
   "pygments_lexer": "ipython3",
   "version": "3.9.19"
  }
 },
 "nbformat": 4,
 "nbformat_minor": 2
}
