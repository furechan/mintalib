{
 "cells": [
  {
   "cell_type": "code",
   "execution_count": 21,
   "metadata": {},
   "outputs": [],
   "source": [
    "import re\n",
    "\n",
    "from pathlib import Path\n",
    "\n",
    "ROOTDIR = Path.cwd().parent\n",
    "\n",
    "assert ROOTDIR.joinpath(\"pyproject.toml\").exists()"
   ]
  },
  {
   "cell_type": "code",
   "execution_count": null,
   "metadata": {},
   "outputs": [
    {
     "name": "stdout",
     "output_type": "stream",
     "text": [
      "keltner.pxi:     prc = calc_typprice(prices)\n",
      "keltner.pxi:     atr = calc_atr(prices, period)\n",
      "mfi.pxi:     prc = calc_typprice(prices)\n",
      "adx.pxi:     atr = calc_atr(prices, period)\n",
      "adx.pxi:     atr = calc_atr(prices, period)\n",
      "adx.pxi:     atr = calc_atr(prices, period)\n",
      "bbands.pxi:     prc = calc_typprice(prices)\n",
      "cci.pxi:     prc = calc_typprice(prices)\n",
      "atr.pxi:     trange = calc_trange(prices)\n",
      "atr.pxi:     trange = calc_trange(prices, percent=True)\n"
     ]
    }
   ],
   "source": [
    "# search all calc functions called on `prices` in cython source files\n",
    "\n",
    "files = ROOTDIR.joinpath(\"src/mintalib/cython\").glob(\"*.pxi\")\n",
    "for file in files:\n",
    "    code = file.read_text()\n",
    "    lines = code.splitlines(False)\n",
    "    for line in lines:\n",
    "        if match := re.search(r\"(\\w+) = (calc_\\w+)\\(prices\", line):\n",
    "            if match.group(1) != \"result\":\n",
    "                print(file.name + \":\", line)\n",
    "        \n"
   ]
  },
  {
   "cell_type": "code",
   "execution_count": null,
   "metadata": {},
   "outputs": [],
   "source": []
  },
  {
   "cell_type": "code",
   "execution_count": null,
   "metadata": {},
   "outputs": [],
   "source": []
  }
 ],
 "metadata": {
  "kernelspec": {
   "display_name": ".venv",
   "language": "python",
   "name": "python3"
  },
  "language_info": {
   "codemirror_mode": {
    "name": "ipython",
    "version": 3
   },
   "file_extension": ".py",
   "mimetype": "text/x-python",
   "name": "python",
   "nbconvert_exporter": "python",
   "pygments_lexer": "ipython3",
   "version": "3.9.19"
  }
 },
 "nbformat": 4,
 "nbformat_minor": 2
}
