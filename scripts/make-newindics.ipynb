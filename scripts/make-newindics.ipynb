{
 "cells": [
  {
   "cell_type": "markdown",
   "metadata": {
    "collapsed": false
   },
   "source": [
    "# Notebook to generate `indicators` module"
   ]
  },
  {
   "cell_type": "code",
   "execution_count": 67,
   "metadata": {
    "ExecuteTime": {
     "end_time": "2024-04-26T00:51:31.241117Z",
     "start_time": "2024-04-26T00:51:31.185653Z"
    },
    "collapsed": false
   },
   "outputs": [],
   "source": [
    "import inspect\n",
    "\n",
    "from pathlib import Path\n",
    "\n",
    "from pprint import pformat\n",
    "\n",
    "from mintalib import core\n",
    "\n",
    "from inspect import Signature\n",
    "\n",
    "from mintalib.samples import sample_prices\n",
    "from mintalib.builder import annotate_parameter\n",
    "\n",
    "\n",
    "class TEXT(str):\n",
    "    def __repr__(self):\n",
    "        return self"
   ]
  },
  {
   "cell_type": "code",
   "execution_count": 68,
   "metadata": {},
   "outputs": [],
   "source": [
    "\n",
    "ROOTDIR = Path.cwd().parent\n",
    "PKGDIR = ROOTDIR.joinpath(\"src/mintalib\").resolve(strict=True)\n",
    "\n"
   ]
  },
  {
   "cell_type": "code",
   "execution_count": 69,
   "metadata": {},
   "outputs": [],
   "source": [
    "\n",
    "prices = sample_prices()\n"
   ]
  },
  {
   "cell_type": "code",
   "execution_count": 70,
   "metadata": {},
   "outputs": [],
   "source": [
    "import importlib.util\n",
    "\n",
    "def new_module(name: str, code: str = None):\n",
    "    spec = importlib.util.spec_from_loader(name, None)\n",
    "    module = importlib.util.module_from_spec(spec)\n",
    "    if code:\n",
    "        exec(code, module.__dict__)\n",
    "    return module"
   ]
  },
  {
   "cell_type": "code",
   "execution_count": 71,
   "metadata": {
    "ExecuteTime": {
     "end_time": "2024-04-26T00:51:32.396282Z",
     "start_time": "2024-04-26T00:51:32.360134Z"
    },
    "collapsed": false
   },
   "outputs": [
    {
     "data": {
      "text/plain": [
       "['calc_avgprice',\n",
       " 'calc_typprice',\n",
       " 'calc_wclprice',\n",
       " 'calc_midprice',\n",
       " 'calc_price',\n",
       " 'calc_crossover',\n",
       " 'calc_crossunder',\n",
       " 'calc_flag',\n",
       " 'calc_updown',\n",
       " 'calc_sign',\n",
       " 'calc_log',\n",
       " 'calc_exp',\n",
       " 'calc_diff',\n",
       " 'calc_lag',\n",
       " 'calc_min',\n",
       " 'calc_max',\n",
       " 'calc_sum',\n",
       " 'calc_roc',\n",
       " 'calc_mad',\n",
       " 'calc_stdev',\n",
       " 'calc_sma',\n",
       " 'calc_ema',\n",
       " 'calc_rma',\n",
       " 'calc_wma',\n",
       " 'calc_hma',\n",
       " 'calc_dema',\n",
       " 'calc_tema',\n",
       " 'calc_ma',\n",
       " 'calc_rsi',\n",
       " 'calc_dmi',\n",
       " 'calc_adx',\n",
       " 'calc_pdi',\n",
       " 'calc_mdi',\n",
       " 'calc_trange',\n",
       " 'calc_atr',\n",
       " 'calc_natr',\n",
       " 'calc_sar',\n",
       " 'calc_cci',\n",
       " 'calc_cmf',\n",
       " 'calc_mfi',\n",
       " 'calc_bop',\n",
       " 'calc_bbands',\n",
       " 'calc_keltner',\n",
       " 'calc_ker',\n",
       " 'calc_kama',\n",
       " 'calc_macd',\n",
       " 'calc_ppo',\n",
       " 'calc_slope',\n",
       " 'calc_rvalue',\n",
       " 'calc_tsf',\n",
       " 'calc_curve',\n",
       " 'calc_stoch',\n",
       " 'calc_streak',\n",
       " 'calc_eval']"
      ]
     },
     "execution_count": 71,
     "metadata": {},
     "output_type": "execute_result"
    }
   ],
   "source": [
    "def core_functions():\n",
    "    return list(k for k, v in vars(core).items() if k.startswith(\"calc_\") and callable(v))\n",
    "\n",
    "core_functions()"
   ]
  },
  {
   "cell_type": "code",
   "execution_count": 72,
   "metadata": {
    "ExecuteTime": {
     "end_time": "2024-04-26T00:51:33.117948Z",
     "start_time": "2024-04-26T00:51:33.098909Z"
    },
    "collapsed": false
   },
   "outputs": [],
   "source": [
    "# Sample code for indicator\n",
    "\n",
    "from mintalib.core import wrap_indicator\n",
    "from mintalib.model import FuncIndicator\n",
    "\n",
    "@wrap_indicator(core.calc_ema)\n",
    "def SMA(period: int = 3):\n",
    "    params = dict(locals())\n",
    "    return FuncIndicator(core.calc_sma, params=params)\n"
   ]
  },
  {
   "cell_type": "code",
   "execution_count": 73,
   "metadata": {
    "ExecuteTime": {
     "end_time": "2024-04-26T00:51:33.784132Z",
     "start_time": "2024-04-26T00:51:33.749869Z"
    },
    "collapsed": false
   },
   "outputs": [
    {
     "data": {
      "text/plain": [
       "date\n",
       "1980-12-12           NaN\n",
       "1980-12-15           NaN\n",
       "1980-12-16           NaN\n",
       "1980-12-17           NaN\n",
       "1980-12-18           NaN\n",
       "                 ...    \n",
       "2024-10-15    227.524000\n",
       "2024-10-16    228.078500\n",
       "2024-10-17    228.242500\n",
       "2024-10-18    228.582500\n",
       "2024-10-21    229.082999\n",
       "Length: 11056, dtype: float64"
      ]
     },
     "execution_count": 73,
     "metadata": {},
     "output_type": "execute_result"
    }
   ],
   "source": [
    "SMA(20) @ prices\n"
   ]
  },
  {
   "cell_type": "code",
   "execution_count": 74,
   "metadata": {},
   "outputs": [
    {
     "data": {
      "text/plain": [
       "@wrap_indicator(core.calc_ema)\n",
       "def EMA(period: int, *, adjust: bool = False, item: str = None):\n",
       "    params = dict(period=period, adjust=adjust, item=item)\n",
       "    return FuncIndicator(core.calc_ema, params=params)"
      ]
     },
     "execution_count": 74,
     "metadata": {},
     "output_type": "execute_result"
    }
   ],
   "source": [
    "\n",
    "PREAMBLE = '''\"\"\"\n",
    "Factory functions for technical analysis indicators.\n",
    "\n",
    "Indicator factory names are all upper case.\n",
    "\n",
    "Indicators offer a composable interface where a calculation routine\n",
    "is bound together with its calculation parameters.\n",
    "\n",
    "An indicator object is a callable that can be applied to prices or series data.\n",
    "\n",
    "Indicators can be chained with the `@` operator as in `ROC(1) @ SMA(20)`.\n",
    "\n",
    "The `@` operator can also be used to apply an indicator to its parameter.\n",
    "\n",
    "So for example `SMA(50) @ prices` can be used to compute the 50 period simple moving average on `prices`,\n",
    "instead of the more verbose `SMA(50)(prices)`.\n",
    "\"\"\"\n",
    "\n",
    "# Do not edit! This file was generated by make-indicators.ipynb\n",
    "\n",
    "from . import core\n",
    "from .core import wrap_indicator\n",
    "from .model import FuncIndicator\n",
    "\n",
    "nan = float('nan')\n",
    "\n",
    "\n",
    "'''\n",
    "\n",
    "def short_name(func):\n",
    "    name = func.__name__\n",
    "    if name.startswith(\"calc_\"):\n",
    "        name = name.removeprefix(\"calc_\")\n",
    "    return name\n",
    "\n",
    "\n",
    "def make_indicator(func, name: str = None, preamble=False, verbose=False):\n",
    "    if name is None:\n",
    "        name = short_name(func).upper()\n",
    "    \n",
    "    fname = func.__qualname__\n",
    "    module = func.__module__.rpartition(\".\")[2]\n",
    "    qname = f\"{module}.{fname}\"\n",
    "\n",
    "    signature = Signature.from_callable(func)\n",
    "    parameters = list(signature.parameters.values())\n",
    "\n",
    "    if verbose:\n",
    "        print(\"signature\", signature)\n",
    "        print(\"parameters\", parameters)\n",
    "\n",
    "    newparams = []\n",
    "    ftype = parameters[0].name\n",
    "\n",
    "    newparams = [annotate_parameter(p) for p in parameters[1:] if p.name not in (\"wrap\", )]\n",
    "\n",
    "    if ftype == \"series\":\n",
    "        newparams.append(inspect.Parameter(\"item\", kind=inspect.Parameter.KEYWORD_ONLY, default=None, annotation=str))\n",
    "\n",
    "    if verbose:\n",
    "        print(\"newparams\", newparams)\n",
    "\n",
    "    newsig = Signature(newparams)\n",
    "\n",
    "    def argument(arg):\n",
    "        return ftype if arg == \"self\" else f\"{arg}=self.{arg}\"\n",
    "\n",
    "    code = PREAMBLE if preamble else \"\"\n",
    "    # code = \"# noinspection PyPep8Naming\\n\"\n",
    "\n",
    "    code += f\"@wrap_indicator({qname})\\n\"\n",
    "    code += f\"def {name}{newsig}:\\n\"\n",
    "\n",
    "    kwargs = \", \".join(f\"{p.name}={p.name}\" for p in newparams)\n",
    "    code += f\"    params = dict({kwargs})\\n\"\n",
    "\n",
    "    code += f\"    return FuncIndicator({qname}, params=params)\\n\"\n",
    "\n",
    "\n",
    "    return code\n",
    "\n",
    "\n",
    "TEXT(make_indicator(core.calc_ema))"
   ]
  },
  {
   "cell_type": "code",
   "execution_count": 75,
   "metadata": {},
   "outputs": [
    {
     "data": {
      "text/plain": [
       "<module 'mintalib.functions'>"
      ]
     },
     "execution_count": 75,
     "metadata": {},
     "output_type": "execute_result"
    }
   ],
   "source": [
    "def test_indicator(func, name=None, verbose=False):\n",
    "    code = make_indicator(func, name=name, preamble=True, verbose=verbose)\n",
    "    return new_module(\"mintalib.functions\", code)\n",
    "\n",
    "\n",
    "test_indicator(core.calc_ema)"
   ]
  },
  {
   "cell_type": "code",
   "execution_count": 76,
   "metadata": {
    "ExecuteTime": {
     "end_time": "2024-04-26T00:51:35.236897Z",
     "start_time": "2024-04-26T00:51:35.215996Z"
    },
    "collapsed": false
   },
   "outputs": [
    {
     "data": {
      "text/plain": [
       "\"\"\"\n",
       "Factory functions for technical analysis indicators.\n",
       "\n",
       "Indicator factory names are all upper case.\n",
       "\n",
       "Indicators offer a composable interface where a calculation routine\n",
       "is bound together with its calculation parameters.\n",
       "\n",
       "An indicator object is a callable that can be applied to prices or series data.\n",
       "\n",
       "Indicators can be chained with the `@` operator as in `ROC(1) @ SMA(20)`.\n",
       "\n",
       "The `@` operator can also be used to apply an indicator to its parameter.\n",
       "\n",
       "So for example `SMA(50) @ prices` can be used to compute the 50 period simple moving average on `prices`,\n",
       "instead of the more verbose `SMA(50)(prices)`.\n",
       "\"\"\"\n",
       "\n",
       "# Do not edit! This file was generated by make-indicators.ipynb\n",
       "\n",
       "from . import core\n",
       "from .core import wrap_indicator\n",
       "from .model import FuncIndicator\n",
       "\n",
       "nan = float('nan')\n",
       "\n",
       "\n",
       "\n",
       "\n",
       "@wrap_indicator(core.calc_avgprice)\n",
       "def AVGPRICE():\n",
       "    params = dict()\n",
       "    return FuncIndicator(core.calc_avgprice, params=params)\n",
       "\n",
       "\n",
       "@wrap_indicator(core.calc_typprice)\n",
       "def TYPPRICE():\n",
       "    params = dict()\n",
       "    return FuncIndicator(core.ca ..."
      ]
     },
     "execution_count": 76,
     "metadata": {},
     "output_type": "execute_result"
    }
   ],
   "source": [
    "\n",
    "def make_indicators(cnames=None):\n",
    "    if cnames is None:\n",
    "        cnames = core_functions()\n",
    "\n",
    "    output = PREAMBLE\n",
    "\n",
    "    output += \"\\n\\n\"\n",
    "    names = []\n",
    "\n",
    "    for cname in cnames:\n",
    "        func = getattr(core, cname)\n",
    "        name = short_name(func).upper()\n",
    "        names.append(name)\n",
    "        text = make_indicator(func, name=name)\n",
    "        output += text + \"\\n\\n\"\n",
    "\n",
    "    # output += \"__all__ = [name for name in dir() if name.isupper()]\\n\"\n",
    "\n",
    "    buffer = pformat(names, width=75, compact=True, indent=4)\n",
    "    buffer = buffer.replace(\"[\", \" \").replace(\"]\", \"\")\n",
    "    output += f\"__all__ = [\\n{buffer}\\n]\\n\"\n",
    "\n",
    "    return output\n",
    "\n",
    "\n",
    "code = make_indicators()\n",
    "\n",
    "TEXT(code[:1024] +  \" ...\")"
   ]
  },
  {
   "cell_type": "code",
   "execution_count": 77,
   "metadata": {
    "ExecuteTime": {
     "end_time": "2024-04-26T00:51:36.042638Z",
     "start_time": "2024-04-26T00:51:35.998144Z"
    },
    "collapsed": false
   },
   "outputs": [
    {
     "data": {
      "text/plain": [
       "['ADX',\n",
       " 'ATR',\n",
       " 'AVGPRICE',\n",
       " 'BBANDS',\n",
       " 'BOP',\n",
       " 'CCI',\n",
       " 'CMF',\n",
       " 'CROSSOVER',\n",
       " 'CROSSUNDER',\n",
       " 'CURVE',\n",
       " 'DEMA',\n",
       " 'DIFF',\n",
       " 'DMI',\n",
       " 'EMA',\n",
       " 'EVAL',\n",
       " 'EXP',\n",
       " 'FLAG',\n",
       " 'FuncIndicator',\n",
       " 'HMA',\n",
       " 'KAMA',\n",
       " 'KELTNER',\n",
       " 'KER',\n",
       " 'LAG',\n",
       " 'LOG',\n",
       " 'MA',\n",
       " 'MACD',\n",
       " 'MAD',\n",
       " 'MAX',\n",
       " 'MDI',\n",
       " 'MFI',\n",
       " 'MIDPRICE',\n",
       " 'MIN',\n",
       " 'NATR',\n",
       " 'PDI',\n",
       " 'PPO',\n",
       " 'PRICE',\n",
       " 'RMA',\n",
       " 'ROC',\n",
       " 'RSI',\n",
       " 'RVALUE',\n",
       " 'SAR',\n",
       " 'SIGN',\n",
       " 'SLOPE',\n",
       " 'SMA',\n",
       " 'STDEV',\n",
       " 'STOCH',\n",
       " 'STREAK',\n",
       " 'SUM',\n",
       " 'TEMA',\n",
       " 'TRANGE',\n",
       " 'TSF',\n",
       " 'TYPPRICE',\n",
       " 'UPDOWN',\n",
       " 'WCLPRICE',\n",
       " 'WMA',\n",
       " '__all__',\n",
       " '__builtins__',\n",
       " '__doc__',\n",
       " '__loader__',\n",
       " '__name__',\n",
       " '__package__',\n",
       " '__spec__',\n",
       " 'core',\n",
       " 'nan',\n",
       " 'wrap_indicator']"
      ]
     },
     "execution_count": 77,
     "metadata": {},
     "output_type": "execute_result"
    }
   ],
   "source": [
    "code = make_indicators()\n",
    "\n",
    "indicators = new_module(\"mintalib.indicators\", code)\n",
    "\n",
    "dir(indicators)"
   ]
  },
  {
   "cell_type": "code",
   "execution_count": 78,
   "metadata": {
    "ExecuteTime": {
     "end_time": "2024-04-26T00:51:36.914647Z",
     "start_time": "2024-04-26T00:51:36.891830Z"
    },
    "collapsed": false
   },
   "outputs": [],
   "source": [
    "assert callable(indicators.SMA(20))\n",
    "\n",
    "res = indicators.SMA(20) @ prices\n",
    "\n",
    "assert len(res) > 0\n"
   ]
  },
  {
   "cell_type": "code",
   "execution_count": 79,
   "metadata": {},
   "outputs": [
    {
     "name": "stdout",
     "output_type": "stream",
     "text": [
      "Updating indicators.py ...\n"
     ]
    },
    {
     "data": {
      "text/plain": [
       "10720"
      ]
     },
     "execution_count": 79,
     "metadata": {},
     "output_type": "execute_result"
    }
   ],
   "source": [
    "outfile = PKGDIR / \"indicators.py\"\n",
    "\n",
    "print(f\"Updating {outfile.name} ...\")\n",
    "\n",
    "outfile.write_text(code)"
   ]
  },
  {
   "cell_type": "code",
   "execution_count": 80,
   "metadata": {
    "collapsed": false
   },
   "outputs": [],
   "source": [
    "from mintalib import indicators\n",
    "\n",
    "assert callable(indicators.SMA(20))\n",
    "\n",
    "res = indicators.SMA(20) @ prices\n",
    "\n",
    "assert len(res) > 0"
   ]
  },
  {
   "cell_type": "code",
   "execution_count": null,
   "metadata": {},
   "outputs": [],
   "source": []
  },
  {
   "cell_type": "code",
   "execution_count": null,
   "metadata": {},
   "outputs": [],
   "source": []
  }
 ],
 "metadata": {
  "kernelspec": {
   "display_name": ".venv",
   "language": "python",
   "name": "python3"
  },
  "language_info": {
   "codemirror_mode": {
    "name": "ipython",
    "version": 3
   },
   "file_extension": ".py",
   "mimetype": "text/x-python",
   "name": "python",
   "nbconvert_exporter": "python",
   "pygments_lexer": "ipython3",
   "version": "3.9.20"
  }
 },
 "nbformat": 4,
 "nbformat_minor": 0
}
