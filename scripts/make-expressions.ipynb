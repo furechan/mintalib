{
 "cells": [
  {
   "cell_type": "markdown",
   "metadata": {},
   "source": [
    "# Notebook to create `expressions` module"
   ]
  },
  {
   "cell_type": "code",
   "execution_count": 1,
   "metadata": {},
   "outputs": [],
   "source": [
    "import json\n",
    "from pathlib import Path\n",
    "\n",
    "ROOTDIR = Path.cwd().parent\n",
    "PKGDIR = ROOTDIR.joinpath(\"src/mintalib\").resolve(strict=True)\n",
    "\n",
    "if '__file__' in globals():\n",
    "    print(f\"Running {__file__} ...\")\n"
   ]
  },
  {
   "cell_type": "code",
   "execution_count": 2,
   "metadata": {},
   "outputs": [
    {
     "data": {
      "text/html": [
       "<div><style>\n",
       ".dataframe > thead > tr,\n",
       ".dataframe > tbody > tr {\n",
       "  text-align: right;\n",
       "  white-space: pre-wrap;\n",
       "}\n",
       "</style>\n",
       "<small>shape: (11_056, 6)</small><table border=\"1\" class=\"dataframe\"><thead><tr><th>date</th><th>open</th><th>high</th><th>low</th><th>close</th><th>volume</th></tr><tr><td>datetime[ns]</td><td>f64</td><td>f64</td><td>f64</td><td>f64</td><td>i64</td></tr></thead><tbody><tr><td>1980-12-12 00:00:00</td><td>0.098943</td><td>0.099373</td><td>0.098943</td><td>0.098943</td><td>469033600</td></tr><tr><td>1980-12-15 00:00:00</td><td>0.094211</td><td>0.094211</td><td>0.093781</td><td>0.093781</td><td>175884800</td></tr><tr><td>1980-12-16 00:00:00</td><td>0.087328</td><td>0.087328</td><td>0.086898</td><td>0.086898</td><td>105728000</td></tr><tr><td>1980-12-17 00:00:00</td><td>0.089049</td><td>0.089479</td><td>0.089049</td><td>0.089049</td><td>86441600</td></tr><tr><td>1980-12-18 00:00:00</td><td>0.09163</td><td>0.092061</td><td>0.09163</td><td>0.09163</td><td>73449600</td></tr><tr><td>&hellip;</td><td>&hellip;</td><td>&hellip;</td><td>&hellip;</td><td>&hellip;</td><td>&hellip;</td></tr><tr><td>2024-10-15 00:00:00</td><td>233.610001</td><td>237.490005</td><td>232.369995</td><td>233.850006</td><td>64751400</td></tr><tr><td>2024-10-16 00:00:00</td><td>231.600006</td><td>232.119995</td><td>229.839996</td><td>231.779999</td><td>34082200</td></tr><tr><td>2024-10-17 00:00:00</td><td>233.429993</td><td>233.850006</td><td>230.520004</td><td>232.149994</td><td>32993800</td></tr><tr><td>2024-10-18 00:00:00</td><td>236.179993</td><td>236.179993</td><td>234.009995</td><td>235.0</td><td>46431500</td></tr><tr><td>2024-10-21 00:00:00</td><td>234.449997</td><td>236.850006</td><td>234.449997</td><td>236.479996</td><td>36220800</td></tr></tbody></table></div>"
      ],
      "text/plain": [
       "shape: (11_056, 6)\n",
       "┌─────────────────────┬────────────┬────────────┬────────────┬────────────┬───────────┐\n",
       "│ date                ┆ open       ┆ high       ┆ low        ┆ close      ┆ volume    │\n",
       "│ ---                 ┆ ---        ┆ ---        ┆ ---        ┆ ---        ┆ ---       │\n",
       "│ datetime[ns]        ┆ f64        ┆ f64        ┆ f64        ┆ f64        ┆ i64       │\n",
       "╞═════════════════════╪════════════╪════════════╪════════════╪════════════╪═══════════╡\n",
       "│ 1980-12-12 00:00:00 ┆ 0.098943   ┆ 0.099373   ┆ 0.098943   ┆ 0.098943   ┆ 469033600 │\n",
       "│ 1980-12-15 00:00:00 ┆ 0.094211   ┆ 0.094211   ┆ 0.093781   ┆ 0.093781   ┆ 175884800 │\n",
       "│ 1980-12-16 00:00:00 ┆ 0.087328   ┆ 0.087328   ┆ 0.086898   ┆ 0.086898   ┆ 105728000 │\n",
       "│ 1980-12-17 00:00:00 ┆ 0.089049   ┆ 0.089479   ┆ 0.089049   ┆ 0.089049   ┆ 86441600  │\n",
       "│ 1980-12-18 00:00:00 ┆ 0.09163    ┆ 0.092061   ┆ 0.09163    ┆ 0.09163    ┆ 73449600  │\n",
       "│ …                   ┆ …          ┆ …          ┆ …          ┆ …          ┆ …         │\n",
       "│ 2024-10-15 00:00:00 ┆ 233.610001 ┆ 237.490005 ┆ 232.369995 ┆ 233.850006 ┆ 64751400  │\n",
       "│ 2024-10-16 00:00:00 ┆ 231.600006 ┆ 232.119995 ┆ 229.839996 ┆ 231.779999 ┆ 34082200  │\n",
       "│ 2024-10-17 00:00:00 ┆ 233.429993 ┆ 233.850006 ┆ 230.520004 ┆ 232.149994 ┆ 32993800  │\n",
       "│ 2024-10-18 00:00:00 ┆ 236.179993 ┆ 236.179993 ┆ 234.009995 ┆ 235.0      ┆ 46431500  │\n",
       "│ 2024-10-21 00:00:00 ┆ 234.449997 ┆ 236.850006 ┆ 234.449997 ┆ 236.479996 ┆ 36220800  │\n",
       "└─────────────────────┴────────────┴────────────┴────────────┴────────────┴───────────┘"
      ]
     },
     "execution_count": 2,
     "metadata": {},
     "output_type": "execute_result"
    }
   ],
   "source": [
    "import polars as pl\n",
    "from mintalib.samples import sample_prices\n",
    "\n",
    "prices = sample_prices()\n",
    "prices = pl.from_pandas(prices, include_index=True, nan_to_null=True)\n",
    "prices\n"
   ]
  },
  {
   "cell_type": "code",
   "execution_count": 3,
   "metadata": {},
   "outputs": [],
   "source": [
    "HEREDOCS = \"\"\"Expressions Module\"\"\""
   ]
  },
  {
   "cell_type": "code",
   "execution_count": null,
   "metadata": {},
   "outputs": [],
   "source": [
    "# PREAMBLE Do not edit! This file was generated\n",
    "\n",
    "import inspect\n",
    "import polars as pl\n",
    "\n",
    "from polars.datatypes import Struct, Float64\n",
    "\n",
    "from mintalib import core\n",
    "\n",
    "from typing import Union, TypeAlias\n",
    "\n",
    "from functools import wraps\n",
    "\n",
    "\n",
    "IntoExpr: TypeAlias = Union[pl.Expr, str, pl.Series]\n",
    "\n",
    "nan = float('nan')\n",
    "\n",
    "\n",
    "def get_series_expr(src):\n",
    "    if isinstance(src, str):\n",
    "        return pl.col(src)\n",
    "    elif isinstance(src, pl.Expr):\n",
    "        return src\n",
    "    else:\n",
    "        raise ValueError(\"src must be a string or a Polars Series.\")\n",
    "\n",
    "\n",
    "def get_struct_expr(src):\n",
    "    if src is None:\n",
    "        return pl.struct(\"*\")\n",
    "    \n",
    "    if isinstance(src, str):\n",
    "        return pl.col(src).struct\n",
    "    \n",
    "    if isinstance(src, pl.Expr):\n",
    "        return pl.struct(src)\n",
    "        \n",
    "    raise ValueError(f\"Unsupported src type: {type(src)}\")\n",
    "\n",
    "\n",
    "def wrap_expression(calc_func):\n",
    "    calc_sig = inspect.signature(calc_func)\n",
    "    first_param = next(iter(calc_sig.parameters.values()))\n",
    "    force_struct = first_param.name == 'prices'\n",
    "\n",
    "    def decorator(func):\n",
    "        name = func.__name__.lower()\n",
    "        metadata = getattr(calc_func, 'metadata', {})\n",
    "        output_names = metadata.get('output_names', ())\n",
    "        output_type = Struct({n: Float64 for n in output_names}) if output_names else Float64\n",
    "        signature = inspect.signature(func)\n",
    "\n",
    "        @wraps(func)\n",
    "        def wrapper(*args, **kwargs):\n",
    "            bound_args = signature.bind(*args, **kwargs)\n",
    "            args, kwargs = (), dict(bound_args.arguments)\n",
    "\n",
    "            src = kwargs.pop('src', None)\n",
    "\n",
    "            if force_struct:\n",
    "                source = get_struct_expr(src)\n",
    "            else:\n",
    "                source = get_series_expr(src)\n",
    "\n",
    "            def batch_func(prices):\n",
    "                if force_struct:\n",
    "                    prices = prices.struct.unnest()\n",
    "\n",
    "                output = calc_func(prices, *args, **kwargs)\n",
    "                \n",
    "                if isinstance(output, tuple):\n",
    "                    return pl.DataFrame(output._asdict()).fill_nan(None).to_struct()\n",
    "                else:\n",
    "                    return pl.Series(output).fill_nan(None)\n",
    "            \n",
    "            expr = source.map_batches(batch_func, return_dtype=output_type).alias(name)\n",
    "#            expr = expr.struct.unnest() if output_names else expr.alias(name)\n",
    "            \n",
    "            return expr\n",
    "        \n",
    "        return wrapper\n",
    "    return decorator\n",
    "\n"
   ]
  },
  {
   "cell_type": "code",
   "execution_count": 5,
   "metadata": {},
   "outputs": [
    {
     "data": {
      "text/html": [
       "<div><style>\n",
       ".dataframe > thead > tr,\n",
       ".dataframe > tbody > tr {\n",
       "  text-align: right;\n",
       "  white-space: pre-wrap;\n",
       "}\n",
       "</style>\n",
       "<small>shape: (11_056, 3)</small><table border=\"1\" class=\"dataframe\"><thead><tr><th>s1</th><th>s2</th><th>s3</th></tr><tr><td>f64</td><td>f64</td><td>f64</td></tr></thead><tbody><tr><td>null</td><td>null</td><td>null</td></tr><tr><td>null</td><td>null</td><td>null</td></tr><tr><td>null</td><td>null</td><td>null</td></tr><tr><td>null</td><td>null</td><td>null</td></tr><tr><td>0.09206</td><td>0.09206</td><td>0.09206</td></tr><tr><td>&hellip;</td><td>&hellip;</td><td>&hellip;</td></tr><tr><td>230.256</td><td>230.256</td><td>230.256</td></tr><tr><td>230.704001</td><td>230.704001</td><td>230.704001</td></tr><tr><td>231.326001</td><td>231.326001</td><td>231.326001</td></tr><tr><td>232.816</td><td>232.816</td><td>232.816</td></tr><tr><td>233.851999</td><td>233.851999</td><td>233.851999</td></tr></tbody></table></div>"
      ],
      "text/plain": [
       "shape: (11_056, 3)\n",
       "┌────────────┬────────────┬────────────┐\n",
       "│ s1         ┆ s2         ┆ s3         │\n",
       "│ ---        ┆ ---        ┆ ---        │\n",
       "│ f64        ┆ f64        ┆ f64        │\n",
       "╞════════════╪════════════╪════════════╡\n",
       "│ null       ┆ null       ┆ null       │\n",
       "│ null       ┆ null       ┆ null       │\n",
       "│ null       ┆ null       ┆ null       │\n",
       "│ null       ┆ null       ┆ null       │\n",
       "│ 0.09206    ┆ 0.09206    ┆ 0.09206    │\n",
       "│ …          ┆ …          ┆ …          │\n",
       "│ 230.256    ┆ 230.256    ┆ 230.256    │\n",
       "│ 230.704001 ┆ 230.704001 ┆ 230.704001 │\n",
       "│ 231.326001 ┆ 231.326001 ┆ 231.326001 │\n",
       "│ 232.816    ┆ 232.816    ┆ 232.816    │\n",
       "│ 233.851999 ┆ 233.851999 ┆ 233.851999 │\n",
       "└────────────┴────────────┴────────────┘"
      ]
     },
     "execution_count": 5,
     "metadata": {},
     "output_type": "execute_result"
    }
   ],
   "source": [
    "@wrap_expression(core.calc_sma)\n",
    "def SMA(src, *, period: int): ...\n",
    "\n",
    "\n",
    "prices.select(\n",
    "    SMA('close', period=5).alias('s1'),\n",
    "    SMA(pl.col('close'), period=5).alias('s2'),\n",
    "    pl.col('close').pipe(SMA, period=5).alias('s3')\n",
    ")\n"
   ]
  },
  {
   "cell_type": "code",
   "execution_count": 6,
   "metadata": {},
   "outputs": [
    {
     "ename": "TypeError",
     "evalue": "missing a required argument: 'period'",
     "output_type": "error",
     "traceback": [
      "\u001b[0;31m---------------------------------------------------------------------------\u001b[0m",
      "\u001b[0;31mTypeError\u001b[0m                                 Traceback (most recent call last)",
      "Cell \u001b[0;32mIn[6], line 5\u001b[0m\n\u001b[1;32m      1\u001b[0m \u001b[38;5;129m@wrap_expression\u001b[39m(core\u001b[38;5;241m.\u001b[39mcalc_macd)\n\u001b[1;32m      2\u001b[0m \u001b[38;5;28;01mdef\u001b[39;00m\u001b[38;5;250m \u001b[39m\u001b[38;5;21mMACD\u001b[39m(src, \u001b[38;5;241m*\u001b[39m, period: \u001b[38;5;28mint\u001b[39m): \u001b[38;5;241m.\u001b[39m\u001b[38;5;241m.\u001b[39m\u001b[38;5;241m.\u001b[39m\n\u001b[1;32m      4\u001b[0m prices\u001b[38;5;241m.\u001b[39mselect(\n\u001b[0;32m----> 5\u001b[0m     \u001b[43mMACD\u001b[49m\u001b[43m(\u001b[49m\u001b[38;5;124;43m'\u001b[39;49m\u001b[38;5;124;43mclose\u001b[39;49m\u001b[38;5;124;43m'\u001b[39;49m\u001b[43m)\u001b[49m\u001b[38;5;241m.\u001b[39mstruct\u001b[38;5;241m.\u001b[39munnest()\n\u001b[1;32m      6\u001b[0m )\n",
      "Cell \u001b[0;32mIn[4], line 57\u001b[0m, in \u001b[0;36mwrap_expression.<locals>.decorator.<locals>.wrapper\u001b[0;34m(*args, **kwargs)\u001b[0m\n\u001b[1;32m     55\u001b[0m \u001b[38;5;129m@wraps\u001b[39m(func)\n\u001b[1;32m     56\u001b[0m \u001b[38;5;28;01mdef\u001b[39;00m\u001b[38;5;250m \u001b[39m\u001b[38;5;21mwrapper\u001b[39m(\u001b[38;5;241m*\u001b[39margs, \u001b[38;5;241m*\u001b[39m\u001b[38;5;241m*\u001b[39mkwargs):\n\u001b[0;32m---> 57\u001b[0m     bound_args \u001b[38;5;241m=\u001b[39m \u001b[43msignature\u001b[49m\u001b[38;5;241;43m.\u001b[39;49m\u001b[43mbind\u001b[49m\u001b[43m(\u001b[49m\u001b[38;5;241;43m*\u001b[39;49m\u001b[43margs\u001b[49m\u001b[43m,\u001b[49m\u001b[43m \u001b[49m\u001b[38;5;241;43m*\u001b[39;49m\u001b[38;5;241;43m*\u001b[39;49m\u001b[43mkwargs\u001b[49m\u001b[43m)\u001b[49m\n\u001b[1;32m     58\u001b[0m     args, kwargs \u001b[38;5;241m=\u001b[39m (), \u001b[38;5;28mdict\u001b[39m(bound_args\u001b[38;5;241m.\u001b[39marguments)\n\u001b[1;32m     60\u001b[0m     src \u001b[38;5;241m=\u001b[39m kwargs\u001b[38;5;241m.\u001b[39mpop(\u001b[38;5;124m'\u001b[39m\u001b[38;5;124msrc\u001b[39m\u001b[38;5;124m'\u001b[39m, \u001b[38;5;28;01mNone\u001b[39;00m)\n",
      "File \u001b[0;32m~/.local/share/uv/python/cpython-3.10.14-macos-aarch64-none/lib/python3.10/inspect.py:3186\u001b[0m, in \u001b[0;36mSignature.bind\u001b[0;34m(self, *args, **kwargs)\u001b[0m\n\u001b[1;32m   3181\u001b[0m \u001b[38;5;28;01mdef\u001b[39;00m\u001b[38;5;250m \u001b[39m\u001b[38;5;21mbind\u001b[39m(\u001b[38;5;28mself\u001b[39m, \u001b[38;5;241m/\u001b[39m, \u001b[38;5;241m*\u001b[39margs, \u001b[38;5;241m*\u001b[39m\u001b[38;5;241m*\u001b[39mkwargs):\n\u001b[1;32m   3182\u001b[0m \u001b[38;5;250m    \u001b[39m\u001b[38;5;124;03m\"\"\"Get a BoundArguments object, that maps the passed `args`\u001b[39;00m\n\u001b[1;32m   3183\u001b[0m \u001b[38;5;124;03m    and `kwargs` to the function's signature.  Raises `TypeError`\u001b[39;00m\n\u001b[1;32m   3184\u001b[0m \u001b[38;5;124;03m    if the passed arguments can not be bound.\u001b[39;00m\n\u001b[1;32m   3185\u001b[0m \u001b[38;5;124;03m    \"\"\"\u001b[39;00m\n\u001b[0;32m-> 3186\u001b[0m     \u001b[38;5;28;01mreturn\u001b[39;00m \u001b[38;5;28;43mself\u001b[39;49m\u001b[38;5;241;43m.\u001b[39;49m\u001b[43m_bind\u001b[49m\u001b[43m(\u001b[49m\u001b[43margs\u001b[49m\u001b[43m,\u001b[49m\u001b[43m \u001b[49m\u001b[43mkwargs\u001b[49m\u001b[43m)\u001b[49m\n",
      "File \u001b[0;32m~/.local/share/uv/python/cpython-3.10.14-macos-aarch64-none/lib/python3.10/inspect.py:3101\u001b[0m, in \u001b[0;36mSignature._bind\u001b[0;34m(self, args, kwargs, partial)\u001b[0m\n\u001b[1;32m   3099\u001b[0m                 msg \u001b[38;5;241m=\u001b[39m \u001b[38;5;124m'\u001b[39m\u001b[38;5;124mmissing a required argument: \u001b[39m\u001b[38;5;132;01m{arg!r}\u001b[39;00m\u001b[38;5;124m'\u001b[39m\n\u001b[1;32m   3100\u001b[0m                 msg \u001b[38;5;241m=\u001b[39m msg\u001b[38;5;241m.\u001b[39mformat(arg\u001b[38;5;241m=\u001b[39mparam\u001b[38;5;241m.\u001b[39mname)\n\u001b[0;32m-> 3101\u001b[0m                 \u001b[38;5;28;01mraise\u001b[39;00m \u001b[38;5;167;01mTypeError\u001b[39;00m(msg) \u001b[38;5;28;01mfrom\u001b[39;00m\u001b[38;5;250m \u001b[39m\u001b[38;5;28;01mNone\u001b[39;00m\n\u001b[1;32m   3102\u001b[0m \u001b[38;5;28;01melse\u001b[39;00m:\n\u001b[1;32m   3103\u001b[0m     \u001b[38;5;66;03m# We have a positional argument to process\u001b[39;00m\n\u001b[1;32m   3104\u001b[0m     \u001b[38;5;28;01mtry\u001b[39;00m:\n",
      "\u001b[0;31mTypeError\u001b[0m: missing a required argument: 'period'"
     ]
    }
   ],
   "source": [
    "@wrap_expression(core.calc_macd)\n",
    "def MACD(src, *, period: int): ...\n",
    "\n",
    "prices.select(\n",
    "    MACD('close').struct.unnest()\n",
    ")\n"
   ]
  },
  {
   "cell_type": "code",
   "execution_count": null,
   "metadata": {},
   "outputs": [
    {
     "data": {
      "text/html": [
       "<div><style>\n",
       ".dataframe > thead > tr,\n",
       ".dataframe > tbody > tr {\n",
       "  text-align: right;\n",
       "  white-space: pre-wrap;\n",
       "}\n",
       "</style>\n",
       "<small>shape: (11_056, 1)</small><table border=\"1\" class=\"dataframe\"><thead><tr><th>atr</th></tr><tr><td>f64</td></tr></thead><tbody><tr><td>null</td></tr><tr><td>null</td></tr><tr><td>null</td></tr><tr><td>null</td></tr><tr><td>null</td></tr><tr><td>&hellip;</td></tr><tr><td>4.516121</td></tr><tr><td>4.479971</td></tr><tr><td>4.39783</td></tr><tr><td>4.371556</td></tr><tr><td>4.230731</td></tr></tbody></table></div>"
      ],
      "text/plain": [
       "shape: (11_056, 1)\n",
       "┌──────────┐\n",
       "│ atr      │\n",
       "│ ---      │\n",
       "│ f64      │\n",
       "╞══════════╡\n",
       "│ null     │\n",
       "│ null     │\n",
       "│ null     │\n",
       "│ null     │\n",
       "│ null     │\n",
       "│ …        │\n",
       "│ 4.516121 │\n",
       "│ 4.479971 │\n",
       "│ 4.39783  │\n",
       "│ 4.371556 │\n",
       "│ 4.230731 │\n",
       "└──────────┘"
      ]
     },
     "execution_count": 64,
     "metadata": {},
     "output_type": "execute_result"
    }
   ],
   "source": [
    "@wrap_expression(core.calc_atr)\n",
    "def ATR(period: int, *, src: IntoExpr = None): ...\n",
    "\n",
    "prices.select(ATR(14))"
   ]
  },
  {
   "cell_type": "code",
   "execution_count": null,
   "metadata": {},
   "outputs": [
    {
     "name": "stdout",
     "output_type": "stream",
     "text": [
      "(src, period: int)\n"
     ]
    },
    {
     "name": "stderr",
     "output_type": "stream",
     "text": [
      "/var/folders/s8/jtb72jcx6739t9rmc8pl26980000gn/T/ipykernel_26827/151396711.py:21: UserWarning: Missing annotation for src\n",
      "  param = annotate_parameter(param)\n"
     ]
    }
   ],
   "source": [
    "import inspect\n",
    "\n",
    "from mintalib.builder import annotate_parameter\n",
    "\n",
    "def make_signature(calc_func):\n",
    "    \"\"\"creates function signature from core function\"\"\"\n",
    "    sig = inspect.signature(calc_func)\n",
    "    first_param = next(iter(sig.parameters.values()))\n",
    "    \n",
    "    arg_params = []\n",
    "    for param in sig.parameters.values():\n",
    "        if param.name in (\"wrap\", \"prices\"):\n",
    "            continue\n",
    "\n",
    "        if param.name == \"series\":\n",
    "            param = inspect.Parameter(\n",
    "                name=\"src\",\n",
    "                kind=inspect.Parameter.POSITIONAL_OR_KEYWORD\n",
    "            )\n",
    "\n",
    "        param = annotate_parameter(param)\n",
    "        arg_params.append(param)\n",
    "\n",
    "    if first_param.name == \"prices\":\n",
    "        param = inspect.Parameter(\n",
    "            name=\"src\",\n",
    "            default='*',\n",
    "            kind=inspect.Parameter.KEYWORD_ONLY\n",
    "        )\n",
    "        arg_params.append(param)\n",
    "\n",
    "    return sig.replace(parameters=arg_params)\n",
    "\n",
    "sig = make_signature(core.calc_sma)\n",
    "print(sig)\n",
    "\n"
   ]
  },
  {
   "cell_type": "code",
   "execution_count": null,
   "metadata": {},
   "outputs": [
    {
     "name": "stdout",
     "output_type": "stream",
     "text": [
      "@wrap_expression(core.calc_sma)\n",
      "def SMA(src, period: int): ...\n",
      "\n",
      "\n",
      "@wrap_expression(core.calc_macd)\n",
      "def MACD(src, n1: int = 12, n2: int = 26, n3: int = 9): ...\n",
      "\n",
      "\n",
      "@wrap_expression(core.calc_atr)\n",
      "def ATR(period: int = 14, *, src='*'): ...\n",
      "\n",
      "\n"
     ]
    },
    {
     "name": "stderr",
     "output_type": "stream",
     "text": [
      "/var/folders/s8/jtb72jcx6739t9rmc8pl26980000gn/T/ipykernel_26827/151396711.py:21: UserWarning: Missing annotation for src\n",
      "  param = annotate_parameter(param)\n"
     ]
    }
   ],
   "source": [
    "import warnings\n",
    "\n",
    "def make_expression(calc_func, name: str = None):\n",
    "    if name is None:\n",
    "        name = calc_func.__name__.removeprefix(\"calc_\").upper()\n",
    "\n",
    "\n",
    "    cname = f\"core.{calc_func.__name__}\"\n",
    "    fname = calc_func.__name__.removeprefix(\"calc_\").upper()\n",
    "    signature = make_signature(calc_func)\n",
    "\n",
    "\n",
    "    buffer = f\"@wrap_expression({cname})\\n\"\n",
    "    buffer += f\"def {fname}{signature}: ...\\n\\n\"\n",
    "    return buffer\n",
    "\n",
    "\n",
    "for cf in core.calc_sma, core.calc_macd, core.calc_atr:  \n",
    "    code = make_expression(cf)\n",
    "    print(code)\n",
    "\n"
   ]
  },
  {
   "cell_type": "code",
   "execution_count": null,
   "metadata": {},
   "outputs": [
    {
     "data": {
      "text/plain": [
       "['calc_abs',\n",
       " 'calc_adx',\n",
       " 'calc_alma',\n",
       " 'calc_atr',\n",
       " 'calc_avgprice',\n",
       " 'calc_bbands',\n",
       " 'calc_bop',\n",
       " 'calc_cci',\n",
       " 'calc_clag',\n",
       " 'calc_cmf',\n",
       " 'calc_crossover',\n",
       " 'calc_crossunder',\n",
       " 'calc_curve',\n",
       " 'calc_dema',\n",
       " 'calc_diff',\n",
       " 'calc_dmi',\n",
       " 'calc_ema',\n",
       " 'calc_eval',\n",
       " 'calc_exp',\n",
       " 'calc_flag',\n",
       " 'calc_hma',\n",
       " 'calc_kama',\n",
       " 'calc_keltner',\n",
       " 'calc_ker',\n",
       " 'calc_lag',\n",
       " 'calc_log',\n",
       " 'calc_lroc',\n",
       " 'calc_macd',\n",
       " 'calc_mad',\n",
       " 'calc_mav',\n",
       " 'calc_max',\n",
       " 'calc_mdi',\n",
       " 'calc_mfi',\n",
       " 'calc_midprice',\n",
       " 'calc_min',\n",
       " 'calc_natr',\n",
       " 'calc_pdi',\n",
       " 'calc_ppo',\n",
       " 'calc_price',\n",
       " 'calc_qsf',\n",
       " 'calc_rma',\n",
       " 'calc_roc',\n",
       " 'calc_rsi',\n",
       " 'calc_rvalue',\n",
       " 'calc_sar',\n",
       " 'calc_shift',\n",
       " 'calc_sign',\n",
       " 'calc_slope',\n",
       " 'calc_sma',\n",
       " 'calc_stdev',\n",
       " 'calc_step',\n",
       " 'calc_stoch',\n",
       " 'calc_streak',\n",
       " 'calc_sum',\n",
       " 'calc_tema',\n",
       " 'calc_trange',\n",
       " 'calc_tsf',\n",
       " 'calc_typprice',\n",
       " 'calc_updown',\n",
       " 'calc_wclprice',\n",
       " 'calc_wma']"
      ]
     },
     "execution_count": 67,
     "metadata": {},
     "output_type": "execute_result"
    }
   ],
   "source": [
    "def core_functions():\n",
    "    return sorted(k for k, v in vars(core).items() if k.startswith(\"calc\") and callable(v))\n",
    "\n",
    "core_functions()"
   ]
  },
  {
   "cell_type": "code",
   "execution_count": null,
   "metadata": {},
   "outputs": [
    {
     "name": "stderr",
     "output_type": "stream",
     "text": [
      "/var/folders/s8/jtb72jcx6739t9rmc8pl26980000gn/T/ipykernel_26827/151396711.py:21: UserWarning: Missing annotation for src\n",
      "  param = annotate_parameter(param)\n"
     ]
    },
    {
     "data": {
      "text/plain": [
       "['ABS',\n",
       " 'ADX',\n",
       " 'ALMA',\n",
       " 'ATR',\n",
       " 'AVGPRICE',\n",
       " 'BBANDS',\n",
       " 'BOP',\n",
       " 'CCI',\n",
       " 'CLAG',\n",
       " 'CMF',\n",
       " 'CROSSOVER',\n",
       " 'CROSSUNDER',\n",
       " 'CURVE',\n",
       " 'DEMA',\n",
       " 'DIFF',\n",
       " 'DMI',\n",
       " 'EMA',\n",
       " 'EVAL',\n",
       " 'EXP',\n",
       " 'FLAG',\n",
       " 'HMA',\n",
       " 'KAMA',\n",
       " 'KELTNER',\n",
       " 'KER',\n",
       " 'LAG',\n",
       " 'LOG',\n",
       " 'LROC',\n",
       " 'MACD',\n",
       " 'MAD',\n",
       " 'MAV',\n",
       " 'MAX',\n",
       " 'MDI',\n",
       " 'MFI',\n",
       " 'MIDPRICE',\n",
       " 'MIN',\n",
       " 'NATR',\n",
       " 'PDI',\n",
       " 'PPO',\n",
       " 'PRICE',\n",
       " 'QSF',\n",
       " 'RMA',\n",
       " 'ROC',\n",
       " 'RSI',\n",
       " 'RVALUE',\n",
       " 'SAR',\n",
       " 'SHIFT',\n",
       " 'SIGN',\n",
       " 'SLOPE',\n",
       " 'SMA',\n",
       " 'STDEV',\n",
       " 'STEP',\n",
       " 'STOCH',\n",
       " 'STREAK',\n",
       " 'SUM',\n",
       " 'TEMA',\n",
       " 'TRANGE',\n",
       " 'TSF',\n",
       " 'TYPPRICE',\n",
       " 'UPDOWN',\n",
       " 'WCLPRICE',\n",
       " 'WMA']"
      ]
     },
     "execution_count": 68,
     "metadata": {},
     "output_type": "execute_result"
    }
   ],
   "source": [
    "import re\n",
    "from pprint import pformat\n",
    "\n",
    "import importlib.util\n",
    "\n",
    "def get_last_cell(pattern):\n",
    "    if '__file__' in globals():\n",
    "        file = Path(__file__)\n",
    "        data = json.loads(file.read_text(encoding=\"utf-8\"))\n",
    "        inputs = [\"\".join(c['source']) for c in data[\"cells\"] if c['cell_type'] == 'code']\n",
    "    elif '_ih' in globals():\n",
    "        inputs = _ih\n",
    "    else:\n",
    "        raise ValueError(\"No input cells found. Please run this in a Jupyter notebook or similar environment.\")\n",
    "\n",
    "    inputs = [c for c in inputs if re.match(pattern, c)]\n",
    "    for cell in inputs:\n",
    "        pass\n",
    "\n",
    "    return cell\n",
    "\n",
    "PREAMBLE = get_last_cell('# PREAMBLE')\n",
    "PREAMBLE = re.sub(r'^from mintalib\\.?', 'from .', PREAMBLE, flags=re.MULTILINE)\n",
    "\n",
    "def make_expressions(cnames=None):\n",
    "    if cnames is None:\n",
    "        cnames = core_functions()\n",
    "\n",
    "    output = \"\"\n",
    "\n",
    "    if HEREDOCS:\n",
    "        output += '\"\"\"' + HEREDOCS + '\"\"\"\\n\\n'\n",
    "\n",
    "    if PREAMBLE:\n",
    "        output += PREAMBLE + \"\\n\\n\"\n",
    "\n",
    "    fnames = []\n",
    "\n",
    "    for cname in cnames:\n",
    "        func = getattr(core, cname)\n",
    "        name = cname.removeprefix(\"calc_\").upper()\n",
    "        code = make_expression(func, name)\n",
    "        fnames.append(name)\n",
    "        output += code + \"\\n\"\n",
    "\n",
    "    # output += \"__all__ = [name for name in dir() if name.isupper()]\\n\"\n",
    "    xnames = pformat(fnames, width=75, compact=True, indent=4)\n",
    "    xnames = xnames.replace(\"[\", \" \").replace(\"]\", \"\")\n",
    "    output += f\"__all__ = [\\n{xnames}\\n]\\n\"\n",
    "\n",
    "    return output\n",
    "\n",
    "output = make_expressions()\n",
    "\n",
    "def new_module(name: str, code: str = None):\n",
    "    spec = importlib.util.spec_from_loader(name, None)\n",
    "    module = importlib.util.module_from_spec(spec)\n",
    "    if code:\n",
    "        exec(code, module.__dict__)\n",
    "    return module\n",
    "\n",
    "expressions = new_module(\"mintalib.expressions\", output)\n",
    "expressions.__all__"
   ]
  },
  {
   "cell_type": "code",
   "execution_count": null,
   "metadata": {},
   "outputs": [
    {
     "data": {
      "text/html": [
       "<div><style>\n",
       ".dataframe > thead > tr,\n",
       ".dataframe > tbody > tr {\n",
       "  text-align: right;\n",
       "  white-space: pre-wrap;\n",
       "}\n",
       "</style>\n",
       "<small>shape: (11_056, 1)</small><table border=\"1\" class=\"dataframe\"><thead><tr><th>sma</th></tr><tr><td>f64</td></tr></thead><tbody><tr><td>null</td></tr><tr><td>null</td></tr><tr><td>null</td></tr><tr><td>null</td></tr><tr><td>0.09206</td></tr><tr><td>&hellip;</td></tr><tr><td>230.256</td></tr><tr><td>230.704001</td></tr><tr><td>231.326001</td></tr><tr><td>232.816</td></tr><tr><td>233.851999</td></tr></tbody></table></div>"
      ],
      "text/plain": [
       "shape: (11_056, 1)\n",
       "┌────────────┐\n",
       "│ sma        │\n",
       "│ ---        │\n",
       "│ f64        │\n",
       "╞════════════╡\n",
       "│ null       │\n",
       "│ null       │\n",
       "│ null       │\n",
       "│ null       │\n",
       "│ 0.09206    │\n",
       "│ …          │\n",
       "│ 230.256    │\n",
       "│ 230.704001 │\n",
       "│ 231.326001 │\n",
       "│ 232.816    │\n",
       "│ 233.851999 │\n",
       "└────────────┘"
      ]
     },
     "execution_count": 69,
     "metadata": {},
     "output_type": "execute_result"
    }
   ],
   "source": [
    "prices.select(expressions.SMA('close', period=5))\n"
   ]
  },
  {
   "cell_type": "code",
   "execution_count": null,
   "metadata": {},
   "outputs": [
    {
     "name": "stdout",
     "output_type": "stream",
     "text": [
      "Updating expressions.py ...\n"
     ]
    },
    {
     "data": {
      "text/plain": [
       "7710"
      ]
     },
     "execution_count": 70,
     "metadata": {},
     "output_type": "execute_result"
    }
   ],
   "source": [
    "module = new_module(\"mintalib.expressions\", output)\n",
    "\n",
    "outfile = PKGDIR / \"expressions.py\"\n",
    "\n",
    "print(f\"Updating {outfile.name} ...\")\n",
    "\n",
    "outfile.write_text(output)"
   ]
  },
  {
   "cell_type": "code",
   "execution_count": null,
   "metadata": {},
   "outputs": [
    {
     "data": {
      "text/plain": [
       "('*', (10, 20))"
      ]
     },
     "execution_count": 71,
     "metadata": {},
     "output_type": "execute_result"
    }
   ],
   "source": [
    "args = \"*\", 10, 20\n",
    "src, args = args[0], args[1:]\n",
    "src, args"
   ]
  },
  {
   "cell_type": "code",
   "execution_count": null,
   "metadata": {},
   "outputs": [
    {
     "data": {
      "text/html": [
       "<div><style>\n",
       ".dataframe > thead > tr,\n",
       ".dataframe > tbody > tr {\n",
       "  text-align: right;\n",
       "  white-space: pre-wrap;\n",
       "}\n",
       "</style>\n",
       "<small>shape: (11_056, 1)</small><table border=\"1\" class=\"dataframe\"><thead><tr><th>high</th></tr><tr><td>struct[2]</td></tr></thead><tbody><tr><td>{0.099373,0.098943}</td></tr><tr><td>{0.094211,0.093781}</td></tr><tr><td>{0.087328,0.086898}</td></tr><tr><td>{0.089479,0.089049}</td></tr><tr><td>{0.092061,0.09163}</td></tr><tr><td>&hellip;</td></tr><tr><td>{237.490005,232.369995}</td></tr><tr><td>{232.119995,229.839996}</td></tr><tr><td>{233.850006,230.520004}</td></tr><tr><td>{236.179993,234.009995}</td></tr><tr><td>{236.850006,234.449997}</td></tr></tbody></table></div>"
      ],
      "text/plain": [
       "shape: (11_056, 1)\n",
       "┌─────────────────────────┐\n",
       "│ high                    │\n",
       "│ ---                     │\n",
       "│ struct[2]               │\n",
       "╞═════════════════════════╡\n",
       "│ {0.099373,0.098943}     │\n",
       "│ {0.094211,0.093781}     │\n",
       "│ {0.087328,0.086898}     │\n",
       "│ {0.089479,0.089049}     │\n",
       "│ {0.092061,0.09163}      │\n",
       "│ …                       │\n",
       "│ {237.490005,232.369995} │\n",
       "│ {232.119995,229.839996} │\n",
       "│ {233.850006,230.520004} │\n",
       "│ {236.179993,234.009995} │\n",
       "│ {236.850006,234.449997} │\n",
       "└─────────────────────────┘"
      ]
     },
     "execution_count": 72,
     "metadata": {},
     "output_type": "execute_result"
    }
   ],
   "source": [
    "prices.select(pl.struct(pl.col(['high', 'low'])))"
   ]
  },
  {
   "cell_type": "code",
   "execution_count": null,
   "metadata": {},
   "outputs": [],
   "source": []
  },
  {
   "cell_type": "code",
   "execution_count": null,
   "metadata": {},
   "outputs": [],
   "source": []
  }
 ],
 "metadata": {
  "kernelspec": {
   "display_name": ".venv",
   "language": "python",
   "name": "python3"
  },
  "language_info": {
   "codemirror_mode": {
    "name": "ipython",
    "version": 3
   },
   "file_extension": ".py",
   "mimetype": "text/x-python",
   "name": "python",
   "nbconvert_exporter": "python",
   "pygments_lexer": "ipython3",
   "version": "3.10.14"
  }
 },
 "nbformat": 4,
 "nbformat_minor": 2
}
