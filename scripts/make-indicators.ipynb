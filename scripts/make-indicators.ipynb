{
 "cells": [
  {
   "cell_type": "markdown",
   "metadata": {
    "collapsed": false
   },
   "source": [
    "# Notebook to generate `indicators` module"
   ]
  },
  {
   "cell_type": "code",
   "execution_count": 11,
   "metadata": {
    "ExecuteTime": {
     "end_time": "2024-04-26T00:51:31.241117Z",
     "start_time": "2024-04-26T00:51:31.185653Z"
    },
    "collapsed": false
   },
   "outputs": [],
   "source": [
    "from pathlib import Path\n",
    "\n",
    "from pprint import pformat\n",
    "\n",
    "from mintalib import core\n",
    "\n",
    "from inspect import Signature\n",
    "\n",
    "from mintalib.samples import sample_prices\n",
    "\n",
    "\n",
    "class TEXT(str):\n",
    "    def __repr__(self):\n",
    "        return self"
   ]
  },
  {
   "cell_type": "code",
   "execution_count": 12,
   "metadata": {},
   "outputs": [],
   "source": [
    "\n",
    "ROOTDIR = Path.cwd().parent\n",
    "PKGDIR = ROOTDIR.joinpath(\"src/mintalib\").resolve(strict=True)\n",
    "\n"
   ]
  },
  {
   "cell_type": "code",
   "execution_count": 13,
   "metadata": {},
   "outputs": [],
   "source": [
    "\n",
    "prices = sample_prices()\n"
   ]
  },
  {
   "cell_type": "code",
   "execution_count": 14,
   "metadata": {},
   "outputs": [],
   "source": [
    "import importlib.util\n",
    "\n",
    "def new_module(name: str, code: str = None):\n",
    "    spec = importlib.util.spec_from_loader(name, None)\n",
    "    module = importlib.util.module_from_spec(spec)\n",
    "    if code:\n",
    "        exec(code, module.__dict__)\n",
    "    return module"
   ]
  },
  {
   "cell_type": "code",
   "execution_count": 15,
   "metadata": {
    "ExecuteTime": {
     "end_time": "2024-04-26T00:51:32.396282Z",
     "start_time": "2024-04-26T00:51:32.360134Z"
    },
    "collapsed": false
   },
   "outputs": [
    {
     "data": {
      "text/plain": [
       "['AVGPRICE',\n",
       " 'TYPPRICE',\n",
       " 'WCLPRICE',\n",
       " 'MIDPRICE',\n",
       " 'PRICE',\n",
       " 'CROSSOVER',\n",
       " 'CROSSUNDER',\n",
       " 'FLAG_ABOVE',\n",
       " 'FLAG_BELOW',\n",
       " 'FLAG_INVERT',\n",
       " 'FLAG_UPDOWN',\n",
       " 'SIGN',\n",
       " 'LOG',\n",
       " 'EXP',\n",
       " 'DIFF',\n",
       " 'LAG',\n",
       " 'MIN',\n",
       " 'MAX',\n",
       " 'SUM',\n",
       " 'ROC',\n",
       " 'MAD',\n",
       " 'STDEV',\n",
       " 'SMA',\n",
       " 'EMA',\n",
       " 'RMA',\n",
       " 'WMA',\n",
       " 'HMA',\n",
       " 'DEMA',\n",
       " 'TEMA',\n",
       " 'MA',\n",
       " 'RSI',\n",
       " 'ADX',\n",
       " 'PLUSDI',\n",
       " 'MINUSDI',\n",
       " 'TRANGE',\n",
       " 'ATR',\n",
       " 'NATR',\n",
       " 'SAR',\n",
       " 'CCI',\n",
       " 'CMF',\n",
       " 'MFI',\n",
       " 'BOP',\n",
       " 'BBANDS',\n",
       " 'KELTNER',\n",
       " 'KER',\n",
       " 'KAMA',\n",
       " 'MACD',\n",
       " 'PPO',\n",
       " 'SLOPE',\n",
       " 'RVALUE',\n",
       " 'FORECAST',\n",
       " 'STOCH',\n",
       " 'STREAK',\n",
       " 'EVAL']"
      ]
     },
     "execution_count": 15,
     "metadata": {},
     "output_type": "execute_result"
    }
   ],
   "source": [
    "def core_functions():\n",
    "    return list(k for k, v in vars(core).items() if k.isupper() and callable(v))\n",
    "\n",
    "core_functions()"
   ]
  },
  {
   "cell_type": "code",
   "execution_count": 16,
   "metadata": {
    "ExecuteTime": {
     "end_time": "2024-04-26T00:51:33.117948Z",
     "start_time": "2024-04-26T00:51:33.098909Z"
    },
    "collapsed": false
   },
   "outputs": [],
   "source": [
    "# Sample code for indicator\n",
    "\n",
    "from mintalib.core import wrap_indicator\n",
    "from mintalib.model import FuncIndicator\n",
    "\n",
    "@wrap_indicator(core.SMA)\n",
    "def SMA(period: int = 3):\n",
    "    return FuncIndicator.wrap(core.SMA, params=locals())\n"
   ]
  },
  {
   "cell_type": "code",
   "execution_count": 17,
   "metadata": {
    "ExecuteTime": {
     "end_time": "2024-04-26T00:51:33.784132Z",
     "start_time": "2024-04-26T00:51:33.749869Z"
    },
    "collapsed": false
   },
   "outputs": [
    {
     "data": {
      "text/plain": [
       "@wrap_indicator(core.EMA)\n",
       "def EMA(period: int, *, adjust: bool = False, item: str = None):\n",
       "    return FuncIndicator(core.EMA, params=locals())"
      ]
     },
     "execution_count": 17,
     "metadata": {},
     "output_type": "execute_result"
    }
   ],
   "source": [
    "PREAMBLE = '''\n",
    "\"\"\"\n",
    "Mintalib Indicators\n",
    "\n",
    "Indicators names are upper case.\n",
    "\n",
    "Indicators offer a composable interface where a function is bound with its calculation parameters.\n",
    "When instantiated with parameters an indicator yields a callable that can be applied to prices or series data.\n",
    "Indicators support the `@` operator as syntactic sugar to apply the indicator to data.\n",
    "So for example `SMA(50) @ prices` can be used to compute the 50 period simple moving average on `prices`,\n",
    "insted of `SMA(50)(prices)`.\n",
    "\n",
    "\"\"\"\n",
    "\n",
    "# Do not edit! This file was generated by make-indicators.ipynb\n",
    "\n",
    "from . import core\n",
    "from .core import wrap_indicator\n",
    "from .model import FuncIndicator\n",
    "\n",
    "nan = float('nan')\n",
    "\n",
    "\n",
    "'''\n",
    "\n",
    "\n",
    "def make_indicator(func, name: str = None, preamble=False, verbose=False):\n",
    "    if name is None:\n",
    "        name = func.__name__.upper()\n",
    "\n",
    "    fname = func.__qualname__\n",
    "    module = func.__module__.rpartition(\".\")[2]\n",
    "    qname = f\"{module}.{fname}\"\n",
    "\n",
    "    signature = Signature.from_callable(func)\n",
    "    parameters = list(signature.parameters.values())\n",
    "\n",
    "    if verbose:\n",
    "        print(\"signature\", signature)\n",
    "        print(\"parameters\", parameters)\n",
    "\n",
    "    newparams = []\n",
    "    ftype = parameters[0].name\n",
    "\n",
    "    def annotate(param):\n",
    "        if param.annotation == \"int\":\n",
    "            return param.replace(annotation=int)\n",
    "\n",
    "        if param.annotation == \"str\":\n",
    "            return param.replace(annotation=str)\n",
    "\n",
    "        if type(param.default) in (int, float, bool):\n",
    "            return param.replace(annotation=type(param.default))\n",
    "\n",
    "        return param\n",
    "\n",
    "\n",
    "    newparams = parameters[1:]\n",
    "    newparams = [annotate(p) for p in newparams]\n",
    "\n",
    "    if verbose:\n",
    "        print(\"newparams\", newparams)\n",
    "\n",
    "    newsig = Signature(newparams)\n",
    "\n",
    "    def argument(arg):\n",
    "        return ftype if arg == \"self\" else f\"{arg}=self.{arg}\"\n",
    "\n",
    "    code = PREAMBLE if preamble else \"\"\n",
    "    # code = \"# noinspection PyPep8Naming\\n\"\n",
    "\n",
    "    code += f\"@wrap_indicator({qname})\\n\"\n",
    "    code += f\"def {name}{newsig}:\\n\"\n",
    "    code += f\"    return FuncIndicator({qname}, params=locals())\\n\"\n",
    "\n",
    "\n",
    "    return code\n",
    "\n",
    "\n",
    "TEXT(make_indicator(core.EMA))"
   ]
  },
  {
   "cell_type": "code",
   "execution_count": 18,
   "metadata": {
    "ExecuteTime": {
     "end_time": "2024-04-26T00:51:34.540612Z",
     "start_time": "2024-04-26T00:51:34.519360Z"
    },
    "collapsed": false
   },
   "outputs": [
    {
     "data": {
      "text/plain": [
       "<module 'mintalib.functions'>"
      ]
     },
     "execution_count": 18,
     "metadata": {},
     "output_type": "execute_result"
    }
   ],
   "source": [
    "def test_indicator(func, name=None, verbose=False):\n",
    "    code = make_indicator(func, name=name, preamble=True, verbose=verbose)\n",
    "    return new_module(\"mintalib.functions\", code)\n",
    "\n",
    "\n",
    "test_indicator(core.EMA)"
   ]
  },
  {
   "cell_type": "code",
   "execution_count": 19,
   "metadata": {
    "ExecuteTime": {
     "end_time": "2024-04-26T00:51:35.236897Z",
     "start_time": "2024-04-26T00:51:35.215996Z"
    },
    "collapsed": false
   },
   "outputs": [
    {
     "data": {
      "text/plain": [
       "\n",
       "\"\"\"\n",
       "Mintalib Indicators\n",
       "\n",
       "Indicators names are upper case.\n",
       "\n",
       "Indicators offer a composable interface where a function is bound with its calculation parameters.\n",
       "When instantiated with parameters an indicator yields a callable that can be applied to prices or series data.\n",
       "Indicators support the `@` operator as syntactic sugar to apply the indicator to data.\n",
       "So for example `SMA(50) @ prices` can be used to compute the 50 period simple moving average on `prices`,\n",
       "insted of `SMA(50)(prices)`.\n",
       "\n",
       "\"\"\"\n",
       "\n",
       "# Do not edit! This file was generated by make-indicators.ipynb\n",
       "\n",
       "from . import core\n",
       "from .core import wrap_indicator\n",
       "from .model import FuncIndicator\n",
       "\n",
       "nan = float('nan')\n",
       "\n",
       "\n",
       "__all__ = [\n",
       "    'AVGPRICE', 'TYPPRICE', 'WCLPRICE', 'MIDPRICE', 'PRICE', 'CROSSOVER',\n",
       "    'CROSSUNDER', 'FLAG_ABOVE', 'FLAG_BELOW', 'FLAG_INVERT', 'FLAG_UPDOWN',\n",
       "    'SIGN', 'LOG', 'EXP', 'DIFF', 'LAG', 'MIN', 'MAX', 'SUM', 'ROC', 'MAD',\n",
       "    'STDEV', 'SMA', 'EMA', 'RMA', 'WMA', 'HMA', 'DEMA', 'TEMA', 'MA',\n",
       "    'RSI', 'ADX', 'PLUSDI', 'MINUSDI', 'TRANGE ..."
      ]
     },
     "execution_count": 19,
     "metadata": {},
     "output_type": "execute_result"
    }
   ],
   "source": [
    "\n",
    "def make_indicators(names=None):\n",
    "    if names is None:\n",
    "        names = core_functions()\n",
    "\n",
    "    output = PREAMBLE\n",
    "\n",
    "    buffer = pformat(names, width=75, compact=True, indent=4)\n",
    "    buffer = buffer.replace(\"[\", \" \").replace(\"]\", \"\")\n",
    "    output += f\"__all__ = [\\n{buffer}\\n]\\n\"\n",
    "\n",
    "    output += \"\\n\\n\"\n",
    "\n",
    "    for name in names:\n",
    "        func = getattr(core, name)\n",
    "        text = make_indicator(func)\n",
    "        output += text + \"\\n\\n\"\n",
    "\n",
    "    # output += \"__all__ = [name for name in dir() if name.isupper()]\\n\"\n",
    "\n",
    "    return output\n",
    "\n",
    "\n",
    "code = make_indicators()\n",
    "\n",
    "TEXT(code[:1024] +  \" ...\")"
   ]
  },
  {
   "cell_type": "code",
   "execution_count": 20,
   "metadata": {
    "ExecuteTime": {
     "end_time": "2024-04-26T00:51:36.042638Z",
     "start_time": "2024-04-26T00:51:35.998144Z"
    },
    "collapsed": false
   },
   "outputs": [
    {
     "data": {
      "text/plain": [
       "['ADX',\n",
       " 'ATR',\n",
       " 'AVGPRICE',\n",
       " 'BBANDS',\n",
       " 'BOP',\n",
       " 'CCI',\n",
       " 'CMF',\n",
       " 'CROSSOVER',\n",
       " 'CROSSUNDER',\n",
       " 'DEMA',\n",
       " 'DIFF',\n",
       " 'EMA',\n",
       " 'EVAL',\n",
       " 'EXP',\n",
       " 'FLAG_ABOVE',\n",
       " 'FLAG_BELOW',\n",
       " 'FLAG_INVERT',\n",
       " 'FLAG_UPDOWN',\n",
       " 'FORECAST',\n",
       " 'FuncIndicator',\n",
       " 'HMA',\n",
       " 'KAMA',\n",
       " 'KELTNER',\n",
       " 'KER',\n",
       " 'LAG',\n",
       " 'LOG',\n",
       " 'MA',\n",
       " 'MACD',\n",
       " 'MAD',\n",
       " 'MAX',\n",
       " 'MFI',\n",
       " 'MIDPRICE',\n",
       " 'MIN',\n",
       " 'MINUSDI',\n",
       " 'NATR',\n",
       " 'PLUSDI',\n",
       " 'PPO',\n",
       " 'PRICE',\n",
       " 'RMA',\n",
       " 'ROC',\n",
       " 'RSI',\n",
       " 'RVALUE',\n",
       " 'SAR',\n",
       " 'SIGN',\n",
       " 'SLOPE',\n",
       " 'SMA',\n",
       " 'STDEV',\n",
       " 'STOCH',\n",
       " 'STREAK',\n",
       " 'SUM',\n",
       " 'TEMA',\n",
       " 'TRANGE',\n",
       " 'TYPPRICE',\n",
       " 'WCLPRICE',\n",
       " 'WMA',\n",
       " '__all__',\n",
       " '__builtins__',\n",
       " '__doc__',\n",
       " '__loader__',\n",
       " '__name__',\n",
       " '__package__',\n",
       " '__spec__',\n",
       " 'core',\n",
       " 'nan',\n",
       " 'wrap_indicator']"
      ]
     },
     "execution_count": 20,
     "metadata": {},
     "output_type": "execute_result"
    }
   ],
   "source": [
    "code = make_indicators()\n",
    "\n",
    "indicators = new_module(\"mintalib.indicators\", code)\n",
    "\n",
    "dir(indicators)"
   ]
  },
  {
   "cell_type": "code",
   "execution_count": 21,
   "metadata": {
    "ExecuteTime": {
     "end_time": "2024-04-26T00:51:36.914647Z",
     "start_time": "2024-04-26T00:51:36.891830Z"
    },
    "collapsed": false
   },
   "outputs": [],
   "source": [
    "assert callable(indicators.SMA(20))\n",
    "\n",
    "res = indicators.SMA(20) @ prices\n",
    "\n",
    "assert len(res) > 0\n"
   ]
  },
  {
   "cell_type": "code",
   "execution_count": 22,
   "metadata": {},
   "outputs": [
    {
     "name": "stdout",
     "output_type": "stream",
     "text": [
      "Updating indicators.py ...\n"
     ]
    },
    {
     "data": {
      "text/plain": [
       "8095"
      ]
     },
     "execution_count": 22,
     "metadata": {},
     "output_type": "execute_result"
    }
   ],
   "source": [
    "outfile = PKGDIR / \"indicators.py\"\n",
    "\n",
    "print(f\"Updating {outfile.name} ...\")\n",
    "\n",
    "outfile.write_text(code)"
   ]
  },
  {
   "cell_type": "code",
   "execution_count": 23,
   "metadata": {
    "collapsed": false
   },
   "outputs": [],
   "source": [
    "from mintalib import indicators\n",
    "\n",
    "assert callable(indicators.SMA(20))\n",
    "\n",
    "res = indicators.SMA(20) @ prices\n",
    "\n",
    "assert len(res) > 0"
   ]
  },
  {
   "cell_type": "code",
   "execution_count": null,
   "metadata": {},
   "outputs": [],
   "source": []
  }
 ],
 "metadata": {
  "kernelspec": {
   "display_name": ".venv",
   "language": "python",
   "name": "python3"
  },
  "language_info": {
   "codemirror_mode": {
    "name": "ipython",
    "version": 3
   },
   "file_extension": ".py",
   "mimetype": "text/x-python",
   "name": "python",
   "nbconvert_exporter": "python",
   "pygments_lexer": "ipython3",
   "version": "3.9.19"
  }
 },
 "nbformat": 4,
 "nbformat_minor": 0
}
