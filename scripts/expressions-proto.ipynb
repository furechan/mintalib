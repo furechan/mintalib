{
 "cells": [
  {
   "cell_type": "code",
   "execution_count": 10,
   "metadata": {},
   "outputs": [],
   "source": [
    "import inspect\n",
    "\n",
    "import polars as pl \n",
    "\n",
    "from mintalib.samples import sample_prices\n",
    "from mintalib.builder import annotate_parameter\n",
    "from mintalib.core import calc_sma, calc_atr, calc_macd\n",
    "\n",
    "from polars.datatypes import Struct, Float64\n"
   ]
  },
  {
   "cell_type": "code",
   "execution_count": 11,
   "metadata": {},
   "outputs": [
    {
     "data": {
      "text/html": [
       "<div><style>\n",
       ".dataframe > thead > tr,\n",
       ".dataframe > tbody > tr {\n",
       "  text-align: right;\n",
       "  white-space: pre-wrap;\n",
       "}\n",
       "</style>\n",
       "<small>shape: (11_056, 6)</small><table border=\"1\" class=\"dataframe\"><thead><tr><th>date</th><th>open</th><th>high</th><th>low</th><th>close</th><th>volume</th></tr><tr><td>datetime[ns]</td><td>f64</td><td>f64</td><td>f64</td><td>f64</td><td>i64</td></tr></thead><tbody><tr><td>1980-12-12 00:00:00</td><td>0.098943</td><td>0.099373</td><td>0.098943</td><td>0.098943</td><td>469033600</td></tr><tr><td>1980-12-15 00:00:00</td><td>0.094211</td><td>0.094211</td><td>0.093781</td><td>0.093781</td><td>175884800</td></tr><tr><td>1980-12-16 00:00:00</td><td>0.087328</td><td>0.087328</td><td>0.086898</td><td>0.086898</td><td>105728000</td></tr><tr><td>1980-12-17 00:00:00</td><td>0.089049</td><td>0.089479</td><td>0.089049</td><td>0.089049</td><td>86441600</td></tr><tr><td>1980-12-18 00:00:00</td><td>0.09163</td><td>0.092061</td><td>0.09163</td><td>0.09163</td><td>73449600</td></tr><tr><td>&hellip;</td><td>&hellip;</td><td>&hellip;</td><td>&hellip;</td><td>&hellip;</td><td>&hellip;</td></tr><tr><td>2024-10-15 00:00:00</td><td>233.610001</td><td>237.490005</td><td>232.369995</td><td>233.850006</td><td>64751400</td></tr><tr><td>2024-10-16 00:00:00</td><td>231.600006</td><td>232.119995</td><td>229.839996</td><td>231.779999</td><td>34082200</td></tr><tr><td>2024-10-17 00:00:00</td><td>233.429993</td><td>233.850006</td><td>230.520004</td><td>232.149994</td><td>32993800</td></tr><tr><td>2024-10-18 00:00:00</td><td>236.179993</td><td>236.179993</td><td>234.009995</td><td>235.0</td><td>46431500</td></tr><tr><td>2024-10-21 00:00:00</td><td>234.449997</td><td>236.850006</td><td>234.449997</td><td>236.479996</td><td>36220800</td></tr></tbody></table></div>"
      ],
      "text/plain": [
       "shape: (11_056, 6)\n",
       "┌─────────────────────┬────────────┬────────────┬────────────┬────────────┬───────────┐\n",
       "│ date                ┆ open       ┆ high       ┆ low        ┆ close      ┆ volume    │\n",
       "│ ---                 ┆ ---        ┆ ---        ┆ ---        ┆ ---        ┆ ---       │\n",
       "│ datetime[ns]        ┆ f64        ┆ f64        ┆ f64        ┆ f64        ┆ i64       │\n",
       "╞═════════════════════╪════════════╪════════════╪════════════╪════════════╪═══════════╡\n",
       "│ 1980-12-12 00:00:00 ┆ 0.098943   ┆ 0.099373   ┆ 0.098943   ┆ 0.098943   ┆ 469033600 │\n",
       "│ 1980-12-15 00:00:00 ┆ 0.094211   ┆ 0.094211   ┆ 0.093781   ┆ 0.093781   ┆ 175884800 │\n",
       "│ 1980-12-16 00:00:00 ┆ 0.087328   ┆ 0.087328   ┆ 0.086898   ┆ 0.086898   ┆ 105728000 │\n",
       "│ 1980-12-17 00:00:00 ┆ 0.089049   ┆ 0.089479   ┆ 0.089049   ┆ 0.089049   ┆ 86441600  │\n",
       "│ 1980-12-18 00:00:00 ┆ 0.09163    ┆ 0.092061   ┆ 0.09163    ┆ 0.09163    ┆ 73449600  │\n",
       "│ …                   ┆ …          ┆ …          ┆ …          ┆ …          ┆ …         │\n",
       "│ 2024-10-15 00:00:00 ┆ 233.610001 ┆ 237.490005 ┆ 232.369995 ┆ 233.850006 ┆ 64751400  │\n",
       "│ 2024-10-16 00:00:00 ┆ 231.600006 ┆ 232.119995 ┆ 229.839996 ┆ 231.779999 ┆ 34082200  │\n",
       "│ 2024-10-17 00:00:00 ┆ 233.429993 ┆ 233.850006 ┆ 230.520004 ┆ 232.149994 ┆ 32993800  │\n",
       "│ 2024-10-18 00:00:00 ┆ 236.179993 ┆ 236.179993 ┆ 234.009995 ┆ 235.0      ┆ 46431500  │\n",
       "│ 2024-10-21 00:00:00 ┆ 234.449997 ┆ 236.850006 ┆ 234.449997 ┆ 236.479996 ┆ 36220800  │\n",
       "└─────────────────────┴────────────┴────────────┴────────────┴────────────┴───────────┘"
      ]
     },
     "execution_count": 11,
     "metadata": {},
     "output_type": "execute_result"
    }
   ],
   "source": [
    "prices = sample_prices()\n",
    "prices = pl.from_pandas(prices, include_index=True)\n",
    "prices\n"
   ]
  },
  {
   "cell_type": "code",
   "execution_count": 12,
   "metadata": {},
   "outputs": [
    {
     "name": "stdout",
     "output_type": "stream",
     "text": [
      "(series, period, *, wrap=False)\n"
     ]
    },
    {
     "data": {
      "text/plain": [
       "mappingproxy({'series': <Parameter \"series\">,\n",
       "              'period': <Parameter \"period\">,\n",
       "              'wrap': <Parameter \"wrap=False\">})"
      ]
     },
     "execution_count": 12,
     "metadata": {},
     "output_type": "execute_result"
    }
   ],
   "source": [
    "signature = inspect.signature(calc_sma)\n",
    "print(signature)\n",
    "parameters = signature.parameters\n",
    "parameters"
   ]
  },
  {
   "cell_type": "code",
   "execution_count": 13,
   "metadata": {},
   "outputs": [
    {
     "name": "stdout",
     "output_type": "stream",
     "text": [
      "Calling SMA with src=close, args=(), kwargs={'period': 5}\n"
     ]
    },
    {
     "data": {
      "text/html": [
       "<div><style>\n",
       ".dataframe > thead > tr,\n",
       ".dataframe > tbody > tr {\n",
       "  text-align: right;\n",
       "  white-space: pre-wrap;\n",
       "}\n",
       "</style>\n",
       "<small>shape: (11_056, 1)</small><table border=\"1\" class=\"dataframe\"><thead><tr><th>sma</th></tr><tr><td>f64</td></tr></thead><tbody><tr><td>NaN</td></tr><tr><td>NaN</td></tr><tr><td>NaN</td></tr><tr><td>NaN</td></tr><tr><td>0.09206</td></tr><tr><td>&hellip;</td></tr><tr><td>230.256</td></tr><tr><td>230.704001</td></tr><tr><td>231.326001</td></tr><tr><td>232.816</td></tr><tr><td>233.851999</td></tr></tbody></table></div>"
      ],
      "text/plain": [
       "shape: (11_056, 1)\n",
       "┌────────────┐\n",
       "│ sma        │\n",
       "│ ---        │\n",
       "│ f64        │\n",
       "╞════════════╡\n",
       "│ NaN        │\n",
       "│ NaN        │\n",
       "│ NaN        │\n",
       "│ NaN        │\n",
       "│ 0.09206    │\n",
       "│ …          │\n",
       "│ 230.256    │\n",
       "│ 230.704001 │\n",
       "│ 231.326001 │\n",
       "│ 232.816    │\n",
       "│ 233.851999 │\n",
       "└────────────┘"
      ]
     },
     "execution_count": 13,
     "metadata": {},
     "output_type": "execute_result"
    }
   ],
   "source": [
    "from functools import wraps\n",
    "\n",
    "def get_series_expr(src):\n",
    "    if isinstance(src, str):\n",
    "        return pl.col(src)\n",
    "    elif isinstance(src, pl.Series):\n",
    "        return src\n",
    "    else:\n",
    "        raise ValueError(\"src must be a string or a Polars Series.\")\n",
    "\n",
    "\n",
    "def series_expression(calc_func):\n",
    "    def decorator(func):\n",
    "        name = func.__name__.lower()\n",
    "        metadata = getattr(calc_func, 'metadata', {})\n",
    "        output_names = metadata.get('output_names', ())\n",
    "        output_type = Struct({n: Float64 for n in output_names}) if output_names else Float64\n",
    "        \n",
    "        @wraps(func)\n",
    "        def wrapper(src, *args, **kwargs):\n",
    "            print(f\"Calling {func.__name__} with src={src}, args={args}, kwargs={kwargs}\")\n",
    "            source = get_series_expr(src)\n",
    "\n",
    "            def batch_func(series):\n",
    "                output = calc_func(series, *args, **kwargs)\n",
    "                if output_names:\n",
    "                    return pl.DataFrame(output._asdict()).to_struct(name)\n",
    "                return output\n",
    "            \n",
    "            expr = source.map_batches(batch_func, return_dtype=output_type)\n",
    "            expr = expr.struct.unnest() if output_names else expr.alias(name)\n",
    "\n",
    "            return expr\n",
    "             \n",
    "        return wrapper\n",
    "    return decorator\n",
    "\n",
    "\n",
    "@series_expression(calc_sma)\n",
    "def SMA(src, *, period: int): ...\n",
    "\n",
    "\n",
    "prices.select(SMA('close', period=5))"
   ]
  },
  {
   "cell_type": "code",
   "execution_count": 14,
   "metadata": {},
   "outputs": [
    {
     "name": "stdout",
     "output_type": "stream",
     "text": [
      "Calling MACD with src=close, args=(), kwargs={}\n"
     ]
    },
    {
     "data": {
      "text/html": [
       "<div><style>\n",
       ".dataframe > thead > tr,\n",
       ".dataframe > tbody > tr {\n",
       "  text-align: right;\n",
       "  white-space: pre-wrap;\n",
       "}\n",
       "</style>\n",
       "<small>shape: (11_056, 3)</small><table border=\"1\" class=\"dataframe\"><thead><tr><th>macd</th><th>macdsignal</th><th>macdhist</th></tr><tr><td>f64</td><td>f64</td><td>f64</td></tr></thead><tbody><tr><td>NaN</td><td>NaN</td><td>NaN</td></tr><tr><td>NaN</td><td>NaN</td><td>NaN</td></tr><tr><td>NaN</td><td>NaN</td><td>NaN</td></tr><tr><td>NaN</td><td>NaN</td><td>NaN</td></tr><tr><td>NaN</td><td>NaN</td><td>NaN</td></tr><tr><td>&hellip;</td><td>&hellip;</td><td>&hellip;</td></tr><tr><td>1.815958</td><td>1.313965</td><td>0.501993</td></tr><tr><td>1.941114</td><td>1.439395</td><td>0.501719</td></tr><tr><td>2.046565</td><td>1.560829</td><td>0.485736</td></tr><tr><td>2.333211</td><td>1.715305</td><td>0.617906</td></tr><tr><td>2.649265</td><td>1.902097</td><td>0.747168</td></tr></tbody></table></div>"
      ],
      "text/plain": [
       "shape: (11_056, 3)\n",
       "┌──────────┬────────────┬──────────┐\n",
       "│ macd     ┆ macdsignal ┆ macdhist │\n",
       "│ ---      ┆ ---        ┆ ---      │\n",
       "│ f64      ┆ f64        ┆ f64      │\n",
       "╞══════════╪════════════╪══════════╡\n",
       "│ NaN      ┆ NaN        ┆ NaN      │\n",
       "│ NaN      ┆ NaN        ┆ NaN      │\n",
       "│ NaN      ┆ NaN        ┆ NaN      │\n",
       "│ NaN      ┆ NaN        ┆ NaN      │\n",
       "│ NaN      ┆ NaN        ┆ NaN      │\n",
       "│ …        ┆ …          ┆ …        │\n",
       "│ 1.815958 ┆ 1.313965   ┆ 0.501993 │\n",
       "│ 1.941114 ┆ 1.439395   ┆ 0.501719 │\n",
       "│ 2.046565 ┆ 1.560829   ┆ 0.485736 │\n",
       "│ 2.333211 ┆ 1.715305   ┆ 0.617906 │\n",
       "│ 2.649265 ┆ 1.902097   ┆ 0.747168 │\n",
       "└──────────┴────────────┴──────────┘"
      ]
     },
     "execution_count": 14,
     "metadata": {},
     "output_type": "execute_result"
    }
   ],
   "source": [
    "\n",
    "@series_expression(calc_macd)\n",
    "def MACD(src): ...\n",
    "\n",
    "\n",
    "prices.select(MACD('close'))\n"
   ]
  },
  {
   "cell_type": "code",
   "execution_count": 15,
   "metadata": {},
   "outputs": [
    {
     "data": {
      "text/plain": [
       "<Signature (prices, period=14, *, wrap=False)>"
      ]
     },
     "execution_count": 15,
     "metadata": {},
     "output_type": "execute_result"
    }
   ],
   "source": [
    "sig = inspect.signature(calc_atr)\n",
    "sig\n"
   ]
  },
  {
   "cell_type": "code",
   "execution_count": 17,
   "metadata": {},
   "outputs": [
    {
     "name": "stdout",
     "output_type": "stream",
     "text": [
      "Calling ATR with src=None, args=(14,), kwargs={}\n"
     ]
    },
    {
     "data": {
      "text/html": [
       "<div><style>\n",
       ".dataframe > thead > tr,\n",
       ".dataframe > tbody > tr {\n",
       "  text-align: right;\n",
       "  white-space: pre-wrap;\n",
       "}\n",
       "</style>\n",
       "<small>shape: (11_056, 1)</small><table border=\"1\" class=\"dataframe\"><thead><tr><th>atr</th></tr><tr><td>f64</td></tr></thead><tbody><tr><td>NaN</td></tr><tr><td>NaN</td></tr><tr><td>NaN</td></tr><tr><td>NaN</td></tr><tr><td>NaN</td></tr><tr><td>&hellip;</td></tr><tr><td>4.516121</td></tr><tr><td>4.479971</td></tr><tr><td>4.39783</td></tr><tr><td>4.371556</td></tr><tr><td>4.230731</td></tr></tbody></table></div>"
      ],
      "text/plain": [
       "shape: (11_056, 1)\n",
       "┌──────────┐\n",
       "│ atr      │\n",
       "│ ---      │\n",
       "│ f64      │\n",
       "╞══════════╡\n",
       "│ NaN      │\n",
       "│ NaN      │\n",
       "│ NaN      │\n",
       "│ NaN      │\n",
       "│ NaN      │\n",
       "│ …        │\n",
       "│ 4.516121 │\n",
       "│ 4.479971 │\n",
       "│ 4.39783  │\n",
       "│ 4.371556 │\n",
       "│ 4.230731 │\n",
       "└──────────┘"
      ]
     },
     "execution_count": 17,
     "metadata": {},
     "output_type": "execute_result"
    }
   ],
   "source": [
    "from functools import wraps\n",
    "\n",
    "def get_struct_expr(src):\n",
    "    if src is None:\n",
    "        return pl.struct(\"*\")\n",
    "    \n",
    "    if isinstance(src, str):\n",
    "        return pl.col(src).struct\n",
    "    \n",
    "    if isinstance(src, pl.Expr):\n",
    "        return pl.struct(src)\n",
    "        \n",
    "    raise ValueError(f\"Unsupported src type: {type(src)}\")\n",
    "\n",
    "\n",
    "def prices_expression(calc_func):\n",
    "    def decorator(func):\n",
    "        name = func.__name__.lower()\n",
    "        metadata = getattr(calc_func, 'metadata', {})\n",
    "        output_names = metadata.get('output_names', ())\n",
    "        output_type = Struct({n: Float64 for n in output_names}) if output_names else Float64\n",
    "        \n",
    "        @wraps(func)\n",
    "        def wrapper(*args, src=None, **kwargs):\n",
    "            print(f\"Calling {func.__name__} with src={src}, args={args}, kwargs={kwargs}\")\n",
    "            source = get_struct_expr(src)\n",
    "\n",
    "            def batch_func(prices):\n",
    "                output = calc_func(prices.struct, *args, **kwargs)\n",
    "                if output_names:\n",
    "                    return pl.DataFrame(output._asdict()).to_struct(name)\n",
    "                return output\n",
    "            \n",
    "            expr = source.map_batches(batch_func, return_dtype=output_type)\n",
    "            expr = expr.struct.unnest() if output_names else expr.alias(name)\n",
    "            \n",
    "            return expr\n",
    "        \n",
    "        return wrapper\n",
    "    return decorator\n",
    "\n",
    "\n",
    "@prices_expression(calc_atr)\n",
    "def ATR(period: int, *, src=None): ...\n",
    "\n",
    "prices.select(ATR(14))"
   ]
  },
  {
   "cell_type": "code",
   "execution_count": null,
   "metadata": {},
   "outputs": [],
   "source": [
    "\n",
    "\n",
    "def make_signature(calc_func):\n",
    "    \"\"\"creates function signature from core function\"\"\"\n",
    "    sig = inspect.signature(calc_func)\n",
    "    first_param = None\n",
    "    \n",
    "    arg_params = []\n",
    "    for param in sig.parameters.values():\n",
    "        if first_param is None:\n",
    "            first_param = param\n",
    "            if param.name == \"prices\":\n",
    "                continue                \n",
    "            else:\n",
    "                param = param.replace(\n",
    "                    name = \"src\",\n",
    "                    annotation='Expr',\n",
    "                )\n",
    "\n",
    "        if param.name == \"wrap\":\n",
    "            continue\n",
    "\n",
    "        param = annotate_parameter(param)\n",
    "        arg_params.append(param)\n",
    "\n",
    "    if first_param.name == \"prices\":\n",
    "        param = inspect.Parameter(\n",
    "            name=\"src\",\n",
    "            kind=inspect.Parameter.KEYWORD_ONLY,\n",
    "            default='*',\n",
    "            annotation=None\n",
    "        )\n",
    "        arg_params.append(param)\n",
    "\n",
    "    return sig.replace(parameters=arg_params)\n",
    "\n",
    "sig = make_signature(calc_sma)\n",
    "print(sig)\n",
    "\n"
   ]
  },
  {
   "cell_type": "code",
   "execution_count": null,
   "metadata": {},
   "outputs": [],
   "source": [
    "\n",
    "def make_expression(calc_func):\n",
    "    signature = inspect.signature(calc_func)\n",
    "    cname = f\"core.{calc_func.__name__}\"\n",
    "    fname = calc_func.__name__.removeprefix(\"calc_\").upper()\n",
    "    signature = make_signature(calc_func)\n",
    "    buffer = f\"@wrap_function({cname})\\n\"\n",
    "    buffer += f\"def {fname}{signature}: ...\\n\\n\"\n",
    "    print(buffer)\n",
    "\n",
    "make_expression(calc_sma)"
   ]
  },
  {
   "cell_type": "code",
   "execution_count": null,
   "metadata": {},
   "outputs": [],
   "source": []
  },
  {
   "cell_type": "code",
   "execution_count": null,
   "metadata": {},
   "outputs": [],
   "source": []
  }
 ],
 "metadata": {
  "kernelspec": {
   "display_name": ".venv",
   "language": "python",
   "name": "python3"
  },
  "language_info": {
   "codemirror_mode": {
    "name": "ipython",
    "version": 3
   },
   "file_extension": ".py",
   "mimetype": "text/x-python",
   "name": "python",
   "nbconvert_exporter": "python",
   "pygments_lexer": "ipython3",
   "version": "3.9.6"
  }
 },
 "nbformat": 4,
 "nbformat_minor": 2
}
