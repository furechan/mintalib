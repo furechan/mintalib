{
 "cells": [
  {
   "cell_type": "markdown",
   "metadata": {
    "collapsed": false,
    "pycharm": {
     "name": "#%% md\n"
    }
   },
   "source": [
    "# Notebook to update readme files"
   ]
  },
  {
   "cell_type": "code",
   "execution_count": 57,
   "metadata": {
    "ExecuteTime": {
     "end_time": "2024-04-26T00:50:46.172170Z",
     "start_time": "2024-04-26T00:50:45.650877Z"
    },
    "collapsed": false,
    "pycharm": {
     "name": "#%%\n"
    }
   },
   "outputs": [],
   "source": [
    "import re\n",
    "import toml\n",
    "import shutil\n",
    "import posixpath\n",
    "\n",
    "from pathlib import Path\n",
    "\n",
    "import pandas as pd\n",
    "\n",
    "from mintalib import core\n"
   ]
  },
  {
   "cell_type": "code",
   "execution_count": 58,
   "metadata": {},
   "outputs": [],
   "source": [
    "ROOTDIR = Path.cwd().parent\n",
    "PYPROJECT = ROOTDIR.joinpath(\"pyproject.toml\").resolve(strict=True)\n"
   ]
  },
  {
   "cell_type": "code",
   "execution_count": 50,
   "metadata": {
    "ExecuteTime": {
     "end_time": "2024-04-26T00:50:46.707986Z",
     "start_time": "2024-04-26T00:50:46.681717Z"
    },
    "collapsed": false
   },
   "outputs": [
    {
     "data": {
      "text/plain": [
       "'https://github.com/furechan/mintalib'"
      ]
     },
     "execution_count": 50,
     "metadata": {},
     "output_type": "execute_result"
    }
   ],
   "source": [
    "def jquery(data: dict, item: str, default=None):\n",
    "    result = data\n",
    "\n",
    "    for i in item.split(\".\"):\n",
    "        result = result.get(i, None)\n",
    "        if result is None:\n",
    "            return default\n",
    "\n",
    "    return result\n",
    "\n",
    "\n",
    "def get_project_url(pyproject=PYPROJECT):\n",
    "    \"\"\"extract project url from project configuration\"\"\"\n",
    "\n",
    "    if not pyproject.exists():\n",
    "        raise FileNotFoundError(\"pyproject.toml\")\n",
    "\n",
    "    config = toml.load(pyproject)\n",
    "    \n",
    "    return jquery(config, \"project.urls.homepage\")\n",
    "\n",
    "get_project_url()\n"
   ]
  },
  {
   "cell_type": "code",
   "execution_count": 51,
   "metadata": {},
   "outputs": [],
   "source": [
    "def get_info(func):\n",
    "    \"\"\"information about function\"\"\"\n",
    "\n",
    "    info = dict(Name=func.__qualname__)\n",
    "\n",
    "    doc = func.__doc__ or \"\"\n",
    "    description = doc.strip().partition(\"\\n\")[0]\n",
    "    if description is not None:\n",
    "        info.update(Description=description)\n",
    "\n",
    "    return info\n",
    "\n",
    "\n",
    "def list_functions():\n",
    "    \"\"\"list functions\"\"\"\n",
    "\n",
    "    result = [v for k, v in vars(core).items() if k.isupper() and callable(v)]\n",
    "\n",
    "    result = [get_info(f) for f in result]\n",
    "\n",
    "    result = pd.DataFrame(result).set_index(\"Name\")\n",
    "\n",
    "    result = result.sort_index()\n",
    "\n",
    "    return result"
   ]
  },
  {
   "cell_type": "code",
   "execution_count": 52,
   "metadata": {
    "ExecuteTime": {
     "end_time": "2024-04-26T00:50:47.534262Z",
     "start_time": "2024-04-26T00:50:47.508215Z"
    },
    "collapsed": false,
    "pycharm": {
     "name": "#%%\n"
    }
   },
   "outputs": [
    {
     "data": {
      "text/html": [
       "<div>\n",
       "<style scoped>\n",
       "    .dataframe tbody tr th:only-of-type {\n",
       "        vertical-align: middle;\n",
       "    }\n",
       "\n",
       "    .dataframe tbody tr th {\n",
       "        vertical-align: top;\n",
       "    }\n",
       "\n",
       "    .dataframe thead th {\n",
       "        text-align: right;\n",
       "    }\n",
       "</style>\n",
       "<table border=\"1\" class=\"dataframe\">\n",
       "  <thead>\n",
       "    <tr style=\"text-align: right;\">\n",
       "      <th></th>\n",
       "      <th>Description</th>\n",
       "    </tr>\n",
       "    <tr>\n",
       "      <th>Name</th>\n",
       "      <th></th>\n",
       "    </tr>\n",
       "  </thead>\n",
       "  <tbody>\n",
       "    <tr>\n",
       "      <th>ADX</th>\n",
       "      <td>Average Directional Index</td>\n",
       "    </tr>\n",
       "    <tr>\n",
       "      <th>ATR</th>\n",
       "      <td>Average True Range</td>\n",
       "    </tr>\n",
       "    <tr>\n",
       "      <th>AVGPRICE</th>\n",
       "      <td>Average Price</td>\n",
       "    </tr>\n",
       "    <tr>\n",
       "      <th>BBANDS</th>\n",
       "      <td>Bollinger Bands</td>\n",
       "    </tr>\n",
       "    <tr>\n",
       "      <th>BOP</th>\n",
       "      <td>Balance of Power</td>\n",
       "    </tr>\n",
       "    <tr>\n",
       "      <th>CCI</th>\n",
       "      <td>Commodity Channel Index</td>\n",
       "    </tr>\n",
       "    <tr>\n",
       "      <th>CMF</th>\n",
       "      <td>Chaikin Money Flow</td>\n",
       "    </tr>\n",
       "    <tr>\n",
       "      <th>CROSSOVER</th>\n",
       "      <td>Cross Over</td>\n",
       "    </tr>\n",
       "    <tr>\n",
       "      <th>CROSSUNDER</th>\n",
       "      <td>Cross Under</td>\n",
       "    </tr>\n",
       "    <tr>\n",
       "      <th>DEMA</th>\n",
       "      <td>Double Exponential Moving Average</td>\n",
       "    </tr>\n",
       "    <tr>\n",
       "      <th>DIFF</th>\n",
       "      <td>Difference</td>\n",
       "    </tr>\n",
       "    <tr>\n",
       "      <th>EMA</th>\n",
       "      <td>Exponential Moving Average</td>\n",
       "    </tr>\n",
       "    <tr>\n",
       "      <th>EVAL</th>\n",
       "      <td>Expression Eval (pandas only)</td>\n",
       "    </tr>\n",
       "    <tr>\n",
       "      <th>EXP</th>\n",
       "      <td>Exponential</td>\n",
       "    </tr>\n",
       "    <tr>\n",
       "      <th>FLAG_ABOVE</th>\n",
       "      <td>Flag for value above level</td>\n",
       "    </tr>\n",
       "    <tr>\n",
       "      <th>FLAG_BELOW</th>\n",
       "      <td>Flag for value below level</td>\n",
       "    </tr>\n",
       "    <tr>\n",
       "      <th>FLAG_INVERT</th>\n",
       "      <td>Inverse flag</td>\n",
       "    </tr>\n",
       "    <tr>\n",
       "      <th>FLAG_UPDOWN</th>\n",
       "      <td>Flag for value crossing up &amp; down levels</td>\n",
       "    </tr>\n",
       "    <tr>\n",
       "      <th>FORECAST</th>\n",
       "      <td>Forecast (time linear regression)</td>\n",
       "    </tr>\n",
       "    <tr>\n",
       "      <th>HMA</th>\n",
       "      <td>Hull Moving Average</td>\n",
       "    </tr>\n",
       "    <tr>\n",
       "      <th>KAMA</th>\n",
       "      <td>Kaufman Adaptive Moving Average</td>\n",
       "    </tr>\n",
       "    <tr>\n",
       "      <th>KELTNER</th>\n",
       "      <td>Keltner Channel</td>\n",
       "    </tr>\n",
       "    <tr>\n",
       "      <th>KER</th>\n",
       "      <td>Kaufman Efficiency Ratio</td>\n",
       "    </tr>\n",
       "    <tr>\n",
       "      <th>LAG</th>\n",
       "      <td>Lag Function</td>\n",
       "    </tr>\n",
       "    <tr>\n",
       "      <th>LOG</th>\n",
       "      <td>Logarithm</td>\n",
       "    </tr>\n",
       "    <tr>\n",
       "      <th>MA</th>\n",
       "      <td>Generic Moving Average</td>\n",
       "    </tr>\n",
       "    <tr>\n",
       "      <th>MACD</th>\n",
       "      <td>Moving Average Convergenge Divergence</td>\n",
       "    </tr>\n",
       "    <tr>\n",
       "      <th>MAD</th>\n",
       "      <td>Mean Absolute Deviation</td>\n",
       "    </tr>\n",
       "    <tr>\n",
       "      <th>MAX</th>\n",
       "      <td>Rolling Maximum</td>\n",
       "    </tr>\n",
       "    <tr>\n",
       "      <th>MFI</th>\n",
       "      <td>Money Flow Index</td>\n",
       "    </tr>\n",
       "    <tr>\n",
       "      <th>MIDPRICE</th>\n",
       "      <td>Mid Price</td>\n",
       "    </tr>\n",
       "    <tr>\n",
       "      <th>MIN</th>\n",
       "      <td>Rolling Minimum</td>\n",
       "    </tr>\n",
       "    <tr>\n",
       "      <th>MINUSDI</th>\n",
       "      <td>Minus Directional Index</td>\n",
       "    </tr>\n",
       "    <tr>\n",
       "      <th>NATR</th>\n",
       "      <td>Average True Range (normalized)</td>\n",
       "    </tr>\n",
       "    <tr>\n",
       "      <th>PLUSDI</th>\n",
       "      <td>Plus Directional Index</td>\n",
       "    </tr>\n",
       "    <tr>\n",
       "      <th>PPO</th>\n",
       "      <td>Price Percentage Oscillator</td>\n",
       "    </tr>\n",
       "    <tr>\n",
       "      <th>PRICE</th>\n",
       "      <td>Generic Price</td>\n",
       "    </tr>\n",
       "    <tr>\n",
       "      <th>RMA</th>\n",
       "      <td>Rolling Moving Average (RSI style)</td>\n",
       "    </tr>\n",
       "    <tr>\n",
       "      <th>ROC</th>\n",
       "      <td>Rate of Change</td>\n",
       "    </tr>\n",
       "    <tr>\n",
       "      <th>RSI</th>\n",
       "      <td>Relative Strength Index</td>\n",
       "    </tr>\n",
       "    <tr>\n",
       "      <th>RVALUE</th>\n",
       "      <td>RValue (time linear regression)</td>\n",
       "    </tr>\n",
       "    <tr>\n",
       "      <th>SAR</th>\n",
       "      <td>Parabolic Stop and Reverse</td>\n",
       "    </tr>\n",
       "    <tr>\n",
       "      <th>SIGN</th>\n",
       "      <td>Sign</td>\n",
       "    </tr>\n",
       "    <tr>\n",
       "      <th>SLOPE</th>\n",
       "      <td>Slope (time linear regression)</td>\n",
       "    </tr>\n",
       "    <tr>\n",
       "      <th>SMA</th>\n",
       "      <td>Simple Moving Average</td>\n",
       "    </tr>\n",
       "    <tr>\n",
       "      <th>STDEV</th>\n",
       "      <td>Standard Deviation</td>\n",
       "    </tr>\n",
       "    <tr>\n",
       "      <th>STOCH</th>\n",
       "      <td>Stochastic Oscillator</td>\n",
       "    </tr>\n",
       "    <tr>\n",
       "      <th>STREAK</th>\n",
       "      <td>Consecutive streak of ups or downs</td>\n",
       "    </tr>\n",
       "    <tr>\n",
       "      <th>SUM</th>\n",
       "      <td>Rolling Sum</td>\n",
       "    </tr>\n",
       "    <tr>\n",
       "      <th>TEMA</th>\n",
       "      <td>Triple Exponential Moving Average</td>\n",
       "    </tr>\n",
       "    <tr>\n",
       "      <th>TRANGE</th>\n",
       "      <td>True Range</td>\n",
       "    </tr>\n",
       "    <tr>\n",
       "      <th>TYPPRICE</th>\n",
       "      <td>Typical Price</td>\n",
       "    </tr>\n",
       "    <tr>\n",
       "      <th>WCLPRICE</th>\n",
       "      <td>Weighted Close Price</td>\n",
       "    </tr>\n",
       "    <tr>\n",
       "      <th>WMA</th>\n",
       "      <td>Weighted Moving Average</td>\n",
       "    </tr>\n",
       "  </tbody>\n",
       "</table>\n",
       "</div>"
      ],
      "text/plain": [
       "                                          Description\n",
       "Name                                                 \n",
       "ADX                         Average Directional Index\n",
       "ATR                                Average True Range\n",
       "AVGPRICE                                Average Price\n",
       "BBANDS                                Bollinger Bands\n",
       "BOP                                  Balance of Power\n",
       "CCI                           Commodity Channel Index\n",
       "CMF                                Chaikin Money Flow\n",
       "CROSSOVER                                  Cross Over\n",
       "CROSSUNDER                                Cross Under\n",
       "DEMA                Double Exponential Moving Average\n",
       "DIFF                                       Difference\n",
       "EMA                        Exponential Moving Average\n",
       "EVAL                    Expression Eval (pandas only)\n",
       "EXP                                       Exponential\n",
       "FLAG_ABOVE                 Flag for value above level\n",
       "FLAG_BELOW                 Flag for value below level\n",
       "FLAG_INVERT                              Inverse flag\n",
       "FLAG_UPDOWN  Flag for value crossing up & down levels\n",
       "FORECAST            Forecast (time linear regression)\n",
       "HMA                               Hull Moving Average\n",
       "KAMA                  Kaufman Adaptive Moving Average\n",
       "KELTNER                               Keltner Channel\n",
       "KER                          Kaufman Efficiency Ratio\n",
       "LAG                                      Lag Function\n",
       "LOG                                         Logarithm\n",
       "MA                             Generic Moving Average\n",
       "MACD            Moving Average Convergenge Divergence\n",
       "MAD                           Mean Absolute Deviation\n",
       "MAX                                   Rolling Maximum\n",
       "MFI                                 Money Flow Index \n",
       "MIDPRICE                                    Mid Price\n",
       "MIN                                   Rolling Minimum\n",
       "MINUSDI                       Minus Directional Index\n",
       "NATR                  Average True Range (normalized)\n",
       "PLUSDI                         Plus Directional Index\n",
       "PPO                       Price Percentage Oscillator\n",
       "PRICE                                  Generic Price \n",
       "RMA                Rolling Moving Average (RSI style)\n",
       "ROC                                    Rate of Change\n",
       "RSI                           Relative Strength Index\n",
       "RVALUE                RValue (time linear regression)\n",
       "SAR                        Parabolic Stop and Reverse\n",
       "SIGN                                             Sign\n",
       "SLOPE                  Slope (time linear regression)\n",
       "SMA                             Simple Moving Average\n",
       "STDEV                              Standard Deviation\n",
       "STOCH                           Stochastic Oscillator\n",
       "STREAK             Consecutive streak of ups or downs\n",
       "SUM                                       Rolling Sum\n",
       "TEMA                Triple Exponential Moving Average\n",
       "TRANGE                                     True Range\n",
       "TYPPRICE                                Typical Price\n",
       "WCLPRICE                         Weighted Close Price\n",
       "WMA                           Weighted Moving Average"
      ]
     },
     "execution_count": 52,
     "metadata": {},
     "output_type": "execute_result"
    }
   ],
   "source": [
    "functions = list_functions()\n",
    "functions"
   ]
  },
  {
   "cell_type": "code",
   "execution_count": 53,
   "metadata": {
    "ExecuteTime": {
     "end_time": "2024-04-26T00:50:50.864110Z",
     "start_time": "2024-04-26T00:50:50.841822Z"
    },
    "collapsed": false
   },
   "outputs": [
    {
     "name": "stdout",
     "output_type": "stream",
     "text": [
      "Backing up README.md ...\n"
     ]
    }
   ],
   "source": [
    "def backup_readme(verbose=True):\n",
    "    readme = ROOTDIR.joinpath(\"README.md\")\n",
    "    if ROOTDIR.joinpath(\"archive\").exists():\n",
    "        backup = ROOTDIR.joinpath(\"archive/README.bak\")\n",
    "    else:\n",
    "        backup = ROOTDIR.joinpath(\"README.bak\")\n",
    "\n",
    "    if verbose:\n",
    "        print(f\"Backing up {readme.name} ...\")\n",
    "\n",
    "    shutil.copy(readme, backup)\n",
    "\n",
    "\n",
    "backup_readme()"
   ]
  },
  {
   "cell_type": "code",
   "execution_count": 54,
   "metadata": {
    "ExecuteTime": {
     "end_time": "2024-04-26T00:50:51.494685Z",
     "start_time": "2024-04-26T00:50:51.465225Z"
    },
    "collapsed": false
   },
   "outputs": [
    {
     "name": "stdout",
     "output_type": "stream",
     "text": [
      "Updating README.md ...\n"
     ]
    },
    {
     "data": {
      "text/plain": [
       "8603"
      ]
     },
     "execution_count": 54,
     "metadata": {},
     "output_type": "execute_result"
    }
   ],
   "source": [
    "def update_readme(verbose=True):\n",
    "    title = \"## List of Indicators\\n\"\n",
    "    table = list_functions().to_markdown()\n",
    "    repl = title + \"\\n\" + table + \"\\n\\n\\n\"\n",
    "\n",
    "    # flags m=multiline, s=dotall\n",
    "    pattern = r\"(?ms)(^[#]+ List of (Functions|Indicators)\\n[^#]+)\"\n",
    "\n",
    "    readme = ROOTDIR.joinpath(\"README.md\")\n",
    "    contents = readme.read_text()\n",
    "\n",
    "    output, count = re.subn(pattern, repl, contents)\n",
    "\n",
    "    if count != 1:\n",
    "        raise RuntimeError(\"Cound not locate list of funtions\")\n",
    "\n",
    "    if verbose:\n",
    "        print(f\"Updating {readme.name} ...\")\n",
    "\n",
    "    return readme.write_text(output)\n",
    "\n",
    "\n",
    "update_readme()"
   ]
  },
  {
   "cell_type": "code",
   "execution_count": 55,
   "metadata": {
    "collapsed": false
   },
   "outputs": [
    {
     "name": "stdout",
     "output_type": "stream",
     "text": [
      "mapping [mintalib.core](/docs/mintalib.core.md) -> [mintalib.core](https://github.com/furechan/mintalib/blob/main/docs/mintalib.core.md)\n",
      "mapping [mintalib.functions](/docs/mintalib.functions.md) -> [mintalib.functions](https://github.com/furechan/mintalib/blob/main/docs/mintalib.functions.md)\n",
      "mapping [mintalib.indicators](/docs/mintalib.indicators.md) -> [mintalib.indicators](https://github.com/furechan/mintalib/blob/main/docs/mintalib.indicators.md)\n"
     ]
    }
   ],
   "source": [
    "def process_readme(file, *, project_url=None, branch=\"main\", verbose=True):\n",
    "    \"\"\"translate relative urls to full urls\"\"\"\n",
    "\n",
    "    if project_url is None:\n",
    "        project_url = get_project_url()\n",
    "\n",
    "    def replace(m):\n",
    "        exclam, alt, url = m.groups()\n",
    "        ftype = \"raw\" if exclam else \"blob\"\n",
    "        if url.startswith(\"/\"):\n",
    "            url = url.removeprefix(\"/\")\n",
    "            url = posixpath.join(project_url, ftype, branch, url)\n",
    "            text = f\"{exclam}[{alt}]({url})\"\n",
    "            if verbose:\n",
    "                print(\"mapping\", m.group(0), \"->\", text)\n",
    "        else:\n",
    "            text = m.group(0)\n",
    "        return text\n",
    "\n",
    "    source = file.read_text()\n",
    "\n",
    "    result = re.sub(\n",
    "        r\"(\\!?) \\[ ([^]]*) \\] \\( ([^)]+) \\)\", replace, source,\n",
    "        flags = re.VERBOSE\n",
    "        )\n",
    "\n",
    "    return result\n",
    "\n"
   ]
  },
  {
   "cell_type": "code",
   "execution_count": 56,
   "metadata": {},
   "outputs": [
    {
     "name": "stdout",
     "output_type": "stream",
     "text": [
      "mapping [mintalib.core](/docs/mintalib.core.md) -> [mintalib.core](https://github.com/furechan/mintalib/blob/main/docs/mintalib.core.md)\n",
      "mapping [mintalib.functions](/docs/mintalib.functions.md) -> [mintalib.functions](https://github.com/furechan/mintalib/blob/main/docs/mintalib.functions.md)\n",
      "mapping [mintalib.indicators](/docs/mintalib.indicators.md) -> [mintalib.indicators](https://github.com/furechan/mintalib/blob/main/docs/mintalib.indicators.md)\n",
      "Updatings pypi-readme.md ...\n"
     ]
    },
    {
     "data": {
      "text/plain": [
       "8741"
      ]
     },
     "execution_count": 56,
     "metadata": {},
     "output_type": "execute_result"
    }
   ],
   "source": [
    "README = ROOTDIR.joinpath(\"README.md\").resolve(strict=True)\n",
    "OUTDIR = ROOTDIR / \"build\"\n",
    "OUTDIR.mkdir(exist_ok=True)\n",
    "\n",
    "output = process_readme(README, verbose=True)\n",
    "\n",
    "outfile = OUTDIR.joinpath(\"pypi-readme.md\").resolve()\n",
    "\n",
    "print(f\"Updatings {outfile.name} ...\")\n",
    "\n",
    "outfile.write_text(output)"
   ]
  },
  {
   "cell_type": "code",
   "execution_count": null,
   "metadata": {},
   "outputs": [],
   "source": []
  }
 ],
 "metadata": {
  "kernelspec": {
   "display_name": ".venv",
   "language": "python",
   "name": "python3"
  },
  "language_info": {
   "codemirror_mode": {
    "name": "ipython",
    "version": 3
   },
   "file_extension": ".py",
   "mimetype": "text/x-python",
   "name": "python",
   "nbconvert_exporter": "python",
   "pygments_lexer": "ipython3",
   "version": "3.9.19"
  }
 },
 "nbformat": 4,
 "nbformat_minor": 0
}
