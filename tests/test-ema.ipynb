{
 "cells": [
  {
   "cell_type": "code",
   "execution_count": 1,
   "metadata": {
    "ExecuteTime": {
     "end_time": "2023-10-28T15:07:27.891198Z",
     "start_time": "2023-10-28T15:07:27.661232Z"
    },
    "collapsed": false,
    "pycharm": {
     "name": "#%%\n"
    }
   },
   "outputs": [],
   "source": [
    "import numpy as np\n",
    "\n",
    "from mintalib import core\n",
    "from mintalib import reflib\n",
    "\n",
    "from mintalib.samples import sample_prices"
   ]
  },
  {
   "cell_type": "code",
   "execution_count": 2,
   "metadata": {
    "ExecuteTime": {
     "end_time": "2023-10-28T15:07:28.506360Z",
     "start_time": "2023-10-28T15:07:28.442572Z"
    },
    "collapsed": false,
    "pycharm": {
     "name": "#%%\n"
    }
   },
   "outputs": [
    {
     "data": {
      "text/plain": [
       "date\n",
       "1980-12-12      0.098943\n",
       "1980-12-15      0.093781\n",
       "1980-12-16      0.086898\n",
       "1980-12-17      0.089049\n",
       "1980-12-18      0.091630\n",
       "                 ...    \n",
       "2024-10-15    233.850006\n",
       "2024-10-16    231.779999\n",
       "2024-10-17    232.149994\n",
       "2024-10-18    235.000000\n",
       "2024-10-21    236.479996\n",
       "Name: close, Length: 11056, dtype: float64"
      ]
     },
     "execution_count": 2,
     "metadata": {},
     "output_type": "execute_result"
    }
   ],
   "source": [
    "period = 20\n",
    "series = sample_prices(item=\"close\")\n",
    "series"
   ]
  },
  {
   "cell_type": "code",
   "execution_count": 3,
   "metadata": {
    "ExecuteTime": {
     "end_time": "2023-10-28T15:07:29.068775Z",
     "start_time": "2023-10-28T15:07:29.055170Z"
    },
    "collapsed": false,
    "pycharm": {
     "name": "#%%\n"
    }
   },
   "outputs": [
    {
     "data": {
      "text/plain": [
       "array([         nan,          nan,          nan, ..., 228.21016265,\n",
       "       228.85681383, 229.58283115])"
      ]
     },
     "execution_count": 3,
     "metadata": {},
     "output_type": "execute_result"
    }
   ],
   "source": [
    "res = core.calc_ema(series, period)\n",
    "res"
   ]
  },
  {
   "cell_type": "code",
   "execution_count": 4,
   "metadata": {
    "ExecuteTime": {
     "end_time": "2023-10-28T15:07:29.594619Z",
     "start_time": "2023-10-28T15:07:29.582999Z"
    },
    "collapsed": false,
    "pycharm": {
     "name": "#%%\n"
    }
   },
   "outputs": [
    {
     "data": {
      "text/plain": [
       "date\n",
       "1980-12-12           NaN\n",
       "1980-12-15           NaN\n",
       "1980-12-16           NaN\n",
       "1980-12-17           NaN\n",
       "1980-12-18           NaN\n",
       "                 ...    \n",
       "2024-10-15    227.376017\n",
       "2024-10-16    227.795444\n",
       "2024-10-17    228.210163\n",
       "2024-10-18    228.856814\n",
       "2024-10-21    229.582831\n",
       "Name: close, Length: 11056, dtype: float64"
      ]
     },
     "execution_count": 4,
     "metadata": {},
     "output_type": "execute_result"
    }
   ],
   "source": [
    "cmp = reflib.calc_ema(series, period)\n",
    "# cmp = talib.EMA(series, timeperiod=3)\n",
    "cmp"
   ]
  },
  {
   "cell_type": "code",
   "execution_count": 5,
   "metadata": {
    "ExecuteTime": {
     "end_time": "2023-10-28T15:07:30.108131Z",
     "start_time": "2023-10-28T15:07:30.099232Z"
    },
    "collapsed": false
   },
   "outputs": [],
   "source": [
    "assert np.allclose(res, cmp, equal_nan=True)"
   ]
  },
  {
   "cell_type": "code",
   "execution_count": 6,
   "metadata": {
    "ExecuteTime": {
     "end_time": "2023-10-28T15:07:30.636466Z",
     "start_time": "2023-10-28T15:07:30.609293Z"
    },
    "collapsed": false
   },
   "outputs": [
    {
     "name": "stdout",
     "output_type": "stream",
     "text": [
      "51.7 µs ± 5.96 µs per loop (mean ± std. dev. of 7 runs, 10 loops each)\n",
      "122 µs ± 35.6 µs per loop (mean ± std. dev. of 7 runs, 10 loops each)\n"
     ]
    }
   ],
   "source": [
    "%timeit -n10 core.calc_ema(series, period)\n",
    "%timeit -n10 reflib.calc_ema(series, period)"
   ]
  },
  {
   "cell_type": "code",
   "execution_count": null,
   "metadata": {
    "collapsed": false
   },
   "outputs": [],
   "source": []
  }
 ],
 "metadata": {
  "kernelspec": {
   "display_name": ".venv",
   "language": "python",
   "name": "python3"
  },
  "language_info": {
   "codemirror_mode": {
    "name": "ipython",
    "version": 3
   },
   "file_extension": ".py",
   "mimetype": "text/x-python",
   "name": "python",
   "nbconvert_exporter": "python",
   "pygments_lexer": "ipython3",
   "version": "3.9.20"
  }
 },
 "nbformat": 4,
 "nbformat_minor": 0
}
