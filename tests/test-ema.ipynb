{
 "cells": [
  {
   "cell_type": "code",
   "execution_count": 4,
   "metadata": {
    "ExecuteTime": {
     "end_time": "2023-10-28T15:07:27.891198Z",
     "start_time": "2023-10-28T15:07:27.661232Z"
    },
    "collapsed": false,
    "pycharm": {
     "name": "#%%\n"
    }
   },
   "outputs": [],
   "source": [
    "import numpy as np\n",
    "\n",
    "from mintalib import core\n",
    "from mintalib import reflib\n",
    "\n",
    "from mintalib.samples import sample_prices"
   ]
  },
  {
   "cell_type": "code",
   "execution_count": 5,
   "metadata": {
    "ExecuteTime": {
     "end_time": "2023-10-28T15:07:28.506360Z",
     "start_time": "2023-10-28T15:07:28.442572Z"
    },
    "collapsed": false,
    "pycharm": {
     "name": "#%%\n"
    }
   },
   "outputs": [
    {
     "data": {
      "text/plain": [
       "date\n",
       "1980-12-12      0.098943\n",
       "1980-12-15      0.093781\n",
       "1980-12-16      0.086898\n",
       "1980-12-17      0.089049\n",
       "1980-12-18      0.091630\n",
       "                 ...    \n",
       "2024-09-12    222.770004\n",
       "2024-09-13    222.500000\n",
       "2024-09-16    216.320007\n",
       "2024-09-17    216.789993\n",
       "2024-09-18    220.690002\n",
       "Name: close, Length: 11033, dtype: float64"
      ]
     },
     "execution_count": 5,
     "metadata": {},
     "output_type": "execute_result"
    }
   ],
   "source": [
    "period = 20\n",
    "series = sample_prices(item=\"close\")\n",
    "series"
   ]
  },
  {
   "cell_type": "code",
   "execution_count": 6,
   "metadata": {
    "ExecuteTime": {
     "end_time": "2023-10-28T15:07:29.068775Z",
     "start_time": "2023-10-28T15:07:29.055170Z"
    },
    "collapsed": false,
    "pycharm": {
     "name": "#%%\n"
    }
   },
   "outputs": [
    {
     "data": {
      "text/plain": [
       "array([         nan,          nan,          nan, ..., 222.23064006,\n",
       "       221.71248322, 221.6151041 ])"
      ]
     },
     "execution_count": 6,
     "metadata": {},
     "output_type": "execute_result"
    }
   ],
   "source": [
    "res = core.calc_ema(series, period)\n",
    "res"
   ]
  },
  {
   "cell_type": "code",
   "execution_count": 7,
   "metadata": {
    "ExecuteTime": {
     "end_time": "2023-10-28T15:07:29.594619Z",
     "start_time": "2023-10-28T15:07:29.582999Z"
    },
    "collapsed": false,
    "pycharm": {
     "name": "#%%\n"
    }
   },
   "outputs": [
    {
     "data": {
      "text/plain": [
       "date\n",
       "1980-12-12           NaN\n",
       "1980-12-15           NaN\n",
       "1980-12-16           NaN\n",
       "1980-12-17           NaN\n",
       "1980-12-18           NaN\n",
       "                 ...    \n",
       "2024-09-12    222.889950\n",
       "2024-09-13    222.852812\n",
       "2024-09-16    222.230640\n",
       "2024-09-17    221.712483\n",
       "2024-09-18    221.615104\n",
       "Name: close, Length: 11033, dtype: float64"
      ]
     },
     "execution_count": 7,
     "metadata": {},
     "output_type": "execute_result"
    }
   ],
   "source": [
    "cmp = reflib.calc_ema(series, period)\n",
    "# cmp = talib.EMA(series, timeperiod=3)\n",
    "cmp"
   ]
  },
  {
   "cell_type": "code",
   "execution_count": 8,
   "metadata": {
    "ExecuteTime": {
     "end_time": "2023-10-28T15:07:30.108131Z",
     "start_time": "2023-10-28T15:07:30.099232Z"
    },
    "collapsed": false
   },
   "outputs": [],
   "source": [
    "assert np.allclose(res, cmp, equal_nan=True)"
   ]
  },
  {
   "cell_type": "code",
   "execution_count": 9,
   "metadata": {
    "ExecuteTime": {
     "end_time": "2023-10-28T15:07:30.636466Z",
     "start_time": "2023-10-28T15:07:30.609293Z"
    },
    "collapsed": false
   },
   "outputs": [
    {
     "name": "stdout",
     "output_type": "stream",
     "text": [
      "58.3 µs ± 12.3 µs per loop (mean ± std. dev. of 7 runs, 10 loops each)\n",
      "The slowest run took 6.52 times longer than the fastest. This could mean that an intermediate result is being cached.\n",
      "328 µs ± 272 µs per loop (mean ± std. dev. of 7 runs, 10 loops each)\n"
     ]
    }
   ],
   "source": [
    "%timeit -n10 core.calc_ema(series, period)\n",
    "%timeit -n10 reflib.calc_ema(series, period)"
   ]
  },
  {
   "cell_type": "code",
   "execution_count": null,
   "metadata": {
    "collapsed": false
   },
   "outputs": [],
   "source": []
  }
 ],
 "metadata": {
  "kernelspec": {
   "display_name": ".venv",
   "language": "python",
   "name": "python3"
  },
  "language_info": {
   "codemirror_mode": {
    "name": "ipython",
    "version": 3
   },
   "file_extension": ".py",
   "mimetype": "text/x-python",
   "name": "python",
   "nbconvert_exporter": "python",
   "pygments_lexer": "ipython3",
   "version": "3.9.19"
  }
 },
 "nbformat": 4,
 "nbformat_minor": 0
}
