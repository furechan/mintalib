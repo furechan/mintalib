{
 "cells": [
  {
   "cell_type": "markdown",
   "metadata": {
    "collapsed": false
   },
   "source": [
    "# Notebook to generate indicators module"
   ]
  },
  {
   "cell_type": "code",
   "execution_count": 99,
   "metadata": {
    "ExecuteTime": {
     "end_time": "2024-04-26T00:51:31.241117Z",
     "start_time": "2024-04-26T00:51:31.185653Z"
    },
    "collapsed": false
   },
   "outputs": [],
   "source": [
    "from pprint import pformat\n",
    "\n",
    "from mintalib import core\n",
    "\n",
    "from inspect import Signature\n",
    "\n",
    "from mintalib.samples import sample_prices\n",
    "\n",
    "from __project__ import PKGDIR"
   ]
  },
  {
   "cell_type": "code",
   "execution_count": 100,
   "metadata": {
    "ExecuteTime": {
     "end_time": "2024-04-26T00:51:31.804126Z",
     "start_time": "2024-04-26T00:51:31.773011Z"
    },
    "collapsed": false,
    "pycharm": {
     "name": "#%%\n"
    }
   },
   "outputs": [
    {
     "name": "stdout",
     "output_type": "stream",
     "text": [
      "<class 'pandas.core.frame.DataFrame'>\n",
      "DatetimeIndex: 11033 entries, 1980-12-12 to 2024-09-18\n",
      "Data columns (total 5 columns):\n",
      " #   Column  Non-Null Count  Dtype  \n",
      "---  ------  --------------  -----  \n",
      " 0   open    11033 non-null  float64\n",
      " 1   high    11033 non-null  float64\n",
      " 2   low     11033 non-null  float64\n",
      " 3   close   11033 non-null  float64\n",
      " 4   volume  11033 non-null  int64  \n",
      "dtypes: float64(4), int64(1)\n",
      "memory usage: 517.2 KB\n"
     ]
    }
   ],
   "source": [
    "prices = sample_prices()\n",
    "prices.info()\n"
   ]
  },
  {
   "cell_type": "code",
   "execution_count": 101,
   "metadata": {},
   "outputs": [],
   "source": [
    "import importlib.util\n",
    "\n",
    "def new_module(name: str, code: str = None):\n",
    "    spec = importlib.util.spec_from_loader(name, None)\n",
    "    module = importlib.util.module_from_spec(spec)\n",
    "    if code:\n",
    "        exec(code, module.__dict__)\n",
    "    return module"
   ]
  },
  {
   "cell_type": "code",
   "execution_count": 102,
   "metadata": {
    "ExecuteTime": {
     "end_time": "2024-04-26T00:51:32.396282Z",
     "start_time": "2024-04-26T00:51:32.360134Z"
    },
    "collapsed": false
   },
   "outputs": [
    {
     "data": {
      "text/plain": [
       "['AVGPRICE',\n",
       " 'TYPPRICE',\n",
       " 'WCLPRICE',\n",
       " 'MIDPRICE',\n",
       " 'PRICE',\n",
       " 'CROSSOVER',\n",
       " 'CROSSUNDER',\n",
       " 'FLAG_ABOVE',\n",
       " 'FLAG_BELOW',\n",
       " 'FLAG_INVERT',\n",
       " 'FLAG_UPDOWN',\n",
       " 'LOG',\n",
       " 'EXP',\n",
       " 'ROC',\n",
       " 'DIFF',\n",
       " 'MIN',\n",
       " 'MAX',\n",
       " 'SUM',\n",
       " 'MAD',\n",
       " 'STDEV',\n",
       " 'SMA',\n",
       " 'EMA',\n",
       " 'RMA',\n",
       " 'WMA',\n",
       " 'HMA',\n",
       " 'DEMA',\n",
       " 'TEMA',\n",
       " 'MA',\n",
       " 'RSI',\n",
       " 'PLUSDI',\n",
       " 'MINUSDI',\n",
       " 'ADX',\n",
       " 'TRANGE',\n",
       " 'ATR',\n",
       " 'NATR',\n",
       " 'LATR',\n",
       " 'SAR',\n",
       " 'CCI',\n",
       " 'CMF',\n",
       " 'MFI',\n",
       " 'BOP',\n",
       " 'BBANDS',\n",
       " 'KELTNER',\n",
       " 'KER',\n",
       " 'KAMA',\n",
       " 'MACD',\n",
       " 'PPO',\n",
       " 'SLOPE',\n",
       " 'RVALUE',\n",
       " 'FORECAST',\n",
       " 'STOCH',\n",
       " 'STREAK',\n",
       " 'EVAL']"
      ]
     },
     "execution_count": 102,
     "metadata": {},
     "output_type": "execute_result"
    }
   ],
   "source": [
    "def core_functions():\n",
    "    return list(k for k, v in vars(core).items() if k.isupper() and callable(v))\n",
    "\n",
    "core_functions()"
   ]
  },
  {
   "cell_type": "code",
   "execution_count": 103,
   "metadata": {
    "ExecuteTime": {
     "end_time": "2024-04-26T00:51:33.117948Z",
     "start_time": "2024-04-26T00:51:33.098909Z"
    },
    "collapsed": false
   },
   "outputs": [],
   "source": [
    "# Sample code for indicator\n",
    "\n",
    "from mintalib.core import wrap_indicator\n",
    "from mintalib.model import FuncIndicator\n",
    "\n",
    "@wrap_indicator(core.SMA)\n",
    "def SMA(period: int = 3):\n",
    "    return FuncIndicator.wrap(core.SMA, params=locals())\n"
   ]
  },
  {
   "cell_type": "code",
   "execution_count": 104,
   "metadata": {
    "ExecuteTime": {
     "end_time": "2024-04-26T00:51:33.784132Z",
     "start_time": "2024-04-26T00:51:33.749869Z"
    },
    "collapsed": false
   },
   "outputs": [
    {
     "name": "stdout",
     "output_type": "stream",
     "text": [
      "@wrap_indicator(core.EMA)\n",
      "def EMA(period: int, *, adjust: bool = False, item: str = None):\n",
      "    return FuncIndicator(core.EMA, params=locals())\n",
      "\n"
     ]
    }
   ],
   "source": [
    "PREAMBLE = '''\n",
    "\"\"\" Mintalib Indicators \"\"\"\n",
    "\n",
    "# Do not edit! This file was generated by make-indicators.ipynb\n",
    "\n",
    "from . import core\n",
    "from .core import wrap_indicator\n",
    "from .model import FuncIndicator\n",
    "\n",
    "nan = float('nan')\n",
    "\n",
    "\n",
    "'''\n",
    "\n",
    "\n",
    "def make_indicator(func, name: str = None, preamble=False, verbose=False):\n",
    "    if name is None:\n",
    "        name = func.__name__.upper()\n",
    "\n",
    "    fname = func.__qualname__\n",
    "    module = func.__module__.rpartition(\".\")[2]\n",
    "    qname = f\"{module}.{fname}\"\n",
    "\n",
    "    signature = Signature.from_callable(func)\n",
    "    parameters = list(signature.parameters.values())\n",
    "\n",
    "    if verbose:\n",
    "        print(\"signature\", signature)\n",
    "        print(\"parameters\", parameters)\n",
    "\n",
    "    newparams = []\n",
    "    ftype = parameters[0].name\n",
    "\n",
    "    def annotate(param):\n",
    "        if param.annotation == \"int\":\n",
    "            return param.replace(annotation=int)\n",
    "\n",
    "        if param.annotation == \"str\":\n",
    "            return param.replace(annotation=str)\n",
    "\n",
    "        if type(param.default) in (int, float, bool):\n",
    "            return param.replace(annotation=type(param.default))\n",
    "\n",
    "        return param\n",
    "\n",
    "\n",
    "    newparams = parameters[1:]\n",
    "    newparams = [annotate(p) for p in newparams]\n",
    "\n",
    "    if verbose:\n",
    "        print(\"newparams\", newparams)\n",
    "\n",
    "    newsig = Signature(newparams)\n",
    "\n",
    "    def argument(arg):\n",
    "        return ftype if arg == \"self\" else f\"{arg}=self.{arg}\"\n",
    "\n",
    "    code = PREAMBLE if preamble else \"\"\n",
    "    # code = \"# noinspection PyPep8Naming\\n\"\n",
    "\n",
    "    code += f\"@wrap_indicator({qname})\\n\"\n",
    "    code += f\"def {name}{newsig}:\\n\"\n",
    "    code += f\"    return FuncIndicator({qname}, params=locals())\\n\"\n",
    "\n",
    "\n",
    "    return code\n",
    "\n",
    "\n",
    "print(make_indicator(core.EMA))"
   ]
  },
  {
   "cell_type": "code",
   "execution_count": 105,
   "metadata": {
    "ExecuteTime": {
     "end_time": "2024-04-26T00:51:34.540612Z",
     "start_time": "2024-04-26T00:51:34.519360Z"
    },
    "collapsed": false
   },
   "outputs": [
    {
     "name": "stdout",
     "output_type": "stream",
     "text": [
      "\n",
      "\"\"\" Mintalib Indicators \"\"\"\n",
      "\n",
      "# Do not edit! This file was generated by make-indicators.ipynb\n",
      "\n",
      "from . import core\n",
      "from .core import wrap_indicator\n",
      "from .model import FuncIndicator\n",
      "\n",
      "nan = float('nan')\n",
      "\n",
      "\n",
      "@wrap_indicator(core.EMA)\n",
      "def EMA(period: int, *, adjust: bool = False, item: str = None):\n",
      "    return FuncIndicator(core.EMA, params=locals())\n",
      "\n"
     ]
    },
    {
     "data": {
      "text/plain": [
       "<module 'mintalib.functions'>"
      ]
     },
     "execution_count": 105,
     "metadata": {},
     "output_type": "execute_result"
    }
   ],
   "source": [
    "def test_indicator(func, name=None, verbose=False):\n",
    "    code = make_indicator(func, name=name, preamble=True, verbose=verbose)\n",
    "    print(code)\n",
    "    return new_module(\"mintalib.functions\", code)\n",
    "\n",
    "\n",
    "test_indicator(core.EMA)"
   ]
  },
  {
   "cell_type": "code",
   "execution_count": 106,
   "metadata": {
    "ExecuteTime": {
     "end_time": "2024-04-26T00:51:35.236897Z",
     "start_time": "2024-04-26T00:51:35.215996Z"
    },
    "collapsed": false
   },
   "outputs": [
    {
     "name": "stdout",
     "output_type": "stream",
     "text": [
      "\n",
      "\"\"\" Mintalib Indicators \"\"\"\n",
      "\n",
      "# Do not edit! This file was generated by make-indicators.ipynb\n",
      "\n",
      "from . import core\n",
      "from .core import wrap_indicator\n",
      "from .model import FuncIndicator\n",
      "\n",
      "nan = float('nan')\n",
      "\n",
      "\n",
      "__all__ = [\n",
      "    'AVGPRICE', 'TYPPRICE', 'WCLPRICE', 'MIDPRICE', 'PRICE', 'CROSSOVER',\n",
      "    'CROSSUNDER', 'FLAG_ABOVE', 'FLAG_BELOW', 'FLAG_INVERT', 'FLAG_UPDOWN',\n",
      "    'LOG', 'EXP', 'ROC', 'DIFF', 'MIN', 'MAX', 'SUM', 'MAD', 'STDEV',\n",
      "    'SMA', 'EMA', 'RMA', 'WMA', 'HMA', 'DEMA', 'TEMA', 'MA', 'RSI',\n",
      "    'PLUSDI', 'MINUSDI', 'ADX', 'TRANGE', 'ATR', 'NATR', 'LATR', 'SAR',\n",
      "    'CCI', 'CMF', 'MFI', 'BOP', 'BBANDS', 'KELTNER', 'KER', 'KAMA', 'MACD',\n",
      "    'PPO', 'SLOPE', 'RVALUE', 'FORECAST', 'STOCH', 'STREAK', 'EVAL'\n",
      "]\n",
      "\n",
      "\n",
      "@wrap_indicator(core.AVGPRICE)\n",
      "def AVGPRICE():\n",
      "    return FuncIndicator(core.AVGPRICE, params=locals())\n",
      "\n",
      "\n",
      "@wrap_indicator(core.TYPPRICE)\n",
      "def TYPPRICE():\n",
      "    return FuncIndicator(core.TYPPRICE, params=locals())\n",
      "\n",
      "\n",
      "@wrap_indicator(core.WCLPRICE)\n",
      "def WCLPRICE():\n",
      "    return FuncIndicator(core.WCLPRICE, par ...\n"
     ]
    }
   ],
   "source": [
    "\n",
    "def make_indicators(names=None):\n",
    "    if names is None:\n",
    "        names = core_functions()\n",
    "\n",
    "    output = PREAMBLE\n",
    "\n",
    "    buffer = pformat(names, width=75, compact=True, indent=4)\n",
    "    buffer = buffer.replace(\"[\", \" \").replace(\"]\", \"\")\n",
    "    output += f\"__all__ = [\\n{buffer}\\n]\\n\"\n",
    "\n",
    "    output += \"\\n\\n\"\n",
    "\n",
    "    for name in names:\n",
    "        func = getattr(core, name)\n",
    "        text = make_indicator(func)\n",
    "        output += text + \"\\n\\n\"\n",
    "\n",
    "    # output += \"__all__ = [name for name in dir() if name.isupper()]\\n\"\n",
    "\n",
    "    return output\n",
    "\n",
    "\n",
    "code = make_indicators()\n",
    "print(code[:1024], \"...\")"
   ]
  },
  {
   "cell_type": "code",
   "execution_count": 107,
   "metadata": {
    "ExecuteTime": {
     "end_time": "2024-04-26T00:51:36.042638Z",
     "start_time": "2024-04-26T00:51:35.998144Z"
    },
    "collapsed": false
   },
   "outputs": [
    {
     "data": {
      "text/plain": [
       "['ADX',\n",
       " 'ATR',\n",
       " 'AVGPRICE',\n",
       " 'BBANDS',\n",
       " 'BOP',\n",
       " 'CCI',\n",
       " 'CMF',\n",
       " 'CROSSOVER',\n",
       " 'CROSSUNDER',\n",
       " 'DEMA',\n",
       " 'DIFF',\n",
       " 'EMA',\n",
       " 'EVAL',\n",
       " 'EXP',\n",
       " 'FLAG_ABOVE',\n",
       " 'FLAG_BELOW',\n",
       " 'FLAG_INVERT',\n",
       " 'FLAG_UPDOWN',\n",
       " 'FORECAST',\n",
       " 'FuncIndicator',\n",
       " 'HMA',\n",
       " 'KAMA',\n",
       " 'KELTNER',\n",
       " 'KER',\n",
       " 'LATR',\n",
       " 'LOG',\n",
       " 'MA',\n",
       " 'MACD',\n",
       " 'MAD',\n",
       " 'MAX',\n",
       " 'MFI',\n",
       " 'MIDPRICE',\n",
       " 'MIN',\n",
       " 'MINUSDI',\n",
       " 'NATR',\n",
       " 'PLUSDI',\n",
       " 'PPO',\n",
       " 'PRICE',\n",
       " 'RMA',\n",
       " 'ROC',\n",
       " 'RSI',\n",
       " 'RVALUE',\n",
       " 'SAR',\n",
       " 'SLOPE',\n",
       " 'SMA',\n",
       " 'STDEV',\n",
       " 'STOCH',\n",
       " 'STREAK',\n",
       " 'SUM',\n",
       " 'TEMA',\n",
       " 'TRANGE',\n",
       " 'TYPPRICE',\n",
       " 'WCLPRICE',\n",
       " 'WMA',\n",
       " '__all__',\n",
       " '__builtins__',\n",
       " '__doc__',\n",
       " '__loader__',\n",
       " '__name__',\n",
       " '__package__',\n",
       " '__spec__',\n",
       " 'core',\n",
       " 'nan',\n",
       " 'wrap_indicator']"
      ]
     },
     "execution_count": 107,
     "metadata": {},
     "output_type": "execute_result"
    }
   ],
   "source": [
    "code = make_indicators()\n",
    "\n",
    "indicators = new_module(\"mintalib.indicators\", code)\n",
    "\n",
    "dir(indicators)"
   ]
  },
  {
   "cell_type": "code",
   "execution_count": 108,
   "metadata": {
    "ExecuteTime": {
     "end_time": "2024-04-26T00:51:36.914647Z",
     "start_time": "2024-04-26T00:51:36.891830Z"
    },
    "collapsed": false
   },
   "outputs": [],
   "source": [
    "assert callable(indicators.SMA)\n",
    "assert callable(indicators.SMA(20))\n",
    "\n",
    "res = indicators.SMA(20) @ prices\n",
    "\n",
    "assert len(res) > 0\n"
   ]
  },
  {
   "cell_type": "code",
   "execution_count": 109,
   "metadata": {},
   "outputs": [
    {
     "name": "stdout",
     "output_type": "stream",
     "text": [
      "Updating indicators.py ...\n"
     ]
    },
    {
     "data": {
      "text/plain": [
       "7497"
      ]
     },
     "execution_count": 109,
     "metadata": {},
     "output_type": "execute_result"
    }
   ],
   "source": [
    "outfile = PKGDIR / \"indicators.py\"\n",
    "\n",
    "print(f\"Updating {outfile.name} ...\")\n",
    "\n",
    "outfile.write_text(code)"
   ]
  },
  {
   "cell_type": "code",
   "execution_count": 110,
   "metadata": {
    "collapsed": false
   },
   "outputs": [],
   "source": [
    "from mintalib import indicators"
   ]
  },
  {
   "cell_type": "code",
   "execution_count": 111,
   "metadata": {},
   "outputs": [
    {
     "name": "stdout",
     "output_type": "stream",
     "text": [
      "Help on module mintalib.indicators in mintalib:\n",
      "\n",
      "NAME\n",
      "    mintalib.indicators - Mintalib Indicators\n",
      "\n",
      "FUNCTIONS\n",
      "    ADX(period: int = 14)\n",
      "        Average Directional Index\n",
      "    \n",
      "    ATR(period: int = 14)\n",
      "        Average True Range\n",
      "    \n",
      "    AVGPRICE()\n",
      "        Average Price\n",
      "    \n",
      "    BBANDS(period: int = 20, nbdev: float = 2.0)\n",
      "        Bollinger Bands\n",
      "    \n",
      "    BOP(period: int = 20)\n",
      "        Balance of Power\n",
      "    \n",
      "    CCI(period: int = 20)\n",
      "        Commodity Channel Index\n",
      "    \n",
      "    CMF(period: int = 20)\n",
      "        Chaikin Money Flow\n",
      "    \n",
      "    CROSSOVER(level: float = 0.0, *, item: str = None)\n",
      "        Cross Over\n",
      "    \n",
      "    CROSSUNDER(level: float = 0.0, *, item: str = None)\n",
      "        Cross Under\n",
      "    \n",
      "    DEMA(period: int, *, item: str = None)\n",
      "        Double Exponential Moving Average\n",
      "    \n",
      "    DIFF(period: int = 1, *, item: str = None)\n",
      "        Difference\n",
      "    \n",
      "    EMA(period: int, *, adjust: bool = False, item: str = None)\n",
      "        Exponential Moving Average\n",
      "        \n",
      "        Args:\n",
      "            period (int) : time period, required\n",
      "            adjust (bool) : whether to adjust weights, default False\n",
      "                when true update ratio increases gradually (see formula)\n",
      "        \n",
      "        Formula:\n",
      "            EMA is calculated as a recursive formula\n",
      "            The standard formula is ema += alpha * (value - ema)\n",
      "                with alpha = 2.0 / (period + 1.0)\n",
      "            The adjusted formula is ema = num/div\n",
      "                where num = value + rho * num, div = 1.0 + rho * div\n",
      "                with rho = 1.0 - alpha\n",
      "    \n",
      "    EVAL(expr: str)\n",
      "        Expression Eval (pandas only)\n",
      "    \n",
      "    EXP(*, item: str = None)\n",
      "        Exponential\n",
      "    \n",
      "    FLAG_ABOVE(level: float = 0.0, *, item: str = None)\n",
      "        Flag for value above level\n",
      "    \n",
      "    FLAG_BELOW(level: float = 0.0, *, item: str = None)\n",
      "        Flag for value below level\n",
      "    \n",
      "    FLAG_INVERT(*, item: str = None)\n",
      "        Inverse flag\n",
      "    \n",
      "    FLAG_UPDOWN(up_level: float = 0.0, down_level: float = 0.0, *, item: str = None)\n",
      "        Flag for value crossing up & down levels\n",
      "    \n",
      "    FORECAST(period: int = 20, offset: int = 0, *, item: str = None)\n",
      "        Forecast (time linear regression)\n",
      "    \n",
      "    HMA(period: int, *, item: str = None)\n",
      "        Hull Moving Average\n",
      "    \n",
      "    KAMA(period: int = 10, fastn: int = 2, slown: int = 30, *, item: str = None)\n",
      "        Kaufman Adaptive Moving Average\n",
      "    \n",
      "    KELTNER(period: int = 20, nbatr: float = 2.0)\n",
      "        Keltner Channel\n",
      "    \n",
      "    KER(period: int = 10, *, item: str = None)\n",
      "        Kaufman Efficiency Ratio\n",
      "    \n",
      "    LATR(period: int = 14)\n",
      "        Average True Range (logarithmic)\n",
      "    \n",
      "    LOG(*, item: str = None)\n",
      "        Logarithm\n",
      "    \n",
      "    MA(period: int = 20, *, ma_type: str = None, item: str = None)\n",
      "        Generic Moving Average\n",
      "        \n",
      "        Args:\n",
      "            matype (str) : one of 'SMA', 'EMA', 'WMA', 'HMA', 'DEMA', 'TEMA'\n",
      "                    defaults to 'SMA'\n",
      "    \n",
      "    MACD(n1: int = 12, n2: int = 26, n3: int = 9, *, item: str = None)\n",
      "        Moving Average Convergenge Divergence\n",
      "    \n",
      "    MAD(period: int = 20, *, item: str = None)\n",
      "        Mean Absolute Deviation\n",
      "    \n",
      "    MAX(period: int, *, item: str = None)\n",
      "        Rolling Maximum\n",
      "    \n",
      "    MFI(period: int = 14)\n",
      "        Money Flow Index\n",
      "    \n",
      "    MIDPRICE()\n",
      "        Mid Price\n",
      "    \n",
      "    MIN(period: int, *, item: str = None)\n",
      "        Rolling Minimum\n",
      "    \n",
      "    MINUSDI(period: int = 14)\n",
      "        Minus Directional Index\n",
      "    \n",
      "    NATR(period: int = 14)\n",
      "        Average True Range (normalized)\n",
      "    \n",
      "    PLUSDI(period: int = 14)\n",
      "        Plus Directional Index\n",
      "    \n",
      "    PPO(n1: int = 12, n2: int = 26, n3: int = 9, *, item: str = None)\n",
      "        Price Percentage Oscillator\n",
      "    \n",
      "    PRICE(item: str = None)\n",
      "        Generic Price \n",
      "        \n",
      "        Args:\n",
      "            item (str) : one of 'open', 'high', 'low', 'close',\n",
      "                'avg', 'mid', 'typ', 'wcl' defaults to 'close'\n",
      "    \n",
      "    RMA(period: int, *, item: str = None)\n",
      "        Rolling Moving Average (RSI style)\n",
      "        \n",
      "        Exponential moving average with `alpha = 2 / period`,\n",
      "        that starts as a simple moving average until\n",
      "        number of bars is equal to `period`.\n",
      "    \n",
      "    ROC(period: int = 1, *, item: str = None)\n",
      "        Rate of Change\n",
      "    \n",
      "    RSI(period: int = 14, *, item: str = None)\n",
      "        Relative Strength Index\n",
      "    \n",
      "    RVALUE(period: int = 20, *, item: str = None)\n",
      "        RValue (time linear regression)\n",
      "    \n",
      "    SAR(afs: float = 0.02, maxaf: float = 0.2)\n",
      "        Parabolic Stop and Reverse\n",
      "    \n",
      "    SLOPE(period: int = 20, *, item: str = None)\n",
      "        Slope (time linear regression)\n",
      "    \n",
      "    SMA(period: int, *, item: str = None)\n",
      "        Simple Moving Average\n",
      "    \n",
      "    STDEV(period: int = 20, *, item: str = None)\n",
      "        Standard Deviation\n",
      "    \n",
      "    STOCH(period: int = 14, fastn: int = 3, slown: int = 3)\n",
      "        Stochastic Oscillator\n",
      "    \n",
      "    STREAK(*, item: str = None)\n",
      "        Consecutive streak of ups or downs\n",
      "    \n",
      "    SUM(period: int, *, item: str = None)\n",
      "        Rolling Sum\n",
      "    \n",
      "    TEMA(period: int = 20, *, item: str = None)\n",
      "        Triple Exponential Moving Average\n",
      "    \n",
      "    TRANGE(*, log_prices: bool = False, percent: bool = False)\n",
      "        True Range\n",
      "    \n",
      "    TYPPRICE()\n",
      "        Typical Price\n",
      "    \n",
      "    WCLPRICE()\n",
      "        Weighted Close Price\n",
      "    \n",
      "    WMA(period: int, *, item: str = None)\n",
      "        Weighted Moving Average\n",
      "\n",
      "DATA\n",
      "    __all__ = ['AVGPRICE', 'TYPPRICE', 'WCLPRICE', 'MIDPRICE', 'PRICE', 'C...\n",
      "\n",
      "FILE\n",
      "    /Users/frederic/Projects/mintalib/src/mintalib/indicators.py\n",
      "\n",
      "\n"
     ]
    }
   ],
   "source": [
    "help(indicators)"
   ]
  },
  {
   "cell_type": "code",
   "execution_count": 112,
   "metadata": {},
   "outputs": [],
   "source": [
    "assert callable(indicators.SMA)\n",
    "assert callable(indicators.SMA(20))\n",
    "\n",
    "res = indicators.SMA(20) @ prices\n",
    "\n",
    "assert len(res) > 0"
   ]
  },
  {
   "cell_type": "code",
   "execution_count": null,
   "metadata": {},
   "outputs": [],
   "source": []
  },
  {
   "cell_type": "code",
   "execution_count": null,
   "metadata": {},
   "outputs": [],
   "source": []
  }
 ],
 "metadata": {
  "kernelspec": {
   "display_name": ".venv",
   "language": "python",
   "name": "python3"
  },
  "language_info": {
   "codemirror_mode": {
    "name": "ipython",
    "version": 3
   },
   "file_extension": ".py",
   "mimetype": "text/x-python",
   "name": "python",
   "nbconvert_exporter": "python",
   "pygments_lexer": "ipython3",
   "version": "3.9.19"
  }
 },
 "nbformat": 4,
 "nbformat_minor": 0
}
