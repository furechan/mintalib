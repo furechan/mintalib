{
 "cells": [
  {
   "cell_type": "code",
   "execution_count": 4,
   "metadata": {},
   "outputs": [],
   "source": [
    "from mintalib.model import FuncWrapper\n",
    "from mintalib.core import calc_sma\n",
    "from mintalib.samples import sample_prices"
   ]
  },
  {
   "cell_type": "code",
   "execution_count": 13,
   "metadata": {},
   "outputs": [
    {
     "data": {
      "text/html": [
       "<div>\n",
       "<style scoped>\n",
       "    .dataframe tbody tr th:only-of-type {\n",
       "        vertical-align: middle;\n",
       "    }\n",
       "\n",
       "    .dataframe tbody tr th {\n",
       "        vertical-align: top;\n",
       "    }\n",
       "\n",
       "    .dataframe thead th {\n",
       "        text-align: right;\n",
       "    }\n",
       "</style>\n",
       "<table border=\"1\" class=\"dataframe\">\n",
       "  <thead>\n",
       "    <tr style=\"text-align: right;\">\n",
       "      <th></th>\n",
       "      <th>open</th>\n",
       "      <th>high</th>\n",
       "      <th>low</th>\n",
       "      <th>close</th>\n",
       "      <th>volume</th>\n",
       "    </tr>\n",
       "    <tr>\n",
       "      <th>date</th>\n",
       "      <th></th>\n",
       "      <th></th>\n",
       "      <th></th>\n",
       "      <th></th>\n",
       "      <th></th>\n",
       "    </tr>\n",
       "  </thead>\n",
       "  <tbody>\n",
       "    <tr>\n",
       "      <th>1980-12-12</th>\n",
       "      <td>0.098943</td>\n",
       "      <td>0.099373</td>\n",
       "      <td>0.098943</td>\n",
       "      <td>0.098943</td>\n",
       "      <td>469033600</td>\n",
       "    </tr>\n",
       "    <tr>\n",
       "      <th>1980-12-15</th>\n",
       "      <td>0.094211</td>\n",
       "      <td>0.094211</td>\n",
       "      <td>0.093781</td>\n",
       "      <td>0.093781</td>\n",
       "      <td>175884800</td>\n",
       "    </tr>\n",
       "    <tr>\n",
       "      <th>1980-12-16</th>\n",
       "      <td>0.087328</td>\n",
       "      <td>0.087328</td>\n",
       "      <td>0.086898</td>\n",
       "      <td>0.086898</td>\n",
       "      <td>105728000</td>\n",
       "    </tr>\n",
       "    <tr>\n",
       "      <th>1980-12-17</th>\n",
       "      <td>0.089049</td>\n",
       "      <td>0.089479</td>\n",
       "      <td>0.089049</td>\n",
       "      <td>0.089049</td>\n",
       "      <td>86441600</td>\n",
       "    </tr>\n",
       "    <tr>\n",
       "      <th>1980-12-18</th>\n",
       "      <td>0.091630</td>\n",
       "      <td>0.092061</td>\n",
       "      <td>0.091630</td>\n",
       "      <td>0.091630</td>\n",
       "      <td>73449600</td>\n",
       "    </tr>\n",
       "    <tr>\n",
       "      <th>...</th>\n",
       "      <td>...</td>\n",
       "      <td>...</td>\n",
       "      <td>...</td>\n",
       "      <td>...</td>\n",
       "      <td>...</td>\n",
       "    </tr>\n",
       "    <tr>\n",
       "      <th>2024-10-15</th>\n",
       "      <td>233.610001</td>\n",
       "      <td>237.490005</td>\n",
       "      <td>232.369995</td>\n",
       "      <td>233.850006</td>\n",
       "      <td>64751400</td>\n",
       "    </tr>\n",
       "    <tr>\n",
       "      <th>2024-10-16</th>\n",
       "      <td>231.600006</td>\n",
       "      <td>232.119995</td>\n",
       "      <td>229.839996</td>\n",
       "      <td>231.779999</td>\n",
       "      <td>34082200</td>\n",
       "    </tr>\n",
       "    <tr>\n",
       "      <th>2024-10-17</th>\n",
       "      <td>233.429993</td>\n",
       "      <td>233.850006</td>\n",
       "      <td>230.520004</td>\n",
       "      <td>232.149994</td>\n",
       "      <td>32993800</td>\n",
       "    </tr>\n",
       "    <tr>\n",
       "      <th>2024-10-18</th>\n",
       "      <td>236.179993</td>\n",
       "      <td>236.179993</td>\n",
       "      <td>234.009995</td>\n",
       "      <td>235.000000</td>\n",
       "      <td>46431500</td>\n",
       "    </tr>\n",
       "    <tr>\n",
       "      <th>2024-10-21</th>\n",
       "      <td>234.449997</td>\n",
       "      <td>236.850006</td>\n",
       "      <td>234.449997</td>\n",
       "      <td>236.479996</td>\n",
       "      <td>36220800</td>\n",
       "    </tr>\n",
       "  </tbody>\n",
       "</table>\n",
       "<p>11056 rows × 5 columns</p>\n",
       "</div>"
      ],
      "text/plain": [
       "                  open        high         low       close     volume\n",
       "date                                                                 \n",
       "1980-12-12    0.098943    0.099373    0.098943    0.098943  469033600\n",
       "1980-12-15    0.094211    0.094211    0.093781    0.093781  175884800\n",
       "1980-12-16    0.087328    0.087328    0.086898    0.086898  105728000\n",
       "1980-12-17    0.089049    0.089479    0.089049    0.089049   86441600\n",
       "1980-12-18    0.091630    0.092061    0.091630    0.091630   73449600\n",
       "...                ...         ...         ...         ...        ...\n",
       "2024-10-15  233.610001  237.490005  232.369995  233.850006   64751400\n",
       "2024-10-16  231.600006  232.119995  229.839996  231.779999   34082200\n",
       "2024-10-17  233.429993  233.850006  230.520004  232.149994   32993800\n",
       "2024-10-18  236.179993  236.179993  234.009995  235.000000   46431500\n",
       "2024-10-21  234.449997  236.850006  234.449997  236.479996   36220800\n",
       "\n",
       "[11056 rows x 5 columns]"
      ]
     },
     "execution_count": 13,
     "metadata": {},
     "output_type": "execute_result"
    }
   ],
   "source": [
    "prices = sample_prices()\n",
    "prices\n"
   ]
  },
  {
   "cell_type": "code",
   "execution_count": 14,
   "metadata": {},
   "outputs": [],
   "source": [
    "def new_indicator(func):\n",
    "    def wrapper(target):\n",
    "        def indicator(*args, **kwargs):\n",
    "            params = target(*args, **kwargs)\n",
    "            return FuncWrapper(func, params)\n",
    "        return indicator\n",
    "    return wrapper\n",
    "\n",
    "@new_indicator(calc_sma)\n",
    "def SMA(period: int):\n",
    "    return dict(locals())"
   ]
  },
  {
   "cell_type": "code",
   "execution_count": 15,
   "metadata": {},
   "outputs": [
    {
     "data": {
      "text/plain": [
       "date\n",
       "1980-12-12           NaN\n",
       "1980-12-15           NaN\n",
       "1980-12-16           NaN\n",
       "1980-12-17           NaN\n",
       "1980-12-18           NaN\n",
       "                 ...    \n",
       "2024-10-15    227.524000\n",
       "2024-10-16    228.078500\n",
       "2024-10-17    228.242500\n",
       "2024-10-18    228.582500\n",
       "2024-10-21    229.082999\n",
       "Length: 11056, dtype: float64"
      ]
     },
     "execution_count": 15,
     "metadata": {},
     "output_type": "execute_result"
    }
   ],
   "source": [
    "SMA(20) @ prices"
   ]
  },
  {
   "cell_type": "code",
   "execution_count": 16,
   "metadata": {},
   "outputs": [
    {
     "data": {
      "text/plain": [
       "<function __main__.new_indicator.<locals>.wrapper.<locals>.indicator(*args, **kwargs)>"
      ]
     },
     "execution_count": 16,
     "metadata": {},
     "output_type": "execute_result"
    }
   ],
   "source": []
  },
  {
   "cell_type": "code",
   "execution_count": null,
   "metadata": {},
   "outputs": [],
   "source": []
  }
 ],
 "metadata": {
  "kernelspec": {
   "display_name": ".venv",
   "language": "python",
   "name": "python3"
  },
  "language_info": {
   "codemirror_mode": {
    "name": "ipython",
    "version": 3
   },
   "file_extension": ".py",
   "mimetype": "text/x-python",
   "name": "python",
   "nbconvert_exporter": "python",
   "pygments_lexer": "ipython3",
   "version": "3.9.20"
  }
 },
 "nbformat": 4,
 "nbformat_minor": 2
}
