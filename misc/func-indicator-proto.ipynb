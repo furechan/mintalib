{
 "cells": [
  {
   "cell_type": "code",
   "execution_count": 48,
   "metadata": {},
   "outputs": [],
   "source": [
    "from mintalib import model\n",
    "from mintalib import functions\n",
    "\n",
    "from mintalib.samples import sample_prices\n",
    "from mintalib.utils import format_partial\n",
    "from mintalib.model import FuncIndicator\n"
   ]
  },
  {
   "cell_type": "code",
   "execution_count": 49,
   "metadata": {},
   "outputs": [
    {
     "data": {
      "text/html": [
       "<div>\n",
       "<style scoped>\n",
       "    .dataframe tbody tr th:only-of-type {\n",
       "        vertical-align: middle;\n",
       "    }\n",
       "\n",
       "    .dataframe tbody tr th {\n",
       "        vertical-align: top;\n",
       "    }\n",
       "\n",
       "    .dataframe thead th {\n",
       "        text-align: right;\n",
       "    }\n",
       "</style>\n",
       "<table border=\"1\" class=\"dataframe\">\n",
       "  <thead>\n",
       "    <tr style=\"text-align: right;\">\n",
       "      <th></th>\n",
       "      <th>open</th>\n",
       "      <th>high</th>\n",
       "      <th>low</th>\n",
       "      <th>close</th>\n",
       "      <th>volume</th>\n",
       "    </tr>\n",
       "    <tr>\n",
       "      <th>date</th>\n",
       "      <th></th>\n",
       "      <th></th>\n",
       "      <th></th>\n",
       "      <th></th>\n",
       "      <th></th>\n",
       "    </tr>\n",
       "  </thead>\n",
       "  <tbody>\n",
       "    <tr>\n",
       "      <th>1980-12-12</th>\n",
       "      <td>0.098943</td>\n",
       "      <td>0.099373</td>\n",
       "      <td>0.098943</td>\n",
       "      <td>0.098943</td>\n",
       "      <td>469033600</td>\n",
       "    </tr>\n",
       "    <tr>\n",
       "      <th>1980-12-15</th>\n",
       "      <td>0.094211</td>\n",
       "      <td>0.094211</td>\n",
       "      <td>0.093781</td>\n",
       "      <td>0.093781</td>\n",
       "      <td>175884800</td>\n",
       "    </tr>\n",
       "    <tr>\n",
       "      <th>1980-12-16</th>\n",
       "      <td>0.087328</td>\n",
       "      <td>0.087328</td>\n",
       "      <td>0.086898</td>\n",
       "      <td>0.086898</td>\n",
       "      <td>105728000</td>\n",
       "    </tr>\n",
       "    <tr>\n",
       "      <th>1980-12-17</th>\n",
       "      <td>0.089049</td>\n",
       "      <td>0.089479</td>\n",
       "      <td>0.089049</td>\n",
       "      <td>0.089049</td>\n",
       "      <td>86441600</td>\n",
       "    </tr>\n",
       "    <tr>\n",
       "      <th>1980-12-18</th>\n",
       "      <td>0.091630</td>\n",
       "      <td>0.092061</td>\n",
       "      <td>0.091630</td>\n",
       "      <td>0.091630</td>\n",
       "      <td>73449600</td>\n",
       "    </tr>\n",
       "    <tr>\n",
       "      <th>...</th>\n",
       "      <td>...</td>\n",
       "      <td>...</td>\n",
       "      <td>...</td>\n",
       "      <td>...</td>\n",
       "      <td>...</td>\n",
       "    </tr>\n",
       "    <tr>\n",
       "      <th>2024-09-12</th>\n",
       "      <td>222.500000</td>\n",
       "      <td>223.550003</td>\n",
       "      <td>219.820007</td>\n",
       "      <td>222.770004</td>\n",
       "      <td>37498200</td>\n",
       "    </tr>\n",
       "    <tr>\n",
       "      <th>2024-09-13</th>\n",
       "      <td>223.580002</td>\n",
       "      <td>224.039993</td>\n",
       "      <td>221.910004</td>\n",
       "      <td>222.500000</td>\n",
       "      <td>36766600</td>\n",
       "    </tr>\n",
       "    <tr>\n",
       "      <th>2024-09-16</th>\n",
       "      <td>216.539993</td>\n",
       "      <td>217.220001</td>\n",
       "      <td>213.919998</td>\n",
       "      <td>216.320007</td>\n",
       "      <td>59357400</td>\n",
       "    </tr>\n",
       "    <tr>\n",
       "      <th>2024-09-17</th>\n",
       "      <td>215.750000</td>\n",
       "      <td>216.899994</td>\n",
       "      <td>214.500000</td>\n",
       "      <td>216.789993</td>\n",
       "      <td>45519300</td>\n",
       "    </tr>\n",
       "    <tr>\n",
       "      <th>2024-09-18</th>\n",
       "      <td>217.550003</td>\n",
       "      <td>222.710007</td>\n",
       "      <td>217.539993</td>\n",
       "      <td>220.690002</td>\n",
       "      <td>59788400</td>\n",
       "    </tr>\n",
       "  </tbody>\n",
       "</table>\n",
       "<p>11033 rows × 5 columns</p>\n",
       "</div>"
      ],
      "text/plain": [
       "                  open        high         low       close     volume\n",
       "date                                                                 \n",
       "1980-12-12    0.098943    0.099373    0.098943    0.098943  469033600\n",
       "1980-12-15    0.094211    0.094211    0.093781    0.093781  175884800\n",
       "1980-12-16    0.087328    0.087328    0.086898    0.086898  105728000\n",
       "1980-12-17    0.089049    0.089479    0.089049    0.089049   86441600\n",
       "1980-12-18    0.091630    0.092061    0.091630    0.091630   73449600\n",
       "...                ...         ...         ...         ...        ...\n",
       "2024-09-12  222.500000  223.550003  219.820007  222.770004   37498200\n",
       "2024-09-13  223.580002  224.039993  221.910004  222.500000   36766600\n",
       "2024-09-16  216.539993  217.220001  213.919998  216.320007   59357400\n",
       "2024-09-17  215.750000  216.899994  214.500000  216.789993   45519300\n",
       "2024-09-18  217.550003  222.710007  217.539993  220.690002   59788400\n",
       "\n",
       "[11033 rows x 5 columns]"
      ]
     },
     "execution_count": 49,
     "metadata": {},
     "output_type": "execute_result"
    }
   ],
   "source": [
    "prices = sample_prices()\n",
    "prices"
   ]
  },
  {
   "cell_type": "code",
   "execution_count": 50,
   "metadata": {},
   "outputs": [
    {
     "name": "stdout",
     "output_type": "stream",
     "text": [
      "Help on cython_function_or_method in module mintalib.core:\n",
      "\n",
      "SMA(series, period: 'int', *, item: 'str' = None)\n",
      "    Simple Moving Average\n",
      "    \n",
      "    Args:\n",
      "        period (int) : time period, required\n",
      "\n"
     ]
    }
   ],
   "source": [
    "help(functions.SMA)"
   ]
  },
  {
   "cell_type": "code",
   "execution_count": 51,
   "metadata": {},
   "outputs": [
    {
     "data": {
      "text/plain": [
       "'XYZ(10)'"
      ]
     },
     "execution_count": 51,
     "metadata": {},
     "output_type": "execute_result"
    }
   ],
   "source": [
    "def XYZ(prices, period: int = 20, *, flag: bool = False):\n",
    "    pass\n",
    "\n",
    "format_partial(XYZ, dict(period=10, flag=False))\n",
    "\n"
   ]
  },
  {
   "cell_type": "code",
   "execution_count": 52,
   "metadata": {},
   "outputs": [],
   "source": [
    "from mintalib.core import wrap_function, wrap_indicator\n",
    "\n",
    "class FuncIndicator(model.Indicator):\n",
    "    def __init__(self, func, params: dict, name:str):\n",
    "        self.func = func\n",
    "        self.params= params\n",
    "        self.name = name\n",
    "\n",
    "    def __repr__(self):\n",
    "        return self.name\n",
    "\n",
    "    def __call__(self, prices):\n",
    "        return self.func(prices, **self.params)\n",
    "    \n",
    "    @classmethod\n",
    "    def wrap(cls, func, params:dict):\n",
    "        name = format_partial(func, params)\n",
    "        return cls(func, params=params, name=name)\n",
    "        "
   ]
  },
  {
   "cell_type": "code",
   "execution_count": 53,
   "metadata": {},
   "outputs": [
    {
     "name": "stdout",
     "output_type": "stream",
     "text": [
      "def format_partial(func, params):\n",
      "    signature = Signature.from_callable(func)\n",
      "    positional = True\n",
      "    arguments = []\n",
      "\n",
      "    for k, v in params.items():\n",
      "        p = signature.parameters.get(k)\n",
      "\n",
      "        if not p or p.kind not in (\n",
      "            Parameter.POSITIONAL_ONLY,\n",
      "            Parameter.POSITIONAL_OR_KEYWORD,\n",
      "        ):\n",
      "            positional = False\n",
      "\n",
      "        if positional:\n",
      "            arguments.append(f\"{v!r}\")\n",
      "        elif not p or v != p.default:\n",
      "            arguments.append(f\"{k!s}={v!r}\")\n",
      "\n",
      "    arguments = \", \".join(arguments)\n",
      "    return \"%s(%s)\" % (func.__name__, arguments)\n",
      "\n"
     ]
    }
   ],
   "source": [
    "import inspect\n",
    "\n",
    "print(inspect.getsource(format_partial))"
   ]
  },
  {
   "cell_type": "code",
   "execution_count": 55,
   "metadata": {},
   "outputs": [
    {
     "name": "stdout",
     "output_type": "stream",
     "text": [
      "Help on function SMA in module __main__:\n",
      "\n",
      "SMA(period: int = 3)\n",
      "    Simple Moving Average\n",
      "    \n",
      "    Args:\n",
      "        period (int) : time period, required\n",
      "\n"
     ]
    },
    {
     "data": {
      "text/plain": [
       "SMA(3)"
      ]
     },
     "execution_count": 55,
     "metadata": {},
     "output_type": "execute_result"
    }
   ],
   "source": [
    "from mintalib.core import wrap_function\n",
    "\n",
    "@wrap_indicator(functions.SMA)\n",
    "def SMA(period: int = 3):\n",
    "    params = locals()\n",
    "    name = format_partial(SMA, params)\n",
    "    return FuncIndicator(functions.EMA, params=params, name=name)\n",
    "\n",
    "ema = SMA()\n",
    "help(SMA)\n",
    "ema"
   ]
  },
  {
   "cell_type": "code",
   "execution_count": 8,
   "metadata": {},
   "outputs": [
    {
     "data": {
      "text/plain": [
       "date\n",
       "1980-12-12           NaN\n",
       "1980-12-15           NaN\n",
       "1980-12-16      0.091630\n",
       "1980-12-17      0.090339\n",
       "1980-12-18      0.090985\n",
       "                 ...    \n",
       "2024-09-12    222.234788\n",
       "2024-09-13    222.367394\n",
       "2024-09-16    219.343701\n",
       "2024-09-17    218.066847\n",
       "2024-09-18    219.378425\n",
       "Length: 11033, dtype: float64"
      ]
     },
     "execution_count": 8,
     "metadata": {},
     "output_type": "execute_result"
    }
   ],
   "source": [
    "ema(prices)"
   ]
  },
  {
   "cell_type": "code",
   "execution_count": 9,
   "metadata": {},
   "outputs": [
    {
     "name": "stdout",
     "output_type": "stream",
     "text": [
      "Help on function SMA in module __main__:\n",
      "\n",
      "SMA(period: int = 3)\n",
      "    Simple Moving Average\n",
      "    \n",
      "    Args:\n",
      "        period (int) : time period, required\n",
      "\n"
     ]
    }
   ],
   "source": [
    "help(SMA)"
   ]
  },
  {
   "cell_type": "code",
   "execution_count": 10,
   "metadata": {},
   "outputs": [],
   "source": [
    "def print_locals(period: int = 3, flag: bool = False):\n",
    "    print(locals())\n"
   ]
  },
  {
   "cell_type": "code",
   "execution_count": 11,
   "metadata": {},
   "outputs": [
    {
     "name": "stdout",
     "output_type": "stream",
     "text": [
      "{'period': 3, 'flag': 12}\n"
     ]
    }
   ],
   "source": [
    "print_locals(flag=12)"
   ]
  },
  {
   "cell_type": "code",
   "execution_count": 63,
   "metadata": {},
   "outputs": [
    {
     "name": "stdout",
     "output_type": "stream",
     "text": [
      "Help on function SMA in module __main__:\n",
      "\n",
      "SMA(period: int = 3)\n",
      "    Simple Moving Average\n",
      "    \n",
      "    Args:\n",
      "        period (int) : time period, required\n",
      "\n"
     ]
    },
    {
     "data": {
      "text/plain": [
       "SMA(3)"
      ]
     },
     "execution_count": 63,
     "metadata": {},
     "output_type": "execute_result"
    }
   ],
   "source": [
    "from mintalib.core import wrap_function\n",
    "from mintalib.model import FuncIndicator\n",
    "\n",
    "@wrap_function(functions.SMA)\n",
    "def SMA(period: int = 3):\n",
    "    return FuncIndicator.wrap(functions.SMA, params=locals())\n",
    "\n",
    "help(SMA)\n",
    "sma = SMA()\n",
    "sma"
   ]
  },
  {
   "cell_type": "code",
   "execution_count": 64,
   "metadata": {},
   "outputs": [
    {
     "data": {
      "text/plain": [
       "date\n",
       "1980-12-12           NaN\n",
       "1980-12-15           NaN\n",
       "1980-12-16      0.093207\n",
       "1980-12-17      0.089909\n",
       "1980-12-18      0.089192\n",
       "                 ...    \n",
       "2024-09-12    221.846670\n",
       "2024-09-13    222.643336\n",
       "2024-09-16    220.530004\n",
       "2024-09-17    218.536667\n",
       "2024-09-18    217.933334\n",
       "Length: 11033, dtype: float64"
      ]
     },
     "execution_count": 64,
     "metadata": {},
     "output_type": "execute_result"
    }
   ],
   "source": [
    "sma(prices)"
   ]
  },
  {
   "cell_type": "code",
   "execution_count": null,
   "metadata": {},
   "outputs": [],
   "source": []
  }
 ],
 "metadata": {
  "kernelspec": {
   "display_name": ".venv",
   "language": "python",
   "name": "python3"
  },
  "language_info": {
   "codemirror_mode": {
    "name": "ipython",
    "version": 3
   },
   "file_extension": ".py",
   "mimetype": "text/x-python",
   "name": "python",
   "nbconvert_exporter": "python",
   "pygments_lexer": "ipython3",
   "version": "3.9.19"
  }
 },
 "nbformat": 4,
 "nbformat_minor": 2
}
