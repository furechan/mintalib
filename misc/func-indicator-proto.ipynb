{
 "cells": [
  {
   "cell_type": "code",
   "execution_count": 1,
   "metadata": {},
   "outputs": [],
   "source": [
    "from mintalib import model\n",
    "from mintalib import functions\n",
    "\n",
    "from mintalib.samples import sample_prices\n",
    "from mintalib.utils import format_partial\n",
    "from mintalib.model import FuncIndicator\n"
   ]
  },
  {
   "cell_type": "code",
   "execution_count": 2,
   "metadata": {},
   "outputs": [
    {
     "name": "stdout",
     "output_type": "stream",
     "text": [
      "<class 'pandas.core.frame.DataFrame'>\n",
      "DatetimeIndex: 11033 entries, 1980-12-12 to 2024-09-18\n",
      "Data columns (total 5 columns):\n",
      " #   Column  Non-Null Count  Dtype  \n",
      "---  ------  --------------  -----  \n",
      " 0   open    11033 non-null  float64\n",
      " 1   high    11033 non-null  float64\n",
      " 2   low     11033 non-null  float64\n",
      " 3   close   11033 non-null  float64\n",
      " 4   volume  11033 non-null  int64  \n",
      "dtypes: float64(4), int64(1)\n",
      "memory usage: 517.2 KB\n"
     ]
    }
   ],
   "source": [
    "prices = sample_prices()\n",
    "prices.info()"
   ]
  },
  {
   "cell_type": "code",
   "execution_count": 3,
   "metadata": {},
   "outputs": [
    {
     "data": {
      "text/plain": [
       "'XYZ(10)'"
      ]
     },
     "execution_count": 3,
     "metadata": {},
     "output_type": "execute_result"
    }
   ],
   "source": [
    "def XYZ(prices, period: int = 20, *, flag: bool = False):\n",
    "    pass\n",
    "\n",
    "format_partial(XYZ, dict(period=10, flag=False))\n"
   ]
  },
  {
   "cell_type": "code",
   "execution_count": 4,
   "metadata": {},
   "outputs": [],
   "source": [
    "from types import MappingProxyType\n",
    "from functools import cached_property\n",
    "from mintalib.core import wrap_indicator\n",
    "\n",
    "\n",
    "class Passthrough:\n",
    "    name: str = None\n",
    "\n",
    "    def __set_name__(self, owner, name):\n",
    "        self.name = name\n",
    "\n",
    "    def __get__(self, instance, owner=None):\n",
    "        if instance is not None:\n",
    "            return getattr(instance.func, self.name)\n",
    "        return self\n",
    "\n",
    "\n",
    "class FuncIndicator(model.Indicator):\n",
    "    def __init__(self, func, params):\n",
    "        self.func = func\n",
    "        self.params = MappingProxyType(params)\n",
    "        self.__doc__ = func.__doc__\n",
    "\n",
    "    def __getattr__(self, name):\n",
    "        return getattr(self.func, name)\n",
    "\n",
    "    def __repr__(self):\n",
    "        return format_partial(self.func, self.params)\n",
    "\n",
    "    def __call__(self, prices):\n",
    "        return self.func(prices, **self.params)\n",
    "    \n",
    "        "
   ]
  },
  {
   "cell_type": "code",
   "execution_count": 5,
   "metadata": {},
   "outputs": [
    {
     "name": "stdout",
     "output_type": "stream",
     "text": [
      "Help on function SMA in module __main__:\n",
      "\n",
      "SMA(period: int = 3)\n",
      "    Simple Moving Average\n",
      "    \n",
      "    Attributes:\n",
      "        same_scale = True\n",
      "\n"
     ]
    },
    {
     "data": {
      "text/plain": [
       "SMA(3)"
      ]
     },
     "execution_count": 5,
     "metadata": {},
     "output_type": "execute_result"
    }
   ],
   "source": [
    "\n",
    "@wrap_indicator(functions.SMA)\n",
    "def SMA(period: int = 3):\n",
    "    return FuncIndicator(functions.SMA, params=locals())\n",
    "\n",
    "sma = SMA()\n",
    "help(SMA)\n",
    "sma"
   ]
  },
  {
   "cell_type": "code",
   "execution_count": 6,
   "metadata": {},
   "outputs": [
    {
     "data": {
      "text/plain": [
       "'SMA'"
      ]
     },
     "execution_count": 6,
     "metadata": {},
     "output_type": "execute_result"
    }
   ],
   "source": [
    "sma.__name__"
   ]
  },
  {
   "cell_type": "code",
   "execution_count": 7,
   "metadata": {},
   "outputs": [
    {
     "name": "stdout",
     "output_type": "stream",
     "text": [
      "Help on FuncIndicator in module __main__:\n",
      "\n",
      "SMA = SMA(3)\n",
      "    Simple Moving Average\n",
      "    \n",
      "    Attributes:\n",
      "        same_scale = True\n",
      "\n"
     ]
    }
   ],
   "source": [
    "help(sma)\n"
   ]
  },
  {
   "cell_type": "code",
   "execution_count": null,
   "metadata": {},
   "outputs": [],
   "source": [
    "\n",
    "\n",
    "getattr(sma, 'yticks', None)"
   ]
  },
  {
   "cell_type": "code",
   "execution_count": null,
   "metadata": {},
   "outputs": [],
   "source": []
  },
  {
   "cell_type": "code",
   "execution_count": null,
   "metadata": {},
   "outputs": [],
   "source": []
  }
 ],
 "metadata": {
  "kernelspec": {
   "display_name": ".venv",
   "language": "python",
   "name": "python3"
  },
  "language_info": {
   "codemirror_mode": {
    "name": "ipython",
    "version": 3
   },
   "file_extension": ".py",
   "mimetype": "text/x-python",
   "name": "python",
   "nbconvert_exporter": "python",
   "pygments_lexer": "ipython3",
   "version": "3.9.19"
  }
 },
 "nbformat": 4,
 "nbformat_minor": 2
}
