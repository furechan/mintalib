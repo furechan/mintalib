{
 "cells": [
  {
   "cell_type": "code",
   "execution_count": 1,
   "id": "2f45689963b1424e",
   "metadata": {
    "ExecuteTime": {
     "end_time": "2023-10-27T21:32:42.842855Z",
     "start_time": "2023-10-27T21:32:42.591832Z"
    },
    "collapsed": false
   },
   "outputs": [],
   "source": [
    "from mintalib.samples import sample_prices\n",
    "\n",
    "\n",
    "%load_ext cython"
   ]
  },
  {
   "cell_type": "code",
   "execution_count": 2,
   "id": "a8013058fc5449a9",
   "metadata": {
    "ExecuteTime": {
     "end_time": "2023-10-27T21:32:43.378420Z",
     "start_time": "2023-10-27T21:32:43.347402Z"
    },
    "collapsed": false
   },
   "outputs": [
    {
     "data": {
      "text/html": [
       "<div>\n",
       "<style scoped>\n",
       "    .dataframe tbody tr th:only-of-type {\n",
       "        vertical-align: middle;\n",
       "    }\n",
       "\n",
       "    .dataframe tbody tr th {\n",
       "        vertical-align: top;\n",
       "    }\n",
       "\n",
       "    .dataframe thead th {\n",
       "        text-align: right;\n",
       "    }\n",
       "</style>\n",
       "<table border=\"1\" class=\"dataframe\">\n",
       "  <thead>\n",
       "    <tr style=\"text-align: right;\">\n",
       "      <th></th>\n",
       "      <th>open</th>\n",
       "      <th>high</th>\n",
       "      <th>low</th>\n",
       "      <th>close</th>\n",
       "      <th>volume</th>\n",
       "    </tr>\n",
       "    <tr>\n",
       "      <th>date</th>\n",
       "      <th></th>\n",
       "      <th></th>\n",
       "      <th></th>\n",
       "      <th></th>\n",
       "      <th></th>\n",
       "    </tr>\n",
       "  </thead>\n",
       "  <tbody>\n",
       "    <tr>\n",
       "      <th>1980-12-12</th>\n",
       "      <td>0.098943</td>\n",
       "      <td>0.099373</td>\n",
       "      <td>0.098943</td>\n",
       "      <td>0.098943</td>\n",
       "      <td>469033600</td>\n",
       "    </tr>\n",
       "    <tr>\n",
       "      <th>1980-12-15</th>\n",
       "      <td>0.094211</td>\n",
       "      <td>0.094211</td>\n",
       "      <td>0.093781</td>\n",
       "      <td>0.093781</td>\n",
       "      <td>175884800</td>\n",
       "    </tr>\n",
       "    <tr>\n",
       "      <th>1980-12-16</th>\n",
       "      <td>0.087328</td>\n",
       "      <td>0.087328</td>\n",
       "      <td>0.086898</td>\n",
       "      <td>0.086898</td>\n",
       "      <td>105728000</td>\n",
       "    </tr>\n",
       "    <tr>\n",
       "      <th>1980-12-17</th>\n",
       "      <td>0.089049</td>\n",
       "      <td>0.089479</td>\n",
       "      <td>0.089049</td>\n",
       "      <td>0.089049</td>\n",
       "      <td>86441600</td>\n",
       "    </tr>\n",
       "    <tr>\n",
       "      <th>1980-12-18</th>\n",
       "      <td>0.091630</td>\n",
       "      <td>0.092061</td>\n",
       "      <td>0.091630</td>\n",
       "      <td>0.091630</td>\n",
       "      <td>73449600</td>\n",
       "    </tr>\n",
       "    <tr>\n",
       "      <th>...</th>\n",
       "      <td>...</td>\n",
       "      <td>...</td>\n",
       "      <td>...</td>\n",
       "      <td>...</td>\n",
       "      <td>...</td>\n",
       "    </tr>\n",
       "    <tr>\n",
       "      <th>2024-09-12</th>\n",
       "      <td>222.500000</td>\n",
       "      <td>223.550003</td>\n",
       "      <td>219.820007</td>\n",
       "      <td>222.770004</td>\n",
       "      <td>37498200</td>\n",
       "    </tr>\n",
       "    <tr>\n",
       "      <th>2024-09-13</th>\n",
       "      <td>223.580002</td>\n",
       "      <td>224.039993</td>\n",
       "      <td>221.910004</td>\n",
       "      <td>222.500000</td>\n",
       "      <td>36766600</td>\n",
       "    </tr>\n",
       "    <tr>\n",
       "      <th>2024-09-16</th>\n",
       "      <td>216.539993</td>\n",
       "      <td>217.220001</td>\n",
       "      <td>213.919998</td>\n",
       "      <td>216.320007</td>\n",
       "      <td>59357400</td>\n",
       "    </tr>\n",
       "    <tr>\n",
       "      <th>2024-09-17</th>\n",
       "      <td>215.750000</td>\n",
       "      <td>216.899994</td>\n",
       "      <td>214.500000</td>\n",
       "      <td>216.789993</td>\n",
       "      <td>45519300</td>\n",
       "    </tr>\n",
       "    <tr>\n",
       "      <th>2024-09-18</th>\n",
       "      <td>217.550003</td>\n",
       "      <td>222.710007</td>\n",
       "      <td>217.539993</td>\n",
       "      <td>220.690002</td>\n",
       "      <td>59788400</td>\n",
       "    </tr>\n",
       "  </tbody>\n",
       "</table>\n",
       "<p>11033 rows × 5 columns</p>\n",
       "</div>"
      ],
      "text/plain": [
       "                  open        high         low       close     volume\n",
       "date                                                                 \n",
       "1980-12-12    0.098943    0.099373    0.098943    0.098943  469033600\n",
       "1980-12-15    0.094211    0.094211    0.093781    0.093781  175884800\n",
       "1980-12-16    0.087328    0.087328    0.086898    0.086898  105728000\n",
       "1980-12-17    0.089049    0.089479    0.089049    0.089049   86441600\n",
       "1980-12-18    0.091630    0.092061    0.091630    0.091630   73449600\n",
       "...                ...         ...         ...         ...        ...\n",
       "2024-09-12  222.500000  223.550003  219.820007  222.770004   37498200\n",
       "2024-09-13  223.580002  224.039993  221.910004  222.500000   36766600\n",
       "2024-09-16  216.539993  217.220001  213.919998  216.320007   59357400\n",
       "2024-09-17  215.750000  216.899994  214.500000  216.789993   45519300\n",
       "2024-09-18  217.550003  222.710007  217.539993  220.690002   59788400\n",
       "\n",
       "[11033 rows x 5 columns]"
      ]
     },
     "execution_count": 2,
     "metadata": {},
     "output_type": "execute_result"
    }
   ],
   "source": [
    "prices = sample_prices()\n",
    "prices\n"
   ]
  },
  {
   "cell_type": "code",
   "execution_count": 3,
   "id": "09697123",
   "metadata": {},
   "outputs": [],
   "source": [
    "# Definitions to remove missing definitions warnings\n",
    "\n",
    "def np_sma(xs, period: int):\n",
    "    pass\n",
    "\n",
    "def calc_sma(series, period: int, flag: bool=False):\n",
    "    pass\n"
   ]
  },
  {
   "cell_type": "code",
   "execution_count": 4,
   "id": "c35fa94c",
   "metadata": {},
   "outputs": [
    {
     "name": "stdout",
     "output_type": "stream",
     "text": [
      "done!\n"
     ]
    }
   ],
   "source": [
    "%%cython -c=-Wno-unreachable-code\n",
    "\n",
    "import numpy as np\n",
    "\n",
    "from libc.math cimport isnan\n",
    "\n",
    "from mintalib.core import wrap_result\n",
    "\n",
    "cdef double NAN = float('nan')\n",
    "\n",
    "\n",
    "def calc_sma(series, long period, bint wrap = False):\n",
    "    \"\"\" simple moving average \"\"\"\n",
    "\n",
    "    cdef double[:] xs = np.asarray(series, float)\n",
    "    cdef long size = xs.size\n",
    "\n",
    "    cdef object result = np.full(size, np.nan)\n",
    "    cdef double[:] output = result\n",
    "\n",
    "    cdef double v = NAN, rsum = 0\n",
    "    cdef long i = 0, j = 0, count = 0\n",
    "\n",
    "    for i in range(size):\n",
    "        v = xs[i]\n",
    "\n",
    "        if not isnan(v):\n",
    "            rsum += v\n",
    "            count += 1\n",
    "\n",
    "        while count > period and j < i:\n",
    "            v, j = xs[j], j+1\n",
    "            if not isnan(v):\n",
    "                rsum -= v\n",
    "                count -= 1\n",
    "\n",
    "        if count >= period:\n",
    "            output[i] = rsum / count\n",
    "\n",
    "    if wrap:\n",
    "        result = wrap_result(result, series)\n",
    "\n",
    "    return result\n",
    "\n",
    "print(\"done!\")"
   ]
  },
  {
   "cell_type": "code",
   "execution_count": 5,
   "id": "49ebc08d",
   "metadata": {},
   "outputs": [
    {
     "data": {
      "text/plain": [
       "array([         nan,          nan,          nan, ..., 220.87200317,\n",
       "       220.20800171, 219.81400146])"
      ]
     },
     "execution_count": 5,
     "metadata": {},
     "output_type": "execute_result"
    }
   ],
   "source": [
    "calc_sma(prices.close, 5)"
   ]
  },
  {
   "cell_type": "code",
   "execution_count": 6,
   "id": "71f909e5",
   "metadata": {},
   "outputs": [
    {
     "name": "stdout",
     "output_type": "stream",
     "text": [
      "done!\n"
     ]
    }
   ],
   "source": [
    "%%cython -c=-Wno-unreachable-code\n",
    "\n",
    "import numpy as np\n",
    "\n",
    "from libc.math cimport isnan\n",
    "\n",
    "from mintalib.core import wrap_result\n",
    "\n",
    "cdef double NAN = float('nan')\n",
    "\n",
    "\n",
    "cpdef np_sma(double[:] xs, long period):\n",
    "    \"\"\" simple moving average \"\"\"\n",
    "\n",
    "    cdef long size = xs.size\n",
    "\n",
    "    cdef object result = np.full(size, np.nan)\n",
    "    cdef double[:] output = result\n",
    "\n",
    "    cdef double v = NAN, rsum = 0\n",
    "    cdef long i = 0, j = 0, count = 0\n",
    "\n",
    "    for i in range(size):\n",
    "        v = xs[i]\n",
    "\n",
    "        if not isnan(v):\n",
    "            rsum += v\n",
    "            count += 1\n",
    "\n",
    "        while count > period and j < i:\n",
    "            v, j = xs[j], j+1\n",
    "            if not isnan(v):\n",
    "                rsum -= v\n",
    "                count -= 1\n",
    "\n",
    "        if count >= period:\n",
    "            output[i] = rsum / count\n",
    "\n",
    "    # also return output.base\n",
    "    return result \n",
    "\n",
    "\n",
    "def calc_sma(series, int period, bint wrap = False):\n",
    "    \"\"\" simple moving average \"\"\"\n",
    "\n",
    "    cdef double[:] xs = np.asarray(series, float)\n",
    "    cdef object result = np_sma(xs, period)\n",
    "\n",
    "    if wrap:\n",
    "        result = wrap_result(result, series)\n",
    "\n",
    "    return result\n",
    "\n",
    "print(\"done!\")"
   ]
  },
  {
   "cell_type": "code",
   "execution_count": 7,
   "id": "5ce4af04",
   "metadata": {},
   "outputs": [
    {
     "name": "stdout",
     "output_type": "stream",
     "text": [
      "<class 'numpy.ndarray'>\n"
     ]
    },
    {
     "data": {
      "text/plain": [
       "array([         nan,          nan,          nan, ..., 220.87200317,\n",
       "       220.20800171, 219.81400146])"
      ]
     },
     "execution_count": 7,
     "metadata": {},
     "output_type": "execute_result"
    }
   ],
   "source": [
    "res = np_sma(prices.close.values, 5)\n",
    "print(type(res))\n",
    "res"
   ]
  },
  {
   "cell_type": "code",
   "execution_count": 8,
   "id": "491ab9e0",
   "metadata": {},
   "outputs": [
    {
     "name": "stdout",
     "output_type": "stream",
     "text": [
      "<class 'numpy.ndarray'>\n"
     ]
    },
    {
     "data": {
      "text/plain": [
       "array([           nan,            nan, 9.32074810e-02, ...,\n",
       "       2.20530004e+02, 2.18536667e+02, 2.17933334e+02])"
      ]
     },
     "execution_count": 8,
     "metadata": {},
     "output_type": "execute_result"
    }
   ],
   "source": [
    "res = calc_sma(prices.close, 3)\n",
    "print(type(res))\n",
    "res"
   ]
  },
  {
   "cell_type": "code",
   "execution_count": 9,
   "id": "96d6482a",
   "metadata": {},
   "outputs": [
    {
     "name": "stdout",
     "output_type": "stream",
     "text": [
      "<class 'pandas.core.series.Series'>\n"
     ]
    },
    {
     "data": {
      "text/plain": [
       "date\n",
       "1980-12-12           NaN\n",
       "1980-12-15           NaN\n",
       "1980-12-16      0.093207\n",
       "1980-12-17      0.089909\n",
       "1980-12-18      0.089192\n",
       "                 ...    \n",
       "2024-09-12    221.846670\n",
       "2024-09-13    222.643336\n",
       "2024-09-16    220.530004\n",
       "2024-09-17    218.536667\n",
       "2024-09-18    217.933334\n",
       "Length: 11033, dtype: float64"
      ]
     },
     "execution_count": 9,
     "metadata": {},
     "output_type": "execute_result"
    }
   ],
   "source": [
    "res = calc_sma(prices.close, 3, wrap=True)\n",
    "print(type(res))\n",
    "res"
   ]
  },
  {
   "cell_type": "code",
   "execution_count": null,
   "id": "78b846d4",
   "metadata": {},
   "outputs": [],
   "source": []
  },
  {
   "cell_type": "code",
   "execution_count": null,
   "id": "f0d44e9b",
   "metadata": {},
   "outputs": [],
   "source": []
  }
 ],
 "metadata": {
  "kernelspec": {
   "display_name": "Python 3",
   "language": "python",
   "name": "python3"
  },
  "language_info": {
   "codemirror_mode": {
    "name": "ipython",
    "version": 3
   },
   "file_extension": ".py",
   "mimetype": "text/x-python",
   "name": "python",
   "nbconvert_exporter": "python",
   "pygments_lexer": "ipython3",
   "version": "3.9.19"
  }
 },
 "nbformat": 4,
 "nbformat_minor": 5
}
