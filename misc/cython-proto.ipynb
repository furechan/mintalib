{
 "cells": [
  {
   "cell_type": "code",
   "execution_count": 1,
   "id": "2f45689963b1424e",
   "metadata": {
    "ExecuteTime": {
     "end_time": "2023-10-27T21:32:42.842855Z",
     "start_time": "2023-10-27T21:32:42.591832Z"
    },
    "collapsed": false
   },
   "outputs": [],
   "source": [
    "from mintalib.samples import sample_prices\n",
    "\n",
    "\n",
    "%load_ext cython"
   ]
  },
  {
   "cell_type": "code",
   "execution_count": 2,
   "id": "a8013058fc5449a9",
   "metadata": {
    "ExecuteTime": {
     "end_time": "2023-10-27T21:32:43.378420Z",
     "start_time": "2023-10-27T21:32:43.347402Z"
    },
    "collapsed": false
   },
   "outputs": [
    {
     "name": "stdout",
     "output_type": "stream",
     "text": [
      "<class 'pandas.core.frame.DataFrame'>\n",
      "DatetimeIndex: 11033 entries, 1980-12-12 to 2024-09-18\n",
      "Data columns (total 5 columns):\n",
      " #   Column  Non-Null Count  Dtype  \n",
      "---  ------  --------------  -----  \n",
      " 0   open    11033 non-null  float64\n",
      " 1   high    11033 non-null  float64\n",
      " 2   low     11033 non-null  float64\n",
      " 3   close   11033 non-null  float64\n",
      " 4   volume  11033 non-null  int64  \n",
      "dtypes: float64(4), int64(1)\n",
      "memory usage: 517.2 KB\n"
     ]
    }
   ],
   "source": [
    "prices = sample_prices()\n",
    "prices.info()\n"
   ]
  },
  {
   "cell_type": "code",
   "execution_count": 3,
   "id": "09697123",
   "metadata": {},
   "outputs": [],
   "source": [
    "# Definitions to remove missing definitions warnings\n",
    "\n",
    "def np_sma(xs, period: int):\n",
    "    pass\n",
    "\n",
    "def calc_sma(series, period: int, flag: bool=False):\n",
    "    pass\n"
   ]
  },
  {
   "cell_type": "code",
   "execution_count": 4,
   "id": "c35fa94c",
   "metadata": {},
   "outputs": [
    {
     "name": "stdout",
     "output_type": "stream",
     "text": [
      "done!\n"
     ]
    }
   ],
   "source": [
    "%%cython -c=-Wno-unreachable-code\n",
    "\n",
    "import numpy as np\n",
    "\n",
    "from libc.math cimport isnan\n",
    "\n",
    "from mintalib.core import wrap_result\n",
    "\n",
    "cdef double NAN = float('nan')\n",
    "\n",
    "\n",
    "def calc_sma(series, long period, bint wrap = False):\n",
    "    \"\"\" simple moving average \"\"\"\n",
    "\n",
    "    cdef double[:] xs = np.asarray(series, float)\n",
    "    cdef long size = xs.size\n",
    "\n",
    "    cdef object result = np.full(size, np.nan)\n",
    "    cdef double[:] output = result\n",
    "\n",
    "    cdef double v = NAN, rsum = 0\n",
    "    cdef long i = 0, j = 0, count = 0\n",
    "\n",
    "    for i in range(size):\n",
    "        v = xs[i]\n",
    "\n",
    "        if not isnan(v):\n",
    "            rsum += v\n",
    "            count += 1\n",
    "\n",
    "        while count > period and j < i:\n",
    "            v, j = xs[j], j+1\n",
    "            if not isnan(v):\n",
    "                rsum -= v\n",
    "                count -= 1\n",
    "\n",
    "        if count >= period:\n",
    "            output[i] = rsum / count\n",
    "\n",
    "    if wrap:\n",
    "        result = wrap_result(result, series)\n",
    "\n",
    "    return result\n",
    "\n",
    "print(\"done!\")"
   ]
  },
  {
   "cell_type": "code",
   "execution_count": 5,
   "id": "49ebc08d",
   "metadata": {},
   "outputs": [
    {
     "data": {
      "text/plain": [
       "array([         nan,          nan,          nan, ..., 220.87200317,\n",
       "       220.20800171, 219.81400146])"
      ]
     },
     "execution_count": 5,
     "metadata": {},
     "output_type": "execute_result"
    }
   ],
   "source": [
    "calc_sma(prices.close, 5)"
   ]
  },
  {
   "cell_type": "code",
   "execution_count": 6,
   "id": "71f909e5",
   "metadata": {},
   "outputs": [
    {
     "name": "stdout",
     "output_type": "stream",
     "text": [
      "done!\n"
     ]
    }
   ],
   "source": [
    "%%cython -c=-Wno-unreachable-code\n",
    "\n",
    "# cython: language_level=3, binding=True\n",
    "\n",
    "import numpy as np\n",
    "\n",
    "from libc.math cimport isnan\n",
    "\n",
    "from mintalib.core import wrap_result\n",
    "\n",
    "cdef double NAN = float('nan')\n",
    "\n",
    "\n",
    "cpdef np_sma(double[:] xs, long period):\n",
    "    \"\"\" simple moving average \"\"\"\n",
    "\n",
    "    cdef long size = xs.size\n",
    "\n",
    "    cdef object result = np.full(size, np.nan)\n",
    "    cdef double[:] output = result\n",
    "\n",
    "    cdef double v = NAN, rsum = 0\n",
    "    cdef long i = 0, j = 0, count = 0\n",
    "\n",
    "    for i in range(size):\n",
    "        v = xs[i]\n",
    "\n",
    "        if not isnan(v):\n",
    "            rsum += v\n",
    "            count += 1\n",
    "\n",
    "        while count > period and j < i:\n",
    "            v, j = xs[j], j+1\n",
    "            if not isnan(v):\n",
    "                rsum -= v\n",
    "                count -= 1\n",
    "\n",
    "        if count >= period:\n",
    "            output[i] = rsum / count\n",
    "\n",
    "    # also return output.base\n",
    "    return result \n",
    "\n",
    "\n",
    "def calc_sma(series, int period, bint wrap = False):\n",
    "    \"\"\" simple moving average \"\"\"\n",
    "\n",
    "    cdef double[:] xs = np.asarray(series, float)\n",
    "    cdef object result = np_sma(xs, period)\n",
    "\n",
    "    if wrap:\n",
    "        result = wrap_result(result, series)\n",
    "\n",
    "    return result\n",
    "\n",
    "print(\"done!\")"
   ]
  },
  {
   "cell_type": "code",
   "execution_count": 7,
   "id": "5ce4af04",
   "metadata": {},
   "outputs": [
    {
     "name": "stdout",
     "output_type": "stream",
     "text": [
      "<class 'numpy.ndarray'>\n"
     ]
    },
    {
     "data": {
      "text/plain": [
       "array([         nan,          nan,          nan, ..., 220.87200317,\n",
       "       220.20800171, 219.81400146])"
      ]
     },
     "execution_count": 7,
     "metadata": {},
     "output_type": "execute_result"
    }
   ],
   "source": [
    "res = np_sma(prices.close.values, 5)\n",
    "print(type(res))\n",
    "res"
   ]
  },
  {
   "cell_type": "code",
   "execution_count": 8,
   "id": "491ab9e0",
   "metadata": {},
   "outputs": [
    {
     "name": "stdout",
     "output_type": "stream",
     "text": [
      "<class 'numpy.ndarray'>\n"
     ]
    },
    {
     "data": {
      "text/plain": [
       "array([           nan,            nan, 9.32074810e-02, ...,\n",
       "       2.20530004e+02, 2.18536667e+02, 2.17933334e+02])"
      ]
     },
     "execution_count": 8,
     "metadata": {},
     "output_type": "execute_result"
    }
   ],
   "source": [
    "res = calc_sma(prices.close, 3)\n",
    "print(type(res))\n",
    "res"
   ]
  },
  {
   "cell_type": "code",
   "execution_count": 9,
   "id": "96d6482a",
   "metadata": {},
   "outputs": [
    {
     "name": "stdout",
     "output_type": "stream",
     "text": [
      "<class 'pandas.core.series.Series'>\n"
     ]
    },
    {
     "data": {
      "text/plain": [
       "date\n",
       "1980-12-12           NaN\n",
       "1980-12-15           NaN\n",
       "1980-12-16      0.093207\n",
       "1980-12-17      0.089909\n",
       "1980-12-18      0.089192\n",
       "                 ...    \n",
       "2024-09-12    221.846670\n",
       "2024-09-13    222.643336\n",
       "2024-09-16    220.530004\n",
       "2024-09-17    218.536667\n",
       "2024-09-18    217.933334\n",
       "Length: 11033, dtype: float64"
      ]
     },
     "execution_count": 9,
     "metadata": {},
     "output_type": "execute_result"
    }
   ],
   "source": [
    "res = calc_sma(prices.close, 3, wrap=True)\n",
    "print(type(res))\n",
    "res"
   ]
  },
  {
   "cell_type": "code",
   "execution_count": 10,
   "id": "78b846d4",
   "metadata": {},
   "outputs": [
    {
     "name": "stdout",
     "output_type": "stream",
     "text": [
      "Help on cython_function_or_method in module _cython_magic_26f0e9e040fab136c9ffc77e078d2adb5faa054a:\n",
      "\n",
      "calc_sma(series, period, wrap=False)\n",
      "    simple moving average\n",
      "\n"
     ]
    }
   ],
   "source": [
    "help(calc_sma)"
   ]
  },
  {
   "cell_type": "code",
   "execution_count": null,
   "id": "f0d44e9b",
   "metadata": {},
   "outputs": [],
   "source": [
    "\n"
   ]
  },
  {
   "cell_type": "code",
   "execution_count": null,
   "id": "1493ff3e",
   "metadata": {},
   "outputs": [],
   "source": []
  }
 ],
 "metadata": {
  "kernelspec": {
   "display_name": ".venv",
   "language": "python",
   "name": "python3"
  },
  "language_info": {
   "codemirror_mode": {
    "name": "ipython",
    "version": 3
   },
   "file_extension": ".py",
   "mimetype": "text/x-python",
   "name": "python",
   "nbconvert_exporter": "python",
   "pygments_lexer": "ipython3",
   "version": "3.9.19"
  }
 },
 "nbformat": 4,
 "nbformat_minor": 5
}
