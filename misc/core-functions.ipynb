{
 "cells": [
  {
   "cell_type": "markdown",
   "metadata": {
    "collapsed": false
   },
   "source": [
    "# Core module contains low levels functions"
   ]
  },
  {
   "cell_type": "code",
   "execution_count": 1,
   "metadata": {
    "ExecuteTime": {
     "end_time": "2024-04-26T00:52:33.836162Z",
     "start_time": "2024-04-26T00:52:33.565312Z"
    },
    "collapsed": false
   },
   "outputs": [],
   "source": [
    "from mintalib import core\n",
    "from mintalib.samples import sample_prices\n",
    "\n",
    "%load_ext nbmask"
   ]
  },
  {
   "cell_type": "code",
   "execution_count": 2,
   "metadata": {
    "ExecuteTime": {
     "end_time": "2024-04-26T00:52:33.856352Z",
     "start_time": "2024-04-26T00:52:33.844735Z"
    },
    "collapsed": false,
    "pycharm": {
     "name": "#%%\n"
    }
   },
   "outputs": [
    {
     "name": "stdout",
     "output_type": "stream",
     "text": [
      "Help on module mintalib.core in mintalib:\n",
      "\n",
      "NAME\n",
      "    mintalib.core - Calculation routines implemented in cython.\n",
      "\n",
      "DESCRIPTION\n",
      "    Routines are typically named `calc_` followed by an indicator name all in lower caps as in `calc_sma`.\n",
      "    \n",
      "    The first parameter `series` or `prices` indicates whether the calculation accepts a single series or a prices dataframe.\n",
      "    \n",
      "    A `prices` dataframe should contain the columns `open`, `high`, `low`, `close` and optionally `volume` all in **lower case**.\n",
      "    \n",
      "    The `wrap` parameter dictates whether to wrap the calculation result to match the type of the inputs.\n",
      "\n",
      "DATA\n",
      "    __all__ = ()\n",
      "    __test__ = {}\n",
      "\n",
      "FILE\n",
      "    /Users/.../Projects/mintalib/src/mintalib/core.cpython-39-darwin.so\n",
      "\n",
      "\n"
     ]
    }
   ],
   "source": [
    "help(core)"
   ]
  },
  {
   "cell_type": "code",
   "execution_count": 3,
   "metadata": {
    "ExecuteTime": {
     "end_time": "2024-04-26T00:52:34.560273Z",
     "start_time": "2024-04-26T00:52:34.534026Z"
    },
    "collapsed": false
   },
   "outputs": [
    {
     "data": {
      "text/plain": [
       "'mintalib.core'"
      ]
     },
     "execution_count": 3,
     "metadata": {},
     "output_type": "execute_result"
    }
   ],
   "source": [
    "core.calc_ema.__module__"
   ]
  },
  {
   "cell_type": "code",
   "execution_count": 5,
   "metadata": {
    "ExecuteTime": {
     "end_time": "2024-04-26T00:52:35.312230Z",
     "start_time": "2024-04-26T00:52:35.294583Z"
    },
    "collapsed": false
   },
   "outputs": [
    {
     "data": {
      "text/plain": [
       "mappingproxy({'same_scale': True})"
      ]
     },
     "execution_count": 5,
     "metadata": {},
     "output_type": "execute_result"
    }
   ],
   "source": [
    "core.calc_ema.metadata\n"
   ]
  },
  {
   "cell_type": "code",
   "execution_count": null,
   "metadata": {},
   "outputs": [],
   "source": [
    "\n",
    "print(dir(core))"
   ]
  },
  {
   "cell_type": "code",
   "execution_count": 5,
   "metadata": {
    "ExecuteTime": {
     "end_time": "2024-04-26T00:52:36.132515Z",
     "start_time": "2024-04-26T00:52:36.099751Z"
    },
    "collapsed": false,
    "pycharm": {
     "name": "#%%\n"
    }
   },
   "outputs": [
    {
     "name": "stdout",
     "output_type": "stream",
     "text": [
      "<class 'pandas.core.frame.DataFrame'>\n",
      "DatetimeIndex: 11056 entries, 1980-12-12 to 2024-10-21\n",
      "Data columns (total 5 columns):\n",
      " #   Column  Non-Null Count  Dtype  \n",
      "---  ------  --------------  -----  \n",
      " 0   open    11056 non-null  float64\n",
      " 1   high    11056 non-null  float64\n",
      " 2   low     11056 non-null  float64\n",
      " 3   close   11056 non-null  float64\n",
      " 4   volume  11056 non-null  int64  \n",
      "dtypes: float64(4), int64(1)\n",
      "memory usage: 518.2 KB\n"
     ]
    }
   ],
   "source": [
    "prices = sample_prices()\n",
    "prices.info()"
   ]
  },
  {
   "cell_type": "code",
   "execution_count": 6,
   "metadata": {
    "ExecuteTime": {
     "end_time": "2024-04-26T00:52:36.995802Z",
     "start_time": "2024-04-26T00:52:36.980651Z"
    },
    "collapsed": false,
    "pycharm": {
     "name": "#%%\n"
    }
   },
   "outputs": [
    {
     "data": {
      "text/plain": [
       "array([         nan,          nan,          nan, ..., 225.08586792,\n",
       "       225.52460022, 225.93440002])"
      ]
     },
     "execution_count": 6,
     "metadata": {},
     "output_type": "execute_result"
    }
   ],
   "source": [
    "res = core.calc_sma(prices.close, 50)\n",
    "res"
   ]
  },
  {
   "cell_type": "code",
   "execution_count": 7,
   "metadata": {
    "ExecuteTime": {
     "end_time": "2024-04-26T00:52:37.668032Z",
     "start_time": "2024-04-26T00:52:37.644525Z"
    },
    "collapsed": false,
    "pycharm": {
     "name": "#%%\n"
    }
   },
   "outputs": [
    {
     "data": {
      "text/plain": [
       "macd_result(macd=array([       nan,        nan,        nan, ..., 2.04656468, 2.33321124,\n",
       "       2.64926492]), macdsignal=array([       nan,        nan,        nan, ..., 1.5608287 , 1.71530521,\n",
       "       1.90209715]), macdhist=array([       nan,        nan,        nan, ..., 0.48573597, 0.61790603,\n",
       "       0.74716777]))"
      ]
     },
     "execution_count": 7,
     "metadata": {},
     "output_type": "execute_result"
    }
   ],
   "source": [
    "res = core.calc_macd(prices.close)\n",
    "res"
   ]
  },
  {
   "cell_type": "code",
   "execution_count": 8,
   "metadata": {
    "collapsed": false,
    "pycharm": {
     "name": "#%%\n"
    }
   },
   "outputs": [
    {
     "name": "stdout",
     "output_type": "stream",
     "text": [
      "Help on cython_function_or_method in module mintalib.core:\n",
      "\n",
      "calc_ema(series, period, *, adjust=False, wrap: 'bool' = False)\n",
      "    Exponential Moving Average\n",
      "    \n",
      "    Args:\n",
      "        period (int) : time period, required\n",
      "        adjust (bool) : whether to adjust weights, default False\n",
      "            when true update ratio increases gradually (see formula)\n",
      "    \n",
      "    Formula:\n",
      "        EMA is calculated as a recursive formula\n",
      "        The standard formula is ema += alpha * (value - ema)\n",
      "            with alpha = 2.0 / (period + 1.0)\n",
      "        The adjusted formula is ema = num/div\n",
      "            where num = value + rho * num, div = 1.0 + rho * div\n",
      "            with rho = 1.0 - alpha\n",
      "\n"
     ]
    }
   ],
   "source": [
    "help(core.calc_ema)"
   ]
  },
  {
   "cell_type": "code",
   "execution_count": 9,
   "metadata": {
    "collapsed": false,
    "pycharm": {
     "name": "#%%\n"
    }
   },
   "outputs": [
    {
     "data": {
      "text/plain": [
       "<Signature (series, period, *, adjust=False, wrap: 'bool' = False)>"
      ]
     },
     "execution_count": 9,
     "metadata": {},
     "output_type": "execute_result"
    }
   ],
   "source": [
    "import inspect\n",
    "\n",
    "inspect.signature(core.calc_ema)\n",
    "\n"
   ]
  },
  {
   "cell_type": "code",
   "execution_count": 10,
   "metadata": {},
   "outputs": [],
   "source": [
    "from mintalib.core import calc_ema"
   ]
  },
  {
   "cell_type": "code",
   "execution_count": 11,
   "metadata": {},
   "outputs": [],
   "source": [
    "calc_ema.same_scale = True"
   ]
  },
  {
   "cell_type": "code",
   "execution_count": 12,
   "metadata": {},
   "outputs": [
    {
     "data": {
      "text/plain": [
       "{'same_scale': True}"
      ]
     },
     "execution_count": 12,
     "metadata": {},
     "output_type": "execute_result"
    }
   ],
   "source": [
    "vars(calc_ema)"
   ]
  },
  {
   "cell_type": "code",
   "execution_count": 13,
   "metadata": {},
   "outputs": [
    {
     "data": {
      "text/plain": [
       "'\\n    Exponential Moving Average\\n\\n    Args:\\n        period (int) : time period, required\\n        adjust (bool) : whether to adjust weights, default False\\n            when true update ratio increases gradually (see formula)\\n\\n    Formula:\\n        EMA is calculated as a recursive formula\\n        The standard formula is ema += alpha * (value - ema)\\n            with alpha = 2.0 / (period + 1.0)\\n        The adjusted formula is ema = num/div\\n            where num = value + rho * num, div = 1.0 + rho * div\\n            with rho = 1.0 - alpha\\n    '"
      ]
     },
     "execution_count": 13,
     "metadata": {},
     "output_type": "execute_result"
    }
   ],
   "source": [
    "calc_ema.__doc__"
   ]
  },
  {
   "cell_type": "code",
   "execution_count": 14,
   "metadata": {},
   "outputs": [
    {
     "name": "stdout",
     "output_type": "stream",
     "text": [
      "Help on cython_function_or_method in module mintalib.core:\n",
      "\n",
      "calc_ema(series, period, *, adjust=False, wrap: 'bool' = False)\n",
      "    Exponential Moving Average\n",
      "    \n",
      "    Args:\n",
      "        period (int) : time period, required\n",
      "        adjust (bool) : whether to adjust weights, default False\n",
      "            when true update ratio increases gradually (see formula)\n",
      "    \n",
      "    Formula:\n",
      "        EMA is calculated as a recursive formula\n",
      "        The standard formula is ema += alpha * (value - ema)\n",
      "            with alpha = 2.0 / (period + 1.0)\n",
      "        The adjusted formula is ema = num/div\n",
      "            where num = value + rho * num, div = 1.0 + rho * div\n",
      "            with rho = 1.0 - alpha\n",
      "\n"
     ]
    }
   ],
   "source": [
    "help(calc_ema)"
   ]
  },
  {
   "cell_type": "code",
   "execution_count": 15,
   "metadata": {},
   "outputs": [
    {
     "name": "stdout",
     "output_type": "stream",
     "text": [
      "Help on cython_function_or_method in module mintalib.core:\n",
      "\n",
      "SMA(series, period: 'int', *, item: 'str' = None)\n",
      "    Simple Moving Average\n",
      "    \n",
      "    Args:\n",
      "        period (int) : time period, required\n",
      "    \n",
      "    Attributes:\n",
      "        same_scale = True\n",
      "\n"
     ]
    }
   ],
   "source": [
    "help(core.SMA)"
   ]
  },
  {
   "cell_type": "code",
   "execution_count": null,
   "metadata": {},
   "outputs": [],
   "source": []
  }
 ],
 "metadata": {
  "kernelspec": {
   "display_name": ".venv",
   "language": "python",
   "name": "python3"
  },
  "language_info": {
   "codemirror_mode": {
    "name": "ipython",
    "version": 3
   },
   "file_extension": ".py",
   "mimetype": "text/x-python",
   "name": "python",
   "nbconvert_exporter": "python",
   "pygments_lexer": "ipython3",
   "version": "3.9.20"
  }
 },
 "nbformat": 4,
 "nbformat_minor": 0
}
