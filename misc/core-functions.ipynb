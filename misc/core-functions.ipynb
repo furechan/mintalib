{
 "cells": [
  {
   "cell_type": "markdown",
   "metadata": {
    "collapsed": false
   },
   "source": [
    "# Core module contains low levels functions"
   ]
  },
  {
   "cell_type": "code",
   "execution_count": 1,
   "metadata": {
    "ExecuteTime": {
     "end_time": "2024-04-26T00:52:33.836162Z",
     "start_time": "2024-04-26T00:52:33.565312Z"
    },
    "collapsed": false
   },
   "outputs": [],
   "source": [
    "from mintalib import core\n",
    "from mintalib.samples import sample_prices"
   ]
  },
  {
   "cell_type": "code",
   "execution_count": 2,
   "metadata": {
    "ExecuteTime": {
     "end_time": "2024-04-26T00:52:33.856352Z",
     "start_time": "2024-04-26T00:52:33.844735Z"
    },
    "collapsed": false,
    "pycharm": {
     "name": "#%%\n"
    }
   },
   "outputs": [
    {
     "name": "stdout",
     "output_type": "stream",
     "text": [
      "Help on module mintalib.core in mintalib:\n",
      "\n",
      "NAME\n",
      "    mintalib.core\n",
      "\n",
      "FUNCTIONS\n",
      "    calc_adx(prices, period=14, *, wrap: 'bool' = False)\n",
      "        Average Directional Index\n",
      "    \n",
      "    calc_atr(prices, period=14, *, wrap: 'bool' = False)\n",
      "        Average True Range\n",
      "    \n",
      "    calc_avgprice(prices, *, wrap: 'bool' = False)\n",
      "        Average Price\n",
      "    \n",
      "    calc_bbands(prices, period=20, nbdev=2.0, *, wrap: 'bool' = False)\n",
      "        Bollinger Bands\n",
      "    \n",
      "    calc_bop(prices, period=20, *, wrap: 'bool' = False)\n",
      "        Balance of Power\n",
      "    \n",
      "    calc_cci(prices, period=20, *, wrap: 'bool' = False)\n",
      "        Commodity Channel Index\n",
      "    \n",
      "    calc_cmf(prices, period=20, *, wrap: 'bool' = False)\n",
      "        Chaikin Money Flow\n",
      "    \n",
      "    calc_dema(series, period, wrap: 'bool' = False)\n",
      "        Double Exponential Moving Average\n",
      "    \n",
      "    calc_diff(series, period=1, *, wrap: 'bool' = False)\n",
      "        Difference\n",
      "    \n",
      "    calc_ema(series, period, *, adjust=False, wrap: 'bool' = False)\n",
      "        Exponential Moving Average\n",
      "        \n",
      "        Args:\n",
      "            period (int) : time period, required\n",
      "            adjust (bool) : whether to adjust weights, default False\n",
      "                when true update ratio increases gradually (see formula)\n",
      "        \n",
      "        Formula:\n",
      "            EMA is calculated as a recursive formula\n",
      "            The standard formula is ema += alpha * (value - ema)\n",
      "                with alpha = 2.0 / (period + 1.0)\n",
      "            The adjusted formula is ema = num/div\n",
      "                where num = value + rho * num, div = 1.0 + rho * div\n",
      "                with rho = 1.0 - alpha\n",
      "    \n",
      "    calc_eval(prices, expr: 'str')\n",
      "        Expression Eval (pandas only)\n",
      "    \n",
      "    calc_exp(series, *, wrap: 'bool' = False)\n",
      "        Exponential\n",
      "    \n",
      "    calc_hma(series, period=20, *, wrap: 'bool' = False)\n",
      "        Hull Moving Average\n",
      "    \n",
      "    calc_kama(series, period=10, fastn=2, slown=30, *, wrap: 'bool' = False)\n",
      "        Kaufman Adaptive Moving Average\n",
      "    \n",
      "    calc_keltner(prices, period=20, nbatr=2.0, *, wrap: 'bool' = False)\n",
      "        Keltner Channel\n",
      "    \n",
      "    calc_ker(series, period=10, *, wrap: 'bool' = False)\n",
      "        Kaufman Efficiency Ratio\n",
      "    \n",
      "    calc_latr(prices, period=14, *, wrap: 'bool' = False)\n",
      "        Average True Range (logarithmic)\n",
      "    \n",
      "    calc_log(series, *, wrap: 'bool' = False)\n",
      "        Logarithm\n",
      "    \n",
      "    calc_ma(series, period=20, *, ma_type: 'str' = None, wrap: 'bool' = False)\n",
      "        Generic Moving Average\n",
      "        \n",
      "        Args:\n",
      "            matype (str) : one of 'SMA', 'EMA', 'WMA', 'HMA', 'DEMA', 'TEMA'\n",
      "                    defaults to 'SMA'\n",
      "    \n",
      "    calc_macd(series, n1=12, n2=26, n3=9, wrap: 'bool' = False)\n",
      "        Moving Average Convergenge Divergence\n",
      "    \n",
      "    calc_mad(series, period=20, *, wrap: 'bool' = False)\n",
      "        Mean Absolute Deviation\n",
      "    \n",
      "    calc_max(series, period, *, wrap: 'bool' = False)\n",
      "        Rolling Maximum\n",
      "    \n",
      "    calc_mfi(prices, period=14, *, wrap: 'bool' = False)\n",
      "        Money Flow Index\n",
      "    \n",
      "    calc_midprice(prices, *, wrap: 'bool' = False)\n",
      "        Mid Price\n",
      "    \n",
      "    calc_min(series, period, *, wrap: 'bool' = False)\n",
      "        Rolling Minimum\n",
      "    \n",
      "    calc_minusdi(prices, period=14, *, wrap: 'bool' = False)\n",
      "        Minus Directional Index\n",
      "    \n",
      "    calc_natr(prices, period=14, *, wrap: 'bool' = False)\n",
      "        Average True Range (normalized)\n",
      "    \n",
      "    calc_plusdi(prices, period=14, *, wrap: 'bool' = False)\n",
      "        Plus Directional Index\n",
      "    \n",
      "    calc_ppo(series, n1=12, n2=26, n3=9, *, wrap: 'bool' = False)\n",
      "        Price Percentage Oscillator\n",
      "    \n",
      "    calc_price(prices, item: 'str' = None, *, wrap: 'bool' = False)\n",
      "        Generic Price \n",
      "        \n",
      "        Args:\n",
      "            item (str) : one of 'open', 'high', 'low', 'close',\n",
      "                'avg', 'mid', 'typ', 'wcl' defaults to 'close'\n",
      "    \n",
      "    calc_rma(series, period, *, wrap: 'bool' = False)\n",
      "        Rolling Moving Average (RSI style)\n",
      "        \n",
      "        Exponential moving average with `alpha = 2 / period`,\n",
      "        that starts as a simple moving average until\n",
      "        number of bars is equal to `period`.\n",
      "    \n",
      "    calc_roc(series, period=1, *, wrap: 'bool' = False)\n",
      "        Rate of Change\n",
      "    \n",
      "    calc_rsi(series, period=14, *, wrap: 'bool' = False)\n",
      "        Relative Strength Index\n",
      "    \n",
      "    calc_sar(prices, afs=0.02, maxaf=0.2, *, wrap: 'bool' = False)\n",
      "        Parabolic Stop and Reverse\n",
      "    \n",
      "    calc_slope(series, period=20, *, option=0, offset=0, wrap: 'bool' = False)\n",
      "        Slope (time linear regression)\n",
      "    \n",
      "    calc_sma(series, period, *, wrap: 'bool' = False)\n",
      "        Simple Moving Average\n",
      "    \n",
      "    calc_stdev(series, period=20, *, wrap: 'bool' = False)\n",
      "        Standard Deviation\n",
      "    \n",
      "    calc_stoch(prices, period=14, fastn=3, slown=3, *, wrap: 'bool' = False)\n",
      "        Stochastic Oscillator\n",
      "    \n",
      "    calc_streak(series, *, wrap: 'bool' = False)\n",
      "        Consecutive streak of ups or downs\n",
      "    \n",
      "    calc_sum(series, period, *, wrap: 'bool' = False)\n",
      "        Rolling Sum\n",
      "    \n",
      "    calc_tema(series, period=20, *, wrap: 'bool' = False)\n",
      "        Triple Exponential Moving Average\n",
      "    \n",
      "    calc_trange(prices, *, log_prices: 'bool' = False, percent: 'bool' = False, wrap: 'bool' = False)\n",
      "        True Range\n",
      "    \n",
      "    calc_typprice(prices, *, wrap: 'bool' = False)\n",
      "        Typical Price\n",
      "    \n",
      "    calc_wclprice(prices, *, wrap: 'bool' = False)\n",
      "        Weighted Close Price\n",
      "    \n",
      "    calc_wma(series, period, *, wrap: 'bool' = False)\n",
      "        Weighted Moving Average\n",
      "    \n",
      "    check_size(xs, *others)\n",
      "        check all series have the same size and return the size\n",
      "    \n",
      "    crossover(series, level=0.0, *, wrap: 'bool' = False)\n",
      "        Cross Over\n",
      "    \n",
      "    crossunder(series, level=0.0, *, wrap: 'bool' = False)\n",
      "        Cross Under\n",
      "    \n",
      "    dataframe_like(data)\n",
      "        check if data is dataframe like\n",
      "    \n",
      "    flag_above(series, level=0.0, *, na_value=nan, wrap: 'bool' = False)\n",
      "        Flag for value above level\n",
      "    \n",
      "    flag_below(series, level=0.0, *, na_value=nan, wrap: 'bool' = False)\n",
      "        Flag for value below level\n",
      "    \n",
      "    flag_invert(series, *, na_value=nan, wrap: 'bool' = False)\n",
      "        Inverse flag\n",
      "    \n",
      "    flag_updown(series, up_level=0.0, down_level=0.0, *, wrap: 'bool' = False)\n",
      "        Flag for value crossing up & down levels\n",
      "    \n",
      "    get_series(data, item: 'str' = None, *, default_item: 'str' = 'close')\n",
      "        get series from either series/prices data\n",
      "    \n",
      "    where_flag(flag, x, y, z=nan, *, wrap: 'bool' = False)\n",
      "        Value according to flag\n",
      "    \n",
      "    wrap_function(source, same_scale: 'bool' = None)\n",
      "        update function with documentation from source\n",
      "    \n",
      "    wrap_indicator(source)\n",
      "        update indicator with documentation from source\n",
      "    \n",
      "    wrap_result(result, source)\n",
      "        wrap result to match source data form (pandas, polars)\n",
      "\n",
      "DATA\n",
      "    __all__ = ('check_size', 'dataframe_like', 'get_series', 'wrap_functio...\n",
      "    __test__ = {}\n",
      "\n",
      "FILE\n",
      "    /Users/frederic/Projects/mintalib/src/mintalib/core.cpython-39-darwin.so\n",
      "\n",
      "\n"
     ]
    }
   ],
   "source": [
    "help(core)"
   ]
  },
  {
   "cell_type": "code",
   "execution_count": 3,
   "metadata": {
    "ExecuteTime": {
     "end_time": "2024-04-26T00:52:34.560273Z",
     "start_time": "2024-04-26T00:52:34.534026Z"
    },
    "collapsed": false
   },
   "outputs": [
    {
     "data": {
      "text/plain": [
       "'mintalib.core'"
      ]
     },
     "execution_count": 3,
     "metadata": {},
     "output_type": "execute_result"
    }
   ],
   "source": [
    "core.calc_ema.__module__"
   ]
  },
  {
   "cell_type": "code",
   "execution_count": 4,
   "metadata": {
    "ExecuteTime": {
     "end_time": "2024-04-26T00:52:35.312230Z",
     "start_time": "2024-04-26T00:52:35.294583Z"
    },
    "collapsed": false
   },
   "outputs": [
    {
     "name": "stdout",
     "output_type": "stream",
     "text": [
      "['ADX', 'ATR', 'AVGPRICE', 'BBANDS', 'BOP', 'CCI', 'CMF', 'CROSSOVER', 'CROSSUNDER', 'DEMA', 'DIFF', 'EMA', 'EVAL', 'EXP', 'FLAG_ABOVE', 'FLAG_BELOW', 'FLAG_INVERT', 'FLAG_UPDOWN', 'FORECAST', 'HMA', 'IntEnum', 'KAMA', 'KELTNER', 'KER', 'LATR', 'LOG', 'MA', 'MACD', 'MAD', 'MAX', 'MFI', 'MIDPRICE', 'MIN', 'MINUSDI', 'NATR', 'PLUSDI', 'PPO', 'PRICE', 'RMA', 'ROC', 'RSI', 'RVALUE', 'SAR', 'SLOPE', 'SMA', 'STDEV', 'STOCH', 'STREAK', 'SUM', 'SlopeOption', 'TEMA', 'TRANGE', 'TYPPRICE', 'WCLPRICE', 'WMA', '__all__', '__builtins__', '__doc__', '__file__', '__loader__', '__name__', '__package__', '__pyx_unpickle_Enum', '__spec__', '__test__', 'bbands_result', 'calc_adx', 'calc_atr', 'calc_avgprice', 'calc_bbands', 'calc_bop', 'calc_cci', 'calc_cmf', 'calc_dema', 'calc_diff', 'calc_ema', 'calc_eval', 'calc_exp', 'calc_hma', 'calc_kama', 'calc_keltner', 'calc_ker', 'calc_latr', 'calc_log', 'calc_ma', 'calc_macd', 'calc_mad', 'calc_max', 'calc_mfi', 'calc_midprice', 'calc_min', 'calc_minusdi', 'calc_natr', 'calc_plusdi', 'calc_ppo', 'calc_price', 'calc_rma', 'calc_roc', 'calc_rsi', 'calc_sar', 'calc_slope', 'calc_sma', 'calc_stdev', 'calc_stoch', 'calc_streak', 'calc_sum', 'calc_tema', 'calc_trange', 'calc_typprice', 'calc_wclprice', 'calc_wma', 'check_size', 'crossover', 'crossunder', 'dataframe_like', 'flag_above', 'flag_below', 'flag_invert', 'flag_updown', 'get_series', 'keltner_result', 'macd_result', 'namedtuple', 'np', 'ppo_result', 'stoch_result', 'sys', 'where_flag', 'wrap_function', 'wrap_indicator', 'wrap_result']\n"
     ]
    }
   ],
   "source": [
    "print(dir(core))"
   ]
  },
  {
   "cell_type": "code",
   "execution_count": 5,
   "metadata": {
    "ExecuteTime": {
     "end_time": "2024-04-26T00:52:36.132515Z",
     "start_time": "2024-04-26T00:52:36.099751Z"
    },
    "collapsed": false,
    "pycharm": {
     "name": "#%%\n"
    }
   },
   "outputs": [
    {
     "name": "stdout",
     "output_type": "stream",
     "text": [
      "<class 'pandas.core.frame.DataFrame'>\n",
      "DatetimeIndex: 11033 entries, 1980-12-12 to 2024-09-18\n",
      "Data columns (total 5 columns):\n",
      " #   Column  Non-Null Count  Dtype  \n",
      "---  ------  --------------  -----  \n",
      " 0   open    11033 non-null  float64\n",
      " 1   high    11033 non-null  float64\n",
      " 2   low     11033 non-null  float64\n",
      " 3   close   11033 non-null  float64\n",
      " 4   volume  11033 non-null  int64  \n",
      "dtypes: float64(4), int64(1)\n",
      "memory usage: 517.2 KB\n"
     ]
    }
   ],
   "source": [
    "prices = sample_prices()\n",
    "prices.info()"
   ]
  },
  {
   "cell_type": "code",
   "execution_count": 6,
   "metadata": {
    "ExecuteTime": {
     "end_time": "2024-04-26T00:52:36.995802Z",
     "start_time": "2024-04-26T00:52:36.980651Z"
    },
    "collapsed": false,
    "pycharm": {
     "name": "#%%\n"
    }
   },
   "outputs": [
    {
     "data": {
      "text/plain": [
       "array([         nan,          nan,          nan, ..., 222.75946014,\n",
       "       222.54412781, 222.38961578])"
      ]
     },
     "execution_count": 6,
     "metadata": {},
     "output_type": "execute_result"
    }
   ],
   "source": [
    "res = core.calc_sma(prices.close, 50)\n",
    "res"
   ]
  },
  {
   "cell_type": "code",
   "execution_count": 7,
   "metadata": {
    "ExecuteTime": {
     "end_time": "2024-04-26T00:52:37.668032Z",
     "start_time": "2024-04-26T00:52:37.644525Z"
    },
    "collapsed": false,
    "pycharm": {
     "name": "#%%\n"
    }
   },
   "outputs": [
    {
     "data": {
      "text/plain": [
       "macd_result(macd=array([        nan,         nan,         nan, ..., -0.25951532,\n",
       "       -0.64171404, -0.62273265]), macdsignal=array([       nan,        nan,        nan, ..., 0.64597018, 0.38843333,\n",
       "       0.18620014]), macdhist=array([        nan,         nan,         nan, ..., -0.90548549,\n",
       "       -1.03014737, -0.80893279]))"
      ]
     },
     "execution_count": 7,
     "metadata": {},
     "output_type": "execute_result"
    }
   ],
   "source": [
    "res = core.calc_macd(prices.close)\n",
    "res"
   ]
  },
  {
   "cell_type": "code",
   "execution_count": 8,
   "metadata": {
    "collapsed": false,
    "pycharm": {
     "name": "#%%\n"
    }
   },
   "outputs": [
    {
     "name": "stdout",
     "output_type": "stream",
     "text": [
      "Help on cython_function_or_method in module mintalib.core:\n",
      "\n",
      "calc_ema(series, period, *, adjust=False, wrap: 'bool' = False)\n",
      "    Exponential Moving Average\n",
      "    \n",
      "    Args:\n",
      "        period (int) : time period, required\n",
      "        adjust (bool) : whether to adjust weights, default False\n",
      "            when true update ratio increases gradually (see formula)\n",
      "    \n",
      "    Formula:\n",
      "        EMA is calculated as a recursive formula\n",
      "        The standard formula is ema += alpha * (value - ema)\n",
      "            with alpha = 2.0 / (period + 1.0)\n",
      "        The adjusted formula is ema = num/div\n",
      "            where num = value + rho * num, div = 1.0 + rho * div\n",
      "            with rho = 1.0 - alpha\n",
      "\n"
     ]
    }
   ],
   "source": [
    "help(core.calc_ema)"
   ]
  },
  {
   "cell_type": "code",
   "execution_count": 9,
   "metadata": {
    "collapsed": false,
    "pycharm": {
     "name": "#%%\n"
    }
   },
   "outputs": [
    {
     "data": {
      "text/plain": [
       "<Signature (series, period, *, adjust=False, wrap: 'bool' = False)>"
      ]
     },
     "execution_count": 9,
     "metadata": {},
     "output_type": "execute_result"
    }
   ],
   "source": [
    "import inspect\n",
    "\n",
    "inspect.signature(core.calc_ema)\n",
    "\n"
   ]
  },
  {
   "cell_type": "code",
   "execution_count": 10,
   "metadata": {},
   "outputs": [],
   "source": [
    "from mintalib.core import calc_ema"
   ]
  },
  {
   "cell_type": "code",
   "execution_count": 11,
   "metadata": {},
   "outputs": [],
   "source": [
    "calc_ema.same_scale = True"
   ]
  },
  {
   "cell_type": "code",
   "execution_count": 12,
   "metadata": {},
   "outputs": [
    {
     "data": {
      "text/plain": [
       "{'same_scale': True}"
      ]
     },
     "execution_count": 12,
     "metadata": {},
     "output_type": "execute_result"
    }
   ],
   "source": [
    "vars(calc_ema)"
   ]
  },
  {
   "cell_type": "code",
   "execution_count": 13,
   "metadata": {},
   "outputs": [
    {
     "data": {
      "text/plain": [
       "'\\n    Exponential Moving Average\\n\\n    Args:\\n        period (int) : time period, required\\n        adjust (bool) : whether to adjust weights, default False\\n            when true update ratio increases gradually (see formula)\\n\\n    Formula:\\n        EMA is calculated as a recursive formula\\n        The standard formula is ema += alpha * (value - ema)\\n            with alpha = 2.0 / (period + 1.0)\\n        The adjusted formula is ema = num/div\\n            where num = value + rho * num, div = 1.0 + rho * div\\n            with rho = 1.0 - alpha\\n    '"
      ]
     },
     "execution_count": 13,
     "metadata": {},
     "output_type": "execute_result"
    }
   ],
   "source": [
    "calc_ema.__doc__"
   ]
  },
  {
   "cell_type": "code",
   "execution_count": 14,
   "metadata": {},
   "outputs": [
    {
     "name": "stdout",
     "output_type": "stream",
     "text": [
      "Help on cython_function_or_method in module mintalib.core:\n",
      "\n",
      "calc_ema(series, period, *, adjust=False, wrap: 'bool' = False)\n",
      "    Exponential Moving Average\n",
      "    \n",
      "    Args:\n",
      "        period (int) : time period, required\n",
      "        adjust (bool) : whether to adjust weights, default False\n",
      "            when true update ratio increases gradually (see formula)\n",
      "    \n",
      "    Formula:\n",
      "        EMA is calculated as a recursive formula\n",
      "        The standard formula is ema += alpha * (value - ema)\n",
      "            with alpha = 2.0 / (period + 1.0)\n",
      "        The adjusted formula is ema = num/div\n",
      "            where num = value + rho * num, div = 1.0 + rho * div\n",
      "            with rho = 1.0 - alpha\n",
      "\n"
     ]
    }
   ],
   "source": [
    "help(calc_ema)"
   ]
  },
  {
   "cell_type": "code",
   "execution_count": 15,
   "metadata": {},
   "outputs": [
    {
     "name": "stdout",
     "output_type": "stream",
     "text": [
      "Help on cython_function_or_method in module mintalib.core:\n",
      "\n",
      "SMA(series, period: 'int', *, item: 'str' = None)\n",
      "    Simple Moving Average\n",
      "    \n",
      "    Attributes:\n",
      "        same_scale = True\n",
      "\n"
     ]
    }
   ],
   "source": [
    "help(core.SMA)"
   ]
  },
  {
   "cell_type": "code",
   "execution_count": null,
   "metadata": {},
   "outputs": [],
   "source": []
  }
 ],
 "metadata": {
  "kernelspec": {
   "display_name": ".venv",
   "language": "python",
   "name": "python3"
  },
  "language_info": {
   "codemirror_mode": {
    "name": "ipython",
    "version": 3
   },
   "file_extension": ".py",
   "mimetype": "text/x-python",
   "name": "python",
   "nbconvert_exporter": "python",
   "pygments_lexer": "ipython3",
   "version": "3.9.19"
  }
 },
 "nbformat": 4,
 "nbformat_minor": 0
}
