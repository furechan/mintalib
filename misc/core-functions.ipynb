{
 "cells": [
  {
   "cell_type": "markdown",
   "metadata": {
    "collapsed": false
   },
   "source": [
    "# Core module contains low levels functions"
   ]
  },
  {
   "cell_type": "code",
   "execution_count": 1,
   "metadata": {
    "ExecuteTime": {
     "end_time": "2024-04-26T00:52:33.836162Z",
     "start_time": "2024-04-26T00:52:33.565312Z"
    },
    "collapsed": false
   },
   "outputs": [],
   "source": [
    "from mintalib import core\n",
    "from mintalib.samples import sample_prices\n",
    "\n",
    "%load_ext nbmask"
   ]
  },
  {
   "cell_type": "code",
   "execution_count": 2,
   "metadata": {
    "ExecuteTime": {
     "end_time": "2024-04-26T00:52:33.856352Z",
     "start_time": "2024-04-26T00:52:33.844735Z"
    },
    "collapsed": false,
    "pycharm": {
     "name": "#%%\n"
    }
   },
   "outputs": [
    {
     "name": "stdout",
     "output_type": "stream",
     "text": [
      "Help on module mintalib.core in mintalib:\n",
      "\n",
      "NAME\n",
      "    mintalib.core - Mintalib Core\n",
      "\n",
      "DESCRIPTION\n",
      "    Calculation routines implemented in cython.\n",
      "    \n",
      "    Routines are typically named `calc_` followed by an indicator name all in lower caps as in `calc_sma`.\n",
      "    \n",
      "    The first parameter `series` or `prices` indicates whether the calculation accepts a single series or a prices dataframe.\n",
      "    \n",
      "    A `prices` dataframe should contain the columns `open`, `high`, `low`, `close` and optionally `volume` all in **lower case**.\n",
      "    \n",
      "    The `wrap` parameter dictates whether to wrap the calculation result to match the type of the inputs.\n",
      "    When set to True, pandas inputs will yield a pandas output with an identical index.\n",
      "\n",
      "FUNCTIONS\n",
      "    calc_adx(prices, period=14, *, wrap: 'bool' = False)\n",
      "        Average Directional Index\n",
      "        \n",
      "        Args:\n",
      "            period (int) : time period, default 14\n",
      "    \n",
      "    calc_atr(prices, period=14, *, wrap: 'bool' = False)\n",
      "        Average True Range\n",
      "        \n",
      "        Args:\n",
      "            period (int) : time period, default 14\n",
      "    \n",
      "    calc_avgprice(prices, *, wrap: 'bool' = False)\n",
      "        Average Price\n",
      "        \n",
      "        Value of (open + high + low + close) / 4\n",
      "    \n",
      "    calc_bbands(prices, period=20, nbdev=2.0, *, wrap: 'bool' = False)\n",
      "        Bollinger Bands\n",
      "        \n",
      "        Args:\n",
      "            period (int) : time period, default 20\n",
      "            nbdev (float) : bands width in number of standard deviations\n",
      "    \n",
      "    calc_bop(prices, period=20, *, wrap: 'bool' = False)\n",
      "        Balance of Power\n",
      "        \n",
      "        Args:\n",
      "            period (int) : time period, default 20\n",
      "    \n",
      "    calc_cci(prices, period=20, *, wrap: 'bool' = False)\n",
      "        Commodity Channel Index\n",
      "        \n",
      "        Args:\n",
      "            period (int) : time period, default 20\n",
      "    \n",
      "    calc_cmf(prices, period=20, *, wrap: 'bool' = False)\n",
      "        Chaikin Money Flow\n",
      "        \n",
      "        Args:\n",
      "            period (int) : time period, default 20\n",
      "    \n",
      "    calc_curve(series, period=20, *, option=0, offset=0, wrap: 'bool' = False)\n",
      "        Curve (time curvilinear regression)\n",
      "    \n",
      "    calc_dema(series, period, wrap: 'bool' = False)\n",
      "        Double Exponential Moving Average\n",
      "        \n",
      "        Args:\n",
      "            period (int) : time period, required\n",
      "    \n",
      "    calc_diff(series, period=1, *, wrap: 'bool' = False)\n",
      "        Difference\n",
      "        \n",
      "        Difference between current value and the one offset by period\n",
      "        \n",
      "        Args:\n",
      "            period (int) : time period, default 1\n",
      "    \n",
      "    calc_dmi(prices, period=14, *, wrap: 'bool' = False)\n",
      "        Directional Movement Indicator\n",
      "        \n",
      "        Args:\n",
      "            period (int) : time period, default 14\n",
      "    \n",
      "    calc_ema(series, period, *, adjust=False, wrap: 'bool' = False)\n",
      "        Exponential Moving Average\n",
      "        \n",
      "        Args:\n",
      "            period (int) : time period, required\n",
      "            adjust (bool) : whether to adjust weights, default False\n",
      "                when true update ratio increases gradually (see formula)\n",
      "        \n",
      "        Formula:\n",
      "            EMA is calculated as a recursive formula\n",
      "            The standard formula is ema += alpha * (value - ema)\n",
      "                with alpha = 2.0 / (period + 1.0)\n",
      "            The adjusted formula is ema = num/div\n",
      "                where num = value + rho * num, div = 1.0 + rho * div\n",
      "                with rho = 1.0 - alpha\n",
      "    \n",
      "    calc_eval(prices, expr: 'str')\n",
      "        Expression Eval (pandas only)\n",
      "        \n",
      "        Args:\n",
      "            expr (str) : expression to eval\n",
      "    \n",
      "    calc_exp(series, *, wrap: 'bool' = False)\n",
      "        Exponential\n",
      "    \n",
      "    calc_flag(series, *, wrap: 'bool' = False)\n",
      "        Flag for value above zero\n",
      "    \n",
      "    calc_hma(series, period, *, wrap: 'bool' = False)\n",
      "        Hull Moving Average\n",
      "        \n",
      "        Args:\n",
      "            period (int) : time period, required\n",
      "    \n",
      "    calc_kama(series, period=10, fastn=2, slown=30, *, wrap: 'bool' = False)\n",
      "        Kaufman Adaptive Moving Average\n",
      "        \n",
      "        Args:\n",
      "            period (int) : time period for efficiency ratio, default 10\n",
      "            fastn (int) : time period for fast moving average, default, 2\n",
      "            slown (int) : time period for slow moving average, default 30\n",
      "    \n",
      "    calc_keltner(prices, period=20, nbatr=2.0, *, wrap: 'bool' = False)\n",
      "        Keltner Channel\n",
      "        \n",
      "        Args:\n",
      "            period (int) : time period, default 20\n",
      "            nbatr (float) : channel width in number of atrs, default 2.0\n",
      "    \n",
      "    calc_ker(series, period=10, *, wrap: 'bool' = False)\n",
      "        Kaufman Efficiency Ratio\n",
      "        \n",
      "        Args:\n",
      "            period (int) : time period, default 10\n",
      "    \n",
      "    calc_lag(series, period, *, wrap: 'bool' = False)\n",
      "        Lag Function\n",
      "        \n",
      "        Args:\n",
      "            period (int) : time period, required\n",
      "    \n",
      "    calc_log(series, *, wrap: 'bool' = False)\n",
      "        Logarithm\n",
      "    \n",
      "    calc_ma(series, period=20, *, ma_type: 'str' = None, wrap: 'bool' = False)\n",
      "        Generic Moving Average\n",
      "        \n",
      "        Moving average computed according to ma_type\n",
      "        \n",
      "        Args:\n",
      "            ma_type (str) : one of 'SMA', 'EMA', 'WMA', 'HMA', 'DEMA', 'TEMA'\n",
      "                    defaults to 'SMA'\n",
      "    \n",
      "    calc_macd(series, n1=12, n2=26, n3=9, wrap: 'bool' = False)\n",
      "        Moving Average Convergenge Divergence\n",
      "        \n",
      "        Args:\n",
      "            n1 (int) : show time period, default 12\n",
      "            n2 (int) : long time periodm, default 26\n",
      "            n3 (int) : signal time period, default 9  \n",
      "        \n",
      "        Outputs:\n",
      "            macd, macdsignal, macdhist\n",
      "    \n",
      "    calc_mad(series, period=20, *, wrap: 'bool' = False)\n",
      "        Mean Absolute Deviation\n",
      "        \n",
      "        Args:\n",
      "            period (int) : time period, default 20\n",
      "    \n",
      "    calc_max(series, period, *, wrap: 'bool' = False)\n",
      "        Rolling Maximum\n",
      "    \n",
      "    calc_mdi(prices, period=14, *, wrap: 'bool' = False)\n",
      "        Minus Directional Index\n",
      "        \n",
      "        Args:\n",
      "            period (int) : time period, default 14\n",
      "    \n",
      "    calc_mfi(prices, period=14, *, wrap: 'bool' = False)\n",
      "        Money Flow Index \n",
      "        \n",
      "        Args:\n",
      "            period (int) : time period, default 14\n",
      "    \n",
      "    calc_midprice(prices, *, wrap: 'bool' = False)\n",
      "        Mid Price\n",
      "        \n",
      "        Value of (high + low) / 2\n",
      "    \n",
      "    calc_min(series, period, *, wrap: 'bool' = False)\n",
      "        Rolling Minimum\n",
      "        \n",
      "        Args:\n",
      "            period (int) : time period, required\n",
      "    \n",
      "    calc_natr(prices, period=14, *, wrap: 'bool' = False)\n",
      "        Average True Range (normalized)\n",
      "        \n",
      "        Args:\n",
      "            period (int) : time period, default 14\n",
      "    \n",
      "    calc_pdi(prices, period=14, *, wrap: 'bool' = False)\n",
      "        Plus Directional Index\n",
      "        \n",
      "        Args:\n",
      "            period (int) : time period, default 14\n",
      "    \n",
      "    calc_ppo(series, n1=12, n2=26, n3=9, *, wrap: 'bool' = False)\n",
      "        Price Percentage Oscillator\n",
      "        \n",
      "        Args:\n",
      "            n1 (int) : short time period, default 12\n",
      "            n2 (int) : long time period, default 26\n",
      "            n3 (int) : signal time period, default 9\n",
      "        \n",
      "        Outputs:\n",
      "            ppo, pposignal, ppohist\n",
      "    \n",
      "    calc_price(prices, item: 'str' = None, *, wrap: 'bool' = False)\n",
      "        Generic Price \n",
      "        \n",
      "        Args:\n",
      "            item (str) : one of 'open', 'high', 'low', 'close',\n",
      "                'avg', 'mid', 'typ', 'wcl' defaults to 'close'\n",
      "    \n",
      "    calc_rma(series, period, *, wrap: 'bool' = False)\n",
      "        Rolling Moving Average (RSI style)\n",
      "        \n",
      "        Exponential moving average with `alpha = 2 / period`,\n",
      "        that starts as a simple moving average until\n",
      "        number of bars is equal to `period`.\n",
      "    \n",
      "    calc_roc(series, period=1, *, wrap: 'bool' = False)\n",
      "        Rate of Change\n",
      "        \n",
      "        Args:\n",
      "            period (int) : time period, default 1\n",
      "    \n",
      "    calc_rsi(series, period=14, *, wrap: 'bool' = False)\n",
      "        Relative Strength Index\n",
      "        \n",
      "        Args:\n",
      "            period (int) : time period, default 14\n",
      "    \n",
      "    calc_sar(prices, afs=0.02, maxaf=0.2, *, wrap: 'bool' = False)\n",
      "        Parabolic Stop and Reverse\n",
      "        \n",
      "        Args:\n",
      "            afs (float) : starting acceleration factor, default 0.02\n",
      "            maxaf (float) : maximum acceleration factor, default 0.2\n",
      "    \n",
      "    calc_sign(series, na_value=nan, wrap: 'bool' = False)\n",
      "        Sign\n",
      "    \n",
      "    calc_slope(series, period=20, *, option=0, offset=0, wrap: 'bool' = False)\n",
      "        Slope (time linear regression)\n",
      "        \n",
      "        Args:\n",
      "            period (int) : time period, default 20\n",
      "    \n",
      "    calc_sma(series, period, *, wrap: 'bool' = False)\n",
      "        Simple Moving Average\n",
      "        \n",
      "        Args:\n",
      "            period (int) : time period, required\n",
      "    \n",
      "    calc_stdev(series, period=20, *, wrap: 'bool' = False)\n",
      "        Standard Deviation\n",
      "        \n",
      "        Args:\n",
      "            period (int) : time period, default 20\n",
      "    \n",
      "    calc_stoch(prices, period=14, fastn=3, slown=3, *, wrap: 'bool' = False)\n",
      "        Stochastic Oscillator\n",
      "        \n",
      "        Args:\n",
      "            period (int) :  time period of window, default, 14\n",
      "            fastn (int) : time period of fast average, default 3\n",
      "            slown (int) : time period of slow average, default 3\n",
      "    \n",
      "    calc_streak(series, *, wrap: 'bool' = False)\n",
      "        Consecutive streak of ups or downs\n",
      "        \n",
      "        Length of streak of values all up or down, times +1 or -1 whether ups or downs.\n",
      "    \n",
      "    calc_sum(series, period, *, wrap: 'bool' = False)\n",
      "        Rolling Sum\n",
      "        \n",
      "        Args:\n",
      "            period (int) : time period, required\n",
      "    \n",
      "    calc_tema(series, period=20, *, wrap: 'bool' = False)\n",
      "        Triple Exponential Moving Average\n",
      "        \n",
      "        Args:\n",
      "            period (int) : time period, default 20\n",
      "    \n",
      "    calc_trange(prices, *, log_prices: 'bool' = False, percent: 'bool' = False, wrap: 'bool' = False)\n",
      "        True Range\n",
      "        \n",
      "        Args:\n",
      "            log_percent (bool) : whether to apply log to prices before calculatio\n",
      "            percent (bool) : result as percentage of price\n",
      "    \n",
      "    calc_typprice(prices, *, wrap: 'bool' = False)\n",
      "        Typical Price\n",
      "        \n",
      "        Value of (high + low + close ) / 3\n",
      "    \n",
      "    calc_updown(series, up_level=0.0, down_level=0.0, *, wrap: 'bool' = False)\n",
      "        Flag for value crossing up & down levels\n",
      "        \n",
      "        Args:\n",
      "            up_level (float) : flag set at 1 above that level\n",
      "            down_level (float) : flag set at 0 below that level\n",
      "    \n",
      "    calc_wclprice(prices, *, wrap: 'bool' = False)\n",
      "        Weighted Close Price\n",
      "        \n",
      "        Value of (high + low + 2 * close) / 3\n",
      "    \n",
      "    calc_wma(series, period, *, wrap: 'bool' = False)\n",
      "        Weighted Moving Average\n",
      "            \n",
      "        Args:\n",
      "            period (int) : time period, required\n",
      "    \n",
      "    check_size(xs, *others)\n",
      "        check all series have the same size and return the size\n",
      "    \n",
      "    crossover(series, level=0.0, *, wrap: 'bool' = False)\n",
      "        Cross Over\n",
      "        \n",
      "        Yields a value of 1 at the point where series crosses over level\n",
      "        \n",
      "        Args:\n",
      "            level (float) : level to cross, default 0.0\n",
      "    \n",
      "    crossunder(series, level=0.0, *, wrap: 'bool' = False)\n",
      "        Cross Under\n",
      "        \n",
      "        Yields a value of 1 at the point where series crosses under level\n",
      "        \n",
      "        Args:\n",
      "            level (float) : level to cross, default 0.0\n",
      "    \n",
      "    dataframe_like(data)\n",
      "        check if data is dataframe like\n",
      "    \n",
      "    get_series(data, item: 'str' = None, *, default_item: 'str' = 'close')\n",
      "        get series from either series/prices data\n",
      "    \n",
      "    where_flag(flag, x, y, z=nan, *, wrap: 'bool' = False)\n",
      "        Value according to flag\n",
      "    \n",
      "    wrap_function(source, same_scale: 'bool' = None)\n",
      "        update function with documentation from source\n",
      "    \n",
      "    wrap_indicator(source)\n",
      "        update indicator with documentation from source\n",
      "    \n",
      "    wrap_result(result, source)\n",
      "        wrap result to match source data form (pandas, polars)\n",
      "\n",
      "DATA\n",
      "    __all__ = ('check_size', 'dataframe_like', 'get_series', 'wrap_functio...\n",
      "    __test__ = {}\n",
      "\n",
      "FILE\n",
      "    /Users/.../Projects/mintalib/src/mintalib/core.cpython-39-darwin.so\n",
      "\n",
      "\n"
     ]
    }
   ],
   "source": [
    "help(core)"
   ]
  },
  {
   "cell_type": "code",
   "execution_count": 3,
   "metadata": {
    "ExecuteTime": {
     "end_time": "2024-04-26T00:52:34.560273Z",
     "start_time": "2024-04-26T00:52:34.534026Z"
    },
    "collapsed": false
   },
   "outputs": [
    {
     "data": {
      "text/plain": [
       "'mintalib.core'"
      ]
     },
     "execution_count": 3,
     "metadata": {},
     "output_type": "execute_result"
    }
   ],
   "source": [
    "core.calc_ema.__module__"
   ]
  },
  {
   "cell_type": "code",
   "execution_count": 4,
   "metadata": {
    "ExecuteTime": {
     "end_time": "2024-04-26T00:52:35.312230Z",
     "start_time": "2024-04-26T00:52:35.294583Z"
    },
    "collapsed": false
   },
   "outputs": [
    {
     "name": "stdout",
     "output_type": "stream",
     "text": [
      "['ADX', 'ATR', 'AVGPRICE', 'BBANDS', 'BOP', 'CCI', 'CMF', 'CROSSOVER', 'CROSSUNDER', 'CURVE', 'CurveOption', 'DEMA', 'DIFF', 'DMI', 'EMA', 'EVAL', 'EXP', 'FLAG', 'FORECAST', 'HMA', 'IntEnum', 'KAMA', 'KELTNER', 'KER', 'LAG', 'LOG', 'MA', 'MACD', 'MAD', 'MAX', 'MDI', 'MFI', 'MIDPRICE', 'MIN', 'NATR', 'PDI', 'PPO', 'PRICE', 'RMA', 'ROC', 'RSI', 'RVALUE', 'SAR', 'SIGN', 'SLOPE', 'SMA', 'STDEV', 'STOCH', 'STREAK', 'SUM', 'SlopeOption', 'TEMA', 'TRANGE', 'TYPPRICE', 'UPDOWN', 'WCLPRICE', 'WMA', '__all__', '__builtins__', '__doc__', '__file__', '__loader__', '__name__', '__package__', '__pyx_unpickle_Enum', '__spec__', '__test__', 'bbands_result', 'calc_adx', 'calc_atr', 'calc_avgprice', 'calc_bbands', 'calc_bop', 'calc_cci', 'calc_cmf', 'calc_curve', 'calc_dema', 'calc_diff', 'calc_dmi', 'calc_ema', 'calc_eval', 'calc_exp', 'calc_flag', 'calc_hma', 'calc_kama', 'calc_keltner', 'calc_ker', 'calc_lag', 'calc_log', 'calc_ma', 'calc_macd', 'calc_mad', 'calc_max', 'calc_mdi', 'calc_mfi', 'calc_midprice', 'calc_min', 'calc_natr', 'calc_pdi', 'calc_ppo', 'calc_price', 'calc_rma', 'calc_roc', 'calc_rsi', 'calc_sar', 'calc_sign', 'calc_slope', 'calc_sma', 'calc_stdev', 'calc_stoch', 'calc_streak', 'calc_sum', 'calc_tema', 'calc_trange', 'calc_typprice', 'calc_updown', 'calc_wclprice', 'calc_wma', 'check_size', 'crossover', 'crossunder', 'dataframe_like', 'dmi_result', 'get_series', 'keltner_result', 'macd_result', 'namedtuple', 'np', 'ppo_result', 'stoch_result', 'sys', 'where_flag', 'wrap_function', 'wrap_indicator', 'wrap_result']\n"
     ]
    }
   ],
   "source": [
    "print(dir(core))"
   ]
  },
  {
   "cell_type": "code",
   "execution_count": 5,
   "metadata": {
    "ExecuteTime": {
     "end_time": "2024-04-26T00:52:36.132515Z",
     "start_time": "2024-04-26T00:52:36.099751Z"
    },
    "collapsed": false,
    "pycharm": {
     "name": "#%%\n"
    }
   },
   "outputs": [
    {
     "name": "stdout",
     "output_type": "stream",
     "text": [
      "<class 'pandas.core.frame.DataFrame'>\n",
      "DatetimeIndex: 11056 entries, 1980-12-12 to 2024-10-21\n",
      "Data columns (total 5 columns):\n",
      " #   Column  Non-Null Count  Dtype  \n",
      "---  ------  --------------  -----  \n",
      " 0   open    11056 non-null  float64\n",
      " 1   high    11056 non-null  float64\n",
      " 2   low     11056 non-null  float64\n",
      " 3   close   11056 non-null  float64\n",
      " 4   volume  11056 non-null  int64  \n",
      "dtypes: float64(4), int64(1)\n",
      "memory usage: 518.2 KB\n"
     ]
    }
   ],
   "source": [
    "prices = sample_prices()\n",
    "prices.info()"
   ]
  },
  {
   "cell_type": "code",
   "execution_count": 6,
   "metadata": {
    "ExecuteTime": {
     "end_time": "2024-04-26T00:52:36.995802Z",
     "start_time": "2024-04-26T00:52:36.980651Z"
    },
    "collapsed": false,
    "pycharm": {
     "name": "#%%\n"
    }
   },
   "outputs": [
    {
     "data": {
      "text/plain": [
       "array([         nan,          nan,          nan, ..., 225.08586792,\n",
       "       225.52460022, 225.93440002])"
      ]
     },
     "execution_count": 6,
     "metadata": {},
     "output_type": "execute_result"
    }
   ],
   "source": [
    "res = core.calc_sma(prices.close, 50)\n",
    "res"
   ]
  },
  {
   "cell_type": "code",
   "execution_count": 7,
   "metadata": {
    "ExecuteTime": {
     "end_time": "2024-04-26T00:52:37.668032Z",
     "start_time": "2024-04-26T00:52:37.644525Z"
    },
    "collapsed": false,
    "pycharm": {
     "name": "#%%\n"
    }
   },
   "outputs": [
    {
     "data": {
      "text/plain": [
       "macd_result(macd=array([       nan,        nan,        nan, ..., 2.04656468, 2.33321124,\n",
       "       2.64926492]), macdsignal=array([       nan,        nan,        nan, ..., 1.5608287 , 1.71530521,\n",
       "       1.90209715]), macdhist=array([       nan,        nan,        nan, ..., 0.48573597, 0.61790603,\n",
       "       0.74716777]))"
      ]
     },
     "execution_count": 7,
     "metadata": {},
     "output_type": "execute_result"
    }
   ],
   "source": [
    "res = core.calc_macd(prices.close)\n",
    "res"
   ]
  },
  {
   "cell_type": "code",
   "execution_count": 8,
   "metadata": {
    "collapsed": false,
    "pycharm": {
     "name": "#%%\n"
    }
   },
   "outputs": [
    {
     "name": "stdout",
     "output_type": "stream",
     "text": [
      "Help on cython_function_or_method in module mintalib.core:\n",
      "\n",
      "calc_ema(series, period, *, adjust=False, wrap: 'bool' = False)\n",
      "    Exponential Moving Average\n",
      "    \n",
      "    Args:\n",
      "        period (int) : time period, required\n",
      "        adjust (bool) : whether to adjust weights, default False\n",
      "            when true update ratio increases gradually (see formula)\n",
      "    \n",
      "    Formula:\n",
      "        EMA is calculated as a recursive formula\n",
      "        The standard formula is ema += alpha * (value - ema)\n",
      "            with alpha = 2.0 / (period + 1.0)\n",
      "        The adjusted formula is ema = num/div\n",
      "            where num = value + rho * num, div = 1.0 + rho * div\n",
      "            with rho = 1.0 - alpha\n",
      "\n"
     ]
    }
   ],
   "source": [
    "help(core.calc_ema)"
   ]
  },
  {
   "cell_type": "code",
   "execution_count": 9,
   "metadata": {
    "collapsed": false,
    "pycharm": {
     "name": "#%%\n"
    }
   },
   "outputs": [
    {
     "data": {
      "text/plain": [
       "<Signature (series, period, *, adjust=False, wrap: 'bool' = False)>"
      ]
     },
     "execution_count": 9,
     "metadata": {},
     "output_type": "execute_result"
    }
   ],
   "source": [
    "import inspect\n",
    "\n",
    "inspect.signature(core.calc_ema)\n",
    "\n"
   ]
  },
  {
   "cell_type": "code",
   "execution_count": 10,
   "metadata": {},
   "outputs": [],
   "source": [
    "from mintalib.core import calc_ema"
   ]
  },
  {
   "cell_type": "code",
   "execution_count": 11,
   "metadata": {},
   "outputs": [],
   "source": [
    "calc_ema.same_scale = True"
   ]
  },
  {
   "cell_type": "code",
   "execution_count": 12,
   "metadata": {},
   "outputs": [
    {
     "data": {
      "text/plain": [
       "{'same_scale': True}"
      ]
     },
     "execution_count": 12,
     "metadata": {},
     "output_type": "execute_result"
    }
   ],
   "source": [
    "vars(calc_ema)"
   ]
  },
  {
   "cell_type": "code",
   "execution_count": 13,
   "metadata": {},
   "outputs": [
    {
     "data": {
      "text/plain": [
       "'\\n    Exponential Moving Average\\n\\n    Args:\\n        period (int) : time period, required\\n        adjust (bool) : whether to adjust weights, default False\\n            when true update ratio increases gradually (see formula)\\n\\n    Formula:\\n        EMA is calculated as a recursive formula\\n        The standard formula is ema += alpha * (value - ema)\\n            with alpha = 2.0 / (period + 1.0)\\n        The adjusted formula is ema = num/div\\n            where num = value + rho * num, div = 1.0 + rho * div\\n            with rho = 1.0 - alpha\\n    '"
      ]
     },
     "execution_count": 13,
     "metadata": {},
     "output_type": "execute_result"
    }
   ],
   "source": [
    "calc_ema.__doc__"
   ]
  },
  {
   "cell_type": "code",
   "execution_count": 14,
   "metadata": {},
   "outputs": [
    {
     "name": "stdout",
     "output_type": "stream",
     "text": [
      "Help on cython_function_or_method in module mintalib.core:\n",
      "\n",
      "calc_ema(series, period, *, adjust=False, wrap: 'bool' = False)\n",
      "    Exponential Moving Average\n",
      "    \n",
      "    Args:\n",
      "        period (int) : time period, required\n",
      "        adjust (bool) : whether to adjust weights, default False\n",
      "            when true update ratio increases gradually (see formula)\n",
      "    \n",
      "    Formula:\n",
      "        EMA is calculated as a recursive formula\n",
      "        The standard formula is ema += alpha * (value - ema)\n",
      "            with alpha = 2.0 / (period + 1.0)\n",
      "        The adjusted formula is ema = num/div\n",
      "            where num = value + rho * num, div = 1.0 + rho * div\n",
      "            with rho = 1.0 - alpha\n",
      "\n"
     ]
    }
   ],
   "source": [
    "help(calc_ema)"
   ]
  },
  {
   "cell_type": "code",
   "execution_count": 15,
   "metadata": {},
   "outputs": [
    {
     "name": "stdout",
     "output_type": "stream",
     "text": [
      "Help on cython_function_or_method in module mintalib.core:\n",
      "\n",
      "SMA(series, period: 'int', *, item: 'str' = None)\n",
      "    Simple Moving Average\n",
      "    \n",
      "    Args:\n",
      "        period (int) : time period, required\n",
      "    \n",
      "    Attributes:\n",
      "        same_scale = True\n",
      "\n"
     ]
    }
   ],
   "source": [
    "help(core.SMA)"
   ]
  },
  {
   "cell_type": "code",
   "execution_count": null,
   "metadata": {},
   "outputs": [],
   "source": []
  }
 ],
 "metadata": {
  "kernelspec": {
   "display_name": ".venv",
   "language": "python",
   "name": "python3"
  },
  "language_info": {
   "codemirror_mode": {
    "name": "ipython",
    "version": 3
   },
   "file_extension": ".py",
   "mimetype": "text/x-python",
   "name": "python",
   "nbconvert_exporter": "python",
   "pygments_lexer": "ipython3",
   "version": "3.9.20"
  }
 },
 "nbformat": 4,
 "nbformat_minor": 0
}
