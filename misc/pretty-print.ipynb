{
 "cells": [
  {
   "cell_type": "markdown",
   "metadata": {
    "collapsed": false
   },
   "source": [
    "# Pretty Printer (playground)"
   ]
  },
  {
   "cell_type": "code",
   "execution_count": 5,
   "metadata": {
    "ExecuteTime": {
     "end_time": "2024-04-26T00:51:53.662657Z",
     "start_time": "2024-04-26T00:51:53.613716Z"
    },
    "collapsed": false
   },
   "outputs": [],
   "source": [
    "from mintalib import core\n",
    "from pprint import pprint, pformat\n",
    "\n",
    "from IPython.lib.pretty import pretty\n",
    "\n",
    "from __project__ import PKGDIR"
   ]
  },
  {
   "cell_type": "code",
   "execution_count": 2,
   "metadata": {
    "ExecuteTime": {
     "end_time": "2024-04-26T00:51:55.478825Z",
     "start_time": "2024-04-26T00:51:55.464190Z"
    },
    "collapsed": false
   },
   "outputs": [
    {
     "name": "stdout",
     "output_type": "stream",
     "text": [
      "('AVGPRICE', 'TYPPRICE', 'WCLPRICE', 'MIDPRICE', 'PRICE', 'CROSSOVER', 'CROSSUNDER', 'FLAG_ABOVE', 'FLAG_BELOW', 'FLAG_INVERT', 'FLAG_UPDOWN', 'LOG', 'EXP', 'ROC', 'DIFF', 'MIN', 'MAX', 'SUM', 'MAD', 'STDEV', 'SMA', 'EMA', 'RMA', 'WMA', 'HMA', 'DEMA', 'TEMA', 'MA', 'RSI', 'PLUSDI', 'MINUSDI', 'ADX', 'TRANGE', 'ATR', 'NATR', 'LATR', 'SAR', 'CCI', 'CMF', 'MFI', 'BOP', 'BBANDS', 'KELTNER', 'KER', 'KAMA', 'MACD', 'PPO', 'SLOPE', 'RVALUE', 'FORECAST', 'STOCH', 'STREAK', 'EVAL')\n"
     ]
    }
   ],
   "source": [
    "def core_functions():\n",
    "    \"\"\"list of core functions\"\"\"\n",
    "    return tuple(k for k, v in vars(core).items() if k.isupper() and callable(v))\n",
    "\n",
    "print(core_functions())"
   ]
  },
  {
   "cell_type": "code",
   "execution_count": 3,
   "metadata": {},
   "outputs": [
    {
     "data": {
      "text/plain": [
       "abcd"
      ]
     },
     "execution_count": 3,
     "metadata": {},
     "output_type": "execute_result"
    }
   ],
   "source": [
    "class Symbol(str):\n",
    "    def __repr__(self):\n",
    "        return self\n",
    "\n",
    "Symbol(\"abcd\")"
   ]
  },
  {
   "cell_type": "code",
   "execution_count": 23,
   "metadata": {},
   "outputs": [
    {
     "name": "stdout",
     "output_type": "stream",
     "text": [
      "    AVGPRICE, TYPPRICE, WCLPRICE, MIDPRICE, PRICE, CROSSOVER, CROSSUNDER,\n",
      "    FLAG_ABOVE, FLAG_BELOW, FLAG_INVERT, FLAG_UPDOWN, LOG, EXP, ROC, DIFF,\n",
      "    MIN, MAX, SUM, MAD, STDEV, SMA, EMA, RMA, WMA, HMA, DEMA, TEMA, MA,\n",
      "    RSI, PLUSDI, MINUSDI, ADX, TRANGE, ATR, NATR, LATR, SAR, CCI, CMF, MFI,\n",
      "    BOP, BBANDS, KELTNER, KER, KAMA, MACD, PPO, SLOPE, RVALUE, FORECAST,\n",
      "    STOCH, STREAK, EVAL\n"
     ]
    }
   ],
   "source": [
    "symbols = tuple(Symbol(n) for n in core_functions())\n",
    "buffer = pformat(symbols, width=75, compact=True, indent=4)\n",
    "buffer = buffer.replace(\"(\", \" \").replace(\")\", \"\")\n",
    "print(buffer)"
   ]
  },
  {
   "cell_type": "code",
   "execution_count": 25,
   "metadata": {},
   "outputs": [
    {
     "name": "stdout",
     "output_type": "stream",
     "text": [
      "    'AVGPRICE', 'TYPPRICE', 'WCLPRICE', 'MIDPRICE', 'PRICE', 'CROSSOVER',\n",
      "    'CROSSUNDER', 'FLAG_ABOVE', 'FLAG_BELOW', 'FLAG_INVERT', 'FLAG_UPDOWN',\n",
      "    'LOG', 'EXP', 'ROC', 'DIFF', 'MIN', 'MAX', 'SUM', 'MAD', 'STDEV',\n",
      "    'SMA', 'EMA', 'RMA', 'WMA', 'HMA', 'DEMA', 'TEMA', 'MA', 'RSI',\n",
      "    'PLUSDI', 'MINUSDI', 'ADX', 'TRANGE', 'ATR', 'NATR', 'LATR', 'SAR',\n",
      "    'CCI', 'CMF', 'MFI', 'BOP', 'BBANDS', 'KELTNER', 'KER', 'KAMA', 'MACD',\n",
      "    'PPO', 'SLOPE', 'RVALUE', 'FORECAST', 'STOCH', 'STREAK', 'EVAL'\n"
     ]
    }
   ],
   "source": [
    "names = core_functions()\n",
    "buffer = pformat(names, width=75, compact=True, indent=4)\n",
    "buffer = buffer.replace(\"(\", \" \").replace(\")\", \"\")\n",
    "print(buffer)\n"
   ]
  },
  {
   "cell_type": "code",
   "execution_count": null,
   "metadata": {},
   "outputs": [],
   "source": [
    "\n",
    "\n",
    "class ImportStmt:\n",
    "    def __init__(self, module, *names):\n",
    "        self.module = module\n",
    "        self.names = names\n",
    "    \n",
    "    def _repr_pretty_(self, p, cycle):\n",
    "        with p.group(4, f\"from {self.module} import (\", \")\"):\n",
    "            for idx, item in enumerate(self.names):\n",
    "                if idx:\n",
    "                    p.text(',')\n",
    "                p.breakable()\n",
    "                p.text(item)\n",
    "\n",
    "stmt = ImportStmt(\"aaaa\", *core_functions())\n",
    "\n",
    "stmt"
   ]
  },
  {
   "cell_type": "code",
   "execution_count": null,
   "metadata": {},
   "outputs": [],
   "source": []
  }
 ],
 "metadata": {
  "kernelspec": {
   "display_name": ".venv",
   "language": "python",
   "name": "python3"
  },
  "language_info": {
   "codemirror_mode": {
    "name": "ipython",
    "version": 3
   },
   "file_extension": ".py",
   "mimetype": "text/x-python",
   "name": "python",
   "nbconvert_exporter": "python",
   "pygments_lexer": "ipython3",
   "version": "3.9.19"
  }
 },
 "nbformat": 4,
 "nbformat_minor": 0
}
