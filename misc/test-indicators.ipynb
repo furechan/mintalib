{
 "cells": [
  {
   "cell_type": "code",
   "execution_count": 7,
   "id": "2f45689963b1424e",
   "metadata": {
    "ExecuteTime": {
     "end_time": "2023-10-27T21:32:42.842855Z",
     "start_time": "2023-10-27T21:32:42.591832Z"
    },
    "collapsed": false
   },
   "outputs": [],
   "source": [
    "from mintalib.samples import sample_prices\n",
    "\n",
    "from mintalib.indicators import SMA, EMA, CMF, DMI, ADX, PDI, MDI"
   ]
  },
  {
   "cell_type": "code",
   "execution_count": 8,
   "id": "a8013058fc5449a9",
   "metadata": {
    "ExecuteTime": {
     "end_time": "2023-10-27T21:32:43.378420Z",
     "start_time": "2023-10-27T21:32:43.347402Z"
    },
    "collapsed": false
   },
   "outputs": [
    {
     "data": {
      "text/html": [
       "<div>\n",
       "<style scoped>\n",
       "    .dataframe tbody tr th:only-of-type {\n",
       "        vertical-align: middle;\n",
       "    }\n",
       "\n",
       "    .dataframe tbody tr th {\n",
       "        vertical-align: top;\n",
       "    }\n",
       "\n",
       "    .dataframe thead th {\n",
       "        text-align: right;\n",
       "    }\n",
       "</style>\n",
       "<table border=\"1\" class=\"dataframe\">\n",
       "  <thead>\n",
       "    <tr style=\"text-align: right;\">\n",
       "      <th></th>\n",
       "      <th>open</th>\n",
       "      <th>high</th>\n",
       "      <th>low</th>\n",
       "      <th>close</th>\n",
       "      <th>volume</th>\n",
       "    </tr>\n",
       "    <tr>\n",
       "      <th>date</th>\n",
       "      <th></th>\n",
       "      <th></th>\n",
       "      <th></th>\n",
       "      <th></th>\n",
       "      <th></th>\n",
       "    </tr>\n",
       "  </thead>\n",
       "  <tbody>\n",
       "    <tr>\n",
       "      <th>1980-12-12</th>\n",
       "      <td>0.098943</td>\n",
       "      <td>0.099373</td>\n",
       "      <td>0.098943</td>\n",
       "      <td>0.098943</td>\n",
       "      <td>469033600</td>\n",
       "    </tr>\n",
       "    <tr>\n",
       "      <th>1980-12-15</th>\n",
       "      <td>0.094211</td>\n",
       "      <td>0.094211</td>\n",
       "      <td>0.093781</td>\n",
       "      <td>0.093781</td>\n",
       "      <td>175884800</td>\n",
       "    </tr>\n",
       "    <tr>\n",
       "      <th>1980-12-16</th>\n",
       "      <td>0.087328</td>\n",
       "      <td>0.087328</td>\n",
       "      <td>0.086898</td>\n",
       "      <td>0.086898</td>\n",
       "      <td>105728000</td>\n",
       "    </tr>\n",
       "    <tr>\n",
       "      <th>1980-12-17</th>\n",
       "      <td>0.089049</td>\n",
       "      <td>0.089479</td>\n",
       "      <td>0.089049</td>\n",
       "      <td>0.089049</td>\n",
       "      <td>86441600</td>\n",
       "    </tr>\n",
       "    <tr>\n",
       "      <th>1980-12-18</th>\n",
       "      <td>0.091630</td>\n",
       "      <td>0.092061</td>\n",
       "      <td>0.091630</td>\n",
       "      <td>0.091630</td>\n",
       "      <td>73449600</td>\n",
       "    </tr>\n",
       "    <tr>\n",
       "      <th>...</th>\n",
       "      <td>...</td>\n",
       "      <td>...</td>\n",
       "      <td>...</td>\n",
       "      <td>...</td>\n",
       "      <td>...</td>\n",
       "    </tr>\n",
       "    <tr>\n",
       "      <th>2024-10-15</th>\n",
       "      <td>233.610001</td>\n",
       "      <td>237.490005</td>\n",
       "      <td>232.369995</td>\n",
       "      <td>233.850006</td>\n",
       "      <td>64751400</td>\n",
       "    </tr>\n",
       "    <tr>\n",
       "      <th>2024-10-16</th>\n",
       "      <td>231.600006</td>\n",
       "      <td>232.119995</td>\n",
       "      <td>229.839996</td>\n",
       "      <td>231.779999</td>\n",
       "      <td>34082200</td>\n",
       "    </tr>\n",
       "    <tr>\n",
       "      <th>2024-10-17</th>\n",
       "      <td>233.429993</td>\n",
       "      <td>233.850006</td>\n",
       "      <td>230.520004</td>\n",
       "      <td>232.149994</td>\n",
       "      <td>32993800</td>\n",
       "    </tr>\n",
       "    <tr>\n",
       "      <th>2024-10-18</th>\n",
       "      <td>236.179993</td>\n",
       "      <td>236.179993</td>\n",
       "      <td>234.009995</td>\n",
       "      <td>235.000000</td>\n",
       "      <td>46431500</td>\n",
       "    </tr>\n",
       "    <tr>\n",
       "      <th>2024-10-21</th>\n",
       "      <td>234.449997</td>\n",
       "      <td>236.850006</td>\n",
       "      <td>234.449997</td>\n",
       "      <td>236.479996</td>\n",
       "      <td>36220800</td>\n",
       "    </tr>\n",
       "  </tbody>\n",
       "</table>\n",
       "<p>11056 rows × 5 columns</p>\n",
       "</div>"
      ],
      "text/plain": [
       "                  open        high         low       close     volume\n",
       "date                                                                 \n",
       "1980-12-12    0.098943    0.099373    0.098943    0.098943  469033600\n",
       "1980-12-15    0.094211    0.094211    0.093781    0.093781  175884800\n",
       "1980-12-16    0.087328    0.087328    0.086898    0.086898  105728000\n",
       "1980-12-17    0.089049    0.089479    0.089049    0.089049   86441600\n",
       "1980-12-18    0.091630    0.092061    0.091630    0.091630   73449600\n",
       "...                ...         ...         ...         ...        ...\n",
       "2024-10-15  233.610001  237.490005  232.369995  233.850006   64751400\n",
       "2024-10-16  231.600006  232.119995  229.839996  231.779999   34082200\n",
       "2024-10-17  233.429993  233.850006  230.520004  232.149994   32993800\n",
       "2024-10-18  236.179993  236.179993  234.009995  235.000000   46431500\n",
       "2024-10-21  234.449997  236.850006  234.449997  236.479996   36220800\n",
       "\n",
       "[11056 rows x 5 columns]"
      ]
     },
     "execution_count": 8,
     "metadata": {},
     "output_type": "execute_result"
    }
   ],
   "source": [
    "prices = sample_prices()\n",
    "prices\n"
   ]
  },
  {
   "cell_type": "code",
   "execution_count": 9,
   "id": "52440b63",
   "metadata": {},
   "outputs": [
    {
     "data": {
      "text/plain": [
       "date\n",
       "1980-12-12    NaN\n",
       "1980-12-15    NaN\n",
       "1980-12-16    NaN\n",
       "1980-12-17    NaN\n",
       "1980-12-18    NaN\n",
       "             ... \n",
       "2024-10-15    inf\n",
       "2024-10-16    inf\n",
       "2024-10-17    inf\n",
       "2024-10-18    inf\n",
       "2024-10-21    inf\n",
       "Length: 11056, dtype: float64"
      ]
     },
     "execution_count": 9,
     "metadata": {},
     "output_type": "execute_result"
    }
   ],
   "source": [
    "res = CMF() @ prices\n",
    "res\n"
   ]
  },
  {
   "cell_type": "code",
   "execution_count": 10,
   "id": "c35fa94c",
   "metadata": {},
   "outputs": [
    {
     "data": {
      "text/html": [
       "<div>\n",
       "<style scoped>\n",
       "    .dataframe tbody tr th:only-of-type {\n",
       "        vertical-align: middle;\n",
       "    }\n",
       "\n",
       "    .dataframe tbody tr th {\n",
       "        vertical-align: top;\n",
       "    }\n",
       "\n",
       "    .dataframe thead th {\n",
       "        text-align: right;\n",
       "    }\n",
       "</style>\n",
       "<table border=\"1\" class=\"dataframe\">\n",
       "  <thead>\n",
       "    <tr style=\"text-align: right;\">\n",
       "      <th></th>\n",
       "      <th>adx</th>\n",
       "      <th>pdi</th>\n",
       "      <th>mdi</th>\n",
       "    </tr>\n",
       "    <tr>\n",
       "      <th>date</th>\n",
       "      <th></th>\n",
       "      <th></th>\n",
       "      <th></th>\n",
       "    </tr>\n",
       "  </thead>\n",
       "  <tbody>\n",
       "    <tr>\n",
       "      <th>1980-12-12</th>\n",
       "      <td>NaN</td>\n",
       "      <td>NaN</td>\n",
       "      <td>NaN</td>\n",
       "    </tr>\n",
       "    <tr>\n",
       "      <th>1980-12-15</th>\n",
       "      <td>NaN</td>\n",
       "      <td>NaN</td>\n",
       "      <td>NaN</td>\n",
       "    </tr>\n",
       "    <tr>\n",
       "      <th>1980-12-16</th>\n",
       "      <td>NaN</td>\n",
       "      <td>NaN</td>\n",
       "      <td>NaN</td>\n",
       "    </tr>\n",
       "    <tr>\n",
       "      <th>1980-12-17</th>\n",
       "      <td>NaN</td>\n",
       "      <td>NaN</td>\n",
       "      <td>NaN</td>\n",
       "    </tr>\n",
       "    <tr>\n",
       "      <th>1980-12-18</th>\n",
       "      <td>NaN</td>\n",
       "      <td>NaN</td>\n",
       "      <td>NaN</td>\n",
       "    </tr>\n",
       "    <tr>\n",
       "      <th>...</th>\n",
       "      <td>...</td>\n",
       "      <td>...</td>\n",
       "      <td>...</td>\n",
       "    </tr>\n",
       "    <tr>\n",
       "      <th>2024-10-15</th>\n",
       "      <td>12.009004</td>\n",
       "      <td>32.883452</td>\n",
       "      <td>17.112874</td>\n",
       "    </tr>\n",
       "    <tr>\n",
       "      <th>2024-10-16</th>\n",
       "      <td>12.658720</td>\n",
       "      <td>30.781031</td>\n",
       "      <td>20.052579</td>\n",
       "    </tr>\n",
       "    <tr>\n",
       "      <th>2024-10-17</th>\n",
       "      <td>13.573155</td>\n",
       "      <td>31.926080</td>\n",
       "      <td>18.968033</td>\n",
       "    </tr>\n",
       "    <tr>\n",
       "      <th>2024-10-18</th>\n",
       "      <td>14.817008</td>\n",
       "      <td>33.630876</td>\n",
       "      <td>17.719031</td>\n",
       "    </tr>\n",
       "    <tr>\n",
       "      <th>2024-10-21</th>\n",
       "      <td>16.082653</td>\n",
       "      <td>33.399355</td>\n",
       "      <td>17.001056</td>\n",
       "    </tr>\n",
       "  </tbody>\n",
       "</table>\n",
       "<p>11056 rows × 3 columns</p>\n",
       "</div>"
      ],
      "text/plain": [
       "                  adx        pdi        mdi\n",
       "date                                       \n",
       "1980-12-12        NaN        NaN        NaN\n",
       "1980-12-15        NaN        NaN        NaN\n",
       "1980-12-16        NaN        NaN        NaN\n",
       "1980-12-17        NaN        NaN        NaN\n",
       "1980-12-18        NaN        NaN        NaN\n",
       "...               ...        ...        ...\n",
       "2024-10-15  12.009004  32.883452  17.112874\n",
       "2024-10-16  12.658720  30.781031  20.052579\n",
       "2024-10-17  13.573155  31.926080  18.968033\n",
       "2024-10-18  14.817008  33.630876  17.719031\n",
       "2024-10-21  16.082653  33.399355  17.001056\n",
       "\n",
       "[11056 rows x 3 columns]"
      ]
     },
     "execution_count": 10,
     "metadata": {},
     "output_type": "execute_result"
    }
   ],
   "source": [
    "DMI() @ prices"
   ]
  },
  {
   "cell_type": "code",
   "execution_count": 11,
   "id": "d5122918",
   "metadata": {},
   "outputs": [
    {
     "data": {
      "text/plain": [
       "date\n",
       "1980-12-12          NaN\n",
       "1980-12-15          NaN\n",
       "1980-12-16          NaN\n",
       "1980-12-17          NaN\n",
       "1980-12-18          NaN\n",
       "                ...    \n",
       "2024-10-15    12.009004\n",
       "2024-10-16    12.658720\n",
       "2024-10-17    13.573155\n",
       "2024-10-18    14.817008\n",
       "2024-10-21    16.082653\n",
       "Length: 11056, dtype: float64"
      ]
     },
     "execution_count": 11,
     "metadata": {},
     "output_type": "execute_result"
    }
   ],
   "source": [
    "ADX() @ prices"
   ]
  },
  {
   "cell_type": "code",
   "execution_count": 12,
   "id": "311b1943",
   "metadata": {},
   "outputs": [
    {
     "data": {
      "text/plain": [
       "date\n",
       "1980-12-12           NaN\n",
       "1980-12-15           NaN\n",
       "1980-12-16           NaN\n",
       "1980-12-17           NaN\n",
       "1980-12-18           NaN\n",
       "                 ...    \n",
       "2024-10-15    227.524000\n",
       "2024-10-16    228.078500\n",
       "2024-10-17    228.242500\n",
       "2024-10-18    228.582500\n",
       "2024-10-21    229.082999\n",
       "Name: sma, Length: 11056, dtype: float64"
      ]
     },
     "execution_count": 12,
     "metadata": {},
     "output_type": "execute_result"
    }
   ],
   "source": [
    "SMA(20).alias(\"sma\") @ prices"
   ]
  },
  {
   "cell_type": "code",
   "execution_count": null,
   "id": "2d59386e",
   "metadata": {},
   "outputs": [],
   "source": []
  }
 ],
 "metadata": {
  "kernelspec": {
   "display_name": ".venv",
   "language": "python",
   "name": "python3"
  },
  "language_info": {
   "codemirror_mode": {
    "name": "ipython",
    "version": 3
   },
   "file_extension": ".py",
   "mimetype": "text/x-python",
   "name": "python",
   "nbconvert_exporter": "python",
   "pygments_lexer": "ipython3",
   "version": "3.9.20"
  }
 },
 "nbformat": 4,
 "nbformat_minor": 5
}
