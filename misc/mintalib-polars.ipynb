{
 "cells": [
  {
   "cell_type": "code",
   "execution_count": 21,
   "metadata": {},
   "outputs": [
    {
     "data": {
      "text/html": [
       "<div><style>\n",
       ".dataframe > thead > tr,\n",
       ".dataframe > tbody > tr {\n",
       "  text-align: right;\n",
       "  white-space: pre-wrap;\n",
       "}\n",
       "</style>\n",
       "<small>shape: (1_258, 8)</small><table border=\"1\" class=\"dataframe\"><thead><tr><th>date</th><th>open</th><th>high</th><th>low</th><th>close</th><th>volume</th><th>dividends</th><th>stock splits</th></tr><tr><td>datetime[ns, America/New_York]</td><td>f64</td><td>f64</td><td>f64</td><td>f64</td><td>i64</td><td>f64</td><td>f64</td></tr></thead><tbody><tr><td>2019-12-23 00:00:00 EST</td><td>67.992233</td><td>68.893852</td><td>67.953453</td><td>68.83326</td><td>98572000</td><td>0.0</td><td>0.0</td></tr><tr><td>2019-12-24 00:00:00 EST</td><td>69.000511</td><td>69.048988</td><td>68.571518</td><td>68.898712</td><td>48478800</td><td>0.0</td><td>0.0</td></tr><tr><td>2019-12-26 00:00:00 EST</td><td>69.032005</td><td>70.282638</td><td>69.002922</td><td>70.265671</td><td>93121200</td><td>0.0</td><td>0.0</td></tr><tr><td>2019-12-27 00:00:00 EST</td><td>70.558937</td><td>71.249695</td><td>69.831825</td><td>70.239006</td><td>146266000</td><td>0.0</td><td>0.0</td></tr><tr><td>2019-12-30 00:00:00 EST</td><td>70.156601</td><td>70.939461</td><td>69.128952</td><td>70.655884</td><td>144114400</td><td>0.0</td><td>0.0</td></tr><tr><td>&hellip;</td><td>&hellip;</td><td>&hellip;</td><td>&hellip;</td><td>&hellip;</td><td>&hellip;</td><td>&hellip;</td><td>&hellip;</td></tr><tr><td>2024-12-16 00:00:00 EST</td><td>247.990005</td><td>251.380005</td><td>247.649994</td><td>251.039993</td><td>51694800</td><td>0.0</td><td>0.0</td></tr><tr><td>2024-12-17 00:00:00 EST</td><td>250.080002</td><td>253.830002</td><td>249.779999</td><td>253.479996</td><td>51356400</td><td>0.0</td><td>0.0</td></tr><tr><td>2024-12-18 00:00:00 EST</td><td>252.160004</td><td>254.279999</td><td>247.740005</td><td>248.050003</td><td>56774100</td><td>0.0</td><td>0.0</td></tr><tr><td>2024-12-19 00:00:00 EST</td><td>247.5</td><td>252.0</td><td>247.089996</td><td>249.789993</td><td>60882300</td><td>0.0</td><td>0.0</td></tr><tr><td>2024-12-20 00:00:00 EST</td><td>248.119995</td><td>255.0</td><td>246.300003</td><td>254.490005</td><td>125429724</td><td>0.0</td><td>0.0</td></tr></tbody></table></div>"
      ],
      "text/plain": [
       "shape: (1_258, 8)\n",
       "┌─────────────┬────────────┬────────────┬────────────┬────────────┬───────────┬───────────┬────────┐\n",
       "│ date        ┆ open       ┆ high       ┆ low        ┆ close      ┆ volume    ┆ dividends ┆ stock  │\n",
       "│ ---         ┆ ---        ┆ ---        ┆ ---        ┆ ---        ┆ ---       ┆ ---       ┆ splits │\n",
       "│ datetime[ns ┆ f64        ┆ f64        ┆ f64        ┆ f64        ┆ i64       ┆ f64       ┆ ---    │\n",
       "│ , America/N ┆            ┆            ┆            ┆            ┆           ┆           ┆ f64    │\n",
       "│ ew_York]    ┆            ┆            ┆            ┆            ┆           ┆           ┆        │\n",
       "╞═════════════╪════════════╪════════════╪════════════╪════════════╪═══════════╪═══════════╪════════╡\n",
       "│ 2019-12-23  ┆ 67.992233  ┆ 68.893852  ┆ 67.953453  ┆ 68.83326   ┆ 98572000  ┆ 0.0       ┆ 0.0    │\n",
       "│ 00:00:00    ┆            ┆            ┆            ┆            ┆           ┆           ┆        │\n",
       "│ EST         ┆            ┆            ┆            ┆            ┆           ┆           ┆        │\n",
       "│ 2019-12-24  ┆ 69.000511  ┆ 69.048988  ┆ 68.571518  ┆ 68.898712  ┆ 48478800  ┆ 0.0       ┆ 0.0    │\n",
       "│ 00:00:00    ┆            ┆            ┆            ┆            ┆           ┆           ┆        │\n",
       "│ EST         ┆            ┆            ┆            ┆            ┆           ┆           ┆        │\n",
       "│ 2019-12-26  ┆ 69.032005  ┆ 70.282638  ┆ 69.002922  ┆ 70.265671  ┆ 93121200  ┆ 0.0       ┆ 0.0    │\n",
       "│ 00:00:00    ┆            ┆            ┆            ┆            ┆           ┆           ┆        │\n",
       "│ EST         ┆            ┆            ┆            ┆            ┆           ┆           ┆        │\n",
       "│ 2019-12-27  ┆ 70.558937  ┆ 71.249695  ┆ 69.831825  ┆ 70.239006  ┆ 146266000 ┆ 0.0       ┆ 0.0    │\n",
       "│ 00:00:00    ┆            ┆            ┆            ┆            ┆           ┆           ┆        │\n",
       "│ EST         ┆            ┆            ┆            ┆            ┆           ┆           ┆        │\n",
       "│ 2019-12-30  ┆ 70.156601  ┆ 70.939461  ┆ 69.128952  ┆ 70.655884  ┆ 144114400 ┆ 0.0       ┆ 0.0    │\n",
       "│ 00:00:00    ┆            ┆            ┆            ┆            ┆           ┆           ┆        │\n",
       "│ EST         ┆            ┆            ┆            ┆            ┆           ┆           ┆        │\n",
       "│ …           ┆ …          ┆ …          ┆ …          ┆ …          ┆ …         ┆ …         ┆ …      │\n",
       "│ 2024-12-16  ┆ 247.990005 ┆ 251.380005 ┆ 247.649994 ┆ 251.039993 ┆ 51694800  ┆ 0.0       ┆ 0.0    │\n",
       "│ 00:00:00    ┆            ┆            ┆            ┆            ┆           ┆           ┆        │\n",
       "│ EST         ┆            ┆            ┆            ┆            ┆           ┆           ┆        │\n",
       "│ 2024-12-17  ┆ 250.080002 ┆ 253.830002 ┆ 249.779999 ┆ 253.479996 ┆ 51356400  ┆ 0.0       ┆ 0.0    │\n",
       "│ 00:00:00    ┆            ┆            ┆            ┆            ┆           ┆           ┆        │\n",
       "│ EST         ┆            ┆            ┆            ┆            ┆           ┆           ┆        │\n",
       "│ 2024-12-18  ┆ 252.160004 ┆ 254.279999 ┆ 247.740005 ┆ 248.050003 ┆ 56774100  ┆ 0.0       ┆ 0.0    │\n",
       "│ 00:00:00    ┆            ┆            ┆            ┆            ┆           ┆           ┆        │\n",
       "│ EST         ┆            ┆            ┆            ┆            ┆           ┆           ┆        │\n",
       "│ 2024-12-19  ┆ 247.5      ┆ 252.0      ┆ 247.089996 ┆ 249.789993 ┆ 60882300  ┆ 0.0       ┆ 0.0    │\n",
       "│ 00:00:00    ┆            ┆            ┆            ┆            ┆           ┆           ┆        │\n",
       "│ EST         ┆            ┆            ┆            ┆            ┆           ┆           ┆        │\n",
       "│ 2024-12-20  ┆ 248.119995 ┆ 255.0      ┆ 246.300003 ┆ 254.490005 ┆ 125429724 ┆ 0.0       ┆ 0.0    │\n",
       "│ 00:00:00    ┆            ┆            ┆            ┆            ┆           ┆           ┆        │\n",
       "│ EST         ┆            ┆            ┆            ┆            ┆           ┆           ┆        │\n",
       "└─────────────┴────────────┴────────────┴────────────┴────────────┴───────────┴───────────┴────────┘"
      ]
     },
     "execution_count": 21,
     "metadata": {},
     "output_type": "execute_result"
    }
   ],
   "source": [
    "import polars as pl\n",
    "from polars import col\n",
    "\n",
    "import yfinance as yf\n",
    "\n",
    "prices = yf.Ticker('AAPL').history('5y')\n",
    "prices = prices.rename(columns=str.lower).rename_axis(index=str.lower)\n",
    "prices = pl.from_pandas(prices, include_index=True)\n",
    "prices\n",
    "\n"
   ]
  },
  {
   "cell_type": "code",
   "execution_count": 33,
   "metadata": {},
   "outputs": [
    {
     "data": {
      "text/html": [
       "<div><style>\n",
       ".dataframe > thead > tr,\n",
       ".dataframe > tbody > tr {\n",
       "  text-align: right;\n",
       "  white-space: pre-wrap;\n",
       "}\n",
       "</style>\n",
       "<small>shape: (1_258, 10)</small><table border=\"1\" class=\"dataframe\"><thead><tr><th>date</th><th>open</th><th>high</th><th>low</th><th>close</th><th>volume</th><th>dividends</th><th>stock splits</th><th>sma20</th><th>sma50</th></tr><tr><td>datetime[ns, America/New_York]</td><td>f64</td><td>f64</td><td>f64</td><td>f64</td><td>i64</td><td>f64</td><td>f64</td><td>f64</td><td>f64</td></tr></thead><tbody><tr><td>2019-12-23 00:00:00 EST</td><td>67.992233</td><td>68.893852</td><td>67.953453</td><td>68.83326</td><td>98572000</td><td>0.0</td><td>0.0</td><td>NaN</td><td>NaN</td></tr><tr><td>2019-12-24 00:00:00 EST</td><td>69.000511</td><td>69.048988</td><td>68.571518</td><td>68.898712</td><td>48478800</td><td>0.0</td><td>0.0</td><td>NaN</td><td>NaN</td></tr><tr><td>2019-12-26 00:00:00 EST</td><td>69.032005</td><td>70.282638</td><td>69.002922</td><td>70.265671</td><td>93121200</td><td>0.0</td><td>0.0</td><td>NaN</td><td>NaN</td></tr><tr><td>2019-12-27 00:00:00 EST</td><td>70.558937</td><td>71.249695</td><td>69.831825</td><td>70.239006</td><td>146266000</td><td>0.0</td><td>0.0</td><td>NaN</td><td>NaN</td></tr><tr><td>2019-12-30 00:00:00 EST</td><td>70.156601</td><td>70.939461</td><td>69.128952</td><td>70.655884</td><td>144114400</td><td>0.0</td><td>0.0</td><td>NaN</td><td>NaN</td></tr><tr><td>&hellip;</td><td>&hellip;</td><td>&hellip;</td><td>&hellip;</td><td>&hellip;</td><td>&hellip;</td><td>&hellip;</td><td>&hellip;</td><td>&hellip;</td><td>&hellip;</td></tr><tr><td>2024-12-16 00:00:00 EST</td><td>247.990005</td><td>251.380005</td><td>247.649994</td><td>251.039993</td><td>51694800</td><td>0.0</td><td>0.0</td><td>239.157499</td><td>232.705213</td></tr><tr><td>2024-12-17 00:00:00 EST</td><td>250.080002</td><td>253.830002</td><td>249.779999</td><td>253.479996</td><td>51356400</td><td>0.0</td><td>0.0</td><td>240.430499</td><td>233.345886</td></tr><tr><td>2024-12-18 00:00:00 EST</td><td>252.160004</td><td>254.279999</td><td>247.740005</td><td>248.050003</td><td>56774100</td><td>0.0</td><td>0.0</td><td>241.418999</td><td>233.796448</td></tr><tr><td>2024-12-19 00:00:00 EST</td><td>247.5</td><td>252.0</td><td>247.089996</td><td>249.789993</td><td>60882300</td><td>0.0</td><td>0.0</td><td>242.458498</td><td>234.206494</td></tr><tr><td>2024-12-20 00:00:00 EST</td><td>248.119995</td><td>255.0</td><td>246.300003</td><td>254.490005</td><td>125429724</td><td>0.0</td><td>0.0</td><td>243.756998</td><td>234.720528</td></tr></tbody></table></div>"
      ],
      "text/plain": [
       "shape: (1_258, 10)\n",
       "┌───────────┬───────────┬───────────┬───────────┬───┬───────────┬───────────┬───────────┬──────────┐\n",
       "│ date      ┆ open      ┆ high      ┆ low       ┆ … ┆ dividends ┆ stock     ┆ sma20     ┆ sma50    │\n",
       "│ ---       ┆ ---       ┆ ---       ┆ ---       ┆   ┆ ---       ┆ splits    ┆ ---       ┆ ---      │\n",
       "│ datetime[ ┆ f64       ┆ f64       ┆ f64       ┆   ┆ f64       ┆ ---       ┆ f64       ┆ f64      │\n",
       "│ ns, Ameri ┆           ┆           ┆           ┆   ┆           ┆ f64       ┆           ┆          │\n",
       "│ ca/New_Yo ┆           ┆           ┆           ┆   ┆           ┆           ┆           ┆          │\n",
       "│ rk]       ┆           ┆           ┆           ┆   ┆           ┆           ┆           ┆          │\n",
       "╞═══════════╪═══════════╪═══════════╪═══════════╪═══╪═══════════╪═══════════╪═══════════╪══════════╡\n",
       "│ 2019-12-2 ┆ 67.992233 ┆ 68.893852 ┆ 67.953453 ┆ … ┆ 0.0       ┆ 0.0       ┆ NaN       ┆ NaN      │\n",
       "│ 3         ┆           ┆           ┆           ┆   ┆           ┆           ┆           ┆          │\n",
       "│ 00:00:00  ┆           ┆           ┆           ┆   ┆           ┆           ┆           ┆          │\n",
       "│ EST       ┆           ┆           ┆           ┆   ┆           ┆           ┆           ┆          │\n",
       "│ 2019-12-2 ┆ 69.000511 ┆ 69.048988 ┆ 68.571518 ┆ … ┆ 0.0       ┆ 0.0       ┆ NaN       ┆ NaN      │\n",
       "│ 4         ┆           ┆           ┆           ┆   ┆           ┆           ┆           ┆          │\n",
       "│ 00:00:00  ┆           ┆           ┆           ┆   ┆           ┆           ┆           ┆          │\n",
       "│ EST       ┆           ┆           ┆           ┆   ┆           ┆           ┆           ┆          │\n",
       "│ 2019-12-2 ┆ 69.032005 ┆ 70.282638 ┆ 69.002922 ┆ … ┆ 0.0       ┆ 0.0       ┆ NaN       ┆ NaN      │\n",
       "│ 6         ┆           ┆           ┆           ┆   ┆           ┆           ┆           ┆          │\n",
       "│ 00:00:00  ┆           ┆           ┆           ┆   ┆           ┆           ┆           ┆          │\n",
       "│ EST       ┆           ┆           ┆           ┆   ┆           ┆           ┆           ┆          │\n",
       "│ 2019-12-2 ┆ 70.558937 ┆ 71.249695 ┆ 69.831825 ┆ … ┆ 0.0       ┆ 0.0       ┆ NaN       ┆ NaN      │\n",
       "│ 7         ┆           ┆           ┆           ┆   ┆           ┆           ┆           ┆          │\n",
       "│ 00:00:00  ┆           ┆           ┆           ┆   ┆           ┆           ┆           ┆          │\n",
       "│ EST       ┆           ┆           ┆           ┆   ┆           ┆           ┆           ┆          │\n",
       "│ 2019-12-3 ┆ 70.156601 ┆ 70.939461 ┆ 69.128952 ┆ … ┆ 0.0       ┆ 0.0       ┆ NaN       ┆ NaN      │\n",
       "│ 0         ┆           ┆           ┆           ┆   ┆           ┆           ┆           ┆          │\n",
       "│ 00:00:00  ┆           ┆           ┆           ┆   ┆           ┆           ┆           ┆          │\n",
       "│ EST       ┆           ┆           ┆           ┆   ┆           ┆           ┆           ┆          │\n",
       "│ …         ┆ …         ┆ …         ┆ …         ┆ … ┆ …         ┆ …         ┆ …         ┆ …        │\n",
       "│ 2024-12-1 ┆ 247.99000 ┆ 251.38000 ┆ 247.64999 ┆ … ┆ 0.0       ┆ 0.0       ┆ 239.15749 ┆ 232.7052 │\n",
       "│ 6         ┆ 5         ┆ 5         ┆ 4         ┆   ┆           ┆           ┆ 9         ┆ 13       │\n",
       "│ 00:00:00  ┆           ┆           ┆           ┆   ┆           ┆           ┆           ┆          │\n",
       "│ EST       ┆           ┆           ┆           ┆   ┆           ┆           ┆           ┆          │\n",
       "│ 2024-12-1 ┆ 250.08000 ┆ 253.83000 ┆ 249.77999 ┆ … ┆ 0.0       ┆ 0.0       ┆ 240.43049 ┆ 233.3458 │\n",
       "│ 7         ┆ 2         ┆ 2         ┆ 9         ┆   ┆           ┆           ┆ 9         ┆ 86       │\n",
       "│ 00:00:00  ┆           ┆           ┆           ┆   ┆           ┆           ┆           ┆          │\n",
       "│ EST       ┆           ┆           ┆           ┆   ┆           ┆           ┆           ┆          │\n",
       "│ 2024-12-1 ┆ 252.16000 ┆ 254.27999 ┆ 247.74000 ┆ … ┆ 0.0       ┆ 0.0       ┆ 241.41899 ┆ 233.7964 │\n",
       "│ 8         ┆ 4         ┆ 9         ┆ 5         ┆   ┆           ┆           ┆ 9         ┆ 48       │\n",
       "│ 00:00:00  ┆           ┆           ┆           ┆   ┆           ┆           ┆           ┆          │\n",
       "│ EST       ┆           ┆           ┆           ┆   ┆           ┆           ┆           ┆          │\n",
       "│ 2024-12-1 ┆ 247.5     ┆ 252.0     ┆ 247.08999 ┆ … ┆ 0.0       ┆ 0.0       ┆ 242.45849 ┆ 234.2064 │\n",
       "│ 9         ┆           ┆           ┆ 6         ┆   ┆           ┆           ┆ 8         ┆ 94       │\n",
       "│ 00:00:00  ┆           ┆           ┆           ┆   ┆           ┆           ┆           ┆          │\n",
       "│ EST       ┆           ┆           ┆           ┆   ┆           ┆           ┆           ┆          │\n",
       "│ 2024-12-2 ┆ 248.11999 ┆ 255.0     ┆ 246.30000 ┆ … ┆ 0.0       ┆ 0.0       ┆ 243.75699 ┆ 234.7205 │\n",
       "│ 0         ┆ 5         ┆           ┆ 3         ┆   ┆           ┆           ┆ 8         ┆ 28       │\n",
       "│ 00:00:00  ┆           ┆           ┆           ┆   ┆           ┆           ┆           ┆          │\n",
       "│ EST       ┆           ┆           ┆           ┆   ┆           ┆           ┆           ┆          │\n",
       "└───────────┴───────────┴───────────┴───────────┴───┴───────────┴───────────┴───────────┴──────────┘"
      ]
     },
     "execution_count": 33,
     "metadata": {},
     "output_type": "execute_result"
    }
   ],
   "source": [
    "from mintalib.indicators import SMA, ATR\n",
    "\n",
    "result = prices.with_columns(\n",
    "    sma20 = SMA(20) @ col('close'),\n",
    "    sma50 = SMA(50) @ col('close'),\n",
    ")\n",
    "\n",
    "result"
   ]
  },
  {
   "cell_type": "code",
   "execution_count": 32,
   "metadata": {},
   "outputs": [
    {
     "data": {
      "text/html": [
       "<div><style>\n",
       ".dataframe > thead > tr,\n",
       ".dataframe > tbody > tr {\n",
       "  text-align: right;\n",
       "  white-space: pre-wrap;\n",
       "}\n",
       "</style>\n",
       "<small>shape: (1_258,)</small><table border=\"1\" class=\"dataframe\"><thead><tr><th></th></tr><tr><td>f64</td></tr></thead><tbody><tr><td>NaN</td></tr><tr><td>NaN</td></tr><tr><td>NaN</td></tr><tr><td>NaN</td></tr><tr><td>NaN</td></tr><tr><td>&hellip;</td></tr><tr><td>239.157499</td></tr><tr><td>240.430499</td></tr><tr><td>241.418999</td></tr><tr><td>242.458498</td></tr><tr><td>243.756998</td></tr></tbody></table></div>"
      ],
      "text/plain": [
       "shape: (1_258,)\n",
       "Series: '' [f64]\n",
       "[\n",
       "\tNaN\n",
       "\tNaN\n",
       "\tNaN\n",
       "\tNaN\n",
       "\tNaN\n",
       "\t…\n",
       "\t239.157499\n",
       "\t240.430499\n",
       "\t241.418999\n",
       "\t242.458498\n",
       "\t243.756998\n",
       "]"
      ]
     },
     "execution_count": 32,
     "metadata": {},
     "output_type": "execute_result"
    }
   ],
   "source": [
    "SMA(20) @ prices\n"
   ]
  },
  {
   "cell_type": "code",
   "execution_count": 34,
   "metadata": {},
   "outputs": [
    {
     "data": {
      "text/html": [
       "<div><style>\n",
       ".dataframe > thead > tr,\n",
       ".dataframe > tbody > tr {\n",
       "  text-align: right;\n",
       "  white-space: pre-wrap;\n",
       "}\n",
       "</style>\n",
       "<small>shape: (1_258,)</small><table border=\"1\" class=\"dataframe\"><thead><tr><th></th></tr><tr><td>f64</td></tr></thead><tbody><tr><td>NaN</td></tr><tr><td>NaN</td></tr><tr><td>NaN</td></tr><tr><td>NaN</td></tr><tr><td>NaN</td></tr><tr><td>&hellip;</td></tr><tr><td>3.572153</td></tr><tr><td>3.606285</td></tr><tr><td>3.815836</td></tr><tr><td>3.89399</td></tr><tr><td>4.237277</td></tr></tbody></table></div>"
      ],
      "text/plain": [
       "shape: (1_258,)\n",
       "Series: '' [f64]\n",
       "[\n",
       "\tNaN\n",
       "\tNaN\n",
       "\tNaN\n",
       "\tNaN\n",
       "\tNaN\n",
       "\t…\n",
       "\t3.572153\n",
       "\t3.606285\n",
       "\t3.815836\n",
       "\t3.89399\n",
       "\t4.237277\n",
       "]"
      ]
     },
     "execution_count": 34,
     "metadata": {},
     "output_type": "execute_result"
    }
   ],
   "source": [
    "ATR(14) @ prices\n",
    "\n"
   ]
  },
  {
   "cell_type": "code",
   "execution_count": null,
   "metadata": {},
   "outputs": [],
   "source": []
  }
 ],
 "metadata": {
  "kernelspec": {
   "display_name": ".venv",
   "language": "python",
   "name": "python3"
  },
  "language_info": {
   "codemirror_mode": {
    "name": "ipython",
    "version": 3
   },
   "file_extension": ".py",
   "mimetype": "text/x-python",
   "name": "python",
   "nbconvert_exporter": "python",
   "pygments_lexer": "ipython3",
   "version": "3.9.20"
  }
 },
 "nbformat": 4,
 "nbformat_minor": 2
}
