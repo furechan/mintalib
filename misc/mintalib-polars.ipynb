{
 "cells": [
  {
   "cell_type": "code",
   "execution_count": 39,
   "metadata": {},
   "outputs": [
    {
     "data": {
      "text/html": [
       "<div><style>\n",
       ".dataframe > thead > tr,\n",
       ".dataframe > tbody > tr {\n",
       "  text-align: right;\n",
       "  white-space: pre-wrap;\n",
       "}\n",
       "</style>\n",
       "<small>shape: (1_258, 8)</small><table border=\"1\" class=\"dataframe\"><thead><tr><th>date</th><th>open</th><th>high</th><th>low</th><th>close</th><th>volume</th><th>dividends</th><th>stock splits</th></tr><tr><td>datetime[ns, America/New_York]</td><td>f64</td><td>f64</td><td>f64</td><td>f64</td><td>i64</td><td>f64</td><td>f64</td></tr></thead><tbody><tr><td>2019-12-23 00:00:00 EST</td><td>67.992241</td><td>68.89386</td><td>67.953461</td><td>68.833267</td><td>98572000</td><td>0.0</td><td>0.0</td></tr><tr><td>2019-12-24 00:00:00 EST</td><td>69.000503</td><td>69.048981</td><td>68.57151</td><td>68.898705</td><td>48478800</td><td>0.0</td><td>0.0</td></tr><tr><td>2019-12-26 00:00:00 EST</td><td>69.031998</td><td>70.282631</td><td>69.002914</td><td>70.265663</td><td>93121200</td><td>0.0</td><td>0.0</td></tr><tr><td>2019-12-27 00:00:00 EST</td><td>70.558929</td><td>71.249687</td><td>69.831818</td><td>70.238998</td><td>146266000</td><td>0.0</td><td>0.0</td></tr><tr><td>2019-12-30 00:00:00 EST</td><td>70.156608</td><td>70.939468</td><td>69.128959</td><td>70.655891</td><td>144114400</td><td>0.0</td><td>0.0</td></tr><tr><td>&hellip;</td><td>&hellip;</td><td>&hellip;</td><td>&hellip;</td><td>&hellip;</td><td>&hellip;</td><td>&hellip;</td><td>&hellip;</td></tr><tr><td>2024-12-16 00:00:00 EST</td><td>247.990005</td><td>251.380005</td><td>247.649994</td><td>251.039993</td><td>51694800</td><td>0.0</td><td>0.0</td></tr><tr><td>2024-12-17 00:00:00 EST</td><td>250.080002</td><td>253.830002</td><td>249.779999</td><td>253.479996</td><td>51356400</td><td>0.0</td><td>0.0</td></tr><tr><td>2024-12-18 00:00:00 EST</td><td>252.160004</td><td>254.279999</td><td>247.740005</td><td>248.050003</td><td>56774100</td><td>0.0</td><td>0.0</td></tr><tr><td>2024-12-19 00:00:00 EST</td><td>247.5</td><td>252.0</td><td>247.089996</td><td>249.789993</td><td>60882300</td><td>0.0</td><td>0.0</td></tr><tr><td>2024-12-20 00:00:00 EST</td><td>248.039993</td><td>255.0</td><td>245.690002</td><td>254.490005</td><td>146890100</td><td>0.0</td><td>0.0</td></tr></tbody></table></div>"
      ],
      "text/plain": [
       "shape: (1_258, 8)\n",
       "┌─────────────┬────────────┬────────────┬────────────┬────────────┬───────────┬───────────┬────────┐\n",
       "│ date        ┆ open       ┆ high       ┆ low        ┆ close      ┆ volume    ┆ dividends ┆ stock  │\n",
       "│ ---         ┆ ---        ┆ ---        ┆ ---        ┆ ---        ┆ ---       ┆ ---       ┆ splits │\n",
       "│ datetime[ns ┆ f64        ┆ f64        ┆ f64        ┆ f64        ┆ i64       ┆ f64       ┆ ---    │\n",
       "│ , America/N ┆            ┆            ┆            ┆            ┆           ┆           ┆ f64    │\n",
       "│ ew_York]    ┆            ┆            ┆            ┆            ┆           ┆           ┆        │\n",
       "╞═════════════╪════════════╪════════════╪════════════╪════════════╪═══════════╪═══════════╪════════╡\n",
       "│ 2019-12-23  ┆ 67.992241  ┆ 68.89386   ┆ 67.953461  ┆ 68.833267  ┆ 98572000  ┆ 0.0       ┆ 0.0    │\n",
       "│ 00:00:00    ┆            ┆            ┆            ┆            ┆           ┆           ┆        │\n",
       "│ EST         ┆            ┆            ┆            ┆            ┆           ┆           ┆        │\n",
       "│ 2019-12-24  ┆ 69.000503  ┆ 69.048981  ┆ 68.57151   ┆ 68.898705  ┆ 48478800  ┆ 0.0       ┆ 0.0    │\n",
       "│ 00:00:00    ┆            ┆            ┆            ┆            ┆           ┆           ┆        │\n",
       "│ EST         ┆            ┆            ┆            ┆            ┆           ┆           ┆        │\n",
       "│ 2019-12-26  ┆ 69.031998  ┆ 70.282631  ┆ 69.002914  ┆ 70.265663  ┆ 93121200  ┆ 0.0       ┆ 0.0    │\n",
       "│ 00:00:00    ┆            ┆            ┆            ┆            ┆           ┆           ┆        │\n",
       "│ EST         ┆            ┆            ┆            ┆            ┆           ┆           ┆        │\n",
       "│ 2019-12-27  ┆ 70.558929  ┆ 71.249687  ┆ 69.831818  ┆ 70.238998  ┆ 146266000 ┆ 0.0       ┆ 0.0    │\n",
       "│ 00:00:00    ┆            ┆            ┆            ┆            ┆           ┆           ┆        │\n",
       "│ EST         ┆            ┆            ┆            ┆            ┆           ┆           ┆        │\n",
       "│ 2019-12-30  ┆ 70.156608  ┆ 70.939468  ┆ 69.128959  ┆ 70.655891  ┆ 144114400 ┆ 0.0       ┆ 0.0    │\n",
       "│ 00:00:00    ┆            ┆            ┆            ┆            ┆           ┆           ┆        │\n",
       "│ EST         ┆            ┆            ┆            ┆            ┆           ┆           ┆        │\n",
       "│ …           ┆ …          ┆ …          ┆ …          ┆ …          ┆ …         ┆ …         ┆ …      │\n",
       "│ 2024-12-16  ┆ 247.990005 ┆ 251.380005 ┆ 247.649994 ┆ 251.039993 ┆ 51694800  ┆ 0.0       ┆ 0.0    │\n",
       "│ 00:00:00    ┆            ┆            ┆            ┆            ┆           ┆           ┆        │\n",
       "│ EST         ┆            ┆            ┆            ┆            ┆           ┆           ┆        │\n",
       "│ 2024-12-17  ┆ 250.080002 ┆ 253.830002 ┆ 249.779999 ┆ 253.479996 ┆ 51356400  ┆ 0.0       ┆ 0.0    │\n",
       "│ 00:00:00    ┆            ┆            ┆            ┆            ┆           ┆           ┆        │\n",
       "│ EST         ┆            ┆            ┆            ┆            ┆           ┆           ┆        │\n",
       "│ 2024-12-18  ┆ 252.160004 ┆ 254.279999 ┆ 247.740005 ┆ 248.050003 ┆ 56774100  ┆ 0.0       ┆ 0.0    │\n",
       "│ 00:00:00    ┆            ┆            ┆            ┆            ┆           ┆           ┆        │\n",
       "│ EST         ┆            ┆            ┆            ┆            ┆           ┆           ┆        │\n",
       "│ 2024-12-19  ┆ 247.5      ┆ 252.0      ┆ 247.089996 ┆ 249.789993 ┆ 60882300  ┆ 0.0       ┆ 0.0    │\n",
       "│ 00:00:00    ┆            ┆            ┆            ┆            ┆           ┆           ┆        │\n",
       "│ EST         ┆            ┆            ┆            ┆            ┆           ┆           ┆        │\n",
       "│ 2024-12-20  ┆ 248.039993 ┆ 255.0      ┆ 245.690002 ┆ 254.490005 ┆ 146890100 ┆ 0.0       ┆ 0.0    │\n",
       "│ 00:00:00    ┆            ┆            ┆            ┆            ┆           ┆           ┆        │\n",
       "│ EST         ┆            ┆            ┆            ┆            ┆           ┆           ┆        │\n",
       "└─────────────┴────────────┴────────────┴────────────┴────────────┴───────────┴───────────┴────────┘"
      ]
     },
     "execution_count": 39,
     "metadata": {},
     "output_type": "execute_result"
    }
   ],
   "source": [
    "import polars as pl\n",
    "from polars import col\n",
    "\n",
    "import yfinance as yf\n",
    "\n",
    "prices = yf.Ticker('AAPL').history('5y')\n",
    "prices = prices.rename(columns=str.lower).rename_axis(index=str.lower)\n",
    "prices = pl.from_pandas(prices, include_index=True)\n",
    "prices\n",
    "\n"
   ]
  },
  {
   "cell_type": "code",
   "execution_count": 40,
   "metadata": {},
   "outputs": [
    {
     "data": {
      "text/html": [
       "<div><style>\n",
       ".dataframe > thead > tr,\n",
       ".dataframe > tbody > tr {\n",
       "  text-align: right;\n",
       "  white-space: pre-wrap;\n",
       "}\n",
       "</style>\n",
       "<small>shape: (1_258, 10)</small><table border=\"1\" class=\"dataframe\"><thead><tr><th>date</th><th>open</th><th>high</th><th>low</th><th>close</th><th>volume</th><th>dividends</th><th>stock splits</th><th>sma20</th><th>sma50</th></tr><tr><td>datetime[ns, America/New_York]</td><td>f64</td><td>f64</td><td>f64</td><td>f64</td><td>i64</td><td>f64</td><td>f64</td><td>f64</td><td>f64</td></tr></thead><tbody><tr><td>2019-12-23 00:00:00 EST</td><td>67.992241</td><td>68.89386</td><td>67.953461</td><td>68.833267</td><td>98572000</td><td>0.0</td><td>0.0</td><td>NaN</td><td>NaN</td></tr><tr><td>2019-12-24 00:00:00 EST</td><td>69.000503</td><td>69.048981</td><td>68.57151</td><td>68.898705</td><td>48478800</td><td>0.0</td><td>0.0</td><td>NaN</td><td>NaN</td></tr><tr><td>2019-12-26 00:00:00 EST</td><td>69.031998</td><td>70.282631</td><td>69.002914</td><td>70.265663</td><td>93121200</td><td>0.0</td><td>0.0</td><td>NaN</td><td>NaN</td></tr><tr><td>2019-12-27 00:00:00 EST</td><td>70.558929</td><td>71.249687</td><td>69.831818</td><td>70.238998</td><td>146266000</td><td>0.0</td><td>0.0</td><td>NaN</td><td>NaN</td></tr><tr><td>2019-12-30 00:00:00 EST</td><td>70.156608</td><td>70.939468</td><td>69.128959</td><td>70.655891</td><td>144114400</td><td>0.0</td><td>0.0</td><td>NaN</td><td>NaN</td></tr><tr><td>&hellip;</td><td>&hellip;</td><td>&hellip;</td><td>&hellip;</td><td>&hellip;</td><td>&hellip;</td><td>&hellip;</td><td>&hellip;</td><td>&hellip;</td><td>&hellip;</td></tr><tr><td>2024-12-16 00:00:00 EST</td><td>247.990005</td><td>251.380005</td><td>247.649994</td><td>251.039993</td><td>51694800</td><td>0.0</td><td>0.0</td><td>239.157499</td><td>232.705213</td></tr><tr><td>2024-12-17 00:00:00 EST</td><td>250.080002</td><td>253.830002</td><td>249.779999</td><td>253.479996</td><td>51356400</td><td>0.0</td><td>0.0</td><td>240.430499</td><td>233.345886</td></tr><tr><td>2024-12-18 00:00:00 EST</td><td>252.160004</td><td>254.279999</td><td>247.740005</td><td>248.050003</td><td>56774100</td><td>0.0</td><td>0.0</td><td>241.418999</td><td>233.796448</td></tr><tr><td>2024-12-19 00:00:00 EST</td><td>247.5</td><td>252.0</td><td>247.089996</td><td>249.789993</td><td>60882300</td><td>0.0</td><td>0.0</td><td>242.458498</td><td>234.206494</td></tr><tr><td>2024-12-20 00:00:00 EST</td><td>248.039993</td><td>255.0</td><td>245.690002</td><td>254.490005</td><td>146890100</td><td>0.0</td><td>0.0</td><td>243.756998</td><td>234.720528</td></tr></tbody></table></div>"
      ],
      "text/plain": [
       "shape: (1_258, 10)\n",
       "┌───────────┬───────────┬───────────┬───────────┬───┬───────────┬───────────┬───────────┬──────────┐\n",
       "│ date      ┆ open      ┆ high      ┆ low       ┆ … ┆ dividends ┆ stock     ┆ sma20     ┆ sma50    │\n",
       "│ ---       ┆ ---       ┆ ---       ┆ ---       ┆   ┆ ---       ┆ splits    ┆ ---       ┆ ---      │\n",
       "│ datetime[ ┆ f64       ┆ f64       ┆ f64       ┆   ┆ f64       ┆ ---       ┆ f64       ┆ f64      │\n",
       "│ ns, Ameri ┆           ┆           ┆           ┆   ┆           ┆ f64       ┆           ┆          │\n",
       "│ ca/New_Yo ┆           ┆           ┆           ┆   ┆           ┆           ┆           ┆          │\n",
       "│ rk]       ┆           ┆           ┆           ┆   ┆           ┆           ┆           ┆          │\n",
       "╞═══════════╪═══════════╪═══════════╪═══════════╪═══╪═══════════╪═══════════╪═══════════╪══════════╡\n",
       "│ 2019-12-2 ┆ 67.992241 ┆ 68.89386  ┆ 67.953461 ┆ … ┆ 0.0       ┆ 0.0       ┆ NaN       ┆ NaN      │\n",
       "│ 3         ┆           ┆           ┆           ┆   ┆           ┆           ┆           ┆          │\n",
       "│ 00:00:00  ┆           ┆           ┆           ┆   ┆           ┆           ┆           ┆          │\n",
       "│ EST       ┆           ┆           ┆           ┆   ┆           ┆           ┆           ┆          │\n",
       "│ 2019-12-2 ┆ 69.000503 ┆ 69.048981 ┆ 68.57151  ┆ … ┆ 0.0       ┆ 0.0       ┆ NaN       ┆ NaN      │\n",
       "│ 4         ┆           ┆           ┆           ┆   ┆           ┆           ┆           ┆          │\n",
       "│ 00:00:00  ┆           ┆           ┆           ┆   ┆           ┆           ┆           ┆          │\n",
       "│ EST       ┆           ┆           ┆           ┆   ┆           ┆           ┆           ┆          │\n",
       "│ 2019-12-2 ┆ 69.031998 ┆ 70.282631 ┆ 69.002914 ┆ … ┆ 0.0       ┆ 0.0       ┆ NaN       ┆ NaN      │\n",
       "│ 6         ┆           ┆           ┆           ┆   ┆           ┆           ┆           ┆          │\n",
       "│ 00:00:00  ┆           ┆           ┆           ┆   ┆           ┆           ┆           ┆          │\n",
       "│ EST       ┆           ┆           ┆           ┆   ┆           ┆           ┆           ┆          │\n",
       "│ 2019-12-2 ┆ 70.558929 ┆ 71.249687 ┆ 69.831818 ┆ … ┆ 0.0       ┆ 0.0       ┆ NaN       ┆ NaN      │\n",
       "│ 7         ┆           ┆           ┆           ┆   ┆           ┆           ┆           ┆          │\n",
       "│ 00:00:00  ┆           ┆           ┆           ┆   ┆           ┆           ┆           ┆          │\n",
       "│ EST       ┆           ┆           ┆           ┆   ┆           ┆           ┆           ┆          │\n",
       "│ 2019-12-3 ┆ 70.156608 ┆ 70.939468 ┆ 69.128959 ┆ … ┆ 0.0       ┆ 0.0       ┆ NaN       ┆ NaN      │\n",
       "│ 0         ┆           ┆           ┆           ┆   ┆           ┆           ┆           ┆          │\n",
       "│ 00:00:00  ┆           ┆           ┆           ┆   ┆           ┆           ┆           ┆          │\n",
       "│ EST       ┆           ┆           ┆           ┆   ┆           ┆           ┆           ┆          │\n",
       "│ …         ┆ …         ┆ …         ┆ …         ┆ … ┆ …         ┆ …         ┆ …         ┆ …        │\n",
       "│ 2024-12-1 ┆ 247.99000 ┆ 251.38000 ┆ 247.64999 ┆ … ┆ 0.0       ┆ 0.0       ┆ 239.15749 ┆ 232.7052 │\n",
       "│ 6         ┆ 5         ┆ 5         ┆ 4         ┆   ┆           ┆           ┆ 9         ┆ 13       │\n",
       "│ 00:00:00  ┆           ┆           ┆           ┆   ┆           ┆           ┆           ┆          │\n",
       "│ EST       ┆           ┆           ┆           ┆   ┆           ┆           ┆           ┆          │\n",
       "│ 2024-12-1 ┆ 250.08000 ┆ 253.83000 ┆ 249.77999 ┆ … ┆ 0.0       ┆ 0.0       ┆ 240.43049 ┆ 233.3458 │\n",
       "│ 7         ┆ 2         ┆ 2         ┆ 9         ┆   ┆           ┆           ┆ 9         ┆ 86       │\n",
       "│ 00:00:00  ┆           ┆           ┆           ┆   ┆           ┆           ┆           ┆          │\n",
       "│ EST       ┆           ┆           ┆           ┆   ┆           ┆           ┆           ┆          │\n",
       "│ 2024-12-1 ┆ 252.16000 ┆ 254.27999 ┆ 247.74000 ┆ … ┆ 0.0       ┆ 0.0       ┆ 241.41899 ┆ 233.7964 │\n",
       "│ 8         ┆ 4         ┆ 9         ┆ 5         ┆   ┆           ┆           ┆ 9         ┆ 48       │\n",
       "│ 00:00:00  ┆           ┆           ┆           ┆   ┆           ┆           ┆           ┆          │\n",
       "│ EST       ┆           ┆           ┆           ┆   ┆           ┆           ┆           ┆          │\n",
       "│ 2024-12-1 ┆ 247.5     ┆ 252.0     ┆ 247.08999 ┆ … ┆ 0.0       ┆ 0.0       ┆ 242.45849 ┆ 234.2064 │\n",
       "│ 9         ┆           ┆           ┆ 6         ┆   ┆           ┆           ┆ 8         ┆ 94       │\n",
       "│ 00:00:00  ┆           ┆           ┆           ┆   ┆           ┆           ┆           ┆          │\n",
       "│ EST       ┆           ┆           ┆           ┆   ┆           ┆           ┆           ┆          │\n",
       "│ 2024-12-2 ┆ 248.03999 ┆ 255.0     ┆ 245.69000 ┆ … ┆ 0.0       ┆ 0.0       ┆ 243.75699 ┆ 234.7205 │\n",
       "│ 0         ┆ 3         ┆           ┆ 2         ┆   ┆           ┆           ┆ 8         ┆ 28       │\n",
       "│ 00:00:00  ┆           ┆           ┆           ┆   ┆           ┆           ┆           ┆          │\n",
       "│ EST       ┆           ┆           ┆           ┆   ┆           ┆           ┆           ┆          │\n",
       "└───────────┴───────────┴───────────┴───────────┴───┴───────────┴───────────┴───────────┴──────────┘"
      ]
     },
     "execution_count": 40,
     "metadata": {},
     "output_type": "execute_result"
    }
   ],
   "source": [
    "from mintalib.indicators import SMA, ATR, MACD\n",
    "\n",
    "result = prices.with_columns(\n",
    "    sma20 = SMA(20) @ col('close'),\n",
    "    sma50 = SMA(50) @ col('close'),\n",
    ")\n",
    "\n",
    "result"
   ]
  },
  {
   "cell_type": "code",
   "execution_count": 41,
   "metadata": {},
   "outputs": [
    {
     "data": {
      "text/html": [
       "<div><style>\n",
       ".dataframe > thead > tr,\n",
       ".dataframe > tbody > tr {\n",
       "  text-align: right;\n",
       "  white-space: pre-wrap;\n",
       "}\n",
       "</style>\n",
       "<small>shape: (1_258,)</small><table border=\"1\" class=\"dataframe\"><thead><tr><th></th></tr><tr><td>f64</td></tr></thead><tbody><tr><td>NaN</td></tr><tr><td>NaN</td></tr><tr><td>NaN</td></tr><tr><td>NaN</td></tr><tr><td>NaN</td></tr><tr><td>&hellip;</td></tr><tr><td>239.157499</td></tr><tr><td>240.430499</td></tr><tr><td>241.418999</td></tr><tr><td>242.458498</td></tr><tr><td>243.756998</td></tr></tbody></table></div>"
      ],
      "text/plain": [
       "shape: (1_258,)\n",
       "Series: '' [f64]\n",
       "[\n",
       "\tNaN\n",
       "\tNaN\n",
       "\tNaN\n",
       "\tNaN\n",
       "\tNaN\n",
       "\t…\n",
       "\t239.157499\n",
       "\t240.430499\n",
       "\t241.418999\n",
       "\t242.458498\n",
       "\t243.756998\n",
       "]"
      ]
     },
     "execution_count": 41,
     "metadata": {},
     "output_type": "execute_result"
    }
   ],
   "source": [
    "SMA(20) @ prices\n"
   ]
  },
  {
   "cell_type": "code",
   "execution_count": 42,
   "metadata": {},
   "outputs": [
    {
     "data": {
      "text/html": [
       "<div><style>\n",
       ".dataframe > thead > tr,\n",
       ".dataframe > tbody > tr {\n",
       "  text-align: right;\n",
       "  white-space: pre-wrap;\n",
       "}\n",
       "</style>\n",
       "<small>shape: (1_258,)</small><table border=\"1\" class=\"dataframe\"><thead><tr><th></th></tr><tr><td>f64</td></tr></thead><tbody><tr><td>NaN</td></tr><tr><td>NaN</td></tr><tr><td>NaN</td></tr><tr><td>NaN</td></tr><tr><td>NaN</td></tr><tr><td>&hellip;</td></tr><tr><td>3.572153</td></tr><tr><td>3.606285</td></tr><tr><td>3.815836</td></tr><tr><td>3.89399</td></tr><tr><td>4.280848</td></tr></tbody></table></div>"
      ],
      "text/plain": [
       "shape: (1_258,)\n",
       "Series: '' [f64]\n",
       "[\n",
       "\tNaN\n",
       "\tNaN\n",
       "\tNaN\n",
       "\tNaN\n",
       "\tNaN\n",
       "\t…\n",
       "\t3.572153\n",
       "\t3.606285\n",
       "\t3.815836\n",
       "\t3.89399\n",
       "\t4.280848\n",
       "]"
      ]
     },
     "execution_count": 42,
     "metadata": {},
     "output_type": "execute_result"
    }
   ],
   "source": [
    "ATR(14) @ prices\n",
    "\n"
   ]
  },
  {
   "cell_type": "code",
   "execution_count": 43,
   "metadata": {},
   "outputs": [
    {
     "data": {
      "text/html": [
       "<div><style>\n",
       ".dataframe > thead > tr,\n",
       ".dataframe > tbody > tr {\n",
       "  text-align: right;\n",
       "  white-space: pre-wrap;\n",
       "}\n",
       "</style>\n",
       "<small>shape: (1_258, 3)</small><table border=\"1\" class=\"dataframe\"><thead><tr><th>macd</th><th>macdsignal</th><th>macdhist</th></tr><tr><td>f64</td><td>f64</td><td>f64</td></tr></thead><tbody><tr><td>NaN</td><td>NaN</td><td>NaN</td></tr><tr><td>NaN</td><td>NaN</td><td>NaN</td></tr><tr><td>NaN</td><td>NaN</td><td>NaN</td></tr><tr><td>NaN</td><td>NaN</td><td>NaN</td></tr><tr><td>NaN</td><td>NaN</td><td>NaN</td></tr><tr><td>&hellip;</td><td>&hellip;</td><td>&hellip;</td></tr><tr><td>5.427631</td><td>4.436547</td><td>0.991084</td></tr><tr><td>5.746874</td><td>4.698612</td><td>1.048262</td></tr><tr><td>5.498339</td><td>4.858558</td><td>0.639782</td></tr><tr><td>5.379762</td><td>4.962798</td><td>0.416964</td></tr><tr><td>5.600482</td><td>5.090335</td><td>0.510146</td></tr></tbody></table></div>"
      ],
      "text/plain": [
       "shape: (1_258, 3)\n",
       "┌──────────┬────────────┬──────────┐\n",
       "│ macd     ┆ macdsignal ┆ macdhist │\n",
       "│ ---      ┆ ---        ┆ ---      │\n",
       "│ f64      ┆ f64        ┆ f64      │\n",
       "╞══════════╪════════════╪══════════╡\n",
       "│ NaN      ┆ NaN        ┆ NaN      │\n",
       "│ NaN      ┆ NaN        ┆ NaN      │\n",
       "│ NaN      ┆ NaN        ┆ NaN      │\n",
       "│ NaN      ┆ NaN        ┆ NaN      │\n",
       "│ NaN      ┆ NaN        ┆ NaN      │\n",
       "│ …        ┆ …          ┆ …        │\n",
       "│ 5.427631 ┆ 4.436547   ┆ 0.991084 │\n",
       "│ 5.746874 ┆ 4.698612   ┆ 1.048262 │\n",
       "│ 5.498339 ┆ 4.858558   ┆ 0.639782 │\n",
       "│ 5.379762 ┆ 4.962798   ┆ 0.416964 │\n",
       "│ 5.600482 ┆ 5.090335   ┆ 0.510146 │\n",
       "└──────────┴────────────┴──────────┘"
      ]
     },
     "execution_count": 43,
     "metadata": {},
     "output_type": "execute_result"
    }
   ],
   "source": [
    "MACD() @ prices"
   ]
  },
  {
   "cell_type": "code",
   "execution_count": 44,
   "metadata": {},
   "outputs": [
    {
     "data": {
      "text/html": [
       "<div><style>\n",
       ".dataframe > thead > tr,\n",
       ".dataframe > tbody > tr {\n",
       "  text-align: right;\n",
       "  white-space: pre-wrap;\n",
       "}\n",
       "</style>\n",
       "<small>shape: (1_258,)</small><table border=\"1\" class=\"dataframe\"><thead><tr><th></th></tr><tr><td>struct[3]</td></tr></thead><tbody><tr><td>{NaN,NaN,NaN}</td></tr><tr><td>{NaN,NaN,NaN}</td></tr><tr><td>{NaN,NaN,NaN}</td></tr><tr><td>{NaN,NaN,NaN}</td></tr><tr><td>{NaN,NaN,NaN}</td></tr><tr><td>&hellip;</td></tr><tr><td>{5.427631,4.436547,0.991084}</td></tr><tr><td>{5.746874,4.698612,1.048262}</td></tr><tr><td>{5.498339,4.858558,0.639782}</td></tr><tr><td>{5.379762,4.962798,0.416964}</td></tr><tr><td>{5.600482,5.090335,0.510146}</td></tr></tbody></table></div>"
      ],
      "text/plain": [
       "shape: (1_258,)\n",
       "Series: '' [struct[3]]\n",
       "[\n",
       "\t{NaN,NaN,NaN}\n",
       "\t{NaN,NaN,NaN}\n",
       "\t{NaN,NaN,NaN}\n",
       "\t{NaN,NaN,NaN}\n",
       "\t{NaN,NaN,NaN}\n",
       "\t…\n",
       "\t{5.427631,4.436547,0.991084}\n",
       "\t{5.746874,4.698612,1.048262}\n",
       "\t{5.498339,4.858558,0.639782}\n",
       "\t{5.379762,4.962798,0.416964}\n",
       "\t{5.600482,5.090335,0.510146}\n",
       "]"
      ]
     },
     "execution_count": 44,
     "metadata": {},
     "output_type": "execute_result"
    }
   ],
   "source": [
    "res = MACD() @ prices\n",
    "res.to_struct()"
   ]
  },
  {
   "cell_type": "code",
   "execution_count": 45,
   "metadata": {},
   "outputs": [
    {
     "data": {
      "text/html": [
       "<div><style>\n",
       ".dataframe > thead > tr,\n",
       ".dataframe > tbody > tr {\n",
       "  text-align: right;\n",
       "  white-space: pre-wrap;\n",
       "}\n",
       "</style>\n",
       "<small>shape: (1, 1)</small><table border=\"1\" class=\"dataframe\"><thead><tr><th>close</th></tr><tr><td>object</td></tr></thead><tbody><tr><td>shape: (1_258, 3)\n",
       "┌──────────┬────────────┬──────────┐\n",
       "│ macd     ┆ macdsignal ┆ macdhist │\n",
       "│ ---      ┆ ---        ┆ ---      │\n",
       "│ f64      ┆ f64        ┆ f64      │\n",
       "╞══════════╪════════════╪══════════╡\n",
       "│ NaN      ┆ NaN        ┆ NaN      │\n",
       "│ NaN      ┆ NaN        ┆ NaN      │\n",
       "│ NaN      ┆ NaN        ┆ NaN      │\n",
       "│ NaN      ┆ NaN        ┆ NaN      │\n",
       "│ NaN      ┆ NaN        ┆ NaN      │\n",
       "│ …        ┆ …          ┆ …        │\n",
       "│ 5.427631 ┆ 4.436547   ┆ 0.991084 │\n",
       "│ 5.746874 ┆ 4.698612   ┆ 1.048262 │\n",
       "│ 5.498339 ┆ 4.858558   ┆ 0.639782 │\n",
       "│ 5.379762 ┆ 4.962798   ┆ 0.416964 │\n",
       "│ 5.600482 ┆ 5.090335   ┆ 0.510146 │\n",
       "└──────────┴────────────┴──────────┘</td></tr></tbody></table></div>"
      ],
      "text/plain": [
       "shape: (1, 1)\n",
       "┌───────────────────┐\n",
       "│ close             │\n",
       "│ ---               │\n",
       "│ object            │\n",
       "╞═══════════════════╡\n",
       "│ shape: (1_258, 3) │\n",
       "│ ┌──────────┬…     │\n",
       "└───────────────────┘"
      ]
     },
     "execution_count": 45,
     "metadata": {},
     "output_type": "execute_result"
    }
   ],
   "source": [
    "result = prices.select(\n",
    "    MACD() @ pl.col(\"close\"),\n",
    ")\n",
    "result"
   ]
  },
  {
   "cell_type": "code",
   "execution_count": 46,
   "metadata": {},
   "outputs": [
    {
     "data": {
      "text/html": [
       "<div><style>\n",
       ".dataframe > thead > tr,\n",
       ".dataframe > tbody > tr {\n",
       "  text-align: right;\n",
       "  white-space: pre-wrap;\n",
       "}\n",
       "</style>\n",
       "<small>shape: (1_258, 1)</small><table border=\"1\" class=\"dataframe\"><thead><tr><th>close</th></tr><tr><td>f64</td></tr></thead><tbody><tr><td>NaN</td></tr><tr><td>NaN</td></tr><tr><td>NaN</td></tr><tr><td>NaN</td></tr><tr><td>NaN</td></tr><tr><td>&hellip;</td></tr><tr><td>239.157499</td></tr><tr><td>240.430499</td></tr><tr><td>241.418999</td></tr><tr><td>242.458498</td></tr><tr><td>243.756998</td></tr></tbody></table></div>"
      ],
      "text/plain": [
       "shape: (1_258, 1)\n",
       "┌────────────┐\n",
       "│ close      │\n",
       "│ ---        │\n",
       "│ f64        │\n",
       "╞════════════╡\n",
       "│ NaN        │\n",
       "│ NaN        │\n",
       "│ NaN        │\n",
       "│ NaN        │\n",
       "│ NaN        │\n",
       "│ …          │\n",
       "│ 239.157499 │\n",
       "│ 240.430499 │\n",
       "│ 241.418999 │\n",
       "│ 242.458498 │\n",
       "│ 243.756998 │\n",
       "└────────────┘"
      ]
     },
     "execution_count": 46,
     "metadata": {},
     "output_type": "execute_result"
    }
   ],
   "source": [
    "res = prices.select(\n",
    "    pl.col(\"close\").map_batches(SMA(20))\n",
    ")\n",
    "res\n",
    "\n"
   ]
  },
  {
   "cell_type": "code",
   "execution_count": 47,
   "metadata": {},
   "outputs": [
    {
     "data": {
      "text/html": [
       "<div><style>\n",
       ".dataframe > thead > tr,\n",
       ".dataframe > tbody > tr {\n",
       "  text-align: right;\n",
       "  white-space: pre-wrap;\n",
       "}\n",
       "</style>\n",
       "<small>shape: (1_258, 1)</small><table border=\"1\" class=\"dataframe\"><thead><tr><th>date</th></tr><tr><td>struct[8]</td></tr></thead><tbody><tr><td>{2019-12-23 00:00:00 EST,67.992241,68.89386,67.953461,68.833267,98572000,0.0,0.0}</td></tr><tr><td>{2019-12-24 00:00:00 EST,69.000503,69.048981,68.57151,68.898705,48478800,0.0,0.0}</td></tr><tr><td>{2019-12-26 00:00:00 EST,69.031998,70.282631,69.002914,70.265663,93121200,0.0,0.0}</td></tr><tr><td>{2019-12-27 00:00:00 EST,70.558929,71.249687,69.831818,70.238998,146266000,0.0,0.0}</td></tr><tr><td>{2019-12-30 00:00:00 EST,70.156608,70.939468,69.128959,70.655891,144114400,0.0,0.0}</td></tr><tr><td>&hellip;</td></tr><tr><td>{2024-12-16 00:00:00 EST,247.990005,251.380005,247.649994,251.039993,51694800,0.0,0.0}</td></tr><tr><td>{2024-12-17 00:00:00 EST,250.080002,253.830002,249.779999,253.479996,51356400,0.0,0.0}</td></tr><tr><td>{2024-12-18 00:00:00 EST,252.160004,254.279999,247.740005,248.050003,56774100,0.0,0.0}</td></tr><tr><td>{2024-12-19 00:00:00 EST,247.5,252.0,247.089996,249.789993,60882300,0.0,0.0}</td></tr><tr><td>{2024-12-20 00:00:00 EST,248.039993,255.0,245.690002,254.490005,146890100,0.0,0.0}</td></tr></tbody></table></div>"
      ],
      "text/plain": [
       "shape: (1_258, 1)\n",
       "┌─────────────────────────────────┐\n",
       "│ date                            │\n",
       "│ ---                             │\n",
       "│ struct[8]                       │\n",
       "╞═════════════════════════════════╡\n",
       "│ {2019-12-23 00:00:00 EST,67.99… │\n",
       "│ {2019-12-24 00:00:00 EST,69.00… │\n",
       "│ {2019-12-26 00:00:00 EST,69.03… │\n",
       "│ {2019-12-27 00:00:00 EST,70.55… │\n",
       "│ {2019-12-30 00:00:00 EST,70.15… │\n",
       "│ …                               │\n",
       "│ {2024-12-16 00:00:00 EST,247.9… │\n",
       "│ {2024-12-17 00:00:00 EST,250.0… │\n",
       "│ {2024-12-18 00:00:00 EST,252.1… │\n",
       "│ {2024-12-19 00:00:00 EST,247.5… │\n",
       "│ {2024-12-20 00:00:00 EST,248.0… │\n",
       "└─────────────────────────────────┘"
      ]
     },
     "execution_count": 47,
     "metadata": {},
     "output_type": "execute_result"
    }
   ],
   "source": [
    "\n",
    "prices.select(pl.struct(pl.all()))\n"
   ]
  },
  {
   "cell_type": "code",
   "execution_count": 48,
   "metadata": {},
   "outputs": [
    {
     "name": "stdout",
     "output_type": "stream",
     "text": [
      "myfunc *\n"
     ]
    },
    {
     "data": {
      "text/html": [
       "<div><style>\n",
       ".dataframe > thead > tr,\n",
       ".dataframe > tbody > tr {\n",
       "  text-align: right;\n",
       "  white-space: pre-wrap;\n",
       "}\n",
       "</style>\n",
       "<small>shape: (1_258, 8)</small><table border=\"1\" class=\"dataframe\"><thead><tr><th>date</th><th>open</th><th>high</th><th>low</th><th>close</th><th>volume</th><th>dividends</th><th>stock splits</th></tr><tr><td>datetime[ns, America/New_York]</td><td>f64</td><td>f64</td><td>f64</td><td>f64</td><td>i64</td><td>f64</td><td>f64</td></tr></thead><tbody><tr><td>2019-12-23 00:00:00 EST</td><td>67.992241</td><td>68.89386</td><td>67.953461</td><td>68.833267</td><td>98572000</td><td>0.0</td><td>0.0</td></tr><tr><td>2019-12-24 00:00:00 EST</td><td>69.000503</td><td>69.048981</td><td>68.57151</td><td>68.898705</td><td>48478800</td><td>0.0</td><td>0.0</td></tr><tr><td>2019-12-26 00:00:00 EST</td><td>69.031998</td><td>70.282631</td><td>69.002914</td><td>70.265663</td><td>93121200</td><td>0.0</td><td>0.0</td></tr><tr><td>2019-12-27 00:00:00 EST</td><td>70.558929</td><td>71.249687</td><td>69.831818</td><td>70.238998</td><td>146266000</td><td>0.0</td><td>0.0</td></tr><tr><td>2019-12-30 00:00:00 EST</td><td>70.156608</td><td>70.939468</td><td>69.128959</td><td>70.655891</td><td>144114400</td><td>0.0</td><td>0.0</td></tr><tr><td>&hellip;</td><td>&hellip;</td><td>&hellip;</td><td>&hellip;</td><td>&hellip;</td><td>&hellip;</td><td>&hellip;</td><td>&hellip;</td></tr><tr><td>2024-12-16 00:00:00 EST</td><td>247.990005</td><td>251.380005</td><td>247.649994</td><td>251.039993</td><td>51694800</td><td>0.0</td><td>0.0</td></tr><tr><td>2024-12-17 00:00:00 EST</td><td>250.080002</td><td>253.830002</td><td>249.779999</td><td>253.479996</td><td>51356400</td><td>0.0</td><td>0.0</td></tr><tr><td>2024-12-18 00:00:00 EST</td><td>252.160004</td><td>254.279999</td><td>247.740005</td><td>248.050003</td><td>56774100</td><td>0.0</td><td>0.0</td></tr><tr><td>2024-12-19 00:00:00 EST</td><td>247.5</td><td>252.0</td><td>247.089996</td><td>249.789993</td><td>60882300</td><td>0.0</td><td>0.0</td></tr><tr><td>2024-12-20 00:00:00 EST</td><td>248.039993</td><td>255.0</td><td>245.690002</td><td>254.490005</td><td>146890100</td><td>0.0</td><td>0.0</td></tr></tbody></table></div>"
      ],
      "text/plain": [
       "shape: (1_258, 8)\n",
       "┌─────────────┬────────────┬────────────┬────────────┬────────────┬───────────┬───────────┬────────┐\n",
       "│ date        ┆ open       ┆ high       ┆ low        ┆ close      ┆ volume    ┆ dividends ┆ stock  │\n",
       "│ ---         ┆ ---        ┆ ---        ┆ ---        ┆ ---        ┆ ---       ┆ ---       ┆ splits │\n",
       "│ datetime[ns ┆ f64        ┆ f64        ┆ f64        ┆ f64        ┆ i64       ┆ f64       ┆ ---    │\n",
       "│ , America/N ┆            ┆            ┆            ┆            ┆           ┆           ┆ f64    │\n",
       "│ ew_York]    ┆            ┆            ┆            ┆            ┆           ┆           ┆        │\n",
       "╞═════════════╪════════════╪════════════╪════════════╪════════════╪═══════════╪═══════════╪════════╡\n",
       "│ 2019-12-23  ┆ 67.992241  ┆ 68.89386   ┆ 67.953461  ┆ 68.833267  ┆ 98572000  ┆ 0.0       ┆ 0.0    │\n",
       "│ 00:00:00    ┆            ┆            ┆            ┆            ┆           ┆           ┆        │\n",
       "│ EST         ┆            ┆            ┆            ┆            ┆           ┆           ┆        │\n",
       "│ 2019-12-24  ┆ 69.000503  ┆ 69.048981  ┆ 68.57151   ┆ 68.898705  ┆ 48478800  ┆ 0.0       ┆ 0.0    │\n",
       "│ 00:00:00    ┆            ┆            ┆            ┆            ┆           ┆           ┆        │\n",
       "│ EST         ┆            ┆            ┆            ┆            ┆           ┆           ┆        │\n",
       "│ 2019-12-26  ┆ 69.031998  ┆ 70.282631  ┆ 69.002914  ┆ 70.265663  ┆ 93121200  ┆ 0.0       ┆ 0.0    │\n",
       "│ 00:00:00    ┆            ┆            ┆            ┆            ┆           ┆           ┆        │\n",
       "│ EST         ┆            ┆            ┆            ┆            ┆           ┆           ┆        │\n",
       "│ 2019-12-27  ┆ 70.558929  ┆ 71.249687  ┆ 69.831818  ┆ 70.238998  ┆ 146266000 ┆ 0.0       ┆ 0.0    │\n",
       "│ 00:00:00    ┆            ┆            ┆            ┆            ┆           ┆           ┆        │\n",
       "│ EST         ┆            ┆            ┆            ┆            ┆           ┆           ┆        │\n",
       "│ 2019-12-30  ┆ 70.156608  ┆ 70.939468  ┆ 69.128959  ┆ 70.655891  ┆ 144114400 ┆ 0.0       ┆ 0.0    │\n",
       "│ 00:00:00    ┆            ┆            ┆            ┆            ┆           ┆           ┆        │\n",
       "│ EST         ┆            ┆            ┆            ┆            ┆           ┆           ┆        │\n",
       "│ …           ┆ …          ┆ …          ┆ …          ┆ …          ┆ …         ┆ …         ┆ …      │\n",
       "│ 2024-12-16  ┆ 247.990005 ┆ 251.380005 ┆ 247.649994 ┆ 251.039993 ┆ 51694800  ┆ 0.0       ┆ 0.0    │\n",
       "│ 00:00:00    ┆            ┆            ┆            ┆            ┆           ┆           ┆        │\n",
       "│ EST         ┆            ┆            ┆            ┆            ┆           ┆           ┆        │\n",
       "│ 2024-12-17  ┆ 250.080002 ┆ 253.830002 ┆ 249.779999 ┆ 253.479996 ┆ 51356400  ┆ 0.0       ┆ 0.0    │\n",
       "│ 00:00:00    ┆            ┆            ┆            ┆            ┆           ┆           ┆        │\n",
       "│ EST         ┆            ┆            ┆            ┆            ┆           ┆           ┆        │\n",
       "│ 2024-12-18  ┆ 252.160004 ┆ 254.279999 ┆ 247.740005 ┆ 248.050003 ┆ 56774100  ┆ 0.0       ┆ 0.0    │\n",
       "│ 00:00:00    ┆            ┆            ┆            ┆            ┆           ┆           ┆        │\n",
       "│ EST         ┆            ┆            ┆            ┆            ┆           ┆           ┆        │\n",
       "│ 2024-12-19  ┆ 247.5      ┆ 252.0      ┆ 247.089996 ┆ 249.789993 ┆ 60882300  ┆ 0.0       ┆ 0.0    │\n",
       "│ 00:00:00    ┆            ┆            ┆            ┆            ┆           ┆           ┆        │\n",
       "│ EST         ┆            ┆            ┆            ┆            ┆           ┆           ┆        │\n",
       "│ 2024-12-20  ┆ 248.039993 ┆ 255.0      ┆ 245.690002 ┆ 254.490005 ┆ 146890100 ┆ 0.0       ┆ 0.0    │\n",
       "│ 00:00:00    ┆            ┆            ┆            ┆            ┆           ┆           ┆        │\n",
       "│ EST         ┆            ┆            ┆            ┆            ┆           ┆           ┆        │\n",
       "└─────────────┴────────────┴────────────┴────────────┴────────────┴───────────┴───────────┴────────┘"
      ]
     },
     "execution_count": 48,
     "metadata": {},
     "output_type": "execute_result"
    }
   ],
   "source": [
    "def myfunc(df):\n",
    "    print(\"myfunc\", df)\n",
    "    return df\n",
    "\n",
    "res = prices.select(\n",
    "    pl.all().pipe(myfunc)\n",
    ")\n",
    "\n",
    "res"
   ]
  },
  {
   "cell_type": "code",
   "execution_count": 51,
   "metadata": {},
   "outputs": [
    {
     "data": {
      "text/html": [
       "*"
      ],
      "text/plain": [
       "<Expr ['*'] at 0x137749EE0>"
      ]
     },
     "execution_count": 51,
     "metadata": {},
     "output_type": "execute_result"
    }
   ],
   "source": [
    "e = pl.all()\n",
    "e\n"
   ]
  },
  {
   "cell_type": "code",
   "execution_count": 52,
   "metadata": {},
   "outputs": [
    {
     "data": {
      "text/plain": [
       "\"<Expr ['*'] at 0x137749EE0>\""
      ]
     },
     "execution_count": 52,
     "metadata": {},
     "output_type": "execute_result"
    }
   ],
   "source": [
    "repr(e)"
   ]
  },
  {
   "cell_type": "code",
   "execution_count": 53,
   "metadata": {},
   "outputs": [
    {
     "data": {
      "text/plain": [
       "'*'"
      ]
     },
     "execution_count": 53,
     "metadata": {},
     "output_type": "execute_result"
    }
   ],
   "source": [
    "str(e)"
   ]
  },
  {
   "cell_type": "code",
   "execution_count": 54,
   "metadata": {},
   "outputs": [
    {
     "data": {
      "text/html": [
       "col(\"asdf\")"
      ],
      "text/plain": [
       "<Expr ['col(\"asdf\")'] at 0x136430640>"
      ]
     },
     "execution_count": 54,
     "metadata": {},
     "output_type": "execute_result"
    }
   ],
   "source": [
    "pl.col(\"asdf\")"
   ]
  },
  {
   "cell_type": "code",
   "execution_count": 55,
   "metadata": {},
   "outputs": [
    {
     "data": {
      "text/plain": [
       "'col(\"asdf\")'"
      ]
     },
     "execution_count": 55,
     "metadata": {},
     "output_type": "execute_result"
    }
   ],
   "source": [
    "str(pl.col(\"asdf\"))"
   ]
  },
  {
   "cell_type": "code",
   "execution_count": 56,
   "metadata": {},
   "outputs": [
    {
     "data": {
      "text/plain": [
       "'<Expr [\\'col(\"asdf\")\\'] at 0x1376B9EE0>'"
      ]
     },
     "execution_count": 56,
     "metadata": {},
     "output_type": "execute_result"
    }
   ],
   "source": [
    "repr(pl.col(\"asdf\"))"
   ]
  },
  {
   "cell_type": "code",
   "execution_count": 58,
   "metadata": {},
   "outputs": [
    {
     "ename": "AttributeError",
     "evalue": "'Expr' object has no attribute 'to_struc'",
     "output_type": "error",
     "traceback": [
      "\u001b[0;31m---------------------------------------------------------------------------\u001b[0m",
      "\u001b[0;31mAttributeError\u001b[0m                            Traceback (most recent call last)",
      "Cell \u001b[0;32mIn[58], line 1\u001b[0m\n\u001b[0;32m----> 1\u001b[0m \u001b[43mpl\u001b[49m\u001b[38;5;241;43m.\u001b[39;49m\u001b[43mall\u001b[49m\u001b[43m(\u001b[49m\u001b[43m)\u001b[49m\u001b[38;5;241;43m.\u001b[39;49m\u001b[43mto_struc\u001b[49m()\n",
      "\u001b[0;31mAttributeError\u001b[0m: 'Expr' object has no attribute 'to_struc'"
     ]
    }
   ],
   "source": [
    "pl.all().to_struc()"
   ]
  },
  {
   "cell_type": "code",
   "execution_count": null,
   "metadata": {},
   "outputs": [],
   "source": []
  }
 ],
 "metadata": {
  "kernelspec": {
   "display_name": ".venv",
   "language": "python",
   "name": "python3"
  },
  "language_info": {
   "codemirror_mode": {
    "name": "ipython",
    "version": 3
   },
   "file_extension": ".py",
   "mimetype": "text/x-python",
   "name": "python",
   "nbconvert_exporter": "python",
   "pygments_lexer": "ipython3",
   "version": "3.9.20"
  }
 },
 "nbformat": 4,
 "nbformat_minor": 2
}
