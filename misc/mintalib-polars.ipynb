{
 "cells": [
  {
   "cell_type": "code",
   "execution_count": 52,
   "metadata": {},
   "outputs": [
    {
     "data": {
      "text/html": [
       "<div><style>\n",
       ".dataframe > thead > tr,\n",
       ".dataframe > tbody > tr {\n",
       "  text-align: right;\n",
       "  white-space: pre-wrap;\n",
       "}\n",
       "</style>\n",
       "<small>shape: (1_258, 7)</small><table border=\"1\" class=\"dataframe\"><thead><tr><th>open</th><th>high</th><th>low</th><th>close</th><th>volume</th><th>dividends</th><th>stock splits</th></tr><tr><td>f64</td><td>f64</td><td>f64</td><td>f64</td><td>i64</td><td>f64</td><td>f64</td></tr></thead><tbody><tr><td>67.742592</td><td>68.149773</td><td>67.609291</td><td>67.868622</td><td>98369200</td><td>0.0</td><td>0.0</td></tr><tr><td>68.404266</td><td>68.506058</td><td>67.514763</td><td>67.72805</td><td>275978000</td><td>0.0</td><td>0.0</td></tr><tr><td>67.992248</td><td>68.893868</td><td>67.953468</td><td>68.833275</td><td>98572000</td><td>0.0</td><td>0.0</td></tr><tr><td>69.000473</td><td>69.04895</td><td>68.57148</td><td>68.898674</td><td>48478800</td><td>0.0</td><td>0.0</td></tr><tr><td>69.032005</td><td>70.282638</td><td>69.002922</td><td>70.265671</td><td>93121200</td><td>0.0</td><td>0.0</td></tr><tr><td>&hellip;</td><td>&hellip;</td><td>&hellip;</td><td>&hellip;</td><td>&hellip;</td><td>&hellip;</td><td>&hellip;</td></tr><tr><td>246.889999</td><td>248.740005</td><td>245.679993</td><td>247.960007</td><td>32777500</td><td>0.0</td><td>0.0</td></tr><tr><td>247.820007</td><td>249.289993</td><td>246.240005</td><td>248.130005</td><td>33155300</td><td>0.0</td><td>0.0</td></tr><tr><td>247.990005</td><td>251.380005</td><td>247.649994</td><td>251.039993</td><td>51694800</td><td>0.0</td><td>0.0</td></tr><tr><td>250.080002</td><td>253.830002</td><td>249.779999</td><td>253.479996</td><td>51356400</td><td>0.0</td><td>0.0</td></tr><tr><td>252.220001</td><td>254.279999</td><td>247.75</td><td>248.050003</td><td>55988391</td><td>0.0</td><td>0.0</td></tr></tbody></table></div>"
      ],
      "text/plain": [
       "shape: (1_258, 7)\n",
       "┌────────────┬────────────┬────────────┬────────────┬───────────┬───────────┬──────────────┐\n",
       "│ open       ┆ high       ┆ low        ┆ close      ┆ volume    ┆ dividends ┆ stock splits │\n",
       "│ ---        ┆ ---        ┆ ---        ┆ ---        ┆ ---       ┆ ---       ┆ ---          │\n",
       "│ f64        ┆ f64        ┆ f64        ┆ f64        ┆ i64       ┆ f64       ┆ f64          │\n",
       "╞════════════╪════════════╪════════════╪════════════╪═══════════╪═══════════╪══════════════╡\n",
       "│ 67.742592  ┆ 68.149773  ┆ 67.609291  ┆ 67.868622  ┆ 98369200  ┆ 0.0       ┆ 0.0          │\n",
       "│ 68.404266  ┆ 68.506058  ┆ 67.514763  ┆ 67.72805   ┆ 275978000 ┆ 0.0       ┆ 0.0          │\n",
       "│ 67.992248  ┆ 68.893868  ┆ 67.953468  ┆ 68.833275  ┆ 98572000  ┆ 0.0       ┆ 0.0          │\n",
       "│ 69.000473  ┆ 69.04895   ┆ 68.57148   ┆ 68.898674  ┆ 48478800  ┆ 0.0       ┆ 0.0          │\n",
       "│ 69.032005  ┆ 70.282638  ┆ 69.002922  ┆ 70.265671  ┆ 93121200  ┆ 0.0       ┆ 0.0          │\n",
       "│ …          ┆ …          ┆ …          ┆ …          ┆ …         ┆ …         ┆ …            │\n",
       "│ 246.889999 ┆ 248.740005 ┆ 245.679993 ┆ 247.960007 ┆ 32777500  ┆ 0.0       ┆ 0.0          │\n",
       "│ 247.820007 ┆ 249.289993 ┆ 246.240005 ┆ 248.130005 ┆ 33155300  ┆ 0.0       ┆ 0.0          │\n",
       "│ 247.990005 ┆ 251.380005 ┆ 247.649994 ┆ 251.039993 ┆ 51694800  ┆ 0.0       ┆ 0.0          │\n",
       "│ 250.080002 ┆ 253.830002 ┆ 249.779999 ┆ 253.479996 ┆ 51356400  ┆ 0.0       ┆ 0.0          │\n",
       "│ 252.220001 ┆ 254.279999 ┆ 247.75     ┆ 248.050003 ┆ 55988391  ┆ 0.0       ┆ 0.0          │\n",
       "└────────────┴────────────┴────────────┴────────────┴───────────┴───────────┴──────────────┘"
      ]
     },
     "execution_count": 52,
     "metadata": {},
     "output_type": "execute_result"
    }
   ],
   "source": [
    "import numpy as np\n",
    "import polars as pl\n",
    "from polars import col\n",
    "\n",
    "import yfinance as yf\n",
    "\n",
    "from mintalib.core import calc_sma\n",
    "from mintalib.indicators import SMA\n",
    "\n",
    "prices = yf.Ticker('AAPL').history('5y')\n",
    "prices = prices.rename(columns=str.lower).rename_axis(index=str.lower)\n",
    "prices = pl.from_pandas(prices)\n",
    "prices\n",
    "\n"
   ]
  },
  {
   "cell_type": "code",
   "execution_count": 53,
   "metadata": {},
   "outputs": [
    {
     "data": {
      "text/html": [
       "<div><style>\n",
       ".dataframe > thead > tr,\n",
       ".dataframe > tbody > tr {\n",
       "  text-align: right;\n",
       "  white-space: pre-wrap;\n",
       "}\n",
       "</style>\n",
       "<small>shape: (1_258, 8)</small><table border=\"1\" class=\"dataframe\"><thead><tr><th>open</th><th>high</th><th>low</th><th>close</th><th>volume</th><th>dividends</th><th>stock splits</th><th>logp</th></tr><tr><td>f64</td><td>f64</td><td>f64</td><td>f64</td><td>i64</td><td>f64</td><td>f64</td><td>f64</td></tr></thead><tbody><tr><td>67.742592</td><td>68.149773</td><td>67.609291</td><td>67.868622</td><td>98369200</td><td>0.0</td><td>0.0</td><td>4.217574</td></tr><tr><td>68.404266</td><td>68.506058</td><td>67.514763</td><td>67.72805</td><td>275978000</td><td>0.0</td><td>0.0</td><td>4.2155</td></tr><tr><td>67.992248</td><td>68.893868</td><td>67.953468</td><td>68.833275</td><td>98572000</td><td>0.0</td><td>0.0</td><td>4.231687</td></tr><tr><td>69.000473</td><td>69.04895</td><td>68.57148</td><td>68.898674</td><td>48478800</td><td>0.0</td><td>0.0</td><td>4.232637</td></tr><tr><td>69.032005</td><td>70.282638</td><td>69.002922</td><td>70.265671</td><td>93121200</td><td>0.0</td><td>0.0</td><td>4.252283</td></tr><tr><td>&hellip;</td><td>&hellip;</td><td>&hellip;</td><td>&hellip;</td><td>&hellip;</td><td>&hellip;</td><td>&hellip;</td><td>&hellip;</td></tr><tr><td>246.889999</td><td>248.740005</td><td>245.679993</td><td>247.960007</td><td>32777500</td><td>0.0</td><td>0.0</td><td>5.513267</td></tr><tr><td>247.820007</td><td>249.289993</td><td>246.240005</td><td>248.130005</td><td>33155300</td><td>0.0</td><td>0.0</td><td>5.513953</td></tr><tr><td>247.990005</td><td>251.380005</td><td>247.649994</td><td>251.039993</td><td>51694800</td><td>0.0</td><td>0.0</td><td>5.525612</td></tr><tr><td>250.080002</td><td>253.830002</td><td>249.779999</td><td>253.479996</td><td>51356400</td><td>0.0</td><td>0.0</td><td>5.535285</td></tr><tr><td>252.220001</td><td>254.279999</td><td>247.75</td><td>248.050003</td><td>55988391</td><td>0.0</td><td>0.0</td><td>5.51363</td></tr></tbody></table></div>"
      ],
      "text/plain": [
       "shape: (1_258, 8)\n",
       "┌─────────────┬─────────────┬─────────────┬────────────┬───────────┬───────────┬────────┬──────────┐\n",
       "│ open        ┆ high        ┆ low         ┆ close      ┆ volume    ┆ dividends ┆ stock  ┆ logp     │\n",
       "│ ---         ┆ ---         ┆ ---         ┆ ---        ┆ ---       ┆ ---       ┆ splits ┆ ---      │\n",
       "│ f64         ┆ f64         ┆ f64         ┆ f64        ┆ i64       ┆ f64       ┆ ---    ┆ f64      │\n",
       "│             ┆             ┆             ┆            ┆           ┆           ┆ f64    ┆          │\n",
       "╞═════════════╪═════════════╪═════════════╪════════════╪═══════════╪═══════════╪════════╪══════════╡\n",
       "│ 67.742592   ┆ 68.149773   ┆ 67.609291   ┆ 67.868622  ┆ 98369200  ┆ 0.0       ┆ 0.0    ┆ 4.217574 │\n",
       "│ 68.404266   ┆ 68.506058   ┆ 67.514763   ┆ 67.72805   ┆ 275978000 ┆ 0.0       ┆ 0.0    ┆ 4.2155   │\n",
       "│ 67.992248   ┆ 68.893868   ┆ 67.953468   ┆ 68.833275  ┆ 98572000  ┆ 0.0       ┆ 0.0    ┆ 4.231687 │\n",
       "│ 69.000473   ┆ 69.04895    ┆ 68.57148    ┆ 68.898674  ┆ 48478800  ┆ 0.0       ┆ 0.0    ┆ 4.232637 │\n",
       "│ 69.032005   ┆ 70.282638   ┆ 69.002922   ┆ 70.265671  ┆ 93121200  ┆ 0.0       ┆ 0.0    ┆ 4.252283 │\n",
       "│ …           ┆ …           ┆ …           ┆ …          ┆ …         ┆ …         ┆ …      ┆ …        │\n",
       "│ 246.889999  ┆ 248.740005  ┆ 245.679993  ┆ 247.960007 ┆ 32777500  ┆ 0.0       ┆ 0.0    ┆ 5.513267 │\n",
       "│ 247.820007  ┆ 249.289993  ┆ 246.240005  ┆ 248.130005 ┆ 33155300  ┆ 0.0       ┆ 0.0    ┆ 5.513953 │\n",
       "│ 247.990005  ┆ 251.380005  ┆ 247.649994  ┆ 251.039993 ┆ 51694800  ┆ 0.0       ┆ 0.0    ┆ 5.525612 │\n",
       "│ 250.080002  ┆ 253.830002  ┆ 249.779999  ┆ 253.479996 ┆ 51356400  ┆ 0.0       ┆ 0.0    ┆ 5.535285 │\n",
       "│ 252.220001  ┆ 254.279999  ┆ 247.75      ┆ 248.050003 ┆ 55988391  ┆ 0.0       ┆ 0.0    ┆ 5.51363  │\n",
       "└─────────────┴─────────────┴─────────────┴────────────┴───────────┴───────────┴────────┴──────────┘"
      ]
     },
     "execution_count": 53,
     "metadata": {},
     "output_type": "execute_result"
    }
   ],
   "source": [
    "result = prices.with_columns(  # Add columns to dataframe.\n",
    "    logp = np.log(col('close')),  # Calculate the 50 day SMA from the daily close values.\n",
    ")\n",
    "\n",
    "result"
   ]
  },
  {
   "cell_type": "code",
   "execution_count": 55,
   "metadata": {},
   "outputs": [
    {
     "data": {
      "text/html": [
       "<div><style>\n",
       ".dataframe > thead > tr,\n",
       ".dataframe > tbody > tr {\n",
       "  text-align: right;\n",
       "  white-space: pre-wrap;\n",
       "}\n",
       "</style>\n",
       "<small>shape: (1_258,)</small><table border=\"1\" class=\"dataframe\"><thead><tr><th></th></tr><tr><td>f64</td></tr></thead><tbody><tr><td>NaN</td></tr><tr><td>NaN</td></tr><tr><td>NaN</td></tr><tr><td>NaN</td></tr><tr><td>NaN</td></tr><tr><td>&hellip;</td></tr><tr><td>236.859999</td></tr><tr><td>237.855499</td></tr><tr><td>239.157499</td></tr><tr><td>240.430499</td></tr><tr><td>241.418999</td></tr></tbody></table></div>"
      ],
      "text/plain": [
       "shape: (1_258,)\n",
       "Series: '' [f64]\n",
       "[\n",
       "\tNaN\n",
       "\tNaN\n",
       "\tNaN\n",
       "\tNaN\n",
       "\tNaN\n",
       "\t…\n",
       "\t236.859999\n",
       "\t237.855499\n",
       "\t239.157499\n",
       "\t240.430499\n",
       "\t241.418999\n",
       "]"
      ]
     },
     "execution_count": 55,
     "metadata": {},
     "output_type": "execute_result"
    }
   ],
   "source": [
    "res = SMA(20) @ prices\n",
    "res\n"
   ]
  },
  {
   "cell_type": "code",
   "execution_count": 51,
   "metadata": {},
   "outputs": [
    {
     "data": {
      "text/html": [
       "<div><style>\n",
       ".dataframe > thead > tr,\n",
       ".dataframe > tbody > tr {\n",
       "  text-align: right;\n",
       "  white-space: pre-wrap;\n",
       "}\n",
       "</style>\n",
       "<small>shape: (1_258, 8)</small><table border=\"1\" class=\"dataframe\"><thead><tr><th>open</th><th>high</th><th>low</th><th>close</th><th>volume</th><th>dividends</th><th>stock splits</th><th>sma20</th></tr><tr><td>f64</td><td>f64</td><td>f64</td><td>f64</td><td>i64</td><td>f64</td><td>f64</td><td>f64</td></tr></thead><tbody><tr><td>67.742577</td><td>68.149757</td><td>67.609276</td><td>67.868607</td><td>98369200</td><td>0.0</td><td>0.0</td><td>NaN</td></tr><tr><td>68.404274</td><td>68.506066</td><td>67.51477</td><td>67.728058</td><td>275978000</td><td>0.0</td><td>0.0</td><td>NaN</td></tr><tr><td>67.992226</td><td>68.893845</td><td>67.953445</td><td>68.833252</td><td>98572000</td><td>0.0</td><td>0.0</td><td>NaN</td></tr><tr><td>69.000488</td><td>69.048965</td><td>68.571495</td><td>68.898689</td><td>48478800</td><td>0.0</td><td>0.0</td><td>NaN</td></tr><tr><td>69.03199</td><td>70.282623</td><td>69.002907</td><td>70.265656</td><td>93121200</td><td>0.0</td><td>0.0</td><td>NaN</td></tr><tr><td>&hellip;</td><td>&hellip;</td><td>&hellip;</td><td>&hellip;</td><td>&hellip;</td><td>&hellip;</td><td>&hellip;</td><td>&hellip;</td></tr><tr><td>246.889999</td><td>248.740005</td><td>245.679993</td><td>247.960007</td><td>32777500</td><td>0.0</td><td>0.0</td><td>236.859999</td></tr><tr><td>247.820007</td><td>249.289993</td><td>246.240005</td><td>248.130005</td><td>33155300</td><td>0.0</td><td>0.0</td><td>237.855499</td></tr><tr><td>247.990005</td><td>251.380005</td><td>247.649994</td><td>251.039993</td><td>51694800</td><td>0.0</td><td>0.0</td><td>239.157499</td></tr><tr><td>250.080002</td><td>253.830002</td><td>249.779999</td><td>253.479996</td><td>51356400</td><td>0.0</td><td>0.0</td><td>240.430499</td></tr><tr><td>252.220001</td><td>254.279999</td><td>247.75</td><td>248.050003</td><td>55988391</td><td>0.0</td><td>0.0</td><td>241.418999</td></tr></tbody></table></div>"
      ],
      "text/plain": [
       "shape: (1_258, 8)\n",
       "┌─────────────┬────────────┬────────────┬────────────┬───────────┬───────────┬────────┬────────────┐\n",
       "│ open        ┆ high       ┆ low        ┆ close      ┆ volume    ┆ dividends ┆ stock  ┆ sma20      │\n",
       "│ ---         ┆ ---        ┆ ---        ┆ ---        ┆ ---       ┆ ---       ┆ splits ┆ ---        │\n",
       "│ f64         ┆ f64        ┆ f64        ┆ f64        ┆ i64       ┆ f64       ┆ ---    ┆ f64        │\n",
       "│             ┆            ┆            ┆            ┆           ┆           ┆ f64    ┆            │\n",
       "╞═════════════╪════════════╪════════════╪════════════╪═══════════╪═══════════╪════════╪════════════╡\n",
       "│ 67.742577   ┆ 68.149757  ┆ 67.609276  ┆ 67.868607  ┆ 98369200  ┆ 0.0       ┆ 0.0    ┆ NaN        │\n",
       "│ 68.404274   ┆ 68.506066  ┆ 67.51477   ┆ 67.728058  ┆ 275978000 ┆ 0.0       ┆ 0.0    ┆ NaN        │\n",
       "│ 67.992226   ┆ 68.893845  ┆ 67.953445  ┆ 68.833252  ┆ 98572000  ┆ 0.0       ┆ 0.0    ┆ NaN        │\n",
       "│ 69.000488   ┆ 69.048965  ┆ 68.571495  ┆ 68.898689  ┆ 48478800  ┆ 0.0       ┆ 0.0    ┆ NaN        │\n",
       "│ 69.03199    ┆ 70.282623  ┆ 69.002907  ┆ 70.265656  ┆ 93121200  ┆ 0.0       ┆ 0.0    ┆ NaN        │\n",
       "│ …           ┆ …          ┆ …          ┆ …          ┆ …         ┆ …         ┆ …      ┆ …          │\n",
       "│ 246.889999  ┆ 248.740005 ┆ 245.679993 ┆ 247.960007 ┆ 32777500  ┆ 0.0       ┆ 0.0    ┆ 236.859999 │\n",
       "│ 247.820007  ┆ 249.289993 ┆ 246.240005 ┆ 248.130005 ┆ 33155300  ┆ 0.0       ┆ 0.0    ┆ 237.855499 │\n",
       "│ 247.990005  ┆ 251.380005 ┆ 247.649994 ┆ 251.039993 ┆ 51694800  ┆ 0.0       ┆ 0.0    ┆ 239.157499 │\n",
       "│ 250.080002  ┆ 253.830002 ┆ 249.779999 ┆ 253.479996 ┆ 51356400  ┆ 0.0       ┆ 0.0    ┆ 240.430499 │\n",
       "│ 252.220001  ┆ 254.279999 ┆ 247.75     ┆ 248.050003 ┆ 55988391  ┆ 0.0       ┆ 0.0    ┆ 241.418999 │\n",
       "└─────────────┴────────────┴────────────┴────────────┴───────────┴───────────┴────────┴────────────┘"
      ]
     },
     "execution_count": 51,
     "metadata": {},
     "output_type": "execute_result"
    }
   ],
   "source": [
    "\n",
    "\n",
    "result = prices.with_columns(  # Add columns to dataframe.\n",
    "    sma20 = col('close').map_batches(SMA(20)),  # Calculate the 50 day SMA from the daily close values.\n",
    ")\n",
    "\n",
    "result"
   ]
  },
  {
   "cell_type": "code",
   "execution_count": null,
   "metadata": {},
   "outputs": [],
   "source": []
  }
 ],
 "metadata": {
  "kernelspec": {
   "display_name": ".venv",
   "language": "python",
   "name": "python3"
  },
  "language_info": {
   "codemirror_mode": {
    "name": "ipython",
    "version": 3
   },
   "file_extension": ".py",
   "mimetype": "text/x-python",
   "name": "python",
   "nbconvert_exporter": "python",
   "pygments_lexer": "ipython3",
   "version": "3.9.6"
  }
 },
 "nbformat": 4,
 "nbformat_minor": 2
}
