{
 "cells": [
  {
   "cell_type": "code",
   "execution_count": 92,
   "metadata": {},
   "outputs": [
    {
     "data": {
      "text/html": [
       "<div><style>\n",
       ".dataframe > thead > tr,\n",
       ".dataframe > tbody > tr {\n",
       "  text-align: right;\n",
       "  white-space: pre-wrap;\n",
       "}\n",
       "</style>\n",
       "<small>shape: (1_258, 8)</small><table border=\"1\" class=\"dataframe\"><thead><tr><th>date</th><th>open</th><th>high</th><th>low</th><th>close</th><th>volume</th><th>dividends</th><th>stock splits</th></tr><tr><td>datetime[ns, America/New_York]</td><td>f64</td><td>f64</td><td>f64</td><td>f64</td><td>i64</td><td>f64</td><td>f64</td></tr></thead><tbody><tr><td>2019-12-23 00:00:00 EST</td><td>67.992226</td><td>68.893845</td><td>67.953445</td><td>68.833252</td><td>98572000</td><td>0.0</td><td>0.0</td></tr><tr><td>2019-12-24 00:00:00 EST</td><td>69.000481</td><td>69.048958</td><td>68.571487</td><td>68.898682</td><td>48478800</td><td>0.0</td><td>0.0</td></tr><tr><td>2019-12-26 00:00:00 EST</td><td>69.031983</td><td>70.282616</td><td>69.002899</td><td>70.265648</td><td>93121200</td><td>0.0</td><td>0.0</td></tr><tr><td>2019-12-27 00:00:00 EST</td><td>70.558945</td><td>71.249703</td><td>69.831833</td><td>70.239014</td><td>146266000</td><td>0.0</td><td>0.0</td></tr><tr><td>2019-12-30 00:00:00 EST</td><td>70.156578</td><td>70.939438</td><td>69.128929</td><td>70.655861</td><td>144114400</td><td>0.0</td><td>0.0</td></tr><tr><td>&hellip;</td><td>&hellip;</td><td>&hellip;</td><td>&hellip;</td><td>&hellip;</td><td>&hellip;</td><td>&hellip;</td><td>&hellip;</td></tr><tr><td>2024-12-16 00:00:00 EST</td><td>247.990005</td><td>251.380005</td><td>247.649994</td><td>251.039993</td><td>51694800</td><td>0.0</td><td>0.0</td></tr><tr><td>2024-12-17 00:00:00 EST</td><td>250.080002</td><td>253.830002</td><td>249.779999</td><td>253.479996</td><td>51356400</td><td>0.0</td><td>0.0</td></tr><tr><td>2024-12-18 00:00:00 EST</td><td>252.160004</td><td>254.279999</td><td>247.740005</td><td>248.050003</td><td>56774100</td><td>0.0</td><td>0.0</td></tr><tr><td>2024-12-19 00:00:00 EST</td><td>247.5</td><td>252.0</td><td>247.089996</td><td>249.789993</td><td>60882300</td><td>0.0</td><td>0.0</td></tr><tr><td>2024-12-20 00:00:00 EST</td><td>248.039993</td><td>255.0</td><td>245.690002</td><td>254.490005</td><td>146890100</td><td>0.0</td><td>0.0</td></tr></tbody></table></div>"
      ],
      "text/plain": [
       "shape: (1_258, 8)\n",
       "┌─────────────┬────────────┬────────────┬────────────┬────────────┬───────────┬───────────┬────────┐\n",
       "│ date        ┆ open       ┆ high       ┆ low        ┆ close      ┆ volume    ┆ dividends ┆ stock  │\n",
       "│ ---         ┆ ---        ┆ ---        ┆ ---        ┆ ---        ┆ ---       ┆ ---       ┆ splits │\n",
       "│ datetime[ns ┆ f64        ┆ f64        ┆ f64        ┆ f64        ┆ i64       ┆ f64       ┆ ---    │\n",
       "│ , America/N ┆            ┆            ┆            ┆            ┆           ┆           ┆ f64    │\n",
       "│ ew_York]    ┆            ┆            ┆            ┆            ┆           ┆           ┆        │\n",
       "╞═════════════╪════════════╪════════════╪════════════╪════════════╪═══════════╪═══════════╪════════╡\n",
       "│ 2019-12-23  ┆ 67.992226  ┆ 68.893845  ┆ 67.953445  ┆ 68.833252  ┆ 98572000  ┆ 0.0       ┆ 0.0    │\n",
       "│ 00:00:00    ┆            ┆            ┆            ┆            ┆           ┆           ┆        │\n",
       "│ EST         ┆            ┆            ┆            ┆            ┆           ┆           ┆        │\n",
       "│ 2019-12-24  ┆ 69.000481  ┆ 69.048958  ┆ 68.571487  ┆ 68.898682  ┆ 48478800  ┆ 0.0       ┆ 0.0    │\n",
       "│ 00:00:00    ┆            ┆            ┆            ┆            ┆           ┆           ┆        │\n",
       "│ EST         ┆            ┆            ┆            ┆            ┆           ┆           ┆        │\n",
       "│ 2019-12-26  ┆ 69.031983  ┆ 70.282616  ┆ 69.002899  ┆ 70.265648  ┆ 93121200  ┆ 0.0       ┆ 0.0    │\n",
       "│ 00:00:00    ┆            ┆            ┆            ┆            ┆           ┆           ┆        │\n",
       "│ EST         ┆            ┆            ┆            ┆            ┆           ┆           ┆        │\n",
       "│ 2019-12-27  ┆ 70.558945  ┆ 71.249703  ┆ 69.831833  ┆ 70.239014  ┆ 146266000 ┆ 0.0       ┆ 0.0    │\n",
       "│ 00:00:00    ┆            ┆            ┆            ┆            ┆           ┆           ┆        │\n",
       "│ EST         ┆            ┆            ┆            ┆            ┆           ┆           ┆        │\n",
       "│ 2019-12-30  ┆ 70.156578  ┆ 70.939438  ┆ 69.128929  ┆ 70.655861  ┆ 144114400 ┆ 0.0       ┆ 0.0    │\n",
       "│ 00:00:00    ┆            ┆            ┆            ┆            ┆           ┆           ┆        │\n",
       "│ EST         ┆            ┆            ┆            ┆            ┆           ┆           ┆        │\n",
       "│ …           ┆ …          ┆ …          ┆ …          ┆ …          ┆ …         ┆ …         ┆ …      │\n",
       "│ 2024-12-16  ┆ 247.990005 ┆ 251.380005 ┆ 247.649994 ┆ 251.039993 ┆ 51694800  ┆ 0.0       ┆ 0.0    │\n",
       "│ 00:00:00    ┆            ┆            ┆            ┆            ┆           ┆           ┆        │\n",
       "│ EST         ┆            ┆            ┆            ┆            ┆           ┆           ┆        │\n",
       "│ 2024-12-17  ┆ 250.080002 ┆ 253.830002 ┆ 249.779999 ┆ 253.479996 ┆ 51356400  ┆ 0.0       ┆ 0.0    │\n",
       "│ 00:00:00    ┆            ┆            ┆            ┆            ┆           ┆           ┆        │\n",
       "│ EST         ┆            ┆            ┆            ┆            ┆           ┆           ┆        │\n",
       "│ 2024-12-18  ┆ 252.160004 ┆ 254.279999 ┆ 247.740005 ┆ 248.050003 ┆ 56774100  ┆ 0.0       ┆ 0.0    │\n",
       "│ 00:00:00    ┆            ┆            ┆            ┆            ┆           ┆           ┆        │\n",
       "│ EST         ┆            ┆            ┆            ┆            ┆           ┆           ┆        │\n",
       "│ 2024-12-19  ┆ 247.5      ┆ 252.0      ┆ 247.089996 ┆ 249.789993 ┆ 60882300  ┆ 0.0       ┆ 0.0    │\n",
       "│ 00:00:00    ┆            ┆            ┆            ┆            ┆           ┆           ┆        │\n",
       "│ EST         ┆            ┆            ┆            ┆            ┆           ┆           ┆        │\n",
       "│ 2024-12-20  ┆ 248.039993 ┆ 255.0      ┆ 245.690002 ┆ 254.490005 ┆ 146890100 ┆ 0.0       ┆ 0.0    │\n",
       "│ 00:00:00    ┆            ┆            ┆            ┆            ┆           ┆           ┆        │\n",
       "│ EST         ┆            ┆            ┆            ┆            ┆           ┆           ┆        │\n",
       "└─────────────┴────────────┴────────────┴────────────┴────────────┴───────────┴───────────┴────────┘"
      ]
     },
     "execution_count": 92,
     "metadata": {},
     "output_type": "execute_result"
    }
   ],
   "source": [
    "import polars as pl\n",
    "from polars import col\n",
    "\n",
    "import yfinance as yf\n",
    "\n",
    "prices = yf.Ticker('AAPL').history('5y')\n",
    "prices = prices.rename(columns=str.lower).rename_axis(index=str.lower)\n",
    "prices = pl.from_pandas(prices, include_index=True)\n",
    "prices\n",
    "\n",
    "\n",
    "\n",
    "# Links\n",
    "# https://docs.pola.rs/user-guide/expressions/user-defined-python-functions/#combining-multiple-column-values"
   ]
  },
  {
   "cell_type": "code",
   "execution_count": 93,
   "metadata": {},
   "outputs": [
    {
     "data": {
      "text/html": [
       "<div><style>\n",
       ".dataframe > thead > tr,\n",
       ".dataframe > tbody > tr {\n",
       "  text-align: right;\n",
       "  white-space: pre-wrap;\n",
       "}\n",
       "</style>\n",
       "<small>shape: (1_258, 10)</small><table border=\"1\" class=\"dataframe\"><thead><tr><th>date</th><th>open</th><th>high</th><th>low</th><th>close</th><th>volume</th><th>dividends</th><th>stock splits</th><th>sma20</th><th>sma50</th></tr><tr><td>datetime[ns, America/New_York]</td><td>f64</td><td>f64</td><td>f64</td><td>f64</td><td>i64</td><td>f64</td><td>f64</td><td>f64</td><td>f64</td></tr></thead><tbody><tr><td>2019-12-23 00:00:00 EST</td><td>67.992226</td><td>68.893845</td><td>67.953445</td><td>68.833252</td><td>98572000</td><td>0.0</td><td>0.0</td><td>NaN</td><td>NaN</td></tr><tr><td>2019-12-24 00:00:00 EST</td><td>69.000481</td><td>69.048958</td><td>68.571487</td><td>68.898682</td><td>48478800</td><td>0.0</td><td>0.0</td><td>NaN</td><td>NaN</td></tr><tr><td>2019-12-26 00:00:00 EST</td><td>69.031983</td><td>70.282616</td><td>69.002899</td><td>70.265648</td><td>93121200</td><td>0.0</td><td>0.0</td><td>NaN</td><td>NaN</td></tr><tr><td>2019-12-27 00:00:00 EST</td><td>70.558945</td><td>71.249703</td><td>69.831833</td><td>70.239014</td><td>146266000</td><td>0.0</td><td>0.0</td><td>NaN</td><td>NaN</td></tr><tr><td>2019-12-30 00:00:00 EST</td><td>70.156578</td><td>70.939438</td><td>69.128929</td><td>70.655861</td><td>144114400</td><td>0.0</td><td>0.0</td><td>NaN</td><td>NaN</td></tr><tr><td>&hellip;</td><td>&hellip;</td><td>&hellip;</td><td>&hellip;</td><td>&hellip;</td><td>&hellip;</td><td>&hellip;</td><td>&hellip;</td><td>&hellip;</td><td>&hellip;</td></tr><tr><td>2024-12-16 00:00:00 EST</td><td>247.990005</td><td>251.380005</td><td>247.649994</td><td>251.039993</td><td>51694800</td><td>0.0</td><td>0.0</td><td>239.157499</td><td>232.705213</td></tr><tr><td>2024-12-17 00:00:00 EST</td><td>250.080002</td><td>253.830002</td><td>249.779999</td><td>253.479996</td><td>51356400</td><td>0.0</td><td>0.0</td><td>240.430499</td><td>233.345886</td></tr><tr><td>2024-12-18 00:00:00 EST</td><td>252.160004</td><td>254.279999</td><td>247.740005</td><td>248.050003</td><td>56774100</td><td>0.0</td><td>0.0</td><td>241.418999</td><td>233.796448</td></tr><tr><td>2024-12-19 00:00:00 EST</td><td>247.5</td><td>252.0</td><td>247.089996</td><td>249.789993</td><td>60882300</td><td>0.0</td><td>0.0</td><td>242.458498</td><td>234.206494</td></tr><tr><td>2024-12-20 00:00:00 EST</td><td>248.039993</td><td>255.0</td><td>245.690002</td><td>254.490005</td><td>146890100</td><td>0.0</td><td>0.0</td><td>243.756998</td><td>234.720528</td></tr></tbody></table></div>"
      ],
      "text/plain": [
       "shape: (1_258, 10)\n",
       "┌───────────┬───────────┬───────────┬───────────┬───┬───────────┬───────────┬───────────┬──────────┐\n",
       "│ date      ┆ open      ┆ high      ┆ low       ┆ … ┆ dividends ┆ stock     ┆ sma20     ┆ sma50    │\n",
       "│ ---       ┆ ---       ┆ ---       ┆ ---       ┆   ┆ ---       ┆ splits    ┆ ---       ┆ ---      │\n",
       "│ datetime[ ┆ f64       ┆ f64       ┆ f64       ┆   ┆ f64       ┆ ---       ┆ f64       ┆ f64      │\n",
       "│ ns, Ameri ┆           ┆           ┆           ┆   ┆           ┆ f64       ┆           ┆          │\n",
       "│ ca/New_Yo ┆           ┆           ┆           ┆   ┆           ┆           ┆           ┆          │\n",
       "│ rk]       ┆           ┆           ┆           ┆   ┆           ┆           ┆           ┆          │\n",
       "╞═══════════╪═══════════╪═══════════╪═══════════╪═══╪═══════════╪═══════════╪═══════════╪══════════╡\n",
       "│ 2019-12-2 ┆ 67.992226 ┆ 68.893845 ┆ 67.953445 ┆ … ┆ 0.0       ┆ 0.0       ┆ NaN       ┆ NaN      │\n",
       "│ 3         ┆           ┆           ┆           ┆   ┆           ┆           ┆           ┆          │\n",
       "│ 00:00:00  ┆           ┆           ┆           ┆   ┆           ┆           ┆           ┆          │\n",
       "│ EST       ┆           ┆           ┆           ┆   ┆           ┆           ┆           ┆          │\n",
       "│ 2019-12-2 ┆ 69.000481 ┆ 69.048958 ┆ 68.571487 ┆ … ┆ 0.0       ┆ 0.0       ┆ NaN       ┆ NaN      │\n",
       "│ 4         ┆           ┆           ┆           ┆   ┆           ┆           ┆           ┆          │\n",
       "│ 00:00:00  ┆           ┆           ┆           ┆   ┆           ┆           ┆           ┆          │\n",
       "│ EST       ┆           ┆           ┆           ┆   ┆           ┆           ┆           ┆          │\n",
       "│ 2019-12-2 ┆ 69.031983 ┆ 70.282616 ┆ 69.002899 ┆ … ┆ 0.0       ┆ 0.0       ┆ NaN       ┆ NaN      │\n",
       "│ 6         ┆           ┆           ┆           ┆   ┆           ┆           ┆           ┆          │\n",
       "│ 00:00:00  ┆           ┆           ┆           ┆   ┆           ┆           ┆           ┆          │\n",
       "│ EST       ┆           ┆           ┆           ┆   ┆           ┆           ┆           ┆          │\n",
       "│ 2019-12-2 ┆ 70.558945 ┆ 71.249703 ┆ 69.831833 ┆ … ┆ 0.0       ┆ 0.0       ┆ NaN       ┆ NaN      │\n",
       "│ 7         ┆           ┆           ┆           ┆   ┆           ┆           ┆           ┆          │\n",
       "│ 00:00:00  ┆           ┆           ┆           ┆   ┆           ┆           ┆           ┆          │\n",
       "│ EST       ┆           ┆           ┆           ┆   ┆           ┆           ┆           ┆          │\n",
       "│ 2019-12-3 ┆ 70.156578 ┆ 70.939438 ┆ 69.128929 ┆ … ┆ 0.0       ┆ 0.0       ┆ NaN       ┆ NaN      │\n",
       "│ 0         ┆           ┆           ┆           ┆   ┆           ┆           ┆           ┆          │\n",
       "│ 00:00:00  ┆           ┆           ┆           ┆   ┆           ┆           ┆           ┆          │\n",
       "│ EST       ┆           ┆           ┆           ┆   ┆           ┆           ┆           ┆          │\n",
       "│ …         ┆ …         ┆ …         ┆ …         ┆ … ┆ …         ┆ …         ┆ …         ┆ …        │\n",
       "│ 2024-12-1 ┆ 247.99000 ┆ 251.38000 ┆ 247.64999 ┆ … ┆ 0.0       ┆ 0.0       ┆ 239.15749 ┆ 232.7052 │\n",
       "│ 6         ┆ 5         ┆ 5         ┆ 4         ┆   ┆           ┆           ┆ 9         ┆ 13       │\n",
       "│ 00:00:00  ┆           ┆           ┆           ┆   ┆           ┆           ┆           ┆          │\n",
       "│ EST       ┆           ┆           ┆           ┆   ┆           ┆           ┆           ┆          │\n",
       "│ 2024-12-1 ┆ 250.08000 ┆ 253.83000 ┆ 249.77999 ┆ … ┆ 0.0       ┆ 0.0       ┆ 240.43049 ┆ 233.3458 │\n",
       "│ 7         ┆ 2         ┆ 2         ┆ 9         ┆   ┆           ┆           ┆ 9         ┆ 86       │\n",
       "│ 00:00:00  ┆           ┆           ┆           ┆   ┆           ┆           ┆           ┆          │\n",
       "│ EST       ┆           ┆           ┆           ┆   ┆           ┆           ┆           ┆          │\n",
       "│ 2024-12-1 ┆ 252.16000 ┆ 254.27999 ┆ 247.74000 ┆ … ┆ 0.0       ┆ 0.0       ┆ 241.41899 ┆ 233.7964 │\n",
       "│ 8         ┆ 4         ┆ 9         ┆ 5         ┆   ┆           ┆           ┆ 9         ┆ 48       │\n",
       "│ 00:00:00  ┆           ┆           ┆           ┆   ┆           ┆           ┆           ┆          │\n",
       "│ EST       ┆           ┆           ┆           ┆   ┆           ┆           ┆           ┆          │\n",
       "│ 2024-12-1 ┆ 247.5     ┆ 252.0     ┆ 247.08999 ┆ … ┆ 0.0       ┆ 0.0       ┆ 242.45849 ┆ 234.2064 │\n",
       "│ 9         ┆           ┆           ┆ 6         ┆   ┆           ┆           ┆ 8         ┆ 94       │\n",
       "│ 00:00:00  ┆           ┆           ┆           ┆   ┆           ┆           ┆           ┆          │\n",
       "│ EST       ┆           ┆           ┆           ┆   ┆           ┆           ┆           ┆          │\n",
       "│ 2024-12-2 ┆ 248.03999 ┆ 255.0     ┆ 245.69000 ┆ … ┆ 0.0       ┆ 0.0       ┆ 243.75699 ┆ 234.7205 │\n",
       "│ 0         ┆ 3         ┆           ┆ 2         ┆   ┆           ┆           ┆ 8         ┆ 28       │\n",
       "│ 00:00:00  ┆           ┆           ┆           ┆   ┆           ┆           ┆           ┆          │\n",
       "│ EST       ┆           ┆           ┆           ┆   ┆           ┆           ┆           ┆          │\n",
       "└───────────┴───────────┴───────────┴───────────┴───┴───────────┴───────────┴───────────┴──────────┘"
      ]
     },
     "execution_count": 93,
     "metadata": {},
     "output_type": "execute_result"
    }
   ],
   "source": [
    "from mintalib.indicators import SMA, ATR, MACD\n",
    "\n",
    "result = prices.with_columns(\n",
    "    sma20 = SMA(20) @ col('close'),\n",
    "    sma50 = SMA(50) @ col('close'),\n",
    ")\n",
    "\n",
    "result"
   ]
  },
  {
   "cell_type": "code",
   "execution_count": 94,
   "metadata": {},
   "outputs": [
    {
     "data": {
      "text/html": [
       "<div><style>\n",
       ".dataframe > thead > tr,\n",
       ".dataframe > tbody > tr {\n",
       "  text-align: right;\n",
       "  white-space: pre-wrap;\n",
       "}\n",
       "</style>\n",
       "<small>shape: (1_258,)</small><table border=\"1\" class=\"dataframe\"><thead><tr><th></th></tr><tr><td>f64</td></tr></thead><tbody><tr><td>NaN</td></tr><tr><td>NaN</td></tr><tr><td>NaN</td></tr><tr><td>NaN</td></tr><tr><td>NaN</td></tr><tr><td>&hellip;</td></tr><tr><td>239.157499</td></tr><tr><td>240.430499</td></tr><tr><td>241.418999</td></tr><tr><td>242.458498</td></tr><tr><td>243.756998</td></tr></tbody></table></div>"
      ],
      "text/plain": [
       "shape: (1_258,)\n",
       "Series: '' [f64]\n",
       "[\n",
       "\tNaN\n",
       "\tNaN\n",
       "\tNaN\n",
       "\tNaN\n",
       "\tNaN\n",
       "\t…\n",
       "\t239.157499\n",
       "\t240.430499\n",
       "\t241.418999\n",
       "\t242.458498\n",
       "\t243.756998\n",
       "]"
      ]
     },
     "execution_count": 94,
     "metadata": {},
     "output_type": "execute_result"
    }
   ],
   "source": [
    "SMA(20) @ prices\n"
   ]
  },
  {
   "cell_type": "code",
   "execution_count": 95,
   "metadata": {},
   "outputs": [
    {
     "data": {
      "text/html": [
       "<div><style>\n",
       ".dataframe > thead > tr,\n",
       ".dataframe > tbody > tr {\n",
       "  text-align: right;\n",
       "  white-space: pre-wrap;\n",
       "}\n",
       "</style>\n",
       "<small>shape: (1_258,)</small><table border=\"1\" class=\"dataframe\"><thead><tr><th></th></tr><tr><td>f64</td></tr></thead><tbody><tr><td>NaN</td></tr><tr><td>NaN</td></tr><tr><td>NaN</td></tr><tr><td>NaN</td></tr><tr><td>NaN</td></tr><tr><td>&hellip;</td></tr><tr><td>3.572153</td></tr><tr><td>3.606285</td></tr><tr><td>3.815836</td></tr><tr><td>3.89399</td></tr><tr><td>4.280848</td></tr></tbody></table></div>"
      ],
      "text/plain": [
       "shape: (1_258,)\n",
       "Series: '' [f64]\n",
       "[\n",
       "\tNaN\n",
       "\tNaN\n",
       "\tNaN\n",
       "\tNaN\n",
       "\tNaN\n",
       "\t…\n",
       "\t3.572153\n",
       "\t3.606285\n",
       "\t3.815836\n",
       "\t3.89399\n",
       "\t4.280848\n",
       "]"
      ]
     },
     "execution_count": 95,
     "metadata": {},
     "output_type": "execute_result"
    }
   ],
   "source": [
    "atr = ATR(14) @ prices\n",
    "atr\n",
    "\n"
   ]
  },
  {
   "cell_type": "code",
   "execution_count": 96,
   "metadata": {},
   "outputs": [
    {
     "data": {
      "text/plain": [
       "False"
      ]
     },
     "execution_count": 96,
     "metadata": {},
     "output_type": "execute_result"
    }
   ],
   "source": [
    "hasattr(atr, 'to_struct')\n"
   ]
  },
  {
   "cell_type": "code",
   "execution_count": 97,
   "metadata": {},
   "outputs": [
    {
     "data": {
      "text/html": [
       "<div><style>\n",
       ".dataframe > thead > tr,\n",
       ".dataframe > tbody > tr {\n",
       "  text-align: right;\n",
       "  white-space: pre-wrap;\n",
       "}\n",
       "</style>\n",
       "<small>shape: (1_258, 3)</small><table border=\"1\" class=\"dataframe\"><thead><tr><th>macd</th><th>macdsignal</th><th>macdhist</th></tr><tr><td>f64</td><td>f64</td><td>f64</td></tr></thead><tbody><tr><td>NaN</td><td>NaN</td><td>NaN</td></tr><tr><td>NaN</td><td>NaN</td><td>NaN</td></tr><tr><td>NaN</td><td>NaN</td><td>NaN</td></tr><tr><td>NaN</td><td>NaN</td><td>NaN</td></tr><tr><td>NaN</td><td>NaN</td><td>NaN</td></tr><tr><td>&hellip;</td><td>&hellip;</td><td>&hellip;</td></tr><tr><td>5.427631</td><td>4.436547</td><td>0.991084</td></tr><tr><td>5.746874</td><td>4.698612</td><td>1.048262</td></tr><tr><td>5.498339</td><td>4.858558</td><td>0.639782</td></tr><tr><td>5.379762</td><td>4.962798</td><td>0.416964</td></tr><tr><td>5.600482</td><td>5.090335</td><td>0.510146</td></tr></tbody></table></div>"
      ],
      "text/plain": [
       "shape: (1_258, 3)\n",
       "┌──────────┬────────────┬──────────┐\n",
       "│ macd     ┆ macdsignal ┆ macdhist │\n",
       "│ ---      ┆ ---        ┆ ---      │\n",
       "│ f64      ┆ f64        ┆ f64      │\n",
       "╞══════════╪════════════╪══════════╡\n",
       "│ NaN      ┆ NaN        ┆ NaN      │\n",
       "│ NaN      ┆ NaN        ┆ NaN      │\n",
       "│ NaN      ┆ NaN        ┆ NaN      │\n",
       "│ NaN      ┆ NaN        ┆ NaN      │\n",
       "│ NaN      ┆ NaN        ┆ NaN      │\n",
       "│ …        ┆ …          ┆ …        │\n",
       "│ 5.427631 ┆ 4.436547   ┆ 0.991084 │\n",
       "│ 5.746874 ┆ 4.698612   ┆ 1.048262 │\n",
       "│ 5.498339 ┆ 4.858558   ┆ 0.639782 │\n",
       "│ 5.379762 ┆ 4.962798   ┆ 0.416964 │\n",
       "│ 5.600482 ┆ 5.090335   ┆ 0.510146 │\n",
       "└──────────┴────────────┴──────────┘"
      ]
     },
     "execution_count": 97,
     "metadata": {},
     "output_type": "execute_result"
    }
   ],
   "source": [
    "\n",
    "\n",
    "macd = MACD() @ prices\n",
    "macd"
   ]
  },
  {
   "cell_type": "code",
   "execution_count": 98,
   "metadata": {},
   "outputs": [
    {
     "data": {
      "text/plain": [
       "True"
      ]
     },
     "execution_count": 98,
     "metadata": {},
     "output_type": "execute_result"
    }
   ],
   "source": [
    "hasattr(macd, 'to_struct')\n"
   ]
  },
  {
   "cell_type": "code",
   "execution_count": 99,
   "metadata": {},
   "outputs": [
    {
     "data": {
      "text/html": [
       "<div><style>\n",
       ".dataframe > thead > tr,\n",
       ".dataframe > tbody > tr {\n",
       "  text-align: right;\n",
       "  white-space: pre-wrap;\n",
       "}\n",
       "</style>\n",
       "<small>shape: (1_258,)</small><table border=\"1\" class=\"dataframe\"><thead><tr><th></th></tr><tr><td>struct[3]</td></tr></thead><tbody><tr><td>{NaN,NaN,NaN}</td></tr><tr><td>{NaN,NaN,NaN}</td></tr><tr><td>{NaN,NaN,NaN}</td></tr><tr><td>{NaN,NaN,NaN}</td></tr><tr><td>{NaN,NaN,NaN}</td></tr><tr><td>&hellip;</td></tr><tr><td>{5.427631,4.436547,0.991084}</td></tr><tr><td>{5.746874,4.698612,1.048262}</td></tr><tr><td>{5.498339,4.858558,0.639782}</td></tr><tr><td>{5.379762,4.962798,0.416964}</td></tr><tr><td>{5.600482,5.090335,0.510146}</td></tr></tbody></table></div>"
      ],
      "text/plain": [
       "shape: (1_258,)\n",
       "Series: '' [struct[3]]\n",
       "[\n",
       "\t{NaN,NaN,NaN}\n",
       "\t{NaN,NaN,NaN}\n",
       "\t{NaN,NaN,NaN}\n",
       "\t{NaN,NaN,NaN}\n",
       "\t{NaN,NaN,NaN}\n",
       "\t…\n",
       "\t{5.427631,4.436547,0.991084}\n",
       "\t{5.746874,4.698612,1.048262}\n",
       "\t{5.498339,4.858558,0.639782}\n",
       "\t{5.379762,4.962798,0.416964}\n",
       "\t{5.600482,5.090335,0.510146}\n",
       "]"
      ]
     },
     "execution_count": 99,
     "metadata": {},
     "output_type": "execute_result"
    }
   ],
   "source": [
    "\n",
    "\n",
    "res = MACD() @ prices\n",
    "res.to_struct()"
   ]
  },
  {
   "cell_type": "code",
   "execution_count": 124,
   "metadata": {},
   "outputs": [
    {
     "data": {
      "text/html": [
       "<div><style>\n",
       ".dataframe > thead > tr,\n",
       ".dataframe > tbody > tr {\n",
       "  text-align: right;\n",
       "  white-space: pre-wrap;\n",
       "}\n",
       "</style>\n",
       "<small>shape: (1_258, 1)</small><table border=\"1\" class=\"dataframe\"><thead><tr><th>macd</th></tr><tr><td>struct[3]</td></tr></thead><tbody><tr><td>{NaN,NaN,NaN}</td></tr><tr><td>{NaN,NaN,NaN}</td></tr><tr><td>{NaN,NaN,NaN}</td></tr><tr><td>{NaN,NaN,NaN}</td></tr><tr><td>{NaN,NaN,NaN}</td></tr><tr><td>&hellip;</td></tr><tr><td>{5.427631,4.436547,0.991084}</td></tr><tr><td>{5.746874,4.698612,1.048262}</td></tr><tr><td>{5.498339,4.858558,0.639782}</td></tr><tr><td>{5.379762,4.962798,0.416964}</td></tr><tr><td>{5.600482,5.090335,0.510146}</td></tr></tbody></table></div>"
      ],
      "text/plain": [
       "shape: (1_258, 1)\n",
       "┌──────────────────────────────┐\n",
       "│ macd                         │\n",
       "│ ---                          │\n",
       "│ struct[3]                    │\n",
       "╞══════════════════════════════╡\n",
       "│ {NaN,NaN,NaN}                │\n",
       "│ {NaN,NaN,NaN}                │\n",
       "│ {NaN,NaN,NaN}                │\n",
       "│ {NaN,NaN,NaN}                │\n",
       "│ {NaN,NaN,NaN}                │\n",
       "│ …                            │\n",
       "│ {5.427631,4.436547,0.991084} │\n",
       "│ {5.746874,4.698612,1.048262} │\n",
       "│ {5.498339,4.858558,0.639782} │\n",
       "│ {5.379762,4.962798,0.416964} │\n",
       "│ {5.600482,5.090335,0.510146} │\n",
       "└──────────────────────────────┘"
      ]
     },
     "execution_count": 124,
     "metadata": {},
     "output_type": "execute_result"
    }
   ],
   "source": [
    "result = prices.select(\n",
    "    macd = MACD() @ pl.col(\"close\"),\n",
    ")\n",
    "result"
   ]
  },
  {
   "cell_type": "code",
   "execution_count": 101,
   "metadata": {},
   "outputs": [
    {
     "data": {
      "text/html": [
       "<div><style>\n",
       ".dataframe > thead > tr,\n",
       ".dataframe > tbody > tr {\n",
       "  text-align: right;\n",
       "  white-space: pre-wrap;\n",
       "}\n",
       "</style>\n",
       "<small>shape: (1_258, 1)</small><table border=\"1\" class=\"dataframe\"><thead><tr><th>date</th></tr><tr><td>struct[8]</td></tr></thead><tbody><tr><td>{2019-12-23 00:00:00 EST,67.992226,68.893845,67.953445,68.833252,98572000,0.0,0.0}</td></tr><tr><td>{2019-12-24 00:00:00 EST,69.000481,69.048958,68.571487,68.898682,48478800,0.0,0.0}</td></tr><tr><td>{2019-12-26 00:00:00 EST,69.031983,70.282616,69.002899,70.265648,93121200,0.0,0.0}</td></tr><tr><td>{2019-12-27 00:00:00 EST,70.558945,71.249703,69.831833,70.239014,146266000,0.0,0.0}</td></tr><tr><td>{2019-12-30 00:00:00 EST,70.156578,70.939438,69.128929,70.655861,144114400,0.0,0.0}</td></tr><tr><td>&hellip;</td></tr><tr><td>{2024-12-16 00:00:00 EST,247.990005,251.380005,247.649994,251.039993,51694800,0.0,0.0}</td></tr><tr><td>{2024-12-17 00:00:00 EST,250.080002,253.830002,249.779999,253.479996,51356400,0.0,0.0}</td></tr><tr><td>{2024-12-18 00:00:00 EST,252.160004,254.279999,247.740005,248.050003,56774100,0.0,0.0}</td></tr><tr><td>{2024-12-19 00:00:00 EST,247.5,252.0,247.089996,249.789993,60882300,0.0,0.0}</td></tr><tr><td>{2024-12-20 00:00:00 EST,248.039993,255.0,245.690002,254.490005,146890100,0.0,0.0}</td></tr></tbody></table></div>"
      ],
      "text/plain": [
       "shape: (1_258, 1)\n",
       "┌─────────────────────────────────┐\n",
       "│ date                            │\n",
       "│ ---                             │\n",
       "│ struct[8]                       │\n",
       "╞═════════════════════════════════╡\n",
       "│ {2019-12-23 00:00:00 EST,67.99… │\n",
       "│ {2019-12-24 00:00:00 EST,69.00… │\n",
       "│ {2019-12-26 00:00:00 EST,69.03… │\n",
       "│ {2019-12-27 00:00:00 EST,70.55… │\n",
       "│ {2019-12-30 00:00:00 EST,70.15… │\n",
       "│ …                               │\n",
       "│ {2024-12-16 00:00:00 EST,247.9… │\n",
       "│ {2024-12-17 00:00:00 EST,250.0… │\n",
       "│ {2024-12-18 00:00:00 EST,252.1… │\n",
       "│ {2024-12-19 00:00:00 EST,247.5… │\n",
       "│ {2024-12-20 00:00:00 EST,248.0… │\n",
       "└─────────────────────────────────┘"
      ]
     },
     "execution_count": 101,
     "metadata": {},
     "output_type": "execute_result"
    }
   ],
   "source": [
    "\n",
    "prices.select(pl.struct(pl.all()))\n"
   ]
  },
  {
   "cell_type": "code",
   "execution_count": 102,
   "metadata": {},
   "outputs": [
    {
     "name": "stdout",
     "output_type": "stream",
     "text": [
      "myfunc *\n"
     ]
    },
    {
     "data": {
      "text/html": [
       "<div><style>\n",
       ".dataframe > thead > tr,\n",
       ".dataframe > tbody > tr {\n",
       "  text-align: right;\n",
       "  white-space: pre-wrap;\n",
       "}\n",
       "</style>\n",
       "<small>shape: (1_258, 8)</small><table border=\"1\" class=\"dataframe\"><thead><tr><th>date</th><th>open</th><th>high</th><th>low</th><th>close</th><th>volume</th><th>dividends</th><th>stock splits</th></tr><tr><td>datetime[ns, America/New_York]</td><td>f64</td><td>f64</td><td>f64</td><td>f64</td><td>i64</td><td>f64</td><td>f64</td></tr></thead><tbody><tr><td>2019-12-23 00:00:00 EST</td><td>67.992226</td><td>68.893845</td><td>67.953445</td><td>68.833252</td><td>98572000</td><td>0.0</td><td>0.0</td></tr><tr><td>2019-12-24 00:00:00 EST</td><td>69.000481</td><td>69.048958</td><td>68.571487</td><td>68.898682</td><td>48478800</td><td>0.0</td><td>0.0</td></tr><tr><td>2019-12-26 00:00:00 EST</td><td>69.031983</td><td>70.282616</td><td>69.002899</td><td>70.265648</td><td>93121200</td><td>0.0</td><td>0.0</td></tr><tr><td>2019-12-27 00:00:00 EST</td><td>70.558945</td><td>71.249703</td><td>69.831833</td><td>70.239014</td><td>146266000</td><td>0.0</td><td>0.0</td></tr><tr><td>2019-12-30 00:00:00 EST</td><td>70.156578</td><td>70.939438</td><td>69.128929</td><td>70.655861</td><td>144114400</td><td>0.0</td><td>0.0</td></tr><tr><td>&hellip;</td><td>&hellip;</td><td>&hellip;</td><td>&hellip;</td><td>&hellip;</td><td>&hellip;</td><td>&hellip;</td><td>&hellip;</td></tr><tr><td>2024-12-16 00:00:00 EST</td><td>247.990005</td><td>251.380005</td><td>247.649994</td><td>251.039993</td><td>51694800</td><td>0.0</td><td>0.0</td></tr><tr><td>2024-12-17 00:00:00 EST</td><td>250.080002</td><td>253.830002</td><td>249.779999</td><td>253.479996</td><td>51356400</td><td>0.0</td><td>0.0</td></tr><tr><td>2024-12-18 00:00:00 EST</td><td>252.160004</td><td>254.279999</td><td>247.740005</td><td>248.050003</td><td>56774100</td><td>0.0</td><td>0.0</td></tr><tr><td>2024-12-19 00:00:00 EST</td><td>247.5</td><td>252.0</td><td>247.089996</td><td>249.789993</td><td>60882300</td><td>0.0</td><td>0.0</td></tr><tr><td>2024-12-20 00:00:00 EST</td><td>248.039993</td><td>255.0</td><td>245.690002</td><td>254.490005</td><td>146890100</td><td>0.0</td><td>0.0</td></tr></tbody></table></div>"
      ],
      "text/plain": [
       "shape: (1_258, 8)\n",
       "┌─────────────┬────────────┬────────────┬────────────┬────────────┬───────────┬───────────┬────────┐\n",
       "│ date        ┆ open       ┆ high       ┆ low        ┆ close      ┆ volume    ┆ dividends ┆ stock  │\n",
       "│ ---         ┆ ---        ┆ ---        ┆ ---        ┆ ---        ┆ ---       ┆ ---       ┆ splits │\n",
       "│ datetime[ns ┆ f64        ┆ f64        ┆ f64        ┆ f64        ┆ i64       ┆ f64       ┆ ---    │\n",
       "│ , America/N ┆            ┆            ┆            ┆            ┆           ┆           ┆ f64    │\n",
       "│ ew_York]    ┆            ┆            ┆            ┆            ┆           ┆           ┆        │\n",
       "╞═════════════╪════════════╪════════════╪════════════╪════════════╪═══════════╪═══════════╪════════╡\n",
       "│ 2019-12-23  ┆ 67.992226  ┆ 68.893845  ┆ 67.953445  ┆ 68.833252  ┆ 98572000  ┆ 0.0       ┆ 0.0    │\n",
       "│ 00:00:00    ┆            ┆            ┆            ┆            ┆           ┆           ┆        │\n",
       "│ EST         ┆            ┆            ┆            ┆            ┆           ┆           ┆        │\n",
       "│ 2019-12-24  ┆ 69.000481  ┆ 69.048958  ┆ 68.571487  ┆ 68.898682  ┆ 48478800  ┆ 0.0       ┆ 0.0    │\n",
       "│ 00:00:00    ┆            ┆            ┆            ┆            ┆           ┆           ┆        │\n",
       "│ EST         ┆            ┆            ┆            ┆            ┆           ┆           ┆        │\n",
       "│ 2019-12-26  ┆ 69.031983  ┆ 70.282616  ┆ 69.002899  ┆ 70.265648  ┆ 93121200  ┆ 0.0       ┆ 0.0    │\n",
       "│ 00:00:00    ┆            ┆            ┆            ┆            ┆           ┆           ┆        │\n",
       "│ EST         ┆            ┆            ┆            ┆            ┆           ┆           ┆        │\n",
       "│ 2019-12-27  ┆ 70.558945  ┆ 71.249703  ┆ 69.831833  ┆ 70.239014  ┆ 146266000 ┆ 0.0       ┆ 0.0    │\n",
       "│ 00:00:00    ┆            ┆            ┆            ┆            ┆           ┆           ┆        │\n",
       "│ EST         ┆            ┆            ┆            ┆            ┆           ┆           ┆        │\n",
       "│ 2019-12-30  ┆ 70.156578  ┆ 70.939438  ┆ 69.128929  ┆ 70.655861  ┆ 144114400 ┆ 0.0       ┆ 0.0    │\n",
       "│ 00:00:00    ┆            ┆            ┆            ┆            ┆           ┆           ┆        │\n",
       "│ EST         ┆            ┆            ┆            ┆            ┆           ┆           ┆        │\n",
       "│ …           ┆ …          ┆ …          ┆ …          ┆ …          ┆ …         ┆ …         ┆ …      │\n",
       "│ 2024-12-16  ┆ 247.990005 ┆ 251.380005 ┆ 247.649994 ┆ 251.039993 ┆ 51694800  ┆ 0.0       ┆ 0.0    │\n",
       "│ 00:00:00    ┆            ┆            ┆            ┆            ┆           ┆           ┆        │\n",
       "│ EST         ┆            ┆            ┆            ┆            ┆           ┆           ┆        │\n",
       "│ 2024-12-17  ┆ 250.080002 ┆ 253.830002 ┆ 249.779999 ┆ 253.479996 ┆ 51356400  ┆ 0.0       ┆ 0.0    │\n",
       "│ 00:00:00    ┆            ┆            ┆            ┆            ┆           ┆           ┆        │\n",
       "│ EST         ┆            ┆            ┆            ┆            ┆           ┆           ┆        │\n",
       "│ 2024-12-18  ┆ 252.160004 ┆ 254.279999 ┆ 247.740005 ┆ 248.050003 ┆ 56774100  ┆ 0.0       ┆ 0.0    │\n",
       "│ 00:00:00    ┆            ┆            ┆            ┆            ┆           ┆           ┆        │\n",
       "│ EST         ┆            ┆            ┆            ┆            ┆           ┆           ┆        │\n",
       "│ 2024-12-19  ┆ 247.5      ┆ 252.0      ┆ 247.089996 ┆ 249.789993 ┆ 60882300  ┆ 0.0       ┆ 0.0    │\n",
       "│ 00:00:00    ┆            ┆            ┆            ┆            ┆           ┆           ┆        │\n",
       "│ EST         ┆            ┆            ┆            ┆            ┆           ┆           ┆        │\n",
       "│ 2024-12-20  ┆ 248.039993 ┆ 255.0      ┆ 245.690002 ┆ 254.490005 ┆ 146890100 ┆ 0.0       ┆ 0.0    │\n",
       "│ 00:00:00    ┆            ┆            ┆            ┆            ┆           ┆           ┆        │\n",
       "│ EST         ┆            ┆            ┆            ┆            ┆           ┆           ┆        │\n",
       "└─────────────┴────────────┴────────────┴────────────┴────────────┴───────────┴───────────┴────────┘"
      ]
     },
     "execution_count": 102,
     "metadata": {},
     "output_type": "execute_result"
    }
   ],
   "source": [
    "def myfunc(df):\n",
    "    print(\"myfunc\", df)\n",
    "    return df\n",
    "\n",
    "res = prices.select(\n",
    "    pl.all().pipe(myfunc)\n",
    ")\n",
    "\n",
    "res"
   ]
  },
  {
   "cell_type": "code",
   "execution_count": 103,
   "metadata": {},
   "outputs": [
    {
     "data": {
      "text/html": [
       "*"
      ],
      "text/plain": [
       "<Expr ['*'] at 0x132376C70>"
      ]
     },
     "execution_count": 103,
     "metadata": {},
     "output_type": "execute_result"
    }
   ],
   "source": [
    "e = pl.all()\n",
    "e\n"
   ]
  },
  {
   "cell_type": "code",
   "execution_count": 104,
   "metadata": {},
   "outputs": [
    {
     "data": {
      "text/plain": [
       "\"<Expr ['*'] at 0x132376C70>\""
      ]
     },
     "execution_count": 104,
     "metadata": {},
     "output_type": "execute_result"
    }
   ],
   "source": [
    "repr(e)"
   ]
  },
  {
   "cell_type": "code",
   "execution_count": 53,
   "metadata": {},
   "outputs": [
    {
     "data": {
      "text/plain": [
       "'*'"
      ]
     },
     "execution_count": 53,
     "metadata": {},
     "output_type": "execute_result"
    }
   ],
   "source": [
    "str(e)"
   ]
  },
  {
   "cell_type": "code",
   "execution_count": 54,
   "metadata": {},
   "outputs": [
    {
     "data": {
      "text/html": [
       "col(\"asdf\")"
      ],
      "text/plain": [
       "<Expr ['col(\"asdf\")'] at 0x136430640>"
      ]
     },
     "execution_count": 54,
     "metadata": {},
     "output_type": "execute_result"
    }
   ],
   "source": [
    "pl.col(\"asdf\")"
   ]
  },
  {
   "cell_type": "code",
   "execution_count": 55,
   "metadata": {},
   "outputs": [
    {
     "data": {
      "text/plain": [
       "'col(\"asdf\")'"
      ]
     },
     "execution_count": 55,
     "metadata": {},
     "output_type": "execute_result"
    }
   ],
   "source": [
    "str(pl.col(\"asdf\"))"
   ]
  },
  {
   "cell_type": "code",
   "execution_count": 56,
   "metadata": {},
   "outputs": [
    {
     "data": {
      "text/plain": [
       "'<Expr [\\'col(\"asdf\")\\'] at 0x1376B9EE0>'"
      ]
     },
     "execution_count": 56,
     "metadata": {},
     "output_type": "execute_result"
    }
   ],
   "source": [
    "repr(pl.col(\"asdf\"))"
   ]
  },
  {
   "cell_type": "code",
   "execution_count": 58,
   "metadata": {},
   "outputs": [
    {
     "ename": "AttributeError",
     "evalue": "'Expr' object has no attribute 'to_struc'",
     "output_type": "error",
     "traceback": [
      "\u001b[0;31m---------------------------------------------------------------------------\u001b[0m",
      "\u001b[0;31mAttributeError\u001b[0m                            Traceback (most recent call last)",
      "Cell \u001b[0;32mIn[58], line 1\u001b[0m\n\u001b[0;32m----> 1\u001b[0m \u001b[43mpl\u001b[49m\u001b[38;5;241;43m.\u001b[39;49m\u001b[43mall\u001b[49m\u001b[43m(\u001b[49m\u001b[43m)\u001b[49m\u001b[38;5;241;43m.\u001b[39;49m\u001b[43mto_struc\u001b[49m()\n",
      "\u001b[0;31mAttributeError\u001b[0m: 'Expr' object has no attribute 'to_struc'"
     ]
    }
   ],
   "source": [
    "pl.all().to_struc()"
   ]
  },
  {
   "cell_type": "code",
   "execution_count": 60,
   "metadata": {},
   "outputs": [
    {
     "data": {
      "text/html": [
       "<div><style>\n",
       ".dataframe > thead > tr,\n",
       ".dataframe > tbody > tr {\n",
       "  text-align: right;\n",
       "  white-space: pre-wrap;\n",
       "}\n",
       "</style>\n",
       "<small>shape: (1_258, 1)</small><table border=\"1\" class=\"dataframe\"><thead><tr><th>date</th></tr><tr><td>struct[8]</td></tr></thead><tbody><tr><td>{2019-12-23 00:00:00 EST,67.992241,68.89386,67.953461,68.833267,98572000,0.0,0.0}</td></tr><tr><td>{2019-12-24 00:00:00 EST,69.000503,69.048981,68.57151,68.898705,48478800,0.0,0.0}</td></tr><tr><td>{2019-12-26 00:00:00 EST,69.031998,70.282631,69.002914,70.265663,93121200,0.0,0.0}</td></tr><tr><td>{2019-12-27 00:00:00 EST,70.558929,71.249687,69.831818,70.238998,146266000,0.0,0.0}</td></tr><tr><td>{2019-12-30 00:00:00 EST,70.156608,70.939468,69.128959,70.655891,144114400,0.0,0.0}</td></tr><tr><td>&hellip;</td></tr><tr><td>{2024-12-16 00:00:00 EST,247.990005,251.380005,247.649994,251.039993,51694800,0.0,0.0}</td></tr><tr><td>{2024-12-17 00:00:00 EST,250.080002,253.830002,249.779999,253.479996,51356400,0.0,0.0}</td></tr><tr><td>{2024-12-18 00:00:00 EST,252.160004,254.279999,247.740005,248.050003,56774100,0.0,0.0}</td></tr><tr><td>{2024-12-19 00:00:00 EST,247.5,252.0,247.089996,249.789993,60882300,0.0,0.0}</td></tr><tr><td>{2024-12-20 00:00:00 EST,248.039993,255.0,245.690002,254.490005,146890100,0.0,0.0}</td></tr></tbody></table></div>"
      ],
      "text/plain": [
       "shape: (1_258, 1)\n",
       "┌─────────────────────────────────┐\n",
       "│ date                            │\n",
       "│ ---                             │\n",
       "│ struct[8]                       │\n",
       "╞═════════════════════════════════╡\n",
       "│ {2019-12-23 00:00:00 EST,67.99… │\n",
       "│ {2019-12-24 00:00:00 EST,69.00… │\n",
       "│ {2019-12-26 00:00:00 EST,69.03… │\n",
       "│ {2019-12-27 00:00:00 EST,70.55… │\n",
       "│ {2019-12-30 00:00:00 EST,70.15… │\n",
       "│ …                               │\n",
       "│ {2024-12-16 00:00:00 EST,247.9… │\n",
       "│ {2024-12-17 00:00:00 EST,250.0… │\n",
       "│ {2024-12-18 00:00:00 EST,252.1… │\n",
       "│ {2024-12-19 00:00:00 EST,247.5… │\n",
       "│ {2024-12-20 00:00:00 EST,248.0… │\n",
       "└─────────────────────────────────┘"
      ]
     },
     "execution_count": 60,
     "metadata": {},
     "output_type": "execute_result"
    }
   ],
   "source": [
    "prices.select(pl.struct(\"*\"))"
   ]
  },
  {
   "cell_type": "code",
   "execution_count": 61,
   "metadata": {},
   "outputs": [
    {
     "data": {
      "text/html": [
       "*.as_struct()"
      ],
      "text/plain": [
       "<Expr ['*.as_struct()'] at 0x1377499A0>"
      ]
     },
     "execution_count": 61,
     "metadata": {},
     "output_type": "execute_result"
    }
   ],
   "source": [
    "pl.struct(\"*\")"
   ]
  },
  {
   "cell_type": "code",
   "execution_count": 63,
   "metadata": {},
   "outputs": [
    {
     "data": {
      "text/html": [
       "*.as_struct()"
      ],
      "text/plain": [
       "<Expr ['*.as_struct()'] at 0x137741550>"
      ]
     },
     "execution_count": 63,
     "metadata": {},
     "output_type": "execute_result"
    }
   ],
   "source": [
    "pl.struct(pl.all())"
   ]
  },
  {
   "cell_type": "code",
   "execution_count": 65,
   "metadata": {},
   "outputs": [
    {
     "data": {
      "text/plain": [
       "'polars.expr.expr'"
      ]
     },
     "execution_count": 65,
     "metadata": {},
     "output_type": "execute_result"
    }
   ],
   "source": [
    "expr = pl.all()\n",
    "expr.__module__"
   ]
  },
  {
   "cell_type": "code",
   "execution_count": null,
   "metadata": {},
   "outputs": [
    {
     "ename": "ComputeError",
     "evalue": "TypeError: cannot select elements using Sequence with elements of type 'str'",
     "output_type": "error",
     "traceback": [
      "\u001b[0;31m---------------------------------------------------------------------------\u001b[0m",
      "\u001b[0;31mComputeError\u001b[0m                              Traceback (most recent call last)",
      "Cell \u001b[0;32mIn[115], line 1\u001b[0m\n\u001b[0;32m----> 1\u001b[0m \u001b[43mprices\u001b[49m\u001b[38;5;241;43m.\u001b[39;49m\u001b[43mselect\u001b[49m\u001b[43m(\u001b[49m\n\u001b[1;32m      2\u001b[0m \u001b[43m    \u001b[49m\u001b[43mpl\u001b[49m\u001b[38;5;241;43m.\u001b[39;49m\u001b[43mstruct\u001b[49m\u001b[43m(\u001b[49m\u001b[43mpl\u001b[49m\u001b[38;5;241;43m.\u001b[39;49m\u001b[43mall\u001b[49m\u001b[43m(\u001b[49m\u001b[43m)\u001b[49m\u001b[43m)\u001b[49m\u001b[38;5;241;43m.\u001b[39;49m\u001b[43mmap_batches\u001b[49m\u001b[43m(\u001b[49m\u001b[43mATR\u001b[49m\u001b[43m(\u001b[49m\u001b[38;5;241;43m14\u001b[39;49m\u001b[43m)\u001b[49m\u001b[43m)\u001b[49m\n\u001b[1;32m      3\u001b[0m \u001b[43m)\u001b[49m\n",
      "File \u001b[0;32m~/Projects/mintalib/.venv/lib/python3.9/site-packages/polars/dataframe/frame.py:9021\u001b[0m, in \u001b[0;36mDataFrame.select\u001b[0;34m(self, *exprs, **named_exprs)\u001b[0m\n\u001b[1;32m   8921\u001b[0m \u001b[38;5;28;01mdef\u001b[39;00m \u001b[38;5;21mselect\u001b[39m(\n\u001b[1;32m   8922\u001b[0m     \u001b[38;5;28mself\u001b[39m, \u001b[38;5;241m*\u001b[39mexprs: IntoExpr \u001b[38;5;241m|\u001b[39m Iterable[IntoExpr], \u001b[38;5;241m*\u001b[39m\u001b[38;5;241m*\u001b[39mnamed_exprs: IntoExpr\n\u001b[1;32m   8923\u001b[0m ) \u001b[38;5;241m-\u001b[39m\u001b[38;5;241m>\u001b[39m DataFrame:\n\u001b[1;32m   8924\u001b[0m \u001b[38;5;250m    \u001b[39m\u001b[38;5;124;03m\"\"\"\u001b[39;00m\n\u001b[1;32m   8925\u001b[0m \u001b[38;5;124;03m    Select columns from this DataFrame.\u001b[39;00m\n\u001b[1;32m   8926\u001b[0m \n\u001b[0;32m   (...)\u001b[0m\n\u001b[1;32m   9019\u001b[0m \u001b[38;5;124;03m    └──────────────┘\u001b[39;00m\n\u001b[1;32m   9020\u001b[0m \u001b[38;5;124;03m    \"\"\"\u001b[39;00m\n\u001b[0;32m-> 9021\u001b[0m     \u001b[38;5;28;01mreturn\u001b[39;00m \u001b[38;5;28;43mself\u001b[39;49m\u001b[38;5;241;43m.\u001b[39;49m\u001b[43mlazy\u001b[49m\u001b[43m(\u001b[49m\u001b[43m)\u001b[49m\u001b[38;5;241;43m.\u001b[39;49m\u001b[43mselect\u001b[49m\u001b[43m(\u001b[49m\u001b[38;5;241;43m*\u001b[39;49m\u001b[43mexprs\u001b[49m\u001b[43m,\u001b[49m\u001b[43m \u001b[49m\u001b[38;5;241;43m*\u001b[39;49m\u001b[38;5;241;43m*\u001b[39;49m\u001b[43mnamed_exprs\u001b[49m\u001b[43m)\u001b[49m\u001b[38;5;241;43m.\u001b[39;49m\u001b[43mcollect\u001b[49m\u001b[43m(\u001b[49m\u001b[43m_eager\u001b[49m\u001b[38;5;241;43m=\u001b[39;49m\u001b[38;5;28;43;01mTrue\u001b[39;49;00m\u001b[43m)\u001b[49m\n",
      "File \u001b[0;32m~/Projects/mintalib/.venv/lib/python3.9/site-packages/polars/lazyframe/frame.py:2055\u001b[0m, in \u001b[0;36mLazyFrame.collect\u001b[0;34m(self, type_coercion, predicate_pushdown, projection_pushdown, simplify_expression, slice_pushdown, comm_subplan_elim, comm_subexpr_elim, cluster_with_columns, collapse_joins, no_optimization, streaming, engine, background, _eager, **_kwargs)\u001b[0m\n\u001b[1;32m   2053\u001b[0m \u001b[38;5;66;03m# Only for testing purposes\u001b[39;00m\n\u001b[1;32m   2054\u001b[0m callback \u001b[38;5;241m=\u001b[39m _kwargs\u001b[38;5;241m.\u001b[39mget(\u001b[38;5;124m\"\u001b[39m\u001b[38;5;124mpost_opt_callback\u001b[39m\u001b[38;5;124m\"\u001b[39m, callback)\n\u001b[0;32m-> 2055\u001b[0m \u001b[38;5;28;01mreturn\u001b[39;00m wrap_df(\u001b[43mldf\u001b[49m\u001b[38;5;241;43m.\u001b[39;49m\u001b[43mcollect\u001b[49m\u001b[43m(\u001b[49m\u001b[43mcallback\u001b[49m\u001b[43m)\u001b[49m)\n",
      "\u001b[0;31mComputeError\u001b[0m: TypeError: cannot select elements using Sequence with elements of type 'str'"
     ]
    }
   ],
   "source": [
    "\n",
    "prices.select(\n",
    "    pl.struct(pl.all()).map_batches(ATR(14))\n",
    ")"
   ]
  },
  {
   "cell_type": "code",
   "execution_count": 116,
   "metadata": {},
   "outputs": [
    {
     "data": {
      "text/html": [
       "<div><style>\n",
       ".dataframe > thead > tr,\n",
       ".dataframe > tbody > tr {\n",
       "  text-align: right;\n",
       "  white-space: pre-wrap;\n",
       "}\n",
       "</style>\n",
       "<small>shape: (1_258,)</small><table border=\"1\" class=\"dataframe\"><thead><tr><th></th></tr><tr><td>struct[8]</td></tr></thead><tbody><tr><td>{2019-12-23 00:00:00 EST,67.992226,68.893845,67.953445,68.833252,98572000,0.0,0.0}</td></tr><tr><td>{2019-12-24 00:00:00 EST,69.000481,69.048958,68.571487,68.898682,48478800,0.0,0.0}</td></tr><tr><td>{2019-12-26 00:00:00 EST,69.031983,70.282616,69.002899,70.265648,93121200,0.0,0.0}</td></tr><tr><td>{2019-12-27 00:00:00 EST,70.558945,71.249703,69.831833,70.239014,146266000,0.0,0.0}</td></tr><tr><td>{2019-12-30 00:00:00 EST,70.156578,70.939438,69.128929,70.655861,144114400,0.0,0.0}</td></tr><tr><td>&hellip;</td></tr><tr><td>{2024-12-16 00:00:00 EST,247.990005,251.380005,247.649994,251.039993,51694800,0.0,0.0}</td></tr><tr><td>{2024-12-17 00:00:00 EST,250.080002,253.830002,249.779999,253.479996,51356400,0.0,0.0}</td></tr><tr><td>{2024-12-18 00:00:00 EST,252.160004,254.279999,247.740005,248.050003,56774100,0.0,0.0}</td></tr><tr><td>{2024-12-19 00:00:00 EST,247.5,252.0,247.089996,249.789993,60882300,0.0,0.0}</td></tr><tr><td>{2024-12-20 00:00:00 EST,248.039993,255.0,245.690002,254.490005,146890100,0.0,0.0}</td></tr></tbody></table></div>"
      ],
      "text/plain": [
       "shape: (1_258,)\n",
       "Series: '' [struct[8]]\n",
       "[\n",
       "\t{2019-12-23 00:00:00 EST,67.992226,68.893845,67.953445,68.833252,98572000,0.0,0.0}\n",
       "\t{2019-12-24 00:00:00 EST,69.000481,69.048958,68.571487,68.898682,48478800,0.0,0.0}\n",
       "\t{2019-12-26 00:00:00 EST,69.031983,70.282616,69.002899,70.265648,93121200,0.0,0.0}\n",
       "\t{2019-12-27 00:00:00 EST,70.558945,71.249703,69.831833,70.239014,146266000,0.0,0.0}\n",
       "\t{2019-12-30 00:00:00 EST,70.156578,70.939438,69.128929,70.655861,144114400,0.0,0.0}\n",
       "\t…\n",
       "\t{2024-12-16 00:00:00 EST,247.990005,251.380005,247.649994,251.039993,51694800,0.0,0.0}\n",
       "\t{2024-12-17 00:00:00 EST,250.080002,253.830002,249.779999,253.479996,51356400,0.0,0.0}\n",
       "\t{2024-12-18 00:00:00 EST,252.160004,254.279999,247.740005,248.050003,56774100,0.0,0.0}\n",
       "\t{2024-12-19 00:00:00 EST,247.5,252.0,247.089996,249.789993,60882300,0.0,0.0}\n",
       "\t{2024-12-20 00:00:00 EST,248.039993,255.0,245.690002,254.490005,146890100,0.0,0.0}\n",
       "]"
      ]
     },
     "execution_count": 116,
     "metadata": {},
     "output_type": "execute_result"
    }
   ],
   "source": [
    "ps = prices.to_struct()\n",
    "ps"
   ]
  },
  {
   "cell_type": "code",
   "execution_count": 117,
   "metadata": {},
   "outputs": [
    {
     "data": {
      "text/html": [
       "<div><style>\n",
       ".dataframe > thead > tr,\n",
       ".dataframe > tbody > tr {\n",
       "  text-align: right;\n",
       "  white-space: pre-wrap;\n",
       "}\n",
       "</style>\n",
       "<small>shape: (1_258,)</small><table border=\"1\" class=\"dataframe\"><thead><tr><th>open</th></tr><tr><td>f64</td></tr></thead><tbody><tr><td>67.992226</td></tr><tr><td>69.000481</td></tr><tr><td>69.031983</td></tr><tr><td>70.558945</td></tr><tr><td>70.156578</td></tr><tr><td>&hellip;</td></tr><tr><td>247.990005</td></tr><tr><td>250.080002</td></tr><tr><td>252.160004</td></tr><tr><td>247.5</td></tr><tr><td>248.039993</td></tr></tbody></table></div>"
      ],
      "text/plain": [
       "shape: (1_258,)\n",
       "Series: 'open' [f64]\n",
       "[\n",
       "\t67.992226\n",
       "\t69.000481\n",
       "\t69.031983\n",
       "\t70.558945\n",
       "\t70.156578\n",
       "\t…\n",
       "\t247.990005\n",
       "\t250.080002\n",
       "\t252.160004\n",
       "\t247.5\n",
       "\t248.039993\n",
       "]"
      ]
     },
     "execution_count": 117,
     "metadata": {},
     "output_type": "execute_result"
    }
   ],
   "source": [
    "ps.struct[\"open\"]"
   ]
  },
  {
   "cell_type": "code",
   "execution_count": 118,
   "metadata": {},
   "outputs": [
    {
     "data": {
      "text/plain": [
       "False"
      ]
     },
     "execution_count": 118,
     "metadata": {},
     "output_type": "execute_result"
    }
   ],
   "source": [
    "hasattr(prices, 'struct')"
   ]
  },
  {
   "cell_type": "code",
   "execution_count": 119,
   "metadata": {},
   "outputs": [
    {
     "data": {
      "text/plain": [
       "True"
      ]
     },
     "execution_count": 119,
     "metadata": {},
     "output_type": "execute_result"
    }
   ],
   "source": [
    "hasattr(ps, 'struct')"
   ]
  },
  {
   "cell_type": "code",
   "execution_count": 120,
   "metadata": {},
   "outputs": [
    {
     "data": {
      "text/plain": [
       "True"
      ]
     },
     "execution_count": 120,
     "metadata": {},
     "output_type": "execute_result"
    }
   ],
   "source": [
    "hasattr(prices, 'columns')"
   ]
  },
  {
   "cell_type": "code",
   "execution_count": 121,
   "metadata": {},
   "outputs": [
    {
     "data": {
      "text/plain": [
       "False"
      ]
     },
     "execution_count": 121,
     "metadata": {},
     "output_type": "execute_result"
    }
   ],
   "source": [
    "hasattr(ps, 'columns')"
   ]
  },
  {
   "cell_type": "code",
   "execution_count": 123,
   "metadata": {},
   "outputs": [
    {
     "data": {
      "text/plain": [
       "True"
      ]
     },
     "execution_count": 123,
     "metadata": {},
     "output_type": "execute_result"
    }
   ],
   "source": [
    "hasattr(ps, 'struct')"
   ]
  },
  {
   "cell_type": "code",
   "execution_count": null,
   "metadata": {},
   "outputs": [],
   "source": []
  }
 ],
 "metadata": {
  "kernelspec": {
   "display_name": ".venv",
   "language": "python",
   "name": "python3"
  },
  "language_info": {
   "codemirror_mode": {
    "name": "ipython",
    "version": 3
   },
   "file_extension": ".py",
   "mimetype": "text/x-python",
   "name": "python",
   "nbconvert_exporter": "python",
   "pygments_lexer": "ipython3",
   "version": "3.9.20"
  }
 },
 "nbformat": 4,
 "nbformat_minor": 2
}
