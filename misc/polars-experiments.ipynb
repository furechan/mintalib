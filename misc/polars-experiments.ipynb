{
 "cells": [
  {
   "cell_type": "markdown",
   "metadata": {},
   "source": [
    "# Polars Experiments\n",
    "\n"
   ]
  },
  {
   "cell_type": "code",
   "execution_count": 2,
   "metadata": {},
   "outputs": [],
   "source": [
    "\n",
    "import  numpy as np\n",
    "import polars as pl\n",
    "from polars import col\n",
    "\n",
    "import yfinance as yf\n",
    "\n",
    "from mintalib.core import calc_sma, calc_atr, calc_macd\n",
    "from mintalib.indicators import SMA, ATR, MACD\n"
   ]
  },
  {
   "cell_type": "code",
   "execution_count": 3,
   "metadata": {},
   "outputs": [
    {
     "data": {
      "text/html": [
       "<div><style>\n",
       ".dataframe > thead > tr,\n",
       ".dataframe > tbody > tr {\n",
       "  text-align: right;\n",
       "  white-space: pre-wrap;\n",
       "}\n",
       "</style>\n",
       "<small>shape: (1_257, 8)</small><table border=\"1\" class=\"dataframe\"><thead><tr><th>date</th><th>open</th><th>high</th><th>low</th><th>close</th><th>volume</th><th>dividends</th><th>stock splits</th></tr><tr><td>datetime[ns, America/New_York]</td><td>f64</td><td>f64</td><td>f64</td><td>f64</td><td>i64</td><td>f64</td><td>f64</td></tr></thead><tbody><tr><td>2020-02-03 00:00:00 EST</td><td>73.753387</td><td>75.980774</td><td>73.24926</td><td>74.810127</td><td>173788400</td><td>0.0</td><td>0.0</td></tr><tr><td>2020-02-04 00:00:00 EST</td><td>76.421898</td><td>77.471367</td><td>76.014717</td><td>77.279892</td><td>136616400</td><td>0.0</td><td>0.0</td></tr><tr><td>2020-02-05 00:00:00 EST</td><td>78.411736</td><td>78.71228</td><td>77.304108</td><td>77.910034</td><td>118826800</td><td>0.0</td><td>0.0</td></tr><tr><td>2020-02-06 00:00:00 EST</td><td>78.181495</td><td>78.823776</td><td>77.62162</td><td>78.82135</td><td>105425600</td><td>0.0</td><td>0.0</td></tr><tr><td>2020-02-07 00:00:00 EST</td><td>78.318439</td><td>78.568673</td><td>77.256767</td><td>77.749947</td><td>117684000</td><td>0.1925</td><td>0.0</td></tr><tr><td>&hellip;</td><td>&hellip;</td><td>&hellip;</td><td>&hellip;</td><td>&hellip;</td><td>&hellip;</td><td>&hellip;</td><td>&hellip;</td></tr><tr><td>2025-01-27 00:00:00 EST</td><td>224.020004</td><td>232.149994</td><td>223.979996</td><td>229.860001</td><td>94863400</td><td>0.0</td><td>0.0</td></tr><tr><td>2025-01-28 00:00:00 EST</td><td>230.850006</td><td>240.190002</td><td>230.809998</td><td>238.259995</td><td>75707600</td><td>0.0</td><td>0.0</td></tr><tr><td>2025-01-29 00:00:00 EST</td><td>234.119995</td><td>239.860001</td><td>234.009995</td><td>239.360001</td><td>45486100</td><td>0.0</td><td>0.0</td></tr><tr><td>2025-01-30 00:00:00 EST</td><td>238.669998</td><td>240.789993</td><td>237.210007</td><td>237.589996</td><td>55658300</td><td>0.0</td><td>0.0</td></tr><tr><td>2025-01-31 00:00:00 EST</td><td>247.190002</td><td>247.190002</td><td>233.440002</td><td>236.0</td><td>100959800</td><td>0.0</td><td>0.0</td></tr></tbody></table></div>"
      ],
      "text/plain": [
       "shape: (1_257, 8)\n",
       "┌─────────────┬────────────┬────────────┬────────────┬────────────┬───────────┬───────────┬────────┐\n",
       "│ date        ┆ open       ┆ high       ┆ low        ┆ close      ┆ volume    ┆ dividends ┆ stock  │\n",
       "│ ---         ┆ ---        ┆ ---        ┆ ---        ┆ ---        ┆ ---       ┆ ---       ┆ splits │\n",
       "│ datetime[ns ┆ f64        ┆ f64        ┆ f64        ┆ f64        ┆ i64       ┆ f64       ┆ ---    │\n",
       "│ , America/N ┆            ┆            ┆            ┆            ┆           ┆           ┆ f64    │\n",
       "│ ew_York]    ┆            ┆            ┆            ┆            ┆           ┆           ┆        │\n",
       "╞═════════════╪════════════╪════════════╪════════════╪════════════╪═══════════╪═══════════╪════════╡\n",
       "│ 2020-02-03  ┆ 73.753387  ┆ 75.980774  ┆ 73.24926   ┆ 74.810127  ┆ 173788400 ┆ 0.0       ┆ 0.0    │\n",
       "│ 00:00:00    ┆            ┆            ┆            ┆            ┆           ┆           ┆        │\n",
       "│ EST         ┆            ┆            ┆            ┆            ┆           ┆           ┆        │\n",
       "│ 2020-02-04  ┆ 76.421898  ┆ 77.471367  ┆ 76.014717  ┆ 77.279892  ┆ 136616400 ┆ 0.0       ┆ 0.0    │\n",
       "│ 00:00:00    ┆            ┆            ┆            ┆            ┆           ┆           ┆        │\n",
       "│ EST         ┆            ┆            ┆            ┆            ┆           ┆           ┆        │\n",
       "│ 2020-02-05  ┆ 78.411736  ┆ 78.71228   ┆ 77.304108  ┆ 77.910034  ┆ 118826800 ┆ 0.0       ┆ 0.0    │\n",
       "│ 00:00:00    ┆            ┆            ┆            ┆            ┆           ┆           ┆        │\n",
       "│ EST         ┆            ┆            ┆            ┆            ┆           ┆           ┆        │\n",
       "│ 2020-02-06  ┆ 78.181495  ┆ 78.823776  ┆ 77.62162   ┆ 78.82135   ┆ 105425600 ┆ 0.0       ┆ 0.0    │\n",
       "│ 00:00:00    ┆            ┆            ┆            ┆            ┆           ┆           ┆        │\n",
       "│ EST         ┆            ┆            ┆            ┆            ┆           ┆           ┆        │\n",
       "│ 2020-02-07  ┆ 78.318439  ┆ 78.568673  ┆ 77.256767  ┆ 77.749947  ┆ 117684000 ┆ 0.1925    ┆ 0.0    │\n",
       "│ 00:00:00    ┆            ┆            ┆            ┆            ┆           ┆           ┆        │\n",
       "│ EST         ┆            ┆            ┆            ┆            ┆           ┆           ┆        │\n",
       "│ …           ┆ …          ┆ …          ┆ …          ┆ …          ┆ …         ┆ …         ┆ …      │\n",
       "│ 2025-01-27  ┆ 224.020004 ┆ 232.149994 ┆ 223.979996 ┆ 229.860001 ┆ 94863400  ┆ 0.0       ┆ 0.0    │\n",
       "│ 00:00:00    ┆            ┆            ┆            ┆            ┆           ┆           ┆        │\n",
       "│ EST         ┆            ┆            ┆            ┆            ┆           ┆           ┆        │\n",
       "│ 2025-01-28  ┆ 230.850006 ┆ 240.190002 ┆ 230.809998 ┆ 238.259995 ┆ 75707600  ┆ 0.0       ┆ 0.0    │\n",
       "│ 00:00:00    ┆            ┆            ┆            ┆            ┆           ┆           ┆        │\n",
       "│ EST         ┆            ┆            ┆            ┆            ┆           ┆           ┆        │\n",
       "│ 2025-01-29  ┆ 234.119995 ┆ 239.860001 ┆ 234.009995 ┆ 239.360001 ┆ 45486100  ┆ 0.0       ┆ 0.0    │\n",
       "│ 00:00:00    ┆            ┆            ┆            ┆            ┆           ┆           ┆        │\n",
       "│ EST         ┆            ┆            ┆            ┆            ┆           ┆           ┆        │\n",
       "│ 2025-01-30  ┆ 238.669998 ┆ 240.789993 ┆ 237.210007 ┆ 237.589996 ┆ 55658300  ┆ 0.0       ┆ 0.0    │\n",
       "│ 00:00:00    ┆            ┆            ┆            ┆            ┆           ┆           ┆        │\n",
       "│ EST         ┆            ┆            ┆            ┆            ┆           ┆           ┆        │\n",
       "│ 2025-01-31  ┆ 247.190002 ┆ 247.190002 ┆ 233.440002 ┆ 236.0      ┆ 100959800 ┆ 0.0       ┆ 0.0    │\n",
       "│ 00:00:00    ┆            ┆            ┆            ┆            ┆           ┆           ┆        │\n",
       "│ EST         ┆            ┆            ┆            ┆            ┆           ┆           ┆        │\n",
       "└─────────────┴────────────┴────────────┴────────────┴────────────┴───────────┴───────────┴────────┘"
      ]
     },
     "execution_count": 3,
     "metadata": {},
     "output_type": "execute_result"
    }
   ],
   "source": [
    "\n",
    "prices = yf.Ticker('AAPL').history('5y')\n",
    "prices = prices.rename(columns=str.lower).rename_axis(index=str.lower)\n",
    "prices = pl.from_pandas(prices, include_index=True)\n",
    "prices\n",
    "\n",
    "\n",
    "# Links\n",
    "# https://docs.pola.rs/user-guide/expressions/user-defined-python-functions/#combining-multiple-column-values"
   ]
  },
  {
   "cell_type": "code",
   "execution_count": 4,
   "metadata": {},
   "outputs": [
    {
     "data": {
      "text/html": [
       "<div><style>\n",
       ".dataframe > thead > tr,\n",
       ".dataframe > tbody > tr {\n",
       "  text-align: right;\n",
       "  white-space: pre-wrap;\n",
       "}\n",
       "</style>\n",
       "<small>shape: (1_257,)</small><table border=\"1\" class=\"dataframe\"><thead><tr><th>prices</th></tr><tr><td>struct[8]</td></tr></thead><tbody><tr><td>{2020-02-03 00:00:00 EST,73.753387,75.980774,73.24926,74.810127,173788400,0.0,0.0}</td></tr><tr><td>{2020-02-04 00:00:00 EST,76.421898,77.471367,76.014717,77.279892,136616400,0.0,0.0}</td></tr><tr><td>{2020-02-05 00:00:00 EST,78.411736,78.71228,77.304108,77.910034,118826800,0.0,0.0}</td></tr><tr><td>{2020-02-06 00:00:00 EST,78.181495,78.823776,77.62162,78.82135,105425600,0.0,0.0}</td></tr><tr><td>{2020-02-07 00:00:00 EST,78.318439,78.568673,77.256767,77.749947,117684000,0.1925,0.0}</td></tr><tr><td>&hellip;</td></tr><tr><td>{2025-01-27 00:00:00 EST,224.020004,232.149994,223.979996,229.860001,94863400,0.0,0.0}</td></tr><tr><td>{2025-01-28 00:00:00 EST,230.850006,240.190002,230.809998,238.259995,75707600,0.0,0.0}</td></tr><tr><td>{2025-01-29 00:00:00 EST,234.119995,239.860001,234.009995,239.360001,45486100,0.0,0.0}</td></tr><tr><td>{2025-01-30 00:00:00 EST,238.669998,240.789993,237.210007,237.589996,55658300,0.0,0.0}</td></tr><tr><td>{2025-01-31 00:00:00 EST,247.190002,247.190002,233.440002,236.0,100959800,0.0,0.0}</td></tr></tbody></table></div>"
      ],
      "text/plain": [
       "shape: (1_257,)\n",
       "Series: 'prices' [struct[8]]\n",
       "[\n",
       "\t{2020-02-03 00:00:00 EST,73.753387,75.980774,73.24926,74.810127,173788400,0.0,0.0}\n",
       "\t{2020-02-04 00:00:00 EST,76.421898,77.471367,76.014717,77.279892,136616400,0.0,0.0}\n",
       "\t{2020-02-05 00:00:00 EST,78.411736,78.71228,77.304108,77.910034,118826800,0.0,0.0}\n",
       "\t{2020-02-06 00:00:00 EST,78.181495,78.823776,77.62162,78.82135,105425600,0.0,0.0}\n",
       "\t{2020-02-07 00:00:00 EST,78.318439,78.568673,77.256767,77.749947,117684000,0.1925,0.0}\n",
       "\t…\n",
       "\t{2025-01-27 00:00:00 EST,224.020004,232.149994,223.979996,229.860001,94863400,0.0,0.0}\n",
       "\t{2025-01-28 00:00:00 EST,230.850006,240.190002,230.809998,238.259995,75707600,0.0,0.0}\n",
       "\t{2025-01-29 00:00:00 EST,234.119995,239.860001,234.009995,239.360001,45486100,0.0,0.0}\n",
       "\t{2025-01-30 00:00:00 EST,238.669998,240.789993,237.210007,237.589996,55658300,0.0,0.0}\n",
       "\t{2025-01-31 00:00:00 EST,247.190002,247.190002,233.440002,236.0,100959800,0.0,0.0}\n",
       "]"
      ]
     },
     "execution_count": 4,
     "metadata": {},
     "output_type": "execute_result"
    }
   ],
   "source": [
    "pstruct = prices.to_struct(\"prices\")\n",
    "pstruct\n"
   ]
  },
  {
   "cell_type": "code",
   "execution_count": 6,
   "metadata": {},
   "outputs": [
    {
     "name": "stdout",
     "output_type": "stream",
     "text": [
      "SeriesSeries\n",
      "Series\n",
      "struct ...\n",
      "\n"
     ]
    },
    {
     "data": {
      "text/html": [
       "<div><style>\n",
       ".dataframe > thead > tr,\n",
       ".dataframe > tbody > tr {\n",
       "  text-align: right;\n",
       "  white-space: pre-wrap;\n",
       "}\n",
       "</style>\n",
       "<small>shape: (1_257, 11)</small><table border=\"1\" class=\"dataframe\"><thead><tr><th>date</th><th>open</th><th>high</th><th>low</th><th>close</th><th>volume</th><th>dividends</th><th>stock splits</th><th>sma</th><th>macd</th><th>atr</th></tr><tr><td>datetime[ns, America/New_York]</td><td>f64</td><td>f64</td><td>f64</td><td>f64</td><td>i64</td><td>f64</td><td>f64</td><td>f64</td><td>struct[3]</td><td>f64</td></tr></thead><tbody><tr><td>2020-02-03 00:00:00 EST</td><td>73.753387</td><td>75.980774</td><td>73.24926</td><td>74.810127</td><td>173788400</td><td>0.0</td><td>0.0</td><td>NaN</td><td>{NaN,NaN,NaN}</td><td>NaN</td></tr><tr><td>2020-02-04 00:00:00 EST</td><td>76.421898</td><td>77.471367</td><td>76.014717</td><td>77.279892</td><td>136616400</td><td>0.0</td><td>0.0</td><td>NaN</td><td>{NaN,NaN,NaN}</td><td>NaN</td></tr><tr><td>2020-02-05 00:00:00 EST</td><td>78.411736</td><td>78.71228</td><td>77.304108</td><td>77.910034</td><td>118826800</td><td>0.0</td><td>0.0</td><td>NaN</td><td>{NaN,NaN,NaN}</td><td>NaN</td></tr><tr><td>2020-02-06 00:00:00 EST</td><td>78.181495</td><td>78.823776</td><td>77.62162</td><td>78.82135</td><td>105425600</td><td>0.0</td><td>0.0</td><td>NaN</td><td>{NaN,NaN,NaN}</td><td>NaN</td></tr><tr><td>2020-02-07 00:00:00 EST</td><td>78.318439</td><td>78.568673</td><td>77.256767</td><td>77.749947</td><td>117684000</td><td>0.1925</td><td>0.0</td><td>NaN</td><td>{NaN,NaN,NaN}</td><td>NaN</td></tr><tr><td>&hellip;</td><td>&hellip;</td><td>&hellip;</td><td>&hellip;</td><td>&hellip;</td><td>&hellip;</td><td>&hellip;</td><td>&hellip;</td><td>&hellip;</td><td>&hellip;</td><td>&hellip;</td></tr><tr><td>2025-01-27 00:00:00 EST</td><td>224.020004</td><td>232.149994</td><td>223.979996</td><td>229.860001</td><td>94863400</td><td>0.0</td><td>0.0</td><td>237.887999</td><td>{-5.227918,-3.582608,-1.64531}</td><td>5.552272</td></tr><tr><td>2025-01-28 00:00:00 EST</td><td>230.850006</td><td>240.190002</td><td>230.809998</td><td>238.259995</td><td>75707600</td><td>0.0</td><td>0.0</td><td>236.849999</td><td>{-4.234714,-3.713029,-0.521684}</td><td>5.893539</td></tr><tr><td>2025-01-29 00:00:00 EST</td><td>234.119995</td><td>239.860001</td><td>234.009995</td><td>239.360001</td><td>45486100</td><td>0.0</td><td>0.0</td><td>236.038499</td><td>{-3.320554,-3.634534,0.313981}</td><td>5.890429</td></tr><tr><td>2025-01-30 00:00:00 EST</td><td>238.669998</td><td>240.789993</td><td>237.210007</td><td>237.589996</td><td>55658300</td><td>0.0</td><td>0.0</td><td>235.307999</td><td>{-2.707687,-3.449165,0.741478}</td><td>5.725397</td></tr><tr><td>2025-01-31 00:00:00 EST</td><td>247.190002</td><td>247.190002</td><td>233.440002</td><td>236.0</td><td>100959800</td><td>0.0</td><td>0.0</td><td>234.587</td><td>{-2.323502,-3.224032,0.900531}</td><td>6.298583</td></tr></tbody></table></div>"
      ],
      "text/plain": [
       "shape: (1_257, 11)\n",
       "┌────────────┬────────────┬────────────┬───────────┬───┬────────┬───────────┬───────────┬──────────┐\n",
       "│ date       ┆ open       ┆ high       ┆ low       ┆ … ┆ stock  ┆ sma       ┆ macd      ┆ atr      │\n",
       "│ ---        ┆ ---        ┆ ---        ┆ ---       ┆   ┆ splits ┆ ---       ┆ ---       ┆ ---      │\n",
       "│ datetime[n ┆ f64        ┆ f64        ┆ f64       ┆   ┆ ---    ┆ f64       ┆ struct[3] ┆ f64      │\n",
       "│ s, America ┆            ┆            ┆           ┆   ┆ f64    ┆           ┆           ┆          │\n",
       "│ /New_York] ┆            ┆            ┆           ┆   ┆        ┆           ┆           ┆          │\n",
       "╞════════════╪════════════╪════════════╪═══════════╪═══╪════════╪═══════════╪═══════════╪══════════╡\n",
       "│ 2020-02-03 ┆ 73.753387  ┆ 75.980774  ┆ 73.24926  ┆ … ┆ 0.0    ┆ NaN       ┆ {NaN,NaN, ┆ NaN      │\n",
       "│ 00:00:00   ┆            ┆            ┆           ┆   ┆        ┆           ┆ NaN}      ┆          │\n",
       "│ EST        ┆            ┆            ┆           ┆   ┆        ┆           ┆           ┆          │\n",
       "│ 2020-02-04 ┆ 76.421898  ┆ 77.471367  ┆ 76.014717 ┆ … ┆ 0.0    ┆ NaN       ┆ {NaN,NaN, ┆ NaN      │\n",
       "│ 00:00:00   ┆            ┆            ┆           ┆   ┆        ┆           ┆ NaN}      ┆          │\n",
       "│ EST        ┆            ┆            ┆           ┆   ┆        ┆           ┆           ┆          │\n",
       "│ 2020-02-05 ┆ 78.411736  ┆ 78.71228   ┆ 77.304108 ┆ … ┆ 0.0    ┆ NaN       ┆ {NaN,NaN, ┆ NaN      │\n",
       "│ 00:00:00   ┆            ┆            ┆           ┆   ┆        ┆           ┆ NaN}      ┆          │\n",
       "│ EST        ┆            ┆            ┆           ┆   ┆        ┆           ┆           ┆          │\n",
       "│ 2020-02-06 ┆ 78.181495  ┆ 78.823776  ┆ 77.62162  ┆ … ┆ 0.0    ┆ NaN       ┆ {NaN,NaN, ┆ NaN      │\n",
       "│ 00:00:00   ┆            ┆            ┆           ┆   ┆        ┆           ┆ NaN}      ┆          │\n",
       "│ EST        ┆            ┆            ┆           ┆   ┆        ┆           ┆           ┆          │\n",
       "│ 2020-02-07 ┆ 78.318439  ┆ 78.568673  ┆ 77.256767 ┆ … ┆ 0.0    ┆ NaN       ┆ {NaN,NaN, ┆ NaN      │\n",
       "│ 00:00:00   ┆            ┆            ┆           ┆   ┆        ┆           ┆ NaN}      ┆          │\n",
       "│ EST        ┆            ┆            ┆           ┆   ┆        ┆           ┆           ┆          │\n",
       "│ …          ┆ …          ┆ …          ┆ …         ┆ … ┆ …      ┆ …         ┆ …         ┆ …        │\n",
       "│ 2025-01-27 ┆ 224.020004 ┆ 232.149994 ┆ 223.97999 ┆ … ┆ 0.0    ┆ 237.88799 ┆ {-5.22791 ┆ 5.552272 │\n",
       "│ 00:00:00   ┆            ┆            ┆ 6         ┆   ┆        ┆ 9         ┆ 8,-3.5826 ┆          │\n",
       "│ EST        ┆            ┆            ┆           ┆   ┆        ┆           ┆ 08,-1.645 ┆          │\n",
       "│            ┆            ┆            ┆           ┆   ┆        ┆           ┆ 31}       ┆          │\n",
       "│ 2025-01-28 ┆ 230.850006 ┆ 240.190002 ┆ 230.80999 ┆ … ┆ 0.0    ┆ 236.84999 ┆ {-4.23471 ┆ 5.893539 │\n",
       "│ 00:00:00   ┆            ┆            ┆ 8         ┆   ┆        ┆ 9         ┆ 4,-3.7130 ┆          │\n",
       "│ EST        ┆            ┆            ┆           ┆   ┆        ┆           ┆ 29,-0.521 ┆          │\n",
       "│            ┆            ┆            ┆           ┆   ┆        ┆           ┆ 684…      ┆          │\n",
       "│ 2025-01-29 ┆ 234.119995 ┆ 239.860001 ┆ 234.00999 ┆ … ┆ 0.0    ┆ 236.03849 ┆ {-3.32055 ┆ 5.890429 │\n",
       "│ 00:00:00   ┆            ┆            ┆ 5         ┆   ┆        ┆ 9         ┆ 4,-3.6345 ┆          │\n",
       "│ EST        ┆            ┆            ┆           ┆   ┆        ┆           ┆ 34,0.3139 ┆          │\n",
       "│            ┆            ┆            ┆           ┆   ┆        ┆           ┆ 81}       ┆          │\n",
       "│ 2025-01-30 ┆ 238.669998 ┆ 240.789993 ┆ 237.21000 ┆ … ┆ 0.0    ┆ 235.30799 ┆ {-2.70768 ┆ 5.725397 │\n",
       "│ 00:00:00   ┆            ┆            ┆ 7         ┆   ┆        ┆ 9         ┆ 7,-3.4491 ┆          │\n",
       "│ EST        ┆            ┆            ┆           ┆   ┆        ┆           ┆ 65,0.7414 ┆          │\n",
       "│            ┆            ┆            ┆           ┆   ┆        ┆           ┆ 78}       ┆          │\n",
       "│ 2025-01-31 ┆ 247.190002 ┆ 247.190002 ┆ 233.44000 ┆ … ┆ 0.0    ┆ 234.587   ┆ {-2.32350 ┆ 6.298583 │\n",
       "│ 00:00:00   ┆            ┆            ┆ 2         ┆   ┆        ┆           ┆ 2,-3.2240 ┆          │\n",
       "│ EST        ┆            ┆            ┆           ┆   ┆        ┆           ┆ 32,0.9005 ┆          │\n",
       "│            ┆            ┆            ┆           ┆   ┆        ┆           ┆ 31}       ┆          │\n",
       "└────────────┴────────────┴────────────┴───────────┴───┴────────┴───────────┴───────────┴──────────┘"
      ]
     },
     "execution_count": 6,
     "metadata": {},
     "output_type": "execute_result"
    }
   ],
   "source": [
    "def my_sma(series, period: int = 20):\n",
    "    print(type(series).__name__)\n",
    "    return calc_sma(series, period)\n",
    "\n",
    "def my_atr(prices, period: int = 14):\n",
    "    print(type(prices).__name__)\n",
    "    if hasattr(prices, 'dtype') and prices.dtype.__class__.__name__ == 'Struct':\n",
    "        print(\"struct ...\")\n",
    "        prices = prices.struct\n",
    "    return calc_atr(prices, period)\n",
    "\n",
    "def my_macd(series):\n",
    "    print(type(series).__name__)\n",
    "    result = calc_macd(series, wrap=True)\n",
    "    if hasattr(result, 'to_struct'):\n",
    "        return result.to_struct(\"macd\")\n",
    "\n",
    "\n",
    "result = prices.with_columns(\n",
    "    col('close').map_batches(my_sma).alias(\"sma\"),\n",
    "    col('close').map_batches(my_macd).alias(\"macd\"),\n",
    "    pl.struct(pl.all()).map_batches(my_atr).alias(\"atr\")\n",
    "#    col('close').map_batches(my_macd)\n",
    "#    sma = col('close').map_batches(my_sma)\n",
    "#     atr = pl.struct(pl.all()).map_batches(my_atr)\n",
    "#    macd = col('close').map_batches(my_macd)\n",
    "#    atr = pl.all().map_batches(my_atr)\n",
    "#    MACD() @ col(\"close\").map_batches(calc_macd),\n",
    "#    atr = ATR() @ pl.all()\n",
    "#    sma = col('close').map_batches(SMA(20))\n",
    "#    atr = ATR() @ pl.all()\n",
    "#    sma = SMA(20) @ pl.all()\n",
    "#    sma = SMA(20) @ col('close')\n",
    ")\n",
    "\n",
    "result"
   ]
  },
  {
   "cell_type": "code",
   "execution_count": 5,
   "metadata": {},
   "outputs": [
    {
     "data": {
      "text/plain": [
       "array([         nan,          nan,          nan, ..., 236.03849945,\n",
       "       235.30799942, 234.58699951])"
      ]
     },
     "execution_count": 5,
     "metadata": {},
     "output_type": "execute_result"
    }
   ],
   "source": [
    "sma = calc_sma(prices['close'], 20)\n",
    "sma"
   ]
  },
  {
   "cell_type": "code",
   "execution_count": 6,
   "metadata": {},
   "outputs": [
    {
     "data": {
      "text/html": [
       "<div><style>\n",
       ".dataframe > thead > tr,\n",
       ".dataframe > tbody > tr {\n",
       "  text-align: right;\n",
       "  white-space: pre-wrap;\n",
       "}\n",
       "</style>\n",
       "<small>shape: (1_257,)</small><table border=\"1\" class=\"dataframe\"><thead><tr><th></th></tr><tr><td>f64</td></tr></thead><tbody><tr><td>NaN</td></tr><tr><td>NaN</td></tr><tr><td>NaN</td></tr><tr><td>NaN</td></tr><tr><td>NaN</td></tr><tr><td>&hellip;</td></tr><tr><td>237.887999</td></tr><tr><td>236.849999</td></tr><tr><td>236.038499</td></tr><tr><td>235.307999</td></tr><tr><td>234.587</td></tr></tbody></table></div>"
      ],
      "text/plain": [
       "shape: (1_257,)\n",
       "Series: '' [f64]\n",
       "[\n",
       "\tNaN\n",
       "\tNaN\n",
       "\tNaN\n",
       "\tNaN\n",
       "\tNaN\n",
       "\t…\n",
       "\t237.887999\n",
       "\t236.849999\n",
       "\t236.038499\n",
       "\t235.307999\n",
       "\t234.587\n",
       "]"
      ]
     },
     "execution_count": 6,
     "metadata": {},
     "output_type": "execute_result"
    }
   ],
   "source": [
    "pl.Series(values=sma, name=None)"
   ]
  },
  {
   "cell_type": "code",
   "execution_count": 24,
   "metadata": {},
   "outputs": [
    {
     "data": {
      "text/html": [
       "<div><style>\n",
       ".dataframe > thead > tr,\n",
       ".dataframe > tbody > tr {\n",
       "  text-align: right;\n",
       "  white-space: pre-wrap;\n",
       "}\n",
       "</style>\n",
       "<small>shape: (1_257, 3)</small><table border=\"1\" class=\"dataframe\"><thead><tr><th>macd</th><th>macdsignal</th><th>macdhist</th></tr><tr><td>f64</td><td>f64</td><td>f64</td></tr></thead><tbody><tr><td>NaN</td><td>NaN</td><td>NaN</td></tr><tr><td>NaN</td><td>NaN</td><td>NaN</td></tr><tr><td>NaN</td><td>NaN</td><td>NaN</td></tr><tr><td>NaN</td><td>NaN</td><td>NaN</td></tr><tr><td>NaN</td><td>NaN</td><td>NaN</td></tr><tr><td>&hellip;</td><td>&hellip;</td><td>&hellip;</td></tr><tr><td>-5.227918</td><td>-3.582608</td><td>-1.64531</td></tr><tr><td>-4.234714</td><td>-3.713029</td><td>-0.521684</td></tr><tr><td>-3.320554</td><td>-3.634534</td><td>0.313981</td></tr><tr><td>-2.707687</td><td>-3.449165</td><td>0.741478</td></tr><tr><td>-2.323502</td><td>-3.224032</td><td>0.900531</td></tr></tbody></table></div>"
      ],
      "text/plain": [
       "shape: (1_257, 3)\n",
       "┌───────────┬────────────┬───────────┐\n",
       "│ macd      ┆ macdsignal ┆ macdhist  │\n",
       "│ ---       ┆ ---        ┆ ---       │\n",
       "│ f64       ┆ f64        ┆ f64       │\n",
       "╞═══════════╪════════════╪═══════════╡\n",
       "│ NaN       ┆ NaN        ┆ NaN       │\n",
       "│ NaN       ┆ NaN        ┆ NaN       │\n",
       "│ NaN       ┆ NaN        ┆ NaN       │\n",
       "│ NaN       ┆ NaN        ┆ NaN       │\n",
       "│ NaN       ┆ NaN        ┆ NaN       │\n",
       "│ …         ┆ …          ┆ …         │\n",
       "│ -5.227918 ┆ -3.582608  ┆ -1.64531  │\n",
       "│ -4.234714 ┆ -3.713029  ┆ -0.521684 │\n",
       "│ -3.320554 ┆ -3.634534  ┆ 0.313981  │\n",
       "│ -2.707687 ┆ -3.449165  ┆ 0.741478  │\n",
       "│ -2.323502 ┆ -3.224032  ┆ 0.900531  │\n",
       "└───────────┴────────────┴───────────┘"
      ]
     },
     "execution_count": 24,
     "metadata": {},
     "output_type": "execute_result"
    }
   ],
   "source": [
    "MACD() @ prices"
   ]
  },
  {
   "cell_type": "code",
   "execution_count": 25,
   "metadata": {},
   "outputs": [
    {
     "data": {
      "text/html": [
       "<div><style>\n",
       ".dataframe > thead > tr,\n",
       ".dataframe > tbody > tr {\n",
       "  text-align: right;\n",
       "  white-space: pre-wrap;\n",
       "}\n",
       "</style>\n",
       "<small>shape: (1_257,)</small><table border=\"1\" class=\"dataframe\"><thead><tr><th></th></tr><tr><td>f64</td></tr></thead><tbody><tr><td>NaN</td></tr><tr><td>NaN</td></tr><tr><td>NaN</td></tr><tr><td>NaN</td></tr><tr><td>NaN</td></tr><tr><td>&hellip;</td></tr><tr><td>5.552272</td></tr><tr><td>5.893539</td></tr><tr><td>5.890429</td></tr><tr><td>5.725397</td></tr><tr><td>6.298583</td></tr></tbody></table></div>"
      ],
      "text/plain": [
       "shape: (1_257,)\n",
       "Series: '' [f64]\n",
       "[\n",
       "\tNaN\n",
       "\tNaN\n",
       "\tNaN\n",
       "\tNaN\n",
       "\tNaN\n",
       "\t…\n",
       "\t5.552272\n",
       "\t5.893539\n",
       "\t5.890429\n",
       "\t5.725397\n",
       "\t6.298583\n",
       "]"
      ]
     },
     "execution_count": 25,
     "metadata": {},
     "output_type": "execute_result"
    }
   ],
   "source": [
    "ATR() @ prices"
   ]
  },
  {
   "cell_type": "code",
   "execution_count": 26,
   "metadata": {},
   "outputs": [
    {
     "data": {
      "text/html": [
       "<div><style>\n",
       ".dataframe > thead > tr,\n",
       ".dataframe > tbody > tr {\n",
       "  text-align: right;\n",
       "  white-space: pre-wrap;\n",
       "}\n",
       "</style>\n",
       "<small>shape: (1_257,)</small><table border=\"1\" class=\"dataframe\"><thead><tr><th></th></tr><tr><td>f64</td></tr></thead><tbody><tr><td>NaN</td></tr><tr><td>NaN</td></tr><tr><td>NaN</td></tr><tr><td>NaN</td></tr><tr><td>NaN</td></tr><tr><td>&hellip;</td></tr><tr><td>237.887999</td></tr><tr><td>236.849999</td></tr><tr><td>236.038499</td></tr><tr><td>235.307999</td></tr><tr><td>234.587</td></tr></tbody></table></div>"
      ],
      "text/plain": [
       "shape: (1_257,)\n",
       "Series: '' [f64]\n",
       "[\n",
       "\tNaN\n",
       "\tNaN\n",
       "\tNaN\n",
       "\tNaN\n",
       "\tNaN\n",
       "\t…\n",
       "\t237.887999\n",
       "\t236.849999\n",
       "\t236.038499\n",
       "\t235.307999\n",
       "\t234.587\n",
       "]"
      ]
     },
     "execution_count": 26,
     "metadata": {},
     "output_type": "execute_result"
    }
   ],
   "source": [
    "SMA(20) @ prices['close']"
   ]
  },
  {
   "cell_type": "code",
   "execution_count": null,
   "metadata": {},
   "outputs": [],
   "source": []
  }
 ],
 "metadata": {
  "kernelspec": {
   "display_name": ".venv",
   "language": "python",
   "name": "python3"
  },
  "language_info": {
   "codemirror_mode": {
    "name": "ipython",
    "version": 3
   },
   "file_extension": ".py",
   "mimetype": "text/x-python",
   "name": "python",
   "nbconvert_exporter": "python",
   "pygments_lexer": "ipython3",
   "version": "3.9.20"
  }
 },
 "nbformat": 4,
 "nbformat_minor": 2
}
