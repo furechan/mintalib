{
 "cells": [
  {
   "cell_type": "markdown",
   "id": "bdf946e1beacac0",
   "metadata": {
    "collapsed": false
   },
   "source": [
    "# Sample prices"
   ]
  },
  {
   "cell_type": "code",
   "execution_count": 22,
   "id": "2f45689963b1424e",
   "metadata": {
    "ExecuteTime": {
     "end_time": "2023-10-27T21:32:42.842855Z",
     "start_time": "2023-10-27T21:32:42.591832Z"
    },
    "collapsed": false
   },
   "outputs": [],
   "source": [
    "from mintalib.samples import sample_prices, FREQUENCIES\n"
   ]
  },
  {
   "cell_type": "code",
   "execution_count": 23,
   "id": "a8013058fc5449a9",
   "metadata": {
    "ExecuteTime": {
     "end_time": "2023-10-27T21:32:43.378420Z",
     "start_time": "2023-10-27T21:32:43.347402Z"
    },
    "collapsed": false
   },
   "outputs": [
    {
     "name": "stdout",
     "output_type": "stream",
     "text": [
      "daily 5000\n",
      "hourly 3505\n",
      "minute 1937\n"
     ]
    }
   ],
   "source": [
    "for freq in FREQUENCIES:\n",
    "    prices = sample_prices(freq=freq, max_bars=5000)\n",
    "    print(freq, len(prices))\n"
   ]
  },
  {
   "cell_type": "code",
   "execution_count": 24,
   "id": "5a7338d9857bc3c5",
   "metadata": {
    "collapsed": false
   },
   "outputs": [
    {
     "name": "stdout",
     "output_type": "stream",
     "text": [
      "*** daily ***\n",
      "<class 'pandas.core.frame.DataFrame'>\n",
      "DatetimeIndex: 5000 entries, 2004-11-05 to 2024-09-18\n",
      "Data columns (total 5 columns):\n",
      " #   Column  Non-Null Count  Dtype  \n",
      "---  ------  --------------  -----  \n",
      " 0   open    5000 non-null   float64\n",
      " 1   high    5000 non-null   float64\n",
      " 2   low     5000 non-null   float64\n",
      " 3   close   5000 non-null   float64\n",
      " 4   volume  5000 non-null   int64  \n",
      "dtypes: float64(4), int64(1)\n",
      "memory usage: 234.4 KB\n",
      "\n",
      "*** hourly ***\n",
      "<class 'pandas.core.frame.DataFrame'>\n",
      "DatetimeIndex: 3505 entries, 2022-09-19 09:30:00-04:00 to 2024-09-18 15:30:00-04:00\n",
      "Data columns (total 5 columns):\n",
      " #   Column  Non-Null Count  Dtype  \n",
      "---  ------  --------------  -----  \n",
      " 0   open    3505 non-null   float64\n",
      " 1   high    3505 non-null   float64\n",
      " 2   low     3505 non-null   float64\n",
      " 3   close   3505 non-null   float64\n",
      " 4   volume  3505 non-null   int64  \n",
      "dtypes: float64(4), int64(1)\n",
      "memory usage: 164.3 KB\n",
      "\n",
      "*** minute ***\n",
      "<class 'pandas.core.frame.DataFrame'>\n",
      "DatetimeIndex: 1937 entries, 2024-09-12 09:30:00-04:00 to 2024-09-18 15:59:00-04:00\n",
      "Data columns (total 5 columns):\n",
      " #   Column  Non-Null Count  Dtype  \n",
      "---  ------  --------------  -----  \n",
      " 0   open    1937 non-null   float64\n",
      " 1   high    1937 non-null   float64\n",
      " 2   low     1937 non-null   float64\n",
      " 3   close   1937 non-null   float64\n",
      " 4   volume  1937 non-null   int64  \n",
      "dtypes: float64(4), int64(1)\n",
      "memory usage: 90.8 KB\n",
      "\n"
     ]
    }
   ],
   "source": [
    "for freq in FREQUENCIES:\n",
    "    prices = sample_prices(freq=freq, max_bars=5000)\n",
    "    print(\"***\", freq, \"***\")\n",
    "    prices.info()\n",
    "    print()"
   ]
  },
  {
   "cell_type": "code",
   "execution_count": null,
   "id": "c35fa94c",
   "metadata": {},
   "outputs": [],
   "source": []
  }
 ],
 "metadata": {
  "kernelspec": {
   "display_name": "Python 3",
   "language": "python",
   "name": "python3"
  },
  "language_info": {
   "codemirror_mode": {
    "name": "ipython",
    "version": 3
   },
   "file_extension": ".py",
   "mimetype": "text/x-python",
   "name": "python",
   "nbconvert_exporter": "python",
   "pygments_lexer": "ipython3",
   "version": "3.9.19"
  }
 },
 "nbformat": 4,
 "nbformat_minor": 5
}
